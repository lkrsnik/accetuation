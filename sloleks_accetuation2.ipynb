{
 "cells": [
  {
   "cell_type": "code",
   "execution_count": 75,
   "metadata": {},
   "outputs": [],
   "source": [
    "# -*- coding: utf-8 -*-\n",
    "from __future__ import unicode_literals\n",
    "\n",
    "import numpy as np\n",
    "from keras.models import load_model\n",
    "import sys\n",
    "import pickle\n",
    "import time\n",
    "\n",
    "from prepare_data import *\n",
    "\n",
    "np.random.seed(7)"
   ]
  },
  {
   "cell_type": "code",
   "execution_count": 2,
   "metadata": {
    "collapsed": true
   },
   "outputs": [],
   "source": [
    "data = Data('l', shuffle_all_inputs=False)\n",
    "content = data._read_content('data/SlovarIJS_BESEDE_utf8.lex')\n",
    "dictionary, max_word, max_num_vowels, vowels, accented_vowels = data._create_dict(content)\n",
    "feature_dictionary = data._create_slovene_feature_dictionary()\n",
    "syllable_dictionary = data._create_syllables_dictionary(content, vowels)\n",
    "accented_vowels = ['ŕ', 'á', 'ä', 'é', 'ë', 'ě', 'í', 'î', 'ó', 'ô', 'ö', 'ú', 'ü']\n",
    "\n"
   ]
  },
  {
   "cell_type": "code",
   "execution_count": 15,
   "metadata": {
    "collapsed": true
   },
   "outputs": [],
   "source": [
    "environment = {}\n",
    "environment['dictionary'] = dictionary\n",
    "environment['max_word'] = max_word\n",
    "environment['max_num_vowels'] = max_num_vowels\n",
    "environment['vowels'] = vowels\n",
    "environment['accented_vowels'] = accented_vowels\n",
    "environment['feature_dictionary'] = feature_dictionary\n",
    "environment['eng_feature_dictionary'] = feature_dictionary\n",
    "environment['syllable_dictionary'] = syllable_dictionary\n",
    "output = open('environment.pkl', 'wb')\n",
    "pickle.dump(environment, output)\n",
    "output.close()"
   ]
  },
  {
   "cell_type": "code",
   "execution_count": 12,
   "metadata": {},
   "outputs": [
    {
     "name": "stdout",
     "output_type": "stream",
     "text": [
      "407\n"
     ]
    }
   ],
   "source": [
    "i = 0\n",
    "for el in syllable_dictionary:\n",
    "    if el == \"da\":\n",
    "        print(i)\n",
    "    i += 1"
   ]
  },
  {
   "cell_type": "code",
   "execution_count": 78,
   "metadata": {
    "collapsed": true
   },
   "outputs": [],
   "source": [
    "%run prepare_data.py\n",
    "\n",
    "data = Data('l', shuffle_all_inputs=False)\n",
    "letter_location_model, syllable_location_model, syllabled_letters_location_model = data.load_location_models(\n",
    "    'cnn/word_accetuation/cnn_dictionary/v5_3/20_final_epoch.h5',\n",
    "    'cnn/word_accetuation/syllables/v3_3/20_final_epoch.h5',\n",
    "    'cnn/word_accetuation/syllabled_letters/v3_3/20_final_epoch.h5')\n",
    "\n",
    "letter_location_co_model, syllable_location_co_model, syllabled_letters_location_co_model = data.load_location_models(\n",
    "    'cnn/word_accetuation/cnn_dictionary/v5_2/20_final_epoch.h5',\n",
    "    'cnn/word_accetuation/syllables/v3_2/20_final_epoch.h5',\n",
    "    'cnn/word_accetuation/syllabled_letters/v3_2/20_final_epoch.h5')\n",
    "\n",
    "letter_type_model, syllable_type_model, syllabled_letter_type_model = data.load_type_models(\n",
    "    'cnn/accent_classification/letters/v3_1/20_final_epoch.h5',\n",
    "    'cnn/accent_classification/syllables/v2_1/20_final_epoch.h5',\n",
    "    'cnn/accent_classification/syllabled_letters/v2_1/20_final_epoch.h5')\n",
    "\n",
    "letter_type_co_model, syllable_type_co_model, syllabled_letter_type_co_model = data.load_type_models(\n",
    "    'cnn/accent_classification/letters/v3_0/20_final_epoch.h5',\n",
    "    'cnn/accent_classification/syllables/v2_0/20_final_epoch.h5',\n",
    "    'cnn/accent_classification/syllabled_letters/v2_0/20_final_epoch.h5')"
   ]
  },
  {
   "cell_type": "code",
   "execution_count": 4,
   "metadata": {
    "collapsed": true
   },
   "outputs": [],
   "source": [
    "test_input = [['uradni', '', 'Agpmpn', 'uradni'], ['podatki', '', 'Ncmpn', 'podatki'], ['policije', '', 'Ncfsg', 'policije'], ['kažejo', '', 'Vmpr3p', 'kažejo'], ['na', '', 'Sa', 'na'], ['precej', '', 'Rgp', 'precej'], ['napete', '', 'Appfpa', 'napete'], ['razmere', '', 'Ncfpa', 'razmere'], ['v', '', 'Sl', 'v'], ['piranskem', '', 'Agpmsl', 'piranskem'], ['zalivu', '', 'Ncmsl', 'zalivu'], ['je', '', 'Va-r3s-n', 'je'], ['danes', '', 'Rgp', 'danes'], ['poročala', '', 'Vmpp-sf', 'poročala'], ['oddaja', '', 'Ncfsn', 'oddaja'], ['do', '', 'Sg', 'do'], ['danes', '', 'Rgp', 'danes'], ['se', '', 'Px------y', 'se'], ['je', '', 'Va-r3s-n', 'je'], ['zgodilo', '', 'Vmep-sn', 'zgodilo']]"
   ]
  },
  {
   "cell_type": "code",
   "execution_count": 5,
   "metadata": {
    "collapsed": true
   },
   "outputs": [],
   "source": [
    "accented_vowels = ['ŕ', 'á', 'ä', 'é', 'ë', 'ě', 'í', 'î', 'ó', 'ô', 'ö', 'ú', 'ü']\n",
    "words = [[\"Gorejevemu\", \"\", \"Psnsed\", \"Gorejevemu\"]]"
   ]
  },
  {
   "cell_type": "code",
   "execution_count": 159,
   "metadata": {},
   "outputs": [
    {
     "name": "stdout",
     "output_type": "stream",
     "text": [
      "['Gorejévemu']\n",
      "['Gorejěvemu']\n",
      "[['Gorejevemu', '', 'Psnsed', 'Gorejevemu']]\n"
     ]
    }
   ],
   "source": [
    "pos = 4282\n",
    "print(location_accented_words)\n",
    "print(accented_words)\n",
    "print(words)"
   ]
  },
  {
   "cell_type": "code",
   "execution_count": 5,
   "metadata": {
    "collapsed": true
   },
   "outputs": [],
   "source": [
    "data = Data('s', shuffle_all_inputs=False)\n",
    "new_content = data._read_content('data/sloleks-sl_v1.2.tbl')"
   ]
  },
  {
   "cell_type": "code",
   "execution_count": 49,
   "metadata": {
    "collapsed": true
   },
   "outputs": [],
   "source": [
    "words = [[el[0], '', el[2], el[0]] for el in new_content][1146450:1146550]\n",
    "\n",
    "    "
   ]
  },
  {
   "cell_type": "code",
   "execution_count": 45,
   "metadata": {},
   "outputs": [
    {
     "name": "stdout",
     "output_type": "stream",
     "text": [
      "[['adventistovo', '', 'Psnzeo', 'adventistovo'], ['adventistovo', '', 'Psnzet', 'adventistovo'], ['adventistu', '', 'Somed', 'adventistu'], ['adventistu', '', 'Somem', 'adventistu'], ['adventiven', '', 'Ppnmein', 'adventiven'], ['adventiven', '', 'Ppnmetn', 'adventiven'], ['adventivna', '', 'Ppnmdi', 'adventivna'], ['adventivna', '', 'Ppnmdt', 'adventivna'], ['adventivna', '', 'Ppnsmi', 'adventivna'], ['adventivna', '', 'Ppnsmt', 'adventivna'], ['adventivna', '', 'Ppnzei', 'adventivna'], ['adventivne', '', 'Ppnmmt', 'adventivne'], ['adventivne', '', 'Ppnzer', 'adventivne'], ['adventivne', '', 'Ppnzmi', 'adventivne'], ['adventivne', '', 'Ppnzmt', 'adventivne'], ['adventivnega', '', 'Ppnmer', 'adventivnega'], ['adventivnega', '', 'Ppnmet', 'adventivnega'], ['adventivnega', '', 'Ppnser', 'adventivnega'], ['adventivnem', '', 'Ppnmem', 'adventivnem'], ['adventivnem', '', 'Ppnsem', 'adventivnem'], ['adventivnemu', '', 'Ppnmed', 'adventivnemu'], ['adventivnemu', '', 'Ppnsed', 'adventivnemu'], ['adventivni', '', 'Ppnmeid', 'adventivni'], ['adventivni', '', 'Ppnmetd', 'adventivni'], ['adventivni', '', 'Ppnmmi', 'adventivni'], ['adventivni', '', 'Ppnsdi', 'adventivni'], ['adventivni', '', 'Ppnsdt', 'adventivni'], ['adventivni', '', 'Ppnzdi', 'adventivni'], ['adventivni', '', 'Ppnzdt', 'adventivni'], ['adventivni', '', 'Ppnzed', 'adventivni'], ['adventivni', '', 'Ppnzem', 'adventivni'], ['adventivnih', '', 'Ppnmdm', 'adventivnih'], ['adventivnih', '', 'Ppnmdr', 'adventivnih'], ['adventivnih', '', 'Ppnmmm', 'adventivnih'], ['adventivnih', '', 'Ppnmmr', 'adventivnih'], ['adventivnih', '', 'Ppnsdm', 'adventivnih'], ['adventivnih', '', 'Ppnsdr', 'adventivnih'], ['adventivnih', '', 'Ppnsmm', 'adventivnih'], ['adventivnih', '', 'Ppnsmr', 'adventivnih'], ['adventivnih', '', 'Ppnzdm', 'adventivnih'], ['adventivnih', '', 'Ppnzdr', 'adventivnih'], ['adventivnih', '', 'Ppnzmm', 'adventivnih'], ['adventivnih', '', 'Ppnzmr', 'adventivnih'], ['adventivnima', '', 'Ppnmdd', 'adventivnima'], ['adventivnima', '', 'Ppnmdo', 'adventivnima'], ['adventivnima', '', 'Ppnsdd', 'adventivnima'], ['adventivnima', '', 'Ppnsdo', 'adventivnima'], ['adventivnima', '', 'Ppnzdd', 'adventivnima'], ['adventivnima', '', 'Ppnzdo', 'adventivnima'], ['adventivnim', '', 'Ppnmeo', 'adventivnim'], ['adventivnim', '', 'Ppnmmd', 'adventivnim'], ['adventivnim', '', 'Ppnseo', 'adventivnim'], ['adventivnim', '', 'Ppnsmd', 'adventivnim'], ['adventivnim', '', 'Ppnzmd', 'adventivnim'], ['adventivnimi', '', 'Ppnmmo', 'adventivnimi'], ['adventivnimi', '', 'Ppnsmo', 'adventivnimi'], ['adventivnimi', '', 'Ppnzmo', 'adventivnimi'], ['adventivno', '', 'Ppnsei', 'adventivno'], ['adventivno', '', 'Ppnset', 'adventivno'], ['adventivno', '', 'Ppnzeo', 'adventivno'], ['adventivno', '', 'Ppnzet', 'adventivno'], ['adventna', '', 'Ppnmdi', 'adventna'], ['adventna', '', 'Ppnmdt', 'adventna'], ['adventna', '', 'Ppnsmi', 'adventna'], ['adventna', '', 'Ppnsmt', 'adventna'], ['adventna', '', 'Ppnzei', 'adventna'], ['adventne', '', 'Ppnmmt', 'adventne'], ['adventne', '', 'Ppnzer', 'adventne'], ['adventne', '', 'Ppnzmi', 'adventne'], ['adventne', '', 'Ppnzmt', 'adventne'], ['adventnega', '', 'Ppnmer', 'adventnega'], ['adventnega', '', 'Ppnmet', 'adventnega'], ['adventnega', '', 'Ppnser', 'adventnega'], ['adventnem', '', 'Ppnmem', 'adventnem'], ['adventnem', '', 'Ppnsem', 'adventnem'], ['adventnemu', '', 'Ppnmed', 'adventnemu'], ['adventnemu', '', 'Ppnsed', 'adventnemu'], ['adventni', '', 'Ppnmeid', 'adventni'], ['adventni', '', 'Ppnmetd', 'adventni'], ['adventni', '', 'Ppnmmi', 'adventni'], ['adventni', '', 'Ppnsdi', 'adventni'], ['adventni', '', 'Ppnsdt', 'adventni'], ['adventni', '', 'Ppnzdi', 'adventni'], ['adventni', '', 'Ppnzdt', 'adventni'], ['adventni', '', 'Ppnzed', 'adventni'], ['adventni', '', 'Ppnzem', 'adventni'], ['adventnih', '', 'Ppnmdm', 'adventnih'], ['adventnih', '', 'Ppnmdr', 'adventnih'], ['adventnih', '', 'Ppnmmm', 'adventnih'], ['adventnih', '', 'Ppnmmr', 'adventnih'], ['adventnih', '', 'Ppnsdm', 'adventnih'], ['adventnih', '', 'Ppnsdr', 'adventnih'], ['adventnih', '', 'Ppnsmm', 'adventnih'], ['adventnih', '', 'Ppnsmr', 'adventnih'], ['adventnih', '', 'Ppnzdm', 'adventnih'], ['adventnih', '', 'Ppnzdr', 'adventnih'], ['adventnih', '', 'Ppnzmm', 'adventnih'], ['adventnih', '', 'Ppnzmr', 'adventnih'], ['adventnima', '', 'Ppnmdd', 'adventnima'], ['adventnima', '', 'Ppnmdo', 'adventnima'], ['adventnima', '', 'Ppnsdd', 'adventnima'], ['adventnima', '', 'Ppnsdo', 'adventnima'], ['adventnima', '', 'Ppnzdd', 'adventnima'], ['adventnima', '', 'Ppnzdo', 'adventnima'], ['adventnim', '', 'Ppnmeo', 'adventnim'], ['adventnim', '', 'Ppnmmd', 'adventnim'], ['adventnim', '', 'Ppnseo', 'adventnim'], ['adventnim', '', 'Ppnsmd', 'adventnim'], ['adventnim', '', 'Ppnzmd', 'adventnim'], ['adventnimi', '', 'Ppnmmo', 'adventnimi'], ['adventnimi', '', 'Ppnsmo', 'adventnimi'], ['adventnimi', '', 'Ppnzmo', 'adventnimi'], ['adventno', '', 'Ppnsei', 'adventno'], ['adventno', '', 'Ppnset', 'adventno'], ['adventno', '', 'Ppnzeo', 'adventno'], ['adventno', '', 'Ppnzet', 'adventno'], ['adventoma', '', 'Somdd', 'adventoma'], ['adventoma', '', 'Somdo', 'adventoma'], ['adventom', '', 'Someo', 'adventom'], ['adventom', '', 'Sommd', 'adventom'], ['adventov', '', 'Somdr', 'adventov'], ['adventov', '', 'Sommr', 'adventov'], ['adventu', '', 'Somed', 'adventu'], ['adventu', '', 'Somem', 'adventu'], ['adverba', '', 'Somdi', 'adverba'], ['adverba', '', 'Somdt', 'adverba'], ['adverba', '', 'Somer', 'adverba'], ['adverb', '', 'Somei', 'adverb'], ['adverb', '', 'Sometn', 'adverb'], ['adverbe', '', 'Sommt', 'adverbe'], ['adverbi', '', 'Sommi', 'adverbi'], ['adverbi', '', 'Sommo', 'adverbi'], ['adverbih', '', 'Somdm', 'adverbih'], ['adverbih', '', 'Sommm', 'adverbih'], ['adverboma', '', 'Somdd', 'adverboma'], ['adverboma', '', 'Somdo', 'adverboma'], ['adverbom', '', 'Someo', 'adverbom'], ['adverbom', '', 'Sommd', 'adverbom'], ['adverbov', '', 'Somdr', 'adverbov'], ['adverbov', '', 'Sommr', 'adverbov'], ['adverbu', '', 'Somed', 'adverbu'], ['adverbu', '', 'Somem', 'adverbu'], ['advokata', '', 'Somdi', 'advokata'], ['advokata', '', 'Somdt', 'advokata'], ['advokata', '', 'Somer', 'advokata'], ['advokata', '', 'Sometd', 'advokata'], ['advokat', '', 'Somei', 'advokat'], ['advokate', '', 'Sommt', 'advokate'], ['advokati', '', 'Sommi', 'advokati'], ['advokati', '', 'Sommo', 'advokati'], ['advokatih', '', 'Somdm', 'advokatih'], ['advokatih', '', 'Sommm', 'advokatih'], ['advokatka', '', 'Sozei', 'advokatka'], ['advokatk', '', 'Sozdr', 'advokatk'], ['advokatk', '', 'Sozmr', 'advokatk'], ['advokatkah', '', 'Sozdm', 'advokatkah'], ['advokatkah', '', 'Sozmm', 'advokatkah'], ['advokatkama', '', 'Sozdd', 'advokatkama'], ['advokatkama', '', 'Sozdo', 'advokatkama'], ['advokatkam', '', 'Sozmd', 'advokatkam'], ['advokatkami', '', 'Sozmo', 'advokatkami'], ['advokatke', '', 'Sozer', 'advokatke'], ['advokatke', '', 'Sozmi', 'advokatke'], ['advokatke', '', 'Sozmt', 'advokatke'], ['advokatki', '', 'Sozdi', 'advokatki'], ['advokatki', '', 'Sozdt', 'advokatki'], ['advokatki', '', 'Sozed', 'advokatki'], ['advokatki', '', 'Sozem', 'advokatki'], ['advokatko', '', 'Sozeo', 'advokatko'], ['advokatko', '', 'Sozet', 'advokatko'], ['advokatoma', '', 'Somdd', 'advokatoma'], ['advokatoma', '', 'Somdo', 'advokatoma'], ['advokatom', '', 'Someo', 'advokatom'], ['advokatom', '', 'Sommd', 'advokatom'], ['advokatova', '', 'Psnmdi', 'advokatova'], ['advokatova', '', 'Psnmdt', 'advokatova'], ['advokatova', '', 'Psnsmi', 'advokatova'], ['advokatova', '', 'Psnsmt', 'advokatova'], ['advokatova', '', 'Psnzei', 'advokatova'], ['advokatov', '', 'Somdr', 'advokatov'], ['advokatov', '', 'Sommr', 'advokatov'], ['advokatov', '', 'Psnmein', 'advokatov'], ['advokatov', '', 'Psnmetn', 'advokatov'], ['advokatove', '', 'Psnmmt', 'advokatove'], ['advokatove', '', 'Psnzer', 'advokatove'], ['advokatove', '', 'Psnzmi', 'advokatove'], ['advokatove', '', 'Psnzmt', 'advokatove'], ['advokatovega', '', 'Psnmer', 'advokatovega'], ['advokatovega', '', 'Psnmet', 'advokatovega'], ['advokatovega', '', 'Psnser', 'advokatovega'], ['advokatovem', '', 'Psnmem', 'advokatovem'], ['advokatovem', '', 'Psnsem', 'advokatovem'], ['advokatovemu', '', 'Psnmed', 'advokatovemu'], ['advokatovemu', '', 'Psnsed', 'advokatovemu'], ['advokatovi', '', 'Psnmmi', 'advokatovi'], ['advokatovi', '', 'Psnsdi', 'advokatovi'], ['advokatovi', '', 'Psnsdt', 'advokatovi'], ['advokatovi', '', 'Psnzdi', 'advokatovi'], ['advokatovi', '', 'Psnzdt', 'advokatovi'], ['advokatovi', '', 'Psnzed', 'advokatovi'], ['advokatovi', '', 'Psnzem', 'advokatovi'], ['advokatovih', '', 'Psnmdm', 'advokatovih'], ['advokatovih', '', 'Psnmdr', 'advokatovih'], ['advokatovih', '', 'Psnmmm', 'advokatovih'], ['advokatovih', '', 'Psnmmr', 'advokatovih'], ['advokatovih', '', 'Psnsdm', 'advokatovih'], ['advokatovih', '', 'Psnsdr', 'advokatovih'], ['advokatovih', '', 'Psnsmm', 'advokatovih'], ['advokatovih', '', 'Psnsmr', 'advokatovih'], ['advokatovih', '', 'Psnzdm', 'advokatovih'], ['advokatovih', '', 'Psnzdr', 'advokatovih'], ['advokatovih', '', 'Psnzmm', 'advokatovih'], ['advokatovih', '', 'Psnzmr', 'advokatovih'], ['advokatovima', '', 'Psnmdd', 'advokatovima'], ['advokatovima', '', 'Psnmdo', 'advokatovima'], ['advokatovima', '', 'Psnsdd', 'advokatovima'], ['advokatovima', '', 'Psnsdo', 'advokatovima'], ['advokatovima', '', 'Psnzdd', 'advokatovima'], ['advokatovima', '', 'Psnzdo', 'advokatovima'], ['advokatovim', '', 'Psnmeo', 'advokatovim'], ['advokatovim', '', 'Psnmmd', 'advokatovim'], ['advokatovim', '', 'Psnseo', 'advokatovim'], ['advokatovim', '', 'Psnsmd', 'advokatovim'], ['advokatovim', '', 'Psnzmd', 'advokatovim'], ['advokatovimi', '', 'Psnmmo', 'advokatovimi'], ['advokatovimi', '', 'Psnsmo', 'advokatovimi'], ['advokatovimi', '', 'Psnzmo', 'advokatovimi'], ['advokatovo', '', 'Psnsei', 'advokatovo'], ['advokatovo', '', 'Psnset', 'advokatovo'], ['advokatovo', '', 'Psnzeo', 'advokatovo'], ['advokatovo', '', 'Psnzet', 'advokatovo'], ['advokatska', '', 'Ppnmdi', 'advokatska'], ['advokatska', '', 'Ppnmdt', 'advokatska'], ['advokatska', '', 'Ppnsmi', 'advokatska'], ['advokatska', '', 'Ppnsmt', 'advokatska'], ['advokatska', '', 'Ppnzei', 'advokatska'], ['advokatske', '', 'Ppnmmt', 'advokatske'], ['advokatske', '', 'Ppnzer', 'advokatske'], ['advokatske', '', 'Ppnzmi', 'advokatske'], ['advokatske', '', 'Ppnzmt', 'advokatske'], ['advokatskega', '', 'Ppnmer', 'advokatskega'], ['advokatskega', '', 'Ppnmet', 'advokatskega'], ['advokatskega', '', 'Ppnser', 'advokatskega'], ['advokatskem', '', 'Ppnmem', 'advokatskem'], ['advokatskem', '', 'Ppnsem', 'advokatskem'], ['advokatskemu', '', 'Ppnmed', 'advokatskemu'], ['advokatskemu', '', 'Ppnsed', 'advokatskemu'], ['advokatski', '', 'Ppnmeid', 'advokatski'], ['advokatski', '', 'Ppnmetd', 'advokatski'], ['advokatski', '', 'Ppnmmi', 'advokatski'], ['advokatski', '', 'Ppnsdi', 'advokatski'], ['advokatski', '', 'Ppnsdt', 'advokatski'], ['advokatski', '', 'Ppnzdi', 'advokatski'], ['advokatski', '', 'Ppnzdt', 'advokatski'], ['advokatski', '', 'Ppnzed', 'advokatski'], ['advokatski', '', 'Ppnzem', 'advokatski'], ['advokatskih', '', 'Ppnmdm', 'advokatskih'], ['advokatskih', '', 'Ppnmdr', 'advokatskih'], ['advokatskih', '', 'Ppnmmm', 'advokatskih'], ['advokatskih', '', 'Ppnmmr', 'advokatskih'], ['advokatskih', '', 'Ppnsdm', 'advokatskih'], ['advokatskih', '', 'Ppnsdr', 'advokatskih'], ['advokatskih', '', 'Ppnsmm', 'advokatskih'], ['advokatskih', '', 'Ppnsmr', 'advokatskih'], ['advokatskih', '', 'Ppnzdm', 'advokatskih'], ['advokatskih', '', 'Ppnzdr', 'advokatskih'], ['advokatskih', '', 'Ppnzmm', 'advokatskih'], ['advokatskih', '', 'Ppnzmr', 'advokatskih'], ['advokatskima', '', 'Ppnmdd', 'advokatskima'], ['advokatskima', '', 'Ppnmdo', 'advokatskima'], ['advokatskima', '', 'Ppnsdd', 'advokatskima'], ['advokatskima', '', 'Ppnsdo', 'advokatskima'], ['advokatskima', '', 'Ppnzdd', 'advokatskima'], ['advokatskima', '', 'Ppnzdo', 'advokatskima'], ['advokatskim', '', 'Ppnmeo', 'advokatskim'], ['advokatskim', '', 'Ppnmmd', 'advokatskim'], ['advokatskim', '', 'Ppnseo', 'advokatskim'], ['advokatskim', '', 'Ppnsmd', 'advokatskim'], ['advokatskim', '', 'Ppnzmd', 'advokatskim'], ['advokatskimi', '', 'Ppnmmo', 'advokatskimi'], ['advokatskimi', '', 'Ppnsmo', 'advokatskimi'], ['advokatskimi', '', 'Ppnzmo', 'advokatskimi'], ['advokatsko', '', 'Ppnsei', 'advokatsko'], ['advokatsko', '', 'Ppnset', 'advokatsko'], ['advokatsko', '', 'Ppnzeo', 'advokatsko'], ['advokatsko', '', 'Ppnzet', 'advokatsko'], ['advokatsko', '', 'Rsn', 'advokatsko'], ['advokatu', '', 'Somed', 'advokatu'], ['advokatu', '', 'Somem', 'advokatu'], ['advokatura', '', 'Sozei', 'advokatura'], ['advokatur', '', 'Sozdr', 'advokatur'], ['advokatur', '', 'Sozmr', 'advokatur'], ['advokaturah', '', 'Sozdm', 'advokaturah'], ['advokaturah', '', 'Sozmm', 'advokaturah'], ['advokaturama', '', 'Sozdd', 'advokaturama'], ['advokaturama', '', 'Sozdo', 'advokaturama'], ['advokaturam', '', 'Sozmd', 'advokaturam'], ['advokaturami', '', 'Sozmo', 'advokaturami'], ['advokature', '', 'Sozer', 'advokature'], ['advokature', '', 'Sozmi', 'advokature'], ['advokature', '', 'Sozmt', 'advokature'], ['advokaturi', '', 'Sozdi', 'advokaturi'], ['advokaturi', '', 'Sozdt', 'advokaturi'], ['advokaturi', '', 'Sozed', 'advokaturi'], ['advokaturi', '', 'Sozem', 'advokaturi'], ['advokaturo', '', 'Sozeo', 'advokaturo'], ['advokaturo', '', 'Sozet', 'advokaturo'], ['Adžićeva', '', 'Psnmdi', 'Adžićeva'], ['Adžićeva', '', 'Psnmdt', 'Adžićeva'], ['Adžićeva', '', 'Psnsmi', 'Adžićeva'], ['Adžićeva', '', 'Psnsmt', 'Adžićeva'], ['Adžićeva', '', 'Psnzei', 'Adžićeva'], ['Adžićev', '', 'Psnmein', 'Adžićev'], ['Adžićev', '', 'Psnmetn', 'Adžićev'], ['Adžićeve', '', 'Psnmmt', 'Adžićeve'], ['Adžićeve', '', 'Psnzer', 'Adžićeve'], ['Adžićeve', '', 'Psnzmi', 'Adžićeve'], ['Adžićeve', '', 'Psnzmt', 'Adžićeve'], ['Adžićevega', '', 'Psnmer', 'Adžićevega'], ['Adžićevega', '', 'Psnmet', 'Adžićevega'], ['Adžićevega', '', 'Psnser', 'Adžićevega'], ['Adžićevem', '', 'Psnmem', 'Adžićevem'], ['Adžićevem', '', 'Psnsem', 'Adžićevem'], ['Adžićevemu', '', 'Psnmed', 'Adžićevemu'], ['Adžićevemu', '', 'Psnsed', 'Adžićevemu'], ['Adžićevi', '', 'Psnmmi', 'Adžićevi'], ['Adžićevi', '', 'Psnsdi', 'Adžićevi'], ['Adžićevi', '', 'Psnsdt', 'Adžićevi'], ['Adžićevi', '', 'Psnzdi', 'Adžićevi'], ['Adžićevi', '', 'Psnzdt', 'Adžićevi'], ['Adžićevi', '', 'Psnzed', 'Adžićevi'], ['Adžićevi', '', 'Psnzem', 'Adžićevi'], ['Adžićevih', '', 'Psnmdm', 'Adžićevih'], ['Adžićevih', '', 'Psnmdr', 'Adžićevih'], ['Adžićevih', '', 'Psnmmm', 'Adžićevih'], ['Adžićevih', '', 'Psnmmr', 'Adžićevih'], ['Adžićevih', '', 'Psnsdm', 'Adžićevih'], ['Adžićevih', '', 'Psnsdr', 'Adžićevih'], ['Adžićevih', '', 'Psnsmm', 'Adžićevih'], ['Adžićevih', '', 'Psnsmr', 'Adžićevih'], ['Adžićevih', '', 'Psnzdm', 'Adžićevih'], ['Adžićevih', '', 'Psnzdr', 'Adžićevih'], ['Adžićevih', '', 'Psnzmm', 'Adžićevih'], ['Adžićevih', '', 'Psnzmr', 'Adžićevih'], ['Adžićevima', '', 'Psnmdd', 'Adžićevima'], ['Adžićevima', '', 'Psnmdo', 'Adžićevima'], ['Adžićevima', '', 'Psnsdd', 'Adžićevima'], ['Adžićevima', '', 'Psnsdo', 'Adžićevima'], ['Adžićevima', '', 'Psnzdd', 'Adžićevima'], ['Adžićevima', '', 'Psnzdo', 'Adžićevima'], ['Adžićevim', '', 'Psnmeo', 'Adžićevim'], ['Adžićevim', '', 'Psnmmd', 'Adžićevim'], ['Adžićevim', '', 'Psnseo', 'Adžićevim'], ['Adžićevim', '', 'Psnsmd', 'Adžićevim'], ['Adžićevim', '', 'Psnzmd', 'Adžićevim'], ['Adžićevimi', '', 'Psnmmo', 'Adžićevimi'], ['Adžićevimi', '', 'Psnsmo', 'Adžićevimi'], ['Adžićevimi', '', 'Psnzmo', 'Adžićevimi'], ['Adžićevo', '', 'Psnsei', 'Adžićevo'], ['Adžićevo', '', 'Psnset', 'Adžićevo'], ['Adžićevo', '', 'Psnzeo', 'Adžićevo'], ['Adžićevo', '', 'Psnzet', 'Adžićevo'], ['Aera', '', 'Slmer', 'Aera'], ['aerira', '', 'Ggvste', 'aerira'], ['aeriraj', '', 'Ggvvde', 'aeriraj'], ['aerirajmo', '', 'Ggvvpm', 'aerirajmo'], ['aerirajo', '', 'Ggvstm', 'aerirajo'], ['aerirajta', '', 'Ggvvdd', 'aerirajta'], ['aerirajte', '', 'Ggvvdm', 'aerirajte'], ['aerirajva', '', 'Ggvvpd', 'aerirajva'], ['aerirala', '', 'Ggvd-dm', 'aerirala'], ['aerirala', '', 'Ggvd-ez', 'aerirala'], ['aerirala', '', 'Ggvd-ms', 'aerirala'], ['aeriral', '', 'Ggvd-em', 'aeriral'], ['aerirale', '', 'Ggvd-mz', 'aerirale'], ['aerirali', '', 'Ggvd-ds', 'aerirali'], ['aerirali', '', 'Ggvd-dz', 'aerirali'], ['aerirali', '', 'Ggvd-mm', 'aerirali'], ['aeriralo', '', 'Ggvd-es', 'aeriralo'], ['aeriram', '', 'Ggvspe', 'aeriram'], ['aeriramo', '', 'Ggvspm', 'aeriramo'], ['aeriranja', '', 'Soser', 'aeriranja'], ['aeriranja', '', 'Sosmi', 'aeriranja'], ['aeriranja', '', 'Sosmt', 'aeriranja'], ['aeriranj', '', 'Sosdr', 'aeriranj'], ['aeriranj', '', 'Sosmr', 'aeriranj'], ['aeriranje', '', 'Sosei', 'aeriranje'], ['aeriranje', '', 'Soset', 'aeriranje'], ['aeriranjema', '', 'Sosdd', 'aeriranjema'], ['aeriranjema', '', 'Sosdo', 'aeriranjema'], ['aeriranjem', '', 'Soseo', 'aeriranjem'], ['aeriranjem', '', 'Sosmd', 'aeriranjem'], ['aeriranji', '', 'Sosdi', 'aeriranji'], ['aeriranji', '', 'Sosdt', 'aeriranji'], ['aeriranji', '', 'Sosmo', 'aeriranji'], ['aeriranjih', '', 'Sosdm', 'aeriranjih'], ['aeriranjih', '', 'Sosmm', 'aeriranjih'], ['aeriranju', '', 'Sosed', 'aeriranju'], ['aeriranju', '', 'Sosem', 'aeriranju'], ['aeriraš', '', 'Ggvsde', 'aeriraš'], ['aerirata', '', 'Ggvsdd', 'aerirata'], ['aerirata', '', 'Ggvstd', 'aerirata'], ['aerirat', '', 'Ggvm', 'aerirat'], ['aerirate', '', 'Ggvsdm', 'aerirate'], ['aerirati', '', 'Ggvn', 'aerirati'], ['aerirava', '', 'Ggvspd', 'aerirava'], ['Aero', '', 'Slmei', 'Aero'], ['Aero', '', 'Slmetn', 'Aero'], ['aeroben', '', 'Ppnmein', 'aeroben'], ['aeroben', '', 'Ppnmetn', 'aeroben'], ['aerobika', '', 'Sozei', 'aerobika'], ['aerobike', '', 'Sozer', 'aerobike'], ['aerobiki', '', 'Sozed', 'aerobiki'], ['aerobiki', '', 'Sozem', 'aerobiki'], ['aerobiko', '', 'Sozeo', 'aerobiko'], ['aerobiko', '', 'Sozet', 'aerobiko'], ['aerobna', '', 'Ppnmdi', 'aerobna'], ['aerobna', '', 'Ppnmdt', 'aerobna'], ['aerobna', '', 'Ppnsmi', 'aerobna'], ['aerobna', '', 'Ppnsmt', 'aerobna'], ['aerobna', '', 'Ppnzei', 'aerobna'], ['aerobne', '', 'Ppnmmt', 'aerobne'], ['aerobne', '', 'Ppnzer', 'aerobne'], ['aerobne', '', 'Ppnzmi', 'aerobne'], ['aerobne', '', 'Ppnzmt', 'aerobne'], ['aerobnega', '', 'Ppnmer', 'aerobnega'], ['aerobnega', '', 'Ppnmet', 'aerobnega'], ['aerobnega', '', 'Ppnser', 'aerobnega'], ['aerobnem', '', 'Ppnmem', 'aerobnem'], ['aerobnem', '', 'Ppnsem', 'aerobnem'], ['aerobnemu', '', 'Ppnmed', 'aerobnemu'], ['aerobnemu', '', 'Ppnsed', 'aerobnemu'], ['aerobni', '', 'Ppnmeid', 'aerobni'], ['aerobni', '', 'Ppnmetd', 'aerobni'], ['aerobni', '', 'Ppnmmi', 'aerobni'], ['aerobni', '', 'Ppnsdi', 'aerobni'], ['aerobni', '', 'Ppnsdt', 'aerobni'], ['aerobni', '', 'Ppnzdi', 'aerobni'], ['aerobni', '', 'Ppnzdt', 'aerobni'], ['aerobni', '', 'Ppnzed', 'aerobni'], ['aerobni', '', 'Ppnzem', 'aerobni'], ['aerobnih', '', 'Ppnmdm', 'aerobnih'], ['aerobnih', '', 'Ppnmdr', 'aerobnih'], ['aerobnih', '', 'Ppnmmm', 'aerobnih'], ['aerobnih', '', 'Ppnmmr', 'aerobnih'], ['aerobnih', '', 'Ppnsdm', 'aerobnih'], ['aerobnih', '', 'Ppnsdr', 'aerobnih'], ['aerobnih', '', 'Ppnsmm', 'aerobnih'], ['aerobnih', '', 'Ppnsmr', 'aerobnih'], ['aerobnih', '', 'Ppnzdm', 'aerobnih'], ['aerobnih', '', 'Ppnzdr', 'aerobnih'], ['aerobnih', '', 'Ppnzmm', 'aerobnih'], ['aerobnih', '', 'Ppnzmr', 'aerobnih'], ['aerobnima', '', 'Ppnmdd', 'aerobnima'], ['aerobnima', '', 'Ppnmdo', 'aerobnima'], ['aerobnima', '', 'Ppnsdd', 'aerobnima'], ['aerobnima', '', 'Ppnsdo', 'aerobnima'], ['aerobnima', '', 'Ppnzdd', 'aerobnima'], ['aerobnima', '', 'Ppnzdo', 'aerobnima'], ['aerobnim', '', 'Ppnmeo', 'aerobnim'], ['aerobnim', '', 'Ppnmmd', 'aerobnim'], ['aerobnim', '', 'Ppnseo', 'aerobnim'], ['aerobnim', '', 'Ppnsmd', 'aerobnim'], ['aerobnim', '', 'Ppnzmd', 'aerobnim'], ['aerobnimi', '', 'Ppnmmo', 'aerobnimi'], ['aerobnimi', '', 'Ppnsmo', 'aerobnimi'], ['aerobnimi', '', 'Ppnzmo', 'aerobnimi'], ['aerobno', '', 'Ppnsei', 'aerobno'], ['aerobno', '', 'Ppnset', 'aerobno'], ['aerobno', '', 'Ppnzeo', 'aerobno'], ['aerobno', '', 'Ppnzet', 'aerobno'], ['aerodinamičen', '', 'Ppnmein', 'aerodinamičen'], ['aerodinamičen', '', 'Ppnmetn', 'aerodinamičen'], ['aerodinamična', '', 'Ppnmdi', 'aerodinamična'], ['aerodinamična', '', 'Ppnmdt', 'aerodinamična'], ['aerodinamična', '', 'Ppnsmi', 'aerodinamična'], ['aerodinamična', '', 'Ppnsmt', 'aerodinamična'], ['aerodinamična', '', 'Ppnzei', 'aerodinamična'], ['aerodinamične', '', 'Ppnmmt', 'aerodinamične'], ['aerodinamične', '', 'Ppnzer', 'aerodinamične'], ['aerodinamične', '', 'Ppnzmi', 'aerodinamične'], ['aerodinamične', '', 'Ppnzmt', 'aerodinamične'], ['aerodinamičnega', '', 'Ppnmer', 'aerodinamičnega'], ['aerodinamičnega', '', 'Ppnmet', 'aerodinamičnega'], ['aerodinamičnega', '', 'Ppnser', 'aerodinamičnega'], ['aerodinamičnem', '', 'Ppnmem', 'aerodinamičnem'], ['aerodinamičnem', '', 'Ppnsem', 'aerodinamičnem'], ['aerodinamičnemu', '', 'Ppnmed', 'aerodinamičnemu'], ['aerodinamičnemu', '', 'Ppnsed', 'aerodinamičnemu'], ['aerodinamični', '', 'Ppnmeid', 'aerodinamični'], ['aerodinamični', '', 'Ppnmetd', 'aerodinamični'], ['aerodinamični', '', 'Ppnmmi', 'aerodinamični'], ['aerodinamični', '', 'Ppnsdi', 'aerodinamični'], ['aerodinamični', '', 'Ppnsdt', 'aerodinamični'], ['aerodinamični', '', 'Ppnzdi', 'aerodinamični'], ['aerodinamični', '', 'Ppnzdt', 'aerodinamični'], ['aerodinamični', '', 'Ppnzed', 'aerodinamični'], ['aerodinamični', '', 'Ppnzem', 'aerodinamični'], ['aerodinamičnih', '', 'Ppnmdm', 'aerodinamičnih'], ['aerodinamičnih', '', 'Ppnmdr', 'aerodinamičnih'], ['aerodinamičnih', '', 'Ppnmmm', 'aerodinamičnih'], ['aerodinamičnih', '', 'Ppnmmr', 'aerodinamičnih'], ['aerodinamičnih', '', 'Ppnsdm', 'aerodinamičnih'], ['aerodinamičnih', '', 'Ppnsdr', 'aerodinamičnih'], ['aerodinamičnih', '', 'Ppnsmm', 'aerodinamičnih'], ['aerodinamičnih', '', 'Ppnsmr', 'aerodinamičnih'], ['aerodinamičnih', '', 'Ppnzdm', 'aerodinamičnih'], ['aerodinamičnih', '', 'Ppnzdr', 'aerodinamičnih'], ['aerodinamičnih', '', 'Ppnzmm', 'aerodinamičnih'], ['aerodinamičnih', '', 'Ppnzmr', 'aerodinamičnih'], ['aerodinamičnima', '', 'Ppnmdd', 'aerodinamičnima'], ['aerodinamičnima', '', 'Ppnmdo', 'aerodinamičnima'], ['aerodinamičnima', '', 'Ppnsdd', 'aerodinamičnima'], ['aerodinamičnima', '', 'Ppnsdo', 'aerodinamičnima'], ['aerodinamičnima', '', 'Ppnzdd', 'aerodinamičnima'], ['aerodinamičnima', '', 'Ppnzdo', 'aerodinamičnima'], ['aerodinamičnim', '', 'Ppnmeo', 'aerodinamičnim'], ['aerodinamičnim', '', 'Ppnmmd', 'aerodinamičnim'], ['aerodinamičnim', '', 'Ppnseo', 'aerodinamičnim'], ['aerodinamičnim', '', 'Ppnsmd', 'aerodinamičnim'], ['aerodinamičnim', '', 'Ppnzmd', 'aerodinamičnim'], ['aerodinamičnimi', '', 'Ppnmmo', 'aerodinamičnimi'], ['aerodinamičnimi', '', 'Ppnsmo', 'aerodinamičnimi'], ['aerodinamičnimi', '', 'Ppnzmo', 'aerodinamičnimi'], ['aerodinamično', '', 'Ppnsei', 'aerodinamično'], ['aerodinamično', '', 'Ppnset', 'aerodinamično'], ['aerodinamično', '', 'Ppnzeo', 'aerodinamično'], ['aerodinamično', '', 'Ppnzet', 'aerodinamično'], ['aerodinamično', '', 'Rsn', 'aerodinamično'], ['aerodinamika', '', 'Sozei', 'aerodinamika'], ['aerodinamike', '', 'Sozer', 'aerodinamike'], ['aerodinamiki', '', 'Sozed', 'aerodinamiki'], ['aerodinamiki', '', 'Sozem', 'aerodinamiki'], ['aerodinamiko', '', 'Sozeo', 'aerodinamiko'], ['aerodinamiko', '', 'Sozet', 'aerodinamiko'], ['aerodroma', '', 'Somdi', 'aerodroma'], ['aerodroma', '', 'Somdt', 'aerodroma'], ['aerodroma', '', 'Somer', 'aerodroma'], ['aerodrom', '', 'Somei', 'aerodrom'], ['aerodrom', '', 'Sometn', 'aerodrom'], ['aerodrome', '', 'Sommt', 'aerodrome'], ['aerodromi', '', 'Sommi', 'aerodromi'], ['aerodromi', '', 'Sommo', 'aerodromi'], ['aerodromih', '', 'Somdm', 'aerodromih'], ['aerodromih', '', 'Sommm', 'aerodromih'], ['aerodromoma', '', 'Somdd', 'aerodromoma'], ['aerodromoma', '', 'Somdo', 'aerodromoma'], ['aerodromom', '', 'Someo', 'aerodromom'], ['aerodromom', '', 'Sommd', 'aerodromom'], ['aerodromov', '', 'Somdr', 'aerodromov'], ['aerodromov', '', 'Sommr', 'aerodromov'], ['aerodromu', '', 'Somed', 'aerodromu'], ['aerodromu', '', 'Somem', 'aerodromu'], ['aerofotografija', '', 'Sozei', 'aerofotografija'], ['aerofotografij', '', 'Sozdr', 'aerofotografij'], ['aerofotografij', '', 'Sozmr', 'aerofotografij'], ['aerofotografijah', '', 'Sozdm', 'aerofotografijah'], ['aerofotografijah', '', 'Sozmm', 'aerofotografijah'], ['aerofotografijama', '', 'Sozdd', 'aerofotografijama'], ['aerofotografijama', '', 'Sozdo', 'aerofotografijama'], ['aerofotografijam', '', 'Sozmd', 'aerofotografijam'], ['aerofotografijami', '', 'Sozmo', 'aerofotografijami'], ['aerofotografije', '', 'Sozer', 'aerofotografije'], ['aerofotografije', '', 'Sozmi', 'aerofotografije'], ['aerofotografije', '', 'Sozmt', 'aerofotografije'], ['aerofotografiji', '', 'Sozdi', 'aerofotografiji'], ['aerofotografiji', '', 'Sozdt', 'aerofotografiji'], ['aerofotografiji', '', 'Sozed', 'aerofotografiji'], ['aerofotografiji', '', 'Sozem', 'aerofotografiji'], ['aerofotografijo', '', 'Sozeo', 'aerofotografijo'], ['aerofotografijo', '', 'Sozet', 'aerofotografijo'], ['aerofotogrametrija', '', 'Sozei', 'aerofotogrametrija'], ['aerofotogrametrij', '', 'Sozdr', 'aerofotogrametrij'], ['aerofotogrametrij', '', 'Sozmr', 'aerofotogrametrij'], ['aerofotogrametrijah', '', 'Sozdm', 'aerofotogrametrijah'], ['aerofotogrametrijah', '', 'Sozmm', 'aerofotogrametrijah'], ['aerofotogrametrijama', '', 'Sozdd', 'aerofotogrametrijama'], ['aerofotogrametrijama', '', 'Sozdo', 'aerofotogrametrijama'], ['aerofotogrametrijam', '', 'Sozmd', 'aerofotogrametrijam'], ['aerofotogrametrijami', '', 'Sozmo', 'aerofotogrametrijami'], ['aerofotogrametrije', '', 'Sozer', 'aerofotogrametrije'], ['aerofotogrametrije', '', 'Sozmi', 'aerofotogrametrije'], ['aerofotogrametrije', '', 'Sozmt', 'aerofotogrametrije'], ['aerofotogrametriji', '', 'Sozdi', 'aerofotogrametriji'], ['aerofotogrametriji', '', 'Sozdt', 'aerofotogrametriji'], ['aerofotogrametriji', '', 'Sozed', 'aerofotogrametriji'], ['aerofotogrametriji', '', 'Sozem', 'aerofotogrametriji'], ['aerofotogrametrijo', '', 'Sozeo', 'aerofotogrametrijo'], ['aerofotogrametrijo', '', 'Sozet', 'aerofotogrametrijo'], ['aerokluba', '', 'Somdi', 'aerokluba'], ['aerokluba', '', 'Somdt', 'aerokluba'], ['aerokluba', '', 'Somer', 'aerokluba'], ['aeroklub', '', 'Somei', 'aeroklub'], ['aeroklub', '', 'Sometn', 'aeroklub'], ['aeroklube', '', 'Sommt', 'aeroklube'], ['aeroklubi', '', 'Sommi', 'aeroklubi'], ['aeroklubi', '', 'Sommo', 'aeroklubi'], ['aeroklubih', '', 'Somdm', 'aeroklubih'], ['aeroklubih', '', 'Sommm', 'aeroklubih'], ['aerokluboma', '', 'Somdd', 'aerokluboma'], ['aerokluboma', '', 'Somdo', 'aerokluboma'], ['aeroklubom', '', 'Someo', 'aeroklubom'], ['aeroklubom', '', 'Sommd', 'aeroklubom'], ['aeroklubov', '', 'Somdr', 'aeroklubov'], ['aeroklubov', '', 'Sommr', 'aeroklubov'], ['aeroklubu', '', 'Somed', 'aeroklubu'], ['aeroklubu', '', 'Somem', 'aeroklubu'], ['aerolita', '', 'Somdi', 'aerolita'], ['aerolita', '', 'Somdt', 'aerolita'], ['aerolita', '', 'Somer', 'aerolita'], ['aerolit', '', 'Somei', 'aerolit'], ['aerolit', '', 'Sometn', 'aerolit'], ['aerolite', '', 'Sommt', 'aerolite'], ['aeroliti', '', 'Sommi', 'aeroliti'], ['aeroliti', '', 'Sommo', 'aeroliti'], ['aerolitih', '', 'Somdm', 'aerolitih'], ['aerolitih', '', 'Sommm', 'aerolitih'], ['aerolitoma', '', 'Somdd', 'aerolitoma'], ['aerolitoma', '', 'Somdo', 'aerolitoma'], ['aerolitom', '', 'Someo', 'aerolitom'], ['aerolitom', '', 'Sommd', 'aerolitom'], ['aerolitov', '', 'Somdr', 'aerolitov'], ['aerolitov', '', 'Sommr', 'aerolitov'], ['aerolitu', '', 'Somed', 'aerolitu'], ['aerolitu', '', 'Somem', 'aerolitu'], ['Aerom', '', 'Slmeo', 'Aerom'], ['aerometer', '', 'Somei', 'aerometer'], ['aerometer', '', 'Sometn', 'aerometer'], ['aerometra', '', 'Somdi', 'aerometra'], ['aerometra', '', 'Somdt', 'aerometra'], ['aerometra', '', 'Somer', 'aerometra'], ['aerometre', '', 'Sommt', 'aerometre'], ['aerometri', '', 'Sommi', 'aerometri'], ['aerometri', '', 'Sommo', 'aerometri'], ['aerometrih', '', 'Somdm', 'aerometrih'], ['aerometrih', '', 'Sommm', 'aerometrih'], ['aerometroma', '', 'Somdd', 'aerometroma'], ['aerometroma', '', 'Somdo', 'aerometroma'], ['aerometrom', '', 'Someo', 'aerometrom'], ['aerometrom', '', 'Sommd', 'aerometrom'], ['aerometrov', '', 'Somdr', 'aerometrov'], ['aerometrov', '', 'Sommr', 'aerometrov'], ['aerometru', '', 'Somed', 'aerometru'], ['aerometru', '', 'Somem', 'aerometru'], ['aeromitinga', '', 'Somdi', 'aeromitinga'], ['aeromitinga', '', 'Somdt', 'aeromitinga'], ['aeromitinga', '', 'Somer', 'aeromitinga'], ['aeromiting', '', 'Somei', 'aeromiting'], ['aeromiting', '', 'Sometn', 'aeromiting'], ['aeromitinge', '', 'Sommt', 'aeromitinge'], ['aeromitingi', '', 'Sommi', 'aeromitingi'], ['aeromitingi', '', 'Sommo', 'aeromitingi'], ['aeromitingih', '', 'Somdm', 'aeromitingih'], ['aeromitingih', '', 'Sommm', 'aeromitingih'], ['aeromitingoma', '', 'Somdd', 'aeromitingoma'], ['aeromitingoma', '', 'Somdo', 'aeromitingoma'], ['aeromitingom', '', 'Someo', 'aeromitingom'], ['aeromitingom', '', 'Sommd', 'aeromitingom'], ['aeromitingov', '', 'Somdr', 'aeromitingov'], ['aeromitingov', '', 'Sommr', 'aeromitingov'], ['aeromitingu', '', 'Somed', 'aeromitingu'], ['aeromitingu', '', 'Somem', 'aeromitingu'], ['aeronautika', '', 'Sozei', 'aeronautika'], ['aeronautik', '', 'Sozdr', 'aeronautik'], ['aeronautik', '', 'Sozmr', 'aeronautik'], ['aeronautikah', '', 'Sozdm', 'aeronautikah'], ['aeronautikah', '', 'Sozmm', 'aeronautikah'], ['aeronautikama', '', 'Sozdd', 'aeronautikama'], ['aeronautikama', '', 'Sozdo', 'aeronautikama'], ['aeronautikam', '', 'Sozmd', 'aeronautikam'], ['aeronautikami', '', 'Sozmo', 'aeronautikami'], ['aeronautike', '', 'Sozer', 'aeronautike'], ['aeronautike', '', 'Sozmi', 'aeronautike'], ['aeronautike', '', 'Sozmt', 'aeronautike'], ['aeronautiki', '', 'Sozdi', 'aeronautiki'], ['aeronautiki', '', 'Sozdt', 'aeronautiki'], ['aeronautiki', '', 'Sozed', 'aeronautiki'], ['aeronautiki', '', 'Sozem', 'aeronautiki'], ['aeronautiko', '', 'Sozeo', 'aeronautiko'], ['aeronautiko', '', 'Sozet', 'aeronautiko'], ['aeronavta', '', 'Somdi', 'aeronavta'], ['aeronavta', '', 'Somdt', 'aeronavta'], ['aeronavta', '', 'Somer', 'aeronavta'], ['aeronavta', '', 'Sometd', 'aeronavta'], ['aeronavt', '', 'Somei', 'aeronavt'], ['aeronavte', '', 'Sommt', 'aeronavte'], ['aeronavti', '', 'Sommi', 'aeronavti'], ['aeronavti', '', 'Sommo', 'aeronavti'], ['aeronavtičen', '', 'Ppnmein', 'aeronavtičen'], ['aeronavtičen', '', 'Ppnmetn', 'aeronavtičen'], ['aeronavtična', '', 'Ppnmdi', 'aeronavtična'], ['aeronavtična', '', 'Ppnmdt', 'aeronavtična'], ['aeronavtična', '', 'Ppnsmi', 'aeronavtična'], ['aeronavtična', '', 'Ppnsmt', 'aeronavtična'], ['aeronavtična', '', 'Ppnzei', 'aeronavtična'], ['aeronavtične', '', 'Ppnmmt', 'aeronavtične'], ['aeronavtične', '', 'Ppnzer', 'aeronavtične'], ['aeronavtične', '', 'Ppnzmi', 'aeronavtične'], ['aeronavtične', '', 'Ppnzmt', 'aeronavtične'], ['aeronavtičnega', '', 'Ppnmer', 'aeronavtičnega'], ['aeronavtičnega', '', 'Ppnmet', 'aeronavtičnega'], ['aeronavtičnega', '', 'Ppnser', 'aeronavtičnega'], ['aeronavtičnem', '', 'Ppnmem', 'aeronavtičnem'], ['aeronavtičnem', '', 'Ppnsem', 'aeronavtičnem'], ['aeronavtičnemu', '', 'Ppnmed', 'aeronavtičnemu'], ['aeronavtičnemu', '', 'Ppnsed', 'aeronavtičnemu'], ['aeronavtični', '', 'Ppnmeid', 'aeronavtični'], ['aeronavtični', '', 'Ppnmetd', 'aeronavtični'], ['aeronavtični', '', 'Ppnmmi', 'aeronavtični'], ['aeronavtični', '', 'Ppnsdi', 'aeronavtični'], ['aeronavtični', '', 'Ppnsdt', 'aeronavtični'], ['aeronavtični', '', 'Ppnzdi', 'aeronavtični'], ['aeronavtični', '', 'Ppnzdt', 'aeronavtični'], ['aeronavtični', '', 'Ppnzed', 'aeronavtični'], ['aeronavtični', '', 'Ppnzem', 'aeronavtični'], ['aeronavtičnih', '', 'Ppnmdm', 'aeronavtičnih'], ['aeronavtičnih', '', 'Ppnmdr', 'aeronavtičnih'], ['aeronavtičnih', '', 'Ppnmmm', 'aeronavtičnih'], ['aeronavtičnih', '', 'Ppnmmr', 'aeronavtičnih'], ['aeronavtičnih', '', 'Ppnsdm', 'aeronavtičnih'], ['aeronavtičnih', '', 'Ppnsdr', 'aeronavtičnih'], ['aeronavtičnih', '', 'Ppnsmm', 'aeronavtičnih'], ['aeronavtičnih', '', 'Ppnsmr', 'aeronavtičnih'], ['aeronavtičnih', '', 'Ppnzdm', 'aeronavtičnih'], ['aeronavtičnih', '', 'Ppnzdr', 'aeronavtičnih'], ['aeronavtičnih', '', 'Ppnzmm', 'aeronavtičnih'], ['aeronavtičnih', '', 'Ppnzmr', 'aeronavtičnih'], ['aeronavtičnima', '', 'Ppnmdd', 'aeronavtičnima'], ['aeronavtičnima', '', 'Ppnmdo', 'aeronavtičnima'], ['aeronavtičnima', '', 'Ppnsdd', 'aeronavtičnima'], ['aeronavtičnima', '', 'Ppnsdo', 'aeronavtičnima'], ['aeronavtičnima', '', 'Ppnzdd', 'aeronavtičnima'], ['aeronavtičnima', '', 'Ppnzdo', 'aeronavtičnima'], ['aeronavtičnim', '', 'Ppnmeo', 'aeronavtičnim'], ['aeronavtičnim', '', 'Ppnmmd', 'aeronavtičnim'], ['aeronavtičnim', '', 'Ppnseo', 'aeronavtičnim'], ['aeronavtičnim', '', 'Ppnsmd', 'aeronavtičnim'], ['aeronavtičnim', '', 'Ppnzmd', 'aeronavtičnim'], ['aeronavtičnimi', '', 'Ppnmmo', 'aeronavtičnimi'], ['aeronavtičnimi', '', 'Ppnsmo', 'aeronavtičnimi'], ['aeronavtičnimi', '', 'Ppnzmo', 'aeronavtičnimi'], ['aeronavtično', '', 'Ppnsei', 'aeronavtično'], ['aeronavtično', '', 'Ppnset', 'aeronavtično'], ['aeronavtično', '', 'Ppnzeo', 'aeronavtično'], ['aeronavtično', '', 'Ppnzet', 'aeronavtično'], ['aeronavtih', '', 'Somdm', 'aeronavtih'], ['aeronavtih', '', 'Sommm', 'aeronavtih'], ['aeronavtika', '', 'Sozei', 'aeronavtika'], ['aeronavtik', '', 'Sozdr', 'aeronavtik'], ['aeronavtik', '', 'Sozmr', 'aeronavtik'], ['aeronavtikah', '', 'Sozdm', 'aeronavtikah'], ['aeronavtikah', '', 'Sozmm', 'aeronavtikah'], ['aeronavtikama', '', 'Sozdd', 'aeronavtikama'], ['aeronavtikama', '', 'Sozdo', 'aeronavtikama'], ['aeronavtikam', '', 'Sozmd', 'aeronavtikam'], ['aeronavtikami', '', 'Sozmo', 'aeronavtikami'], ['aeronavtike', '', 'Sozer', 'aeronavtike'], ['aeronavtike', '', 'Sozmi', 'aeronavtike'], ['aeronavtike', '', 'Sozmt', 'aeronavtike'], ['aeronavtiki', '', 'Sozdi', 'aeronavtiki'], ['aeronavtiki', '', 'Sozdt', 'aeronavtiki'], ['aeronavtiki', '', 'Sozed', 'aeronavtiki'], ['aeronavtiki', '', 'Sozem', 'aeronavtiki'], ['aeronavtiko', '', 'Sozeo', 'aeronavtiko'], ['aeronavtiko', '', 'Sozet', 'aeronavtiko'], ['aeronavtka', '', 'Sozei', 'aeronavtka'], ['aeronavtk', '', 'Sozdr', 'aeronavtk'], ['aeronavtk', '', 'Sozmr', 'aeronavtk'], ['aeronavtkah', '', 'Sozdm', 'aeronavtkah'], ['aeronavtkah', '', 'Sozmm', 'aeronavtkah'], ['aeronavtkama', '', 'Sozdd', 'aeronavtkama'], ['aeronavtkama', '', 'Sozdo', 'aeronavtkama'], ['aeronavtkam', '', 'Sozmd', 'aeronavtkam'], ['aeronavtkami', '', 'Sozmo', 'aeronavtkami'], ['aeronavtke', '', 'Sozer', 'aeronavtke'], ['aeronavtke', '', 'Sozmi', 'aeronavtke'], ['aeronavtke', '', 'Sozmt', 'aeronavtke'], ['aeronavtki', '', 'Sozdi', 'aeronavtki'], ['aeronavtki', '', 'Sozdt', 'aeronavtki'], ['aeronavtki', '', 'Sozed', 'aeronavtki'], ['aeronavtki', '', 'Sozem', 'aeronavtki'], ['aeronavtko', '', 'Sozeo', 'aeronavtko'], ['aeronavtko', '', 'Sozet', 'aeronavtko'], ['aeronavtoma', '', 'Somdd', 'aeronavtoma'], ['aeronavtoma', '', 'Somdo', 'aeronavtoma'], ['aeronavtom', '', 'Someo', 'aeronavtom'], ['aeronavtom', '', 'Sommd', 'aeronavtom'], ['aeronavtov', '', 'Somdr', 'aeronavtov'], ['aeronavtov', '', 'Sommr', 'aeronavtov'], ['aeronavtu', '', 'Somed', 'aeronavtu'], ['aeronavtu', '', 'Somem', 'aeronavtu'], ['aeroplana', '', 'Somdi', 'aeroplana'], ['aeroplana', '', 'Somdt', 'aeroplana'], ['aeroplana', '', 'Somer', 'aeroplana'], ['aeroplan', '', 'Somei', 'aeroplan'], ['aeroplan', '', 'Sometn', 'aeroplan'], ['aeroplane', '', 'Sommt', 'aeroplane'], ['aeroplani', '', 'Sommi', 'aeroplani'], ['aeroplani', '', 'Sommo', 'aeroplani'], ['aeroplanih', '', 'Somdm', 'aeroplanih'], ['aeroplanih', '', 'Sommm', 'aeroplanih'], ['aeroplanoma', '', 'Somdd', 'aeroplanoma'], ['aeroplanoma', '', 'Somdo', 'aeroplanoma'], ['aeroplanom', '', 'Someo', 'aeroplanom'], ['aeroplanom', '', 'Sommd', 'aeroplanom'], ['aeroplanov', '', 'Somdr', 'aeroplanov'], ['aeroplanov', '', 'Sommr', 'aeroplanov'], ['aeroplanu', '', 'Somed', 'aeroplanu'], ['aeroplanu', '', 'Somem', 'aeroplanu'], ['aeroporta', '', 'Somdi', 'aeroporta'], ['aeroporta', '', 'Somdt', 'aeroporta'], ['aeroporta', '', 'Somer', 'aeroporta'], ['aeroport', '', 'Somei', 'aeroport'], ['aeroport', '', 'Sometn', 'aeroport'], ['aeroporte', '', 'Sommt', 'aeroporte'], ['aeroporti', '', 'Sommi', 'aeroporti'], ['aeroporti', '', 'Sommo', 'aeroporti'], ['aeroportih', '', 'Somdm', 'aeroportih'], ['aeroportih', '', 'Sommm', 'aeroportih'], ['aeroportoma', '', 'Somdd', 'aeroportoma'], ['aeroportoma', '', 'Somdo', 'aeroportoma'], ['aeroportom', '', 'Someo', 'aeroportom'], ['aeroportom', '', 'Sommd', 'aeroportom'], ['aeroportov', '', 'Somdr', 'aeroportov'], ['aeroportov', '', 'Sommr', 'aeroportov'], ['aeroportu', '', 'Somed', 'aeroportu'], ['aeroportu', '', 'Somem', 'aeroportu'], ['aeroposnetek', '', 'Somei', 'aeroposnetek'], ['aeroposnetek', '', 'Sometn', 'aeroposnetek'], ['aeroposnetka', '', 'Somdi', 'aeroposnetka'], ['aeroposnetka', '', 'Somdt', 'aeroposnetka'], ['aeroposnetka', '', 'Somer', 'aeroposnetka'], ['aeroposnetke', '', 'Sommt', 'aeroposnetke'], ['aeroposnetki', '', 'Sommi', 'aeroposnetki'], ['aeroposnetki', '', 'Sommo', 'aeroposnetki'], ['aeroposnetkih', '', 'Somdm', 'aeroposnetkih'], ['aeroposnetkih', '', 'Sommm', 'aeroposnetkih'], ['aeroposnetkoma', '', 'Somdd', 'aeroposnetkoma'], ['aeroposnetkoma', '', 'Somdo', 'aeroposnetkoma'], ['aeroposnetkom', '', 'Someo', 'aeroposnetkom'], ['aeroposnetkom', '', 'Sommd', 'aeroposnetkom'], ['aeroposnetkov', '', 'Somdr', 'aeroposnetkov'], ['aeroposnetkov', '', 'Sommr', 'aeroposnetkov'], ['aeroposnetku', '', 'Somed', 'aeroposnetku'], ['aeroposnetku', '', 'Somem', 'aeroposnetku'], ['aerosola', '', 'Somdi', 'aerosola'], ['aerosola', '', 'Somdt', 'aerosola'], ['aerosola', '', 'Somer', 'aerosola'], ['aerosol', '', 'Somei', 'aerosol'], ['aerosol', '', 'Sometn', 'aerosol'], ['aerosole', '', 'Sommt', 'aerosole'], ['aerosoli', '', 'Sommi', 'aerosoli'], ['aerosoli', '', 'Sommo', 'aerosoli'], ['aerosolih', '', 'Somdm', 'aerosolih'], ['aerosolih', '', 'Sommm', 'aerosolih'], ['aerosoloma', '', 'Somdd', 'aerosoloma'], ['aerosoloma', '', 'Somdo', 'aerosoloma'], ['aerosolom', '', 'Someo', 'aerosolom'], ['aerosolom', '', 'Sommd', 'aerosolom'], ['aerosolov', '', 'Somdr', 'aerosolov'], ['aerosolov', '', 'Sommr', 'aerosolov'], ['aerosolu', '', 'Somed', 'aerosolu'], ['aerosolu', '', 'Somem', 'aerosolu'], ['aerostata', '', 'Somdi', 'aerostata'], ['aerostata', '', 'Somdt', 'aerostata'], ['aerostata', '', 'Somer', 'aerostata'], ['aerostat', '', 'Somei', 'aerostat'], ['aerostat', '', 'Sometn', 'aerostat'], ['aerostate', '', 'Sommt', 'aerostate'], ['aerostati', '', 'Sommi', 'aerostati'], ['aerostati', '', 'Sommo', 'aerostati'], ['aerostatih', '', 'Somdm', 'aerostatih'], ['aerostatih', '', 'Sommm', 'aerostatih'], ['aerostatika', '', 'Sozei', 'aerostatika'], ['aerostatike', '', 'Sozer', 'aerostatike'], ['aerostatiki', '', 'Sozed', 'aerostatiki'], ['aerostatiki', '', 'Sozem', 'aerostatiki'], ['aerostatiko', '', 'Sozeo', 'aerostatiko'], ['aerostatiko', '', 'Sozet', 'aerostatiko'], ['aerostatoma', '', 'Somdd', 'aerostatoma'], ['aerostatoma', '', 'Somdo', 'aerostatoma'], ['aerostatom', '', 'Someo', 'aerostatom'], ['aerostatom', '', 'Sommd', 'aerostatom'], ['aerostatov', '', 'Somdr', 'aerostatov'], ['aerostatov', '', 'Sommr', 'aerostatov'], ['aerostatu', '', 'Somed', 'aerostatu'], ['aerostatu', '', 'Somem', 'aerostatu'], ['Aerova', '', 'Psnmdi', 'Aerova'], ['Aerova', '', 'Psnmdt', 'Aerova'], ['Aerova', '', 'Psnsmi', 'Aerova'], ['Aerova', '', 'Psnsmt', 'Aerova'], ['Aerova', '', 'Psnzei', 'Aerova'], ['Aerov', '', 'Psnmein', 'Aerov'], ['Aerov', '', 'Psnmetn', 'Aerov'], ['Aerove', '', 'Psnmmt', 'Aerove'], ['Aerove', '', 'Psnzer', 'Aerove'], ['Aerove', '', 'Psnzmi', 'Aerove'], ['Aerove', '', 'Psnzmt', 'Aerove'], ['Aerovega', '', 'Psnmer', 'Aerovega'], ['Aerovega', '', 'Psnmet', 'Aerovega']]\n"
     ]
    }
   ],
   "source": [
    "print(words.append['nadnaravno', '', 'Ppnsei'])"
   ]
  },
  {
   "cell_type": "code",
   "execution_count": 79,
   "metadata": {},
   "outputs": [
    {
     "name": "stdout",
     "output_type": "stream",
     "text": [
      "Writing data from 0 onward.\n",
      "Elapsed time: 46.20 minutes\n",
      "Writing data from 100000 onward.\n",
      "Elapsed time: 89.81 minutes\n",
      "Writing data from 200000 onward.\n",
      "Elapsed time: 134.45 minutes\n"
     ]
    },
    {
     "ename": "IndexError",
     "evalue": "index 10 is out of bounds for axis 0 with size 10",
     "output_type": "error",
     "traceback": [
      "\u001b[0;31m---------------------------------------------------------------------------\u001b[0m",
      "\u001b[0;31mIndexError\u001b[0m                                Traceback (most recent call last)",
      "\u001b[0;32m<ipython-input-79-3dd0379916f0>\u001b[0m in \u001b[0;36m<module>\u001b[0;34m()\u001b[0m\n\u001b[1;32m     19\u001b[0m                                 \u001b[0mletter_type_model\u001b[0m\u001b[0;34m,\u001b[0m \u001b[0msyllable_type_model\u001b[0m\u001b[0;34m,\u001b[0m \u001b[0msyllabled_letter_type_model\u001b[0m\u001b[0;34m,\u001b[0m\u001b[0;34m\u001b[0m\u001b[0m\n\u001b[1;32m     20\u001b[0m                                 \u001b[0mletter_type_co_model\u001b[0m\u001b[0;34m,\u001b[0m \u001b[0msyllable_type_co_model\u001b[0m\u001b[0;34m,\u001b[0m \u001b[0msyllabled_letter_type_co_model\u001b[0m\u001b[0;34m,\u001b[0m\u001b[0;34m\u001b[0m\u001b[0m\n\u001b[0;32m---> 21\u001b[0;31m                                 dictionary, max_word, max_num_vowels, vowels, accented_vowels, feature_dictionary, syllable_dictionary)\n\u001b[0m\u001b[1;32m     22\u001b[0m \u001b[0;34m\u001b[0m\u001b[0m\n\u001b[1;32m     23\u001b[0m         \u001b[0mres\u001b[0m \u001b[0;34m=\u001b[0m \u001b[0;34m''\u001b[0m\u001b[0;34m\u001b[0m\u001b[0m\n",
      "\u001b[0;32m~/Developement/accetuation/prepare_data.py\u001b[0m in \u001b[0;36maccentuate_word\u001b[0;34m(self, input_words, letter_location_model, syllable_location_model, syllabled_letters_location_model, letter_location_co_model, syllable_location_co_model, syllabled_letters_location_co_model, letter_type_model, syllable_type_model, syllabled_letter_type_model, letter_type_co_model, syllable_type_co_model, syllabled_letter_type_co_model, dictionary, max_word, max_num_vowels, vowels, accented_vowels, feature_dictionary, syllable_dictionary)\u001b[0m\n\u001b[1;32m   1635\u001b[0m                                                              \u001b[0msyllabled_letters_location_co_model\u001b[0m\u001b[0;34m,\u001b[0m\u001b[0;34m\u001b[0m\u001b[0m\n\u001b[1;32m   1636\u001b[0m                                                              \u001b[0mdictionary\u001b[0m\u001b[0;34m,\u001b[0m \u001b[0mmax_word\u001b[0m\u001b[0;34m,\u001b[0m \u001b[0mmax_num_vowels\u001b[0m\u001b[0;34m,\u001b[0m \u001b[0mvowels\u001b[0m\u001b[0;34m,\u001b[0m \u001b[0maccented_vowels\u001b[0m\u001b[0;34m,\u001b[0m \u001b[0mfeature_dictionary\u001b[0m\u001b[0;34m,\u001b[0m\u001b[0;34m\u001b[0m\u001b[0m\n\u001b[0;32m-> 1637\u001b[0;31m                                                              syllable_dictionary)\n\u001b[0m\u001b[1;32m   1638\u001b[0m         \u001b[0;31m#print(predictions)\u001b[0m\u001b[0;34m\u001b[0m\u001b[0;34m\u001b[0m\u001b[0m\n\u001b[1;32m   1639\u001b[0m         \u001b[0;32mif\u001b[0m \u001b[0;34m'A'\u001b[0m \u001b[0;32mnot\u001b[0m \u001b[0;32min\u001b[0m \u001b[0mvowels\u001b[0m\u001b[0;34m:\u001b[0m\u001b[0;34m\u001b[0m\u001b[0m\n",
      "\u001b[0;32m~/Developement/accetuation/prepare_data.py\u001b[0m in \u001b[0;36mget_ensemble_location_predictions\u001b[0;34m(input_words, letter_location_model, syllable_location_model, syllabled_letters_location_model, letter_location_co_model, syllable_location_co_model, syllabled_letters_location_co_model, dictionary, max_word, max_num_vowels, vowels, accented_vowels, feature_dictionary, syllable_dictionary)\u001b[0m\n\u001b[1;32m   1465\u001b[0m         \u001b[0mletter_location_co_predictions\u001b[0m \u001b[0;34m=\u001b[0m \u001b[0mletter_location_co_model\u001b[0m\u001b[0;34m.\u001b[0m\u001b[0mpredict_generator\u001b[0m\u001b[0;34m(\u001b[0m\u001b[0mgenerator\u001b[0m\u001b[0;34m,\u001b[0m \u001b[0mlen\u001b[0m\u001b[0;34m(\u001b[0m\u001b[0mx\u001b[0m\u001b[0;34m)\u001b[0m \u001b[0;34m/\u001b[0m \u001b[0;34m(\u001b[0m\u001b[0mbatch_size\u001b[0m\u001b[0;34m)\u001b[0m\u001b[0;34m)\u001b[0m\u001b[0;34m\u001b[0m\u001b[0m\n\u001b[1;32m   1466\u001b[0m \u001b[0;34m\u001b[0m\u001b[0m\n\u001b[0;32m-> 1467\u001b[0;31m         \u001b[0mletter_location_co_predictions\u001b[0m \u001b[0;34m=\u001b[0m \u001b[0mdata\u001b[0m\u001b[0;34m.\u001b[0m\u001b[0mreverse_predictions\u001b[0m\u001b[0;34m(\u001b[0m\u001b[0mletter_location_co_predictions\u001b[0m\u001b[0;34m,\u001b[0m \u001b[0minput_words\u001b[0m\u001b[0;34m,\u001b[0m \u001b[0mvowels\u001b[0m\u001b[0;34m)\u001b[0m\u001b[0;34m\u001b[0m\u001b[0m\n\u001b[0m\u001b[1;32m   1468\u001b[0m \u001b[0;34m\u001b[0m\u001b[0m\n\u001b[1;32m   1469\u001b[0m         \u001b[0mdata\u001b[0m \u001b[0;34m=\u001b[0m \u001b[0mData\u001b[0m\u001b[0;34m(\u001b[0m\u001b[0;34m's'\u001b[0m\u001b[0;34m,\u001b[0m \u001b[0mshuffle_all_inputs\u001b[0m\u001b[0;34m=\u001b[0m\u001b[0;32mFalse\u001b[0m\u001b[0;34m,\u001b[0m \u001b[0mconvert_multext\u001b[0m\u001b[0;34m=\u001b[0m\u001b[0;32mFalse\u001b[0m\u001b[0;34m,\u001b[0m \u001b[0mreverse_inputs\u001b[0m\u001b[0;34m=\u001b[0m\u001b[0;32mFalse\u001b[0m\u001b[0;34m)\u001b[0m\u001b[0;34m\u001b[0m\u001b[0m\n",
      "\u001b[0;32m~/Developement/accetuation/prepare_data.py\u001b[0m in \u001b[0;36mreverse_predictions\u001b[0;34m(self, predictions, words, vowels)\u001b[0m\n\u001b[1;32m   1503\u001b[0m \u001b[0;34m\u001b[0m\u001b[0m\n\u001b[1;32m   1504\u001b[0m             \u001b[0;32mfor\u001b[0m \u001b[0mk\u001b[0m \u001b[0;32min\u001b[0m \u001b[0mrange\u001b[0m\u001b[0;34m(\u001b[0m\u001b[0mword_len\u001b[0m\u001b[0;34m)\u001b[0m\u001b[0;34m:\u001b[0m\u001b[0;34m\u001b[0m\u001b[0m\n\u001b[0;32m-> 1505\u001b[0;31m                 \u001b[0mnew_predictions\u001b[0m\u001b[0;34m[\u001b[0m\u001b[0mi\u001b[0m\u001b[0;34m]\u001b[0m\u001b[0;34m[\u001b[0m\u001b[0mk\u001b[0m\u001b[0;34m]\u001b[0m \u001b[0;34m+=\u001b[0m \u001b[0mpredictions\u001b[0m\u001b[0;34m[\u001b[0m\u001b[0mi\u001b[0m\u001b[0;34m]\u001b[0m\u001b[0;34m[\u001b[0m\u001b[0mword_len\u001b[0m \u001b[0;34m-\u001b[0m \u001b[0;36m1\u001b[0m \u001b[0;34m-\u001b[0m \u001b[0mk\u001b[0m\u001b[0;34m]\u001b[0m\u001b[0;34m\u001b[0m\u001b[0m\n\u001b[0m\u001b[1;32m   1506\u001b[0m \u001b[0;34m\u001b[0m\u001b[0m\n\u001b[1;32m   1507\u001b[0m         \u001b[0;32mreturn\u001b[0m \u001b[0mnew_predictions\u001b[0m\u001b[0;34m\u001b[0m\u001b[0m\n",
      "\u001b[0;31mIndexError\u001b[0m: index 10 is out of bounds for axis 0 with size 10"
     ]
    }
   ],
   "source": [
    "#Words proccesed: 650250\n",
    "#Word indeks: 50023\n",
    "#Word number: 50023\n",
    "\n",
    "#done_lexical_entries = 33522\n",
    "\n",
    "#new_content = data._read_content('sloleks-sl_v1.2.tbl')\n",
    "rate = 100000\n",
    "start_timer = time.time()\n",
    "with open(\"data/new_sloleks/new_sloleks.tab\", \"a\") as myfile:\n",
    "    for index in range(0, len(new_content), rate):\n",
    "        if index+rate >= len(new_content):\n",
    "            words = [[el[0], '', el[2], el[0]] for el in new_content][index:len(new_content)]\n",
    "        else:\n",
    "            words = [[el[0], '', el[2], el[0]] for el in new_content][index:index+rate]\n",
    "        data = Data('l', shuffle_all_inputs=False)\n",
    "        location_accented_words, accented_words = data.accentuate_word(words, letter_location_model, syllable_location_model, syllabled_letters_location_model,\n",
    "                                letter_location_co_model, syllable_location_co_model, syllabled_letters_location_co_model,\n",
    "                                letter_type_model, syllable_type_model, syllabled_letter_type_model,\n",
    "                                letter_type_co_model, syllable_type_co_model, syllabled_letter_type_co_model,\n",
    "                                dictionary, max_word, max_num_vowels, vowels, accented_vowels, feature_dictionary, syllable_dictionary)\n",
    "\n",
    "        res = ''\n",
    "        for i in range(index, index + len(words)):\n",
    "            res += new_content[i][0] + '\\t' + new_content[i][1] + '\\t' + new_content[i][2] + '\\t' \\\n",
    "            + new_content[i][3][:-1] + '\\t' + location_accented_words[i-index] + '\\t' + accented_words[i-index] + '\\n'\n",
    "\n",
    "        print('Writing data from ' + str(index) + ' onward.')\n",
    "        end_timer = time.time()\n",
    "        print(\"Elapsed time: \" + \"{0:.2f}\".format((end_timer - start_timer)/60.0) + \" minutes\")\n",
    "        myfile.write(res)"
   ]
  }
 ],
 "metadata": {
  "kernelspec": {
   "display_name": "Python 3",
   "language": "python",
   "name": "python3"
  },
  "language_info": {
   "codemirror_mode": {
    "name": "ipython",
    "version": 3
   },
   "file_extension": ".py",
   "mimetype": "text/x-python",
   "name": "python",
   "nbconvert_exporter": "python",
   "pygments_lexer": "ipython3",
   "version": "3.5.2"
  }
 },
 "nbformat": 4,
 "nbformat_minor": 2
}
