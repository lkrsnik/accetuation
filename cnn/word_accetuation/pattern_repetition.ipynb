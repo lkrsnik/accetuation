{
 "cells": [
  {
   "cell_type": "code",
   "execution_count": 30,
   "metadata": {},
   "outputs": [],
   "source": [
    "# -*- coding: utf-8 -*-\n",
    "from __future__ import unicode_literals\n",
    "# text in Western (Windows 1252)\n",
    "\n",
    "import pickle\n",
    "import numpy as np\n",
    "from keras import optimizers\n",
    "from keras.models import Model\n",
    "from keras.layers import Dense, Dropout, Input\n",
    "from keras.layers.merge import concatenate\n",
    "from keras.layers.convolutional import Conv1D\n",
    "from keras.layers.convolutional import MaxPooling1D\n",
    "from keras.layers import Flatten\n",
    "from keras.models import load_model\n",
    "# from keras import backend as Input\n",
    "np.random.seed(7)"
   ]
  },
  {
   "cell_type": "code",
   "execution_count": 65,
   "metadata": {
    "collapsed": true
   },
   "outputs": [],
   "source": [
    "import sys\n",
    "#sys.path.insert(0, '../../')\n",
    "sys.path.insert(0, '/home/luka/Developement/accetuation/')\n",
    "from prepare_data import *\n",
    "\n",
    "%run ../../prepare_data.py"
   ]
  },
  {
   "cell_type": "code",
   "execution_count": 66,
   "metadata": {},
   "outputs": [
    {
     "name": "stdout",
     "output_type": "stream",
     "text": [
      "LOADING DATA...\n",
      "LOAD SUCCESSFUL!\n"
     ]
    }
   ],
   "source": [
    "data = Data('s')\n",
    "data.generate_data('syllables_word_accetuation_train',\n",
    "                   'syllables_word_accetuation_test',\n",
    "                   'syllables_word_accetuation_validate', content_name='SlovarIJS_BESEDE_utf8.lex',\n",
    "                      content_shuffle_vector='content_shuffle_vector', shuffle_vector='shuffle_vector',\n",
    "                      inputs_location='../internal_representations/inputs/', content_location='../../data/')"
   ]
  },
  {
   "cell_type": "code",
   "execution_count": 4,
   "metadata": {
    "collapsed": true
   },
   "outputs": [],
   "source": [
    "content = data._read_content('../../data/SlovarIJS_BESEDE_utf8.lex')\n",
    "dictionary, max_word, max_num_vowels, vowels, accented_vowels = data._create_dict(content)\n",
    "feature_dictionary = data._create_feature_dictionary()\n",
    "syllable_dictionary = data._create_syllables_dictionary(content, vowels)"
   ]
  },
  {
   "cell_type": "code",
   "execution_count": 6,
   "metadata": {
    "collapsed": true
   },
   "outputs": [],
   "source": [
    "pickle_input = open('letters_word_accetuation_predictions.pkl', 'rb')\n",
    "letters_word_accetuation_predictions = pickle.load(pickle_input)\n",
    "pickle_input = open('syllables_word_accetuation_predictions.pkl', 'rb')\n",
    "syllables_word_accetuation_predictions = pickle.load(pickle_input)\n",
    "pickle_input = open('syllabled_letters_word_accetuation_predictions.pkl', 'rb')\n",
    "syllabled_letters_word_accetuation_predictions = pickle.load(pickle_input)\n",
    "\n",
    "\n",
    "pickle_input = open('error_analysis_results/onedirectional_input/letters_word_accetuation_correct_order_reversed_predictions.pkl', 'rb')\n",
    "letters_word_accetuation_correct_order_predictions = pickle.load(pickle_input)\n",
    "pickle_input = open('error_analysis_results/onedirectional_input/syllabled_letters_word_accetuation_correct_order_reversed_predictions.pkl', 'rb')\n",
    "syllables_word_accetuation_correct_order_predictions = pickle.load(pickle_input)\n",
    "pickle_input = open('error_analysis_results/onedirectional_input/syllables_word_accetuation_correct_order_reversed_predictions.pkl', 'rb')\n",
    "syllabled_letters_word_accetuation_correct_order_predictions = pickle.load(pickle_input)"
   ]
  },
  {
   "cell_type": "code",
   "execution_count": 67,
   "metadata": {},
   "outputs": [
    {
     "name": "stdout",
     "output_type": "stream",
     "text": [
      "589\n",
      "243\n",
      "92.71773790771832\n"
     ]
    }
   ],
   "source": [
    "ensemble_predictions = np.mean( np.array([ letters_word_accetuation_predictions, syllables_word_accetuation_predictions, syllabled_letters_word_accetuation_predictions, \n",
    "                                         letters_word_accetuation_correct_order_predictions, syllables_word_accetuation_correct_order_predictions, syllabled_letters_word_accetuation_correct_order_predictions]), axis=0 )\n",
    "#ensemble_predictions = np.mean( np.array([ letters_word_accetuation_predictions, syllables_word_accetuation_predictions, syllabled_letters_word_accetuation_predictions]), axis=0 )\n",
    "#accuracy, errors = data.test_accuracy(ensemble_predictions, data.x_validate, data.x_other_features_validate, data.y_validate, dictionary, feature_dictionary, vowels, syllable_dictionary=syllable_dictionary)\n",
    "#ensemble_predictions=syllabled_letters_word_accetuation_correct_order_predictions\n",
    "accuracy, errors = data.test_accuracy(ensemble_predictions, data.x_test, data.x_other_features_test, data.y_test, dictionary, feature_dictionary, vowels, syllable_dictionary=syllable_dictionary, threshold=0.5, patterns=patterns)\n",
    "print(accuracy)"
   ]
  },
  {
   "cell_type": "code",
   "execution_count": 64,
   "metadata": {},
   "outputs": [
    {
     "data": {
      "text/plain": [
       "0.011314303277113988"
      ]
     },
     "execution_count": 64,
     "metadata": {},
     "output_type": "execute_result"
    }
   ],
   "source": [
    "589 / len(data.x_test)"
   ]
  },
  {
   "cell_type": "code",
   "execution_count": 14,
   "metadata": {
    "collapsed": true
   },
   "outputs": [],
   "source": [
    "int_max = 0\n",
    "\n",
    "def get_word_length(x_el):\n",
    "    i = 0\n",
    "    for el in x_el:\n",
    "        if el == 0:\n",
    "            return i\n",
    "        i += 1\n",
    "    return 10\n",
    "\n",
    "#probabilities = np.zeros((10, 10))\n",
    "#count_results = np.zeros(10)\n",
    "#for i in range(len(data.y_train)):\n",
    "#    word_len = get_word_length(data.x_test[i])\n",
    "    #print(word_len)\n",
    "    #if word_len > 6:\n",
    "    #    print(word_len)\n",
    "    #    print(data.y_test[i])\n",
    "    \n",
    "    #\n",
    "#    for j in range(word_len):\n",
    "        #print(word_len)\n",
    "#        if data.y_test[i][word_len - 1 - j] == 1.0:\n",
    "#            for k in range(word_len):\n",
    "#                probabilities[j][k] += ensemble_predictions[i][word_len - 1 - k]\n",
    "            #probabilities[j] += ensemble_predictions[i]\n",
    "#            count_results[j] += 1\n",
    "    \n",
    "#print(probabilities)\n",
    "#for i in range(len(probabilities)):\n",
    "#    for j in range(len(probabilities[i])):\n",
    "#        probabilities[i][j] = probabilities[i][j] / count_results[i]\n",
    "    \n",
    "    #probabilities[i] = probabilities[i] / count_results[i]"
   ]
  },
  {
   "cell_type": "code",
   "execution_count": 24,
   "metadata": {},
   "outputs": [
    {
     "data": {
      "text/plain": [
       "{1: [{'count': 2575,\n",
       "   'key': array([ 1.,  0.,  0.,  0.,  0.,  0.,  0.,  0.,  0.,  0.])},\n",
       "  {'count': 82,\n",
       "   'key': array([ 0.,  0.,  0.,  0.,  0.,  0.,  0.,  0.,  0.,  0.])}],\n",
       " 2: [{'count': 41074,\n",
       "   'key': array([ 0.,  1.,  0.,  0.,  0.,  0.,  0.,  0.,  0.,  0.])},\n",
       "  {'count': 6645,\n",
       "   'key': array([ 1.,  0.,  0.,  0.,  0.,  0.,  0.,  0.,  0.,  0.])},\n",
       "  {'count': 23,\n",
       "   'key': array([ 1.,  1.,  0.,  0.,  0.,  0.,  0.,  0.,  0.,  0.])},\n",
       "  {'count': 12,\n",
       "   'key': array([ 0.,  0.,  0.,  0.,  0.,  0.,  0.,  0.,  0.,  0.])}],\n",
       " 3: [{'count': 40024,\n",
       "   'key': array([ 0.,  0.,  1.,  0.,  0.,  0.,  0.,  0.,  0.,  0.])},\n",
       "  {'count': 89275,\n",
       "   'key': array([ 0.,  1.,  0.,  0.,  0.,  0.,  0.,  0.,  0.,  0.])},\n",
       "  {'count': 4342,\n",
       "   'key': array([ 1.,  0.,  0.,  0.,  0.,  0.,  0.,  0.,  0.,  0.])},\n",
       "  {'count': 2701,\n",
       "   'key': array([ 0.,  1.,  1.,  0.,  0.,  0.,  0.,  0.,  0.,  0.])},\n",
       "  {'count': 113,\n",
       "   'key': array([ 1.,  0.,  1.,  0.,  0.,  0.,  0.,  0.,  0.,  0.])},\n",
       "  {'count': 14,\n",
       "   'key': array([ 0.,  0.,  0.,  0.,  0.,  0.,  0.,  0.,  0.,  0.])}],\n",
       " 4: [{'count': 49830,\n",
       "   'key': array([ 0.,  1.,  0.,  0.,  0.,  0.,  0.,  0.,  0.,  0.])},\n",
       "  {'count': 75863,\n",
       "   'key': array([ 0.,  0.,  1.,  0.,  0.,  0.,  0.,  0.,  0.,  0.])},\n",
       "  {'count': 7755,\n",
       "   'key': array([ 0.,  1.,  0.,  1.,  0.,  0.,  0.,  0.,  0.,  0.])},\n",
       "  {'count': 9121,\n",
       "   'key': array([ 0.,  0.,  0.,  1.,  0.,  0.,  0.,  0.,  0.,  0.])},\n",
       "  {'count': 1575,\n",
       "   'key': array([ 1.,  0.,  0.,  0.,  0.,  0.,  0.,  0.,  0.,  0.])},\n",
       "  {'count': 2237,\n",
       "   'key': array([ 0.,  0.,  1.,  1.,  0.,  0.,  0.,  0.,  0.,  0.])},\n",
       "  {'count': 88,\n",
       "   'key': array([ 0.,  1.,  1.,  0.,  0.,  0.,  0.,  0.,  0.,  0.])},\n",
       "  {'count': 101,\n",
       "   'key': array([ 1.,  0.,  0.,  1.,  0.,  0.,  0.,  0.,  0.,  0.])},\n",
       "  {'count': 43,\n",
       "   'key': array([ 0.,  1.,  1.,  1.,  0.,  0.,  0.,  0.,  0.,  0.])},\n",
       "  {'count': 2,\n",
       "   'key': array([ 1.,  0.,  1.,  0.,  0.,  0.,  0.,  0.,  0.,  0.])},\n",
       "  {'count': 2,\n",
       "   'key': array([ 0.,  0.,  0.,  0.,  0.,  0.,  0.,  0.,  0.,  0.])}],\n",
       " 5: [{'count': 11859,\n",
       "   'key': array([ 0.,  0.,  0.,  1.,  0.,  0.,  0.,  0.,  0.,  0.])},\n",
       "  {'count': 24541,\n",
       "   'key': array([ 0.,  0.,  1.,  0.,  0.,  0.,  0.,  0.,  0.,  0.])},\n",
       "  {'count': 10220,\n",
       "   'key': array([ 0.,  0.,  1.,  0.,  1.,  0.,  0.,  0.,  0.,  0.])},\n",
       "  {'count': 13767,\n",
       "   'key': array([ 0.,  1.,  0.,  0.,  0.,  0.,  0.,  0.,  0.,  0.])},\n",
       "  {'count': 3059,\n",
       "   'key': array([ 0.,  1.,  0.,  0.,  1.,  0.,  0.,  0.,  0.,  0.])},\n",
       "  {'count': 518,\n",
       "   'key': array([ 0.,  0.,  1.,  1.,  1.,  0.,  0.,  0.,  0.,  0.])},\n",
       "  {'count': 1260,\n",
       "   'key': array([ 0.,  0.,  0.,  0.,  1.,  0.,  0.,  0.,  0.,  0.])},\n",
       "  {'count': 609,\n",
       "   'key': array([ 0.,  0.,  0.,  1.,  1.,  0.,  0.,  0.,  0.,  0.])},\n",
       "  {'count': 144,\n",
       "   'key': array([ 0.,  1.,  0.,  1.,  0.,  0.,  0.,  0.,  0.,  0.])},\n",
       "  {'count': 217,\n",
       "   'key': array([ 1.,  0.,  0.,  0.,  0.,  0.,  0.,  0.,  0.,  0.])},\n",
       "  {'count': 41,\n",
       "   'key': array([ 0.,  0.,  1.,  1.,  0.,  0.,  0.,  0.,  0.,  0.])},\n",
       "  {'count': 25,\n",
       "   'key': array([ 1.,  0.,  0.,  0.,  1.,  0.,  0.,  0.,  0.,  0.])}],\n",
       " 6: [{'count': 3922,\n",
       "   'key': array([ 0.,  0.,  1.,  0.,  0.,  1.,  0.,  0.,  0.,  0.])},\n",
       "  {'count': 3292,\n",
       "   'key': array([ 0.,  0.,  0.,  1.,  0.,  1.,  0.,  0.,  0.,  0.])},\n",
       "  {'count': 1092,\n",
       "   'key': array([ 0.,  0.,  1.,  0.,  1.,  1.,  0.,  0.,  0.,  0.])},\n",
       "  {'count': 6191,\n",
       "   'key': array([ 0.,  0.,  1.,  0.,  0.,  0.,  0.,  0.,  0.,  0.])},\n",
       "  {'count': 1873,\n",
       "   'key': array([ 0.,  1.,  0.,  0.,  0.,  0.,  0.,  0.,  0.,  0.])},\n",
       "  {'count': 739,\n",
       "   'key': array([ 0.,  1.,  0.,  0.,  0.,  1.,  0.,  0.,  0.,  0.])},\n",
       "  {'count': 3073,\n",
       "   'key': array([ 0.,  0.,  0.,  1.,  0.,  0.,  0.,  0.,  0.,  0.])},\n",
       "  {'count': 109,\n",
       "   'key': array([ 0.,  0.,  0.,  0.,  0.,  1.,  0.,  0.,  0.,  0.])},\n",
       "  {'count': 168,\n",
       "   'key': array([ 0.,  0.,  0.,  1.,  1.,  1.,  0.,  0.,  0.,  0.])},\n",
       "  {'count': 693,\n",
       "   'key': array([ 0.,  0.,  0.,  0.,  1.,  0.,  0.,  0.,  0.,  0.])},\n",
       "  {'count': 84,\n",
       "   'key': array([ 0.,  0.,  1.,  0.,  1.,  0.,  0.,  0.,  0.,  0.])},\n",
       "  {'count': 28,\n",
       "   'key': array([ 0.,  1.,  0.,  0.,  1.,  0.,  0.,  0.,  0.,  0.])},\n",
       "  {'count': 20,\n",
       "   'key': array([ 1.,  0.,  0.,  0.,  0.,  0.,  0.,  0.,  0.,  0.])},\n",
       "  {'count': 140,\n",
       "   'key': array([ 0.,  0.,  0.,  0.,  1.,  1.,  0.,  0.,  0.,  0.])},\n",
       "  {'count': 43,\n",
       "   'key': array([ 0.,  1.,  0.,  1.,  0.,  1.,  0.,  0.,  0.,  0.])},\n",
       "  {'count': 44,\n",
       "   'key': array([ 0.,  1.,  0.,  1.,  0.,  0.,  0.,  0.,  0.,  0.])},\n",
       "  {'count': 3,\n",
       "   'key': array([ 0.,  0.,  0.,  1.,  1.,  0.,  0.,  0.,  0.,  0.])},\n",
       "  {'count': 2,\n",
       "   'key': array([ 1.,  0.,  0.,  0.,  1.,  0.,  0.,  0.,  0.,  0.])},\n",
       "  {'count': 1,\n",
       "   'key': array([ 1.,  0.,  0.,  1.,  0.,  0.,  0.,  0.,  0.,  0.])}],\n",
       " 7: [{'count': 1659,\n",
       "   'key': array([ 0.,  0.,  0.,  1.,  0.,  0.,  1.,  0.,  0.,  0.])},\n",
       "  {'count': 900,\n",
       "   'key': array([ 0.,  0.,  1.,  0.,  0.,  0.,  0.,  0.,  0.,  0.])},\n",
       "  {'count': 766,\n",
       "   'key': array([ 0.,  0.,  1.,  0.,  0.,  0.,  1.,  0.,  0.,  0.])},\n",
       "  {'count': 718,\n",
       "   'key': array([ 0.,  0.,  0.,  1.,  0.,  0.,  0.,  0.,  0.,  0.])},\n",
       "  {'count': 205,\n",
       "   'key': array([ 0.,  1.,  0.,  0.,  0.,  0.,  0.,  0.,  0.,  0.])},\n",
       "  {'count': 839,\n",
       "   'key': array([ 0.,  0.,  0.,  0.,  1.,  0.,  1.,  0.,  0.,  0.])},\n",
       "  {'count': 406,\n",
       "   'key': array([ 0.,  0.,  0.,  1.,  0.,  1.,  1.,  0.,  0.,  0.])},\n",
       "  {'count': 378,\n",
       "   'key': array([ 0.,  0.,  1.,  0.,  0.,  1.,  1.,  0.,  0.,  0.])},\n",
       "  {'count': 128,\n",
       "   'key': array([ 0.,  0.,  0.,  0.,  1.,  0.,  0.,  0.,  0.,  0.])},\n",
       "  {'count': 138,\n",
       "   'key': array([ 0.,  0.,  0.,  1.,  0.,  1.,  0.,  0.,  0.,  0.])},\n",
       "  {'count': 15,\n",
       "   'key': array([ 0.,  1.,  0.,  0.,  1.,  0.,  0.,  0.,  0.,  0.])},\n",
       "  {'count': 14,\n",
       "   'key': array([ 0.,  0.,  1.,  0.,  1.,  0.,  0.,  0.,  0.,  0.])},\n",
       "  {'count': 44,\n",
       "   'key': array([ 0.,  1.,  0.,  0.,  0.,  0.,  1.,  0.,  0.,  0.])},\n",
       "  {'count': 14,\n",
       "   'key': array([ 0.,  0.,  0.,  0.,  0.,  1.,  0.,  0.,  0.,  0.])},\n",
       "  {'count': 14,\n",
       "   'key': array([ 0.,  0.,  1.,  0.,  1.,  0.,  1.,  0.,  0.,  0.])},\n",
       "  {'count': 28,\n",
       "   'key': array([ 0.,  0.,  0.,  0.,  0.,  1.,  1.,  0.,  0.,  0.])},\n",
       "  {'count': 13,\n",
       "   'key': array([ 0.,  1.,  0.,  0.,  0.,  1.,  0.,  0.,  0.,  0.])},\n",
       "  {'count': 6,\n",
       "   'key': array([ 0.,  0.,  1.,  0.,  0.,  1.,  0.,  0.,  0.,  0.])},\n",
       "  {'count': 1,\n",
       "   'key': array([ 1.,  0.,  0.,  0.,  0.,  0.,  0.,  0.,  0.,  0.])}],\n",
       " 8: [{'count': 126,\n",
       "   'key': array([ 0.,  0.,  0.,  1.,  0.,  0.,  1.,  1.,  0.,  0.])},\n",
       "  {'count': 735,\n",
       "   'key': array([ 0.,  0.,  0.,  0.,  1.,  0.,  0.,  1.,  0.,  0.])},\n",
       "  {'count': 77,\n",
       "   'key': array([ 0.,  0.,  0.,  1.,  0.,  0.,  0.,  0.,  0.,  0.])},\n",
       "  {'count': 346,\n",
       "   'key': array([ 0.,  0.,  0.,  1.,  0.,  0.,  0.,  1.,  0.,  0.])},\n",
       "  {'count': 198,\n",
       "   'key': array([ 0.,  0.,  0.,  0.,  0.,  1.,  0.,  1.,  0.,  0.])},\n",
       "  {'count': 178,\n",
       "   'key': array([ 0.,  0.,  0.,  0.,  1.,  0.,  1.,  0.,  0.,  0.])},\n",
       "  {'count': 42,\n",
       "   'key': array([ 0.,  0.,  0.,  0.,  1.,  0.,  0.,  0.,  0.,  0.])},\n",
       "  {'count': 126,\n",
       "   'key': array([ 0.,  0.,  1.,  0.,  0.,  0.,  1.,  1.,  0.,  0.])},\n",
       "  {'count': 43,\n",
       "   'key': array([ 0.,  1.,  0.,  0.,  0.,  0.,  0.,  1.,  0.,  0.])},\n",
       "  {'count': 141,\n",
       "   'key': array([ 0.,  0.,  1.,  0.,  0.,  0.,  0.,  1.,  0.,  0.])},\n",
       "  {'count': 58,\n",
       "   'key': array([ 0.,  0.,  1.,  0.,  0.,  0.,  0.,  0.,  0.,  0.])},\n",
       "  {'count': 50,\n",
       "   'key': array([ 0.,  0.,  0.,  1.,  0.,  0.,  1.,  0.,  0.,  0.])},\n",
       "  {'count': 14,\n",
       "   'key': array([ 0.,  0.,  0.,  0.,  1.,  0.,  1.,  1.,  0.,  0.])},\n",
       "  {'count': 2,\n",
       "   'key': array([ 0.,  0.,  1.,  0.,  0.,  1.,  0.,  0.,  0.,  0.])},\n",
       "  {'count': 3,\n",
       "   'key': array([ 0.,  0.,  1.,  0.,  0.,  0.,  1.,  0.,  0.,  0.])}],\n",
       " 9: [{'count': 170,\n",
       "   'key': array([ 0.,  0.,  0.,  0.,  0.,  1.,  0.,  0.,  1.,  0.])},\n",
       "  {'count': 43,\n",
       "   'key': array([ 0.,  1.,  0.,  0.,  0.,  0.,  0.,  0.,  1.,  0.])},\n",
       "  {'count': 42,\n",
       "   'key': array([ 0.,  0.,  0.,  1.,  0.,  0.,  0.,  1.,  1.,  0.])},\n",
       "  {'count': 48,\n",
       "   'key': array([ 0.,  0.,  0.,  0.,  0.,  1.,  0.,  1.,  0.,  0.])},\n",
       "  {'count': 42,\n",
       "   'key': array([ 0.,  0.,  0.,  1.,  0.,  0.,  0.,  0.,  1.,  0.])},\n",
       "  {'count': 17,\n",
       "   'key': array([ 0.,  0.,  0.,  0.,  1.,  0.,  0.,  1.,  0.,  0.])},\n",
       "  {'count': 62,\n",
       "   'key': array([ 0.,  0.,  0.,  0.,  1.,  0.,  0.,  0.,  1.,  0.])},\n",
       "  {'count': 14,\n",
       "   'key': array([ 0.,  0.,  1.,  0.,  0.,  0.,  0.,  0.,  1.,  0.])}],\n",
       " 10: [{'count': 14,\n",
       "   'key': array([ 0.,  0.,  1.,  0.,  0.,  0.,  0.,  0.,  0.,  1.])}]}"
      ]
     },
     "execution_count": 24,
     "metadata": {},
     "output_type": "execute_result"
    }
   ],
   "source": [
    "occurances_of_patterns = {}\n",
    "for el in zip(data.x_train, data.y_train):\n",
    "    l = get_word_length(el[0])\n",
    "    if l in occurances_of_patterns:\n",
    "        in_occurances = False\n",
    "        for item in occurances_of_patterns[l]:\n",
    "            if (item['key'] == el[1]).all():\n",
    "                item['count'] += 1\n",
    "                in_occurances = True\n",
    "                break\n",
    "        if not in_occurances:\n",
    "            occurances_of_patterns[l].append({'key': el[1], 'count': 1})\n",
    "    else:\n",
    "        occurances_of_patterns[l] = [{'key': el[1], 'count': 1}]\n",
    "\n",
    "\n",
    "occurances_of_patterns"
   ]
  },
  {
   "cell_type": "code",
   "execution_count": 61,
   "metadata": {
    "collapsed": true
   },
   "outputs": [],
   "source": [
    "patterns = {}\n",
    "for key in occurances_of_patterns:\n",
    "    patterns[key] = []\n",
    "for key in patterns:\n",
    "    for item in occurances_of_patterns[key]:\n",
    "        if item['count'] > len(data.x_train) * 0.001:\n",
    "            patterns[key].append(item['key'])"
   ]
  },
  {
   "cell_type": "code",
   "execution_count": 62,
   "metadata": {},
   "outputs": [
    {
     "data": {
      "text/plain": [
       "{1: [array([ 1.,  0.,  0.,  0.,  0.,  0.,  0.,  0.,  0.,  0.])],\n",
       " 2: [array([ 0.,  1.,  0.,  0.,  0.,  0.,  0.,  0.,  0.,  0.]),\n",
       "  array([ 1.,  0.,  0.,  0.,  0.,  0.,  0.,  0.,  0.,  0.])],\n",
       " 3: [array([ 0.,  0.,  1.,  0.,  0.,  0.,  0.,  0.,  0.,  0.]),\n",
       "  array([ 0.,  1.,  0.,  0.,  0.,  0.,  0.,  0.,  0.,  0.]),\n",
       "  array([ 1.,  0.,  0.,  0.,  0.,  0.,  0.,  0.,  0.,  0.]),\n",
       "  array([ 0.,  1.,  1.,  0.,  0.,  0.,  0.,  0.,  0.,  0.])],\n",
       " 4: [array([ 0.,  1.,  0.,  0.,  0.,  0.,  0.,  0.,  0.,  0.]),\n",
       "  array([ 0.,  0.,  1.,  0.,  0.,  0.,  0.,  0.,  0.,  0.]),\n",
       "  array([ 0.,  1.,  0.,  1.,  0.,  0.,  0.,  0.,  0.,  0.]),\n",
       "  array([ 0.,  0.,  0.,  1.,  0.,  0.,  0.,  0.,  0.,  0.]),\n",
       "  array([ 1.,  0.,  0.,  0.,  0.,  0.,  0.,  0.,  0.,  0.]),\n",
       "  array([ 0.,  0.,  1.,  1.,  0.,  0.,  0.,  0.,  0.,  0.])],\n",
       " 5: [array([ 0.,  0.,  0.,  1.,  0.,  0.,  0.,  0.,  0.,  0.]),\n",
       "  array([ 0.,  0.,  1.,  0.,  0.,  0.,  0.,  0.,  0.,  0.]),\n",
       "  array([ 0.,  0.,  1.,  0.,  1.,  0.,  0.,  0.,  0.,  0.]),\n",
       "  array([ 0.,  1.,  0.,  0.,  0.,  0.,  0.,  0.,  0.,  0.]),\n",
       "  array([ 0.,  1.,  0.,  0.,  1.,  0.,  0.,  0.,  0.,  0.]),\n",
       "  array([ 0.,  0.,  1.,  1.,  1.,  0.,  0.,  0.,  0.,  0.]),\n",
       "  array([ 0.,  0.,  0.,  0.,  1.,  0.,  0.,  0.,  0.,  0.]),\n",
       "  array([ 0.,  0.,  0.,  1.,  1.,  0.,  0.,  0.,  0.,  0.])],\n",
       " 6: [array([ 0.,  0.,  1.,  0.,  0.,  1.,  0.,  0.,  0.,  0.]),\n",
       "  array([ 0.,  0.,  0.,  1.,  0.,  1.,  0.,  0.,  0.,  0.]),\n",
       "  array([ 0.,  0.,  1.,  0.,  1.,  1.,  0.,  0.,  0.,  0.]),\n",
       "  array([ 0.,  0.,  1.,  0.,  0.,  0.,  0.,  0.,  0.,  0.]),\n",
       "  array([ 0.,  1.,  0.,  0.,  0.,  0.,  0.,  0.,  0.,  0.]),\n",
       "  array([ 0.,  1.,  0.,  0.,  0.,  1.,  0.,  0.,  0.,  0.]),\n",
       "  array([ 0.,  0.,  0.,  1.,  0.,  0.,  0.,  0.,  0.,  0.]),\n",
       "  array([ 0.,  0.,  0.,  0.,  1.,  0.,  0.,  0.,  0.,  0.])],\n",
       " 7: [array([ 0.,  0.,  0.,  1.,  0.,  0.,  1.,  0.,  0.,  0.]),\n",
       "  array([ 0.,  0.,  1.,  0.,  0.,  0.,  0.,  0.,  0.,  0.]),\n",
       "  array([ 0.,  0.,  1.,  0.,  0.,  0.,  1.,  0.,  0.,  0.]),\n",
       "  array([ 0.,  0.,  0.,  1.,  0.,  0.,  0.,  0.,  0.,  0.]),\n",
       "  array([ 0.,  0.,  0.,  0.,  1.,  0.,  1.,  0.,  0.,  0.])],\n",
       " 8: [array([ 0.,  0.,  0.,  0.,  1.,  0.,  0.,  1.,  0.,  0.])],\n",
       " 9: [],\n",
       " 10: []}"
      ]
     },
     "execution_count": 62,
     "metadata": {},
     "output_type": "execute_result"
    }
   ],
   "source": [
    "patterns"
   ]
  },
  {
   "cell_type": "code",
   "execution_count": 28,
   "metadata": {},
   "outputs": [
    {
     "data": {
      "text/plain": [
       "43.015100000000004"
      ]
     },
     "execution_count": 28,
     "metadata": {},
     "output_type": "execute_result"
    }
   ],
   "source": [
    "len(data.x_train)  * 0.0001"
   ]
  },
  {
   "cell_type": "code",
   "execution_count": null,
   "metadata": {
    "collapsed": true
   },
   "outputs": [],
   "source": []
  }
 ],
 "metadata": {
  "kernelspec": {
   "display_name": "Python 3",
   "language": "python",
   "name": "python3"
  },
  "language_info": {
   "codemirror_mode": {
    "name": "ipython",
    "version": 3
   },
   "file_extension": ".py",
   "mimetype": "text/x-python",
   "name": "python",
   "nbconvert_exporter": "python",
   "pygments_lexer": "ipython3",
   "version": "3.5.2"
  }
 },
 "nbformat": 4,
 "nbformat_minor": 2
}
