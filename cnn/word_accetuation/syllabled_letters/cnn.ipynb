{
 "cells": [
  {
   "cell_type": "code",
   "execution_count": 1,
   "metadata": {},
   "outputs": [
    {
     "name": "stderr",
     "output_type": "stream",
     "text": [
      "Using Theano backend.\n"
     ]
    }
   ],
   "source": [
    "# -*- coding: utf-8 -*-\n",
    "from __future__ import unicode_literals\n",
    "# text in Western (Windows 1252)\n",
    "\n",
    "import pickle\n",
    "import numpy as np\n",
    "# import StringIO\n",
    "import math\n",
    "from keras import optimizers, metrics\n",
    "from keras.models import Model\n",
    "from keras.layers import Dense, Dropout, Input\n",
    "from keras.layers.merge import concatenate\n",
    "from keras import regularizers\n",
    "from keras.layers.convolutional import Conv1D\n",
    "from keras.layers.convolutional import MaxPooling1D\n",
    "from keras.constraints import maxnorm\n",
    "from keras.layers import Flatten\n",
    "from keras.optimizers import SGD\n",
    "from keras.models import load_model\n",
    "# from keras import backend as Input\n",
    "np.random.seed(7)"
   ]
  },
  {
   "cell_type": "code",
   "execution_count": 2,
   "metadata": {
    "collapsed": true
   },
   "outputs": [],
   "source": [
    "%run ../../../prepare_data.py\n",
    "\n",
    "import sys\n",
    "sys.path.insert(0, '../../../')\n",
    "from prepare_data import *"
   ]
  },
  {
   "cell_type": "code",
   "execution_count": 14,
   "metadata": {
    "collapsed": true
   },
   "outputs": [],
   "source": [
    "# %run ../../../prepare_data.py\n",
    "# X_train, X_other_features_train, y_train, X_test, X_other_features_test, y_test, X_validate, X_other_features_validate, y_validate = generate_syllable_inputs('../../internal_representations/inputs/content_shuffle_vector.h5', '../../internal_representations/inputs/shuffle_vector')\n",
    "# save_inputs('../../internal_representations/inputs/shuffeled_syllable_train_inputs.h5', X_train, y_train, other_features = X_other_features_train)\n",
    "# save_inputs('../../internal_representations/inputs/shuffeled_syllable_test_inputs.h5', X_test, y_test, other_features = X_other_features_test)\n",
    "# save_inputs('../../internal_representations/inputs/shuffeled_syllable_validate_inputs.h5', X_validate, y_validate,  other_features = X_other_features_validate)\n",
    "X_train, X_other_features_train, y_train = load_inputs('../../internal_representations/inputs/shuffeled_syllable_train_inputs.h5', other_features=True)\n",
    "X_test, X_other_features_test, y_test = load_inputs('../../internal_representations/inputs/shuffeled_syllable_test_inputs.h5', other_features=True)\n",
    "X_validate, X_other_features_validate, y_validate = load_inputs('../../internal_representations/inputs/shuffeled_syllable_validate_inputs.h5', other_features=True)\n",
    "\n",
    "syllable_letters_translator = create_syllable_letters_translator(max_syllable, syllable_dictionary, dictionary, vowels)"
   ]
  },
  {
   "cell_type": "code",
   "execution_count": 64,
   "metadata": {
    "collapsed": true
   },
   "outputs": [],
   "source": [
    "%run ../../../prepare_data.py\n",
    "gen = generate_fake_epoch_syllabled_letters(X_train[:20], X_other_features_train[:20], y_train[:20], 16, syllable_letters_translator)"
   ]
  },
  {
   "cell_type": "code",
   "execution_count": 66,
   "metadata": {},
   "outputs": [
    {
     "name": "stdout",
     "output_type": "stream",
     "text": [
      "(16, 11, 210)\n"
     ]
    },
    {
     "ename": "TypeError",
     "evalue": "'numpy.int64' object is not iterable",
     "output_type": "error",
     "traceback": [
      "\u001b[0;31m---------------------------------------------------------------------------\u001b[0m",
      "\u001b[0;31mTypeError\u001b[0m                                 Traceback (most recent call last)",
      "\u001b[0;32m<ipython-input-66-102af8fda9ec>\u001b[0m in \u001b[0;36m<module>\u001b[0;34m()\u001b[0m\n\u001b[1;32m      4\u001b[0m \u001b[0mprint\u001b[0m\u001b[0;34m(\u001b[0m\u001b[0mnp\u001b[0m\u001b[0;34m.\u001b[0m\u001b[0marray\u001b[0m\u001b[0;34m(\u001b[0m\u001b[0mtest\u001b[0m\u001b[0;34m[\u001b[0m\u001b[0;36m0\u001b[0m\u001b[0;34m]\u001b[0m\u001b[0;34m[\u001b[0m\u001b[0;36m0\u001b[0m\u001b[0;34m]\u001b[0m\u001b[0;34m)\u001b[0m\u001b[0;34m.\u001b[0m\u001b[0mshape\u001b[0m\u001b[0;34m)\u001b[0m\u001b[0;34m\u001b[0m\u001b[0m\n\u001b[1;32m      5\u001b[0m \u001b[0;32mfor\u001b[0m \u001b[0mel\u001b[0m \u001b[0;32min\u001b[0m \u001b[0mtest\u001b[0m\u001b[0;34m[\u001b[0m\u001b[0;36m0\u001b[0m\u001b[0;34m]\u001b[0m\u001b[0;34m[\u001b[0m\u001b[0;36m0\u001b[0m\u001b[0;34m]\u001b[0m\u001b[0;34m[\u001b[0m\u001b[0;36m0\u001b[0m\u001b[0;34m]\u001b[0m\u001b[0;34m:\u001b[0m\u001b[0;34m\u001b[0m\u001b[0m\n\u001b[0;32m----> 6\u001b[0;31m     \u001b[0mprint\u001b[0m\u001b[0;34m(\u001b[0m\u001b[0mdecode_input\u001b[0m\u001b[0;34m(\u001b[0m\u001b[0mel\u001b[0m\u001b[0;34m,\u001b[0m \u001b[0mdictionary\u001b[0m\u001b[0;34m)\u001b[0m\u001b[0;34m)\u001b[0m\u001b[0;34m\u001b[0m\u001b[0m\n\u001b[0m\u001b[1;32m      7\u001b[0m     \u001b[0mprint\u001b[0m\u001b[0;34m(\u001b[0m\u001b[0mel\u001b[0m\u001b[0;34m)\u001b[0m\u001b[0;34m\u001b[0m\u001b[0m\n\u001b[1;32m      8\u001b[0m \u001b[0;34m\u001b[0m\u001b[0m\n",
      "\u001b[0;32m~/Developement/accetuation/prepare_data.py\u001b[0m in \u001b[0;36mdecode_input\u001b[0;34m(word_encoded, dictionary)\u001b[0m\n\u001b[1;32m    635\u001b[0m     \u001b[0;32mfor\u001b[0m \u001b[0mel\u001b[0m \u001b[0;32min\u001b[0m \u001b[0mword_encoded\u001b[0m\u001b[0;34m:\u001b[0m\u001b[0;34m\u001b[0m\u001b[0m\n\u001b[1;32m    636\u001b[0m         \u001b[0mi\u001b[0m \u001b[0;34m=\u001b[0m \u001b[0;36m0\u001b[0m\u001b[0;34m\u001b[0m\u001b[0m\n\u001b[0;32m--> 637\u001b[0;31m         \u001b[0;32mfor\u001b[0m \u001b[0mnum\u001b[0m \u001b[0;32min\u001b[0m \u001b[0mel\u001b[0m\u001b[0;34m:\u001b[0m\u001b[0;34m\u001b[0m\u001b[0m\n\u001b[0m\u001b[1;32m    638\u001b[0m             \u001b[0;32mif\u001b[0m \u001b[0mnum\u001b[0m \u001b[0;34m==\u001b[0m \u001b[0;36m1\u001b[0m\u001b[0;34m:\u001b[0m\u001b[0;34m\u001b[0m\u001b[0m\n\u001b[1;32m    639\u001b[0m                 \u001b[0mword\u001b[0m \u001b[0;34m+=\u001b[0m \u001b[0mdictionary\u001b[0m\u001b[0;34m[\u001b[0m\u001b[0mi\u001b[0m\u001b[0;34m]\u001b[0m\u001b[0;34m\u001b[0m\u001b[0m\n",
      "\u001b[0;31mTypeError\u001b[0m: 'numpy.int64' object is not iterable"
     ]
    }
   ],
   "source": [
    "# prints test word from generator\n",
    "# print(X_train[0])\n",
    "# print(syllable_dictionary[test[0][0][0][0].tolist().index(1)])\n",
    "print(np.array(test[0][0]).shape)\n",
    "for el in test[0][0][0]:\n",
    "    print(decode_input(el, dictionary))\n",
    "    print(el)\n",
    "    \n",
    "#     print(syllable_dictionary[el.tolist().index(1)])"
   ]
  },
  {
   "cell_type": "code",
   "execution_count": 65,
   "metadata": {
    "collapsed": true
   },
   "outputs": [],
   "source": [
    "# print(X_train[0])\n",
    "test = next(gen)\n",
    "# eye = np.eye(5168)[X_train[0]]\n",
    "# print(X_train[0].tolist())\n",
    "# np.eye(5168)[[2, 1]]\n",
    "\n"
   ]
  },
  {
   "cell_type": "code",
   "execution_count": 123,
   "metadata": {},
   "outputs": [
    {
     "name": "stdout",
     "output_type": "stream",
     "text": [
      "(2, 5168)\n"
     ]
    }
   ],
   "source": [
    "np.eye(10)[[3,7,2,5]]\n",
    "print(eye[[2, 3]].shape)"
   ]
  },
  {
   "cell_type": "code",
   "execution_count": 11,
   "metadata": {},
   "outputs": [
    {
     "data": {
      "text/plain": [
       "(54222, 11)"
      ]
     },
     "execution_count": 11,
     "metadata": {},
     "output_type": "execute_result"
    }
   ],
   "source": [
    "X_validate.shape\n",
    "# len(syllable_dictionary)"
   ]
  },
  {
   "cell_type": "code",
   "execution_count": 5,
   "metadata": {},
   "outputs": [
    {
     "name": "stdout",
     "output_type": "stream",
     "text": [
      "5168\n",
      "CREATING OTHER FEATURES...\n",
      "OTHER FEATURES CREATED!\n",
      "SHUFFELING INPUTS...\n",
      "INPUTS SHUFFELED!\n"
     ]
    }
   ],
   "source": [
    "print(len(syllable_dictionary))\n",
    "shuffle_vector_location = '../../internal_representations/inputs/shuffle_vector'\n",
    "X_train, X_other_features_train, y_train = generate_syllable_X_and_y(syllable_dictionary, max_word, max_num_vowels, train_content, vowels, accetuated_vowels, feature_dictionary, shuffle_vector_location + '_train.h5')\n"
   ]
  },
  {
   "cell_type": "code",
   "execution_count": 13,
   "metadata": {},
   "outputs": [
    {
     "name": "stdout",
     "output_type": "stream",
     "text": [
      "[0 0 0 1 0 0 0 0 0 0 0 0 0 0 0 0 0 0 0 0 0 0 0 0 0 0 0 0 0 0 1 0 0 0 0 0 0\n",
      " 0 0 0 1 0 0 0 0 0 0 0 0 0 0 0 0 0 0 0 0 0 0 0 0 0 0 0 0 0 0 1 0 1 1 0 0 0\n",
      " 0 0 0 0 0 0 0 0 0 0 0 0 0 0 0 0 0 0 0 0 0 0 0 0 0 0 0 0 0 0 0 0 0 0 0 0 0\n",
      " 0 0 0 0 0 0 0 0 0 0 0 0 0 0 0 0 0 0 0 0 0 0 0 0 0 0 0 0 0 0 0 0 0 0 0 0 0\n",
      " 0 0 0 0 0 0 0 0 0 0 0 0 0 0 0 0 0 0 0 0 0 0 0 0 0 0 0 0 0 0 0 0 0 0 0 0 0\n",
      " 0 0 0 0 0 0 0 0 0 0 0 0 0 0 0 0 0 0 0 0 0 0 0 0 0 0 0 0 0 0 0 0 0 0 0 0 0\n",
      " 0 0 0 0 0 0 0 0 0 0 0 0 0 0 0 0 0 0 0 0 0 0 0 0 0 0 0 0 0 0]\n",
      "['', '-o', 'a', 'ab', 'ah', 'akt', 'al', 'alf', 'alg', 'alt', 'am', 'an', 'ant', 'ar', 'arh', 'as', 'at', 'av', 'ba', 'bab', 'bah', 'baj', 'bajt', 'bak', 'bal', 'bam', 'ban', 'banj', 'bank', 'bar', 'bark', 'barv', 'bas', 'bast', 'bat', 'bav', 'baz', 'bač', 'baš', 'baž', 'bde', 'bdel', 'bdet', 'bdeč', 'bdi', 'bdim', 'bdiš', 'be', 'bec', 'bed', 'beg', 'beh', 'bej', 'bek', 'bel', 'belc', 'belj', 'belk', 'bem', 'ben', 'benj', 'benk', 'bent', 'ber', 'bes', 'bet', 'bev', 'bez', 'beč', 'beš', 'bež', 'bi', 'bic', 'bih', 'bij', 'bik', 'bil', 'bilj', 'bilk', 'bim', 'bin', 'bir', 'bisk', 'bit', 'bitk', 'biv', 'bič', 'biš', 'bišč', 'bja', 'bjav', 'bje', 'bjej', 'bjekt', 'bjel', 'bjem', 'bjest', 'bjet', 'bješ', 'bji', 'bjih', 'bjim', 'bjo', 'bju', 'bla', 'blag', 'blah', 'blak', 'blam', 'blan', 'blast', 'blat', 'ble', 'bled', 'blej', 'blek', 'blem', 'blesk', 'blest', 'blet', 'bleč', 'bli', 'blic', 'blih', 'blij', 'blik', 'blil', 'blim', 'blin', 'blisk', 'blit', 'bliz', 'bliš', 'blišč', 'bliž', 'blja', 'bljah', 'bljaj', 'bljal', 'bljam', 'bljan', 'bljanj', 'bljat', 'bljav', 'bljaš', 'blje', 'bljem', 'bljen', 'bljenj', 'bljev', 'blješ', 'blji', 'bljih', 'bljim', 'bljiv', 'bljo', 'blju', 'bljub', 'bljuj', 'bljuv', 'blo', 'blod', 'blok', 'blom', 'blov', 'blu', 'bme', 'bmi', 'bmo', 'bmol', 'bmor', 'bna', 'bnaj', 'bnal', 'bnam', 'bnanj', 'bnat', 'bnaš', 'bne', 'bnej', 'bnel', 'bnem', 'bnenj', 'bnest', 'bnet', 'bneč', 'bneš', 'bnež', 'bni', 'bnic', 'bnih', 'bnik', 'bnil', 'bnim', 'bnin', 'bnit', 'bniš', 'bno', 'bnom', 'bnost', 'bnov', 'bnu', 'bo', 'bob', 'bod', 'bog', 'boj', 'bok', 'boks', 'bol', 'bolh', 'bolj', 'bolk', 'bom', 'bomb', 'bon', 'bor', 'borb', 'borz', 'bos', 'bost', 'bot', 'bov', 'boč', 'boš', 'br', 'bra', 'brad', 'bral', 'bram', 'bramb', 'bran', 'branj', 'brat', 'braz', 'brazb', 'brazd', 'brc', 'bre', 'bred', 'breg', 'breh', 'brem', 'bren', 'brest', 'brez', 'bri', 'brid', 'brih', 'brij', 'brik', 'bril', 'brim', 'brin', 'bris', 'brit', 'briv', 'briz', 'briš', 'brk', 'brn', 'bro', 'brok', 'brom', 'bron', 'brost', 'brot', 'brov', 'broz', 'brozg', 'broč', 'brošk', 'brt', 'bru', 'bruh', 'brun', 'brv', 'brz', 'brž', 'bsti', 'bu', 'bud', 'buh', 'buj', 'buk', 'bul', 'bum', 'bun', 'bup', 'bus', 'but', 'buč', 'bva', 'bve', 'bven', 'bvi', 'bvla', 'bvo', 'ca', 'cah', 'caj', 'cal', 'cam', 'can', 'canj', 'cap', 'car', 'cat', 'cav', 'caš', 'ce', 'ced', 'ceh', 'cej', 'cek', 'cel', 'celj', 'cem', 'cen', 'cenc', 'cent', 'cep', 'ceps', 'cept', 'cer', 'cert', 'ces', 'cest', 'cev', 'cevk', 'ci', 'cid', 'cih', 'cij', 'cilj', 'cim', 'cin', 'cip', 'cir', 'cist', 'ciz', 'cka', 'ckah', 'ckaj', 'ckal', 'ckam', 'ckan', 'ckanj', 'ckat', 'ckaš', 'cke', 'cki', 'ckih', 'cko', 'ckom', 'ckov', 'cku', 'clja', 'cljaj', 'cljal', 'cljam', 'cljat', 'cljav', 'cljaš', 'clje', 'cljem', 'cljev', 'clji', 'cljih', 'clju', 'cme', 'cmo', 'cmok', 'cna', 'cne', 'cnem', 'cneš', 'cni', 'cnih', 'cnil', 'cnim', 'cnit', 'cnje', 'cnjen', 'cno', 'co', 'coj', 'con', 'cr', 'cu', 'cuj', 'cul', 'cunj', 'cur', 'cva', 'cve', 'cvet', 'cvi', 'cvr', 'cvre', 'cvrem', 'cvret', 'cvreš', 'cvri', 'cvrl', 'cvroč', 'cvrt', 'da', 'dah', 'daj', 'dak', 'dal', 'dalj', 'dalk', 'dam', 'dan', 'danj', 'dank', 'dar', 'dard', 'dast', 'dat', 'dav', 'daš', 'de', 'dec', 'ded', 'deh', 'dej', 'dek', 'deks', 'del', 'delj', 'dem', 'den', 'denc', 'denj', 'dent', 'dentk', 'der', 'des', 'desk', 'det', 'dev', 'dez', 'deč', 'deš', 'dež', 'di', 'dic', 'dig', 'dih', 'dij', 'dik', 'dil', 'dim', 'din', 'dinj', 'dink', 'dir', 'dirk', 'disk', 'dist', 'dit', 'div', 'dič', 'diš', 'dišč', 'diž', 'dja', 'djah', 'djam', 'djar', 'dje', 'djem', 'djev', 'djez', 'dji', 'djih', 'djim', 'djo', 'dju', 'dla', 'dlag', 'dlak', 'dlan', 'dle', 'dlem', 'dlet', 'dleč', 'dlež', 'dli', 'dlih', 'dlim', 'dlin', 'dlja', 'dljah', 'dljaj', 'dljam', 'dlje', 'dljem', 'dljev', 'dlji', 'dljih', 'dljiv', 'dljivk', 'dljo', 'dlju', 'dlo', 'dlog', 'dlok', 'dlom', 'dloč', 'dločb', 'dlu', 'dma', 'dme', 'dmem', 'dmer', 'dmet', 'dmev', 'dmi', 'dmih', 'dmik', 'dmim', 'dmin', 'dmo', 'dmor', 'dmr', 'dmre', 'dmrem', 'dmret', 'dmreš', 'dmri', 'dmrl', 'dmrt', 'dna', 'dne', 'dneh', 'dnej', 'dnem', 'dnest', 'dneš', 'dnež', 'dni', 'dnic', 'dnih', 'dnik', 'dnil', 'dnim', 'dnin', 'dnit', 'dnja', 'dnjah', 'dnjak', 'dnjam', 'dnjav', 'dnje', 'dnjem', 'dnjev', 'dnji', 'dnjic', 'dnjih', 'dnjik', 'dnjim', 'dnjič', 'dnjo', 'dnju', 'dno', 'dnom', 'dnos', 'dnost', 'dnot', 'dnov', 'dnu', 'do', 'dob', 'dod', 'doj', 'dojk', 'dol', 'dolbst', 'dolg', 'dom', 'don', 'dont', 'dor', 'dost', 'dot', 'dov', 'doz', 'doč', 'dr', 'dra', 'drag', 'drah', 'draj', 'dral', 'dram', 'dran', 'dranj', 'dras', 'drast', 'drat', 'drav', 'draz', 'draš', 'dre', 'dred', 'dredb', 'dreg', 'drej', 'drek', 'drel', 'drem', 'dren', 'dres', 'dret', 'dreč', 'dreš', 'drg', 'dri', 'dric', 'drid', 'drih', 'drij', 'dril', 'drim', 'drin', 'drisk', 'drit', 'driv', 'driš', 'drišč', 'drl', 'dro', 'drob', 'drog', 'drom', 'drost', 'drov', 'droz', 'drozg', 'drt', 'dru', 'drug', 'druj', 'druž', 'družb', 'drv', 'drž', 'dska', 'dske', 'dskem', 'dski', 'dskih', 'dskim', 'dsko', 'du', 'dud', 'duh', 'duj', 'duk', 'dukt', 'dum', 'dur', 'dut', 'duš', 'dva', 'dvaj', 'dve', 'dveh', 'dvest', 'dveč', 'dvi', 'dvic', 'dvig', 'dvij', 'dvil', 'dvit', 'dvič', 'dvla', 'dvlad', 'dvle', 'dvleč', 'dvo', 'dvoj', 'dvom', 'dvor', 'dvoz', 'dvr', 'dvra', 'dvre', 'dvreč', 'dvrst', 'dža', 'džun', 'e', 'ef', 'el', 'em', 'en', 'ent', 'entk', 'er', 'et', 'ev', 'fa', 'fag', 'fah', 'faj', 'fal', 'fam', 'fan', 'fanj', 'fant', 'far', 'farkt', 'farm', 'fat', 'faz', 'faš', 'fe', 'fekt', 'fen', 'fer', 'fev', 'fi', 'fih', 'fij', 'fil', 'film', 'fin', 'firm', 'fit', 'fje', 'flav', 'flavt', 'fle', 'fleks', 'fli', 'flikt', 'flo', 'flot', 'fne', 'fnem', 'fneš', 'fni', 'fnil', 'fnit', 'fo', 'fol', 'fom', 'fon', 'fond', 'for', 'form', 'fov', 'fr', 'fra', 'frah', 'fraj', 'frak', 'fral', 'fram', 'fran', 'frank', 'frat', 'fraz', 'frač', 'fraš', 'fre', 'fresk', 'fri', 'fro', 'fron', 'front', 'fska', 'fske', 'fskem', 'fski', 'fskih', 'fskim', 'fsko', 'fta', 'ftar', 'fte', 'fti', 'fto', 'fu', 'fug', 'fum', 'fun', 'funt', 'fut', 'ga', 'ga_', 'gad', 'gah', 'gaj', 'gajn', 'gal', 'galk', 'gam', 'gan', 'gand', 'ganj', 'gank', 'gar', 'gar_', 'garn', 'gast', 'gat', 'gav', 'gač', 'gaš', 'ge', 'geh', 'gej', 'gel', 'gelc', 'gelj', 'gem', 'gen', 'genc', 'gend', 'genj', 'gent', 'gentk', 'ger', 'gest', 'get', 'geš', 'gi', 'gib', 'gic', 'gih', 'gij', 'gik', 'gim', 'gin', 'ginj', 'gič', 'gišč', 'gje', 'gla', 'glad', 'glah', 'glam', 'glar', 'glas', 'glasb', 'glast', 'glat', 'glav', 'gle', 'gled', 'glej', 'glem', 'glen', 'gler', 'gleč', 'gli', 'glic', 'glih', 'glil', 'glim', 'glit', 'gliš', 'glja', 'gljaj', 'gljal', 'gljam', 'gljanj', 'gljat', 'gljaš', 'glje', 'gljem', 'gljen', 'gljev', 'glji', 'gljih', 'gljiv', 'glju', 'glo', 'glom', 'glost', 'glov', 'glu', 'gluh', 'gma', 'gmajn', 'gmen', 'gment', 'gmi', 'gmo', 'gmot', 'gna', 'gnal', 'gnan', 'gnanj', 'gnat', 'gne', 'gnem', 'gnest', 'gnet', 'gnev', 'gnez', 'gnezd', 'gneč', 'gneš', 'gni', 'gnih', 'gnij', 'gnil', 'gnin', 'gnit', 'gnja', 'gnjat', 'gnje', 'gnjem', 'gnjen', 'gnjenj', 'gnjev', 'gnji', 'gnjih', 'gnjišč', 'gnju', 'gno', 'gnoj', 'gnom', 'gnov', 'gnoz', 'gnu', 'gnus', 'go', 'gob', 'god', 'godb', 'goj', 'gol', 'golt', 'gom', 'gon', 'gonj', 'gor', 'gos', 'gost', 'got', 'gov', 'govk', 'goz', 'gozd', 'goč', 'gr', 'gra', 'grad', 'graf', 'grah', 'graj', 'gral', 'gralk', 'gram', 'gran', 'granj', 'grat', 'grač', 'gračk', 'graš', 'grb', 'grd', 'gre', 'greb', 'grebst', 'gred', 'greh', 'grej', 'grel', 'grem', 'gren', 'gres', 'gret', 'greš', 'gri', 'gric', 'grih', 'grist', 'griv', 'griz', 'grič', 'grišč', 'grl', 'grm', 'gro', 'grob', 'grof', 'grom', 'grov', 'groz', 'grozd', 'groš', 'gru', 'grup', 'gruč', 'grušč', 'gu', 'gub', 'guj', 'gulj', 'gum', 'gumb', 'gun', 'gunk', 'gur', 'gurt', 'gust', 'gve', 'gvi', 'gča', 'gčas', 'h', 'ha', 'hah', 'haj', 'hak', 'hal', 'halj', 'ham', 'han', 'hanj', 'har', 'hast', 'hat', 'hav', 'hač', 'haš', 'he', 'hej', 'hek', 'hel', 'helj', 'hem', 'hen', 'her', 'het', 'hi', 'hib', 'hih', 'hij', 'him', 'hinj', 'hip', 'hit', 'hiv', 'hiš', 'hišk', 'hka', 'hke', 'hkej', 'hkem', 'hki', 'hkih', 'hkim', 'hko', 'hkom', 'hkot', 'hkov', 'hkra', 'hku', 'hla', 'hlad', 'hlap', 'hlač', 'hlačk', 'hle', 'hleb', 'hlej', 'hlem', 'hlep', 'hlev', 'hli', 'hlih', 'hlim', 'hlin', 'hlja', 'hljaj', 'hljal', 'hljam', 'hljan', 'hljanj', 'hljat', 'hljaš', 'hlje', 'hljem', 'hljev', 'hlji', 'hljih', 'hljiv', 'hlju', 'hlo', 'hlod', 'hlost', 'hna', 'hne', 'hnej', 'hnel', 'hnem', 'hnenj', 'hnet', 'hneč', 'hneš', 'hni', 'hnih', 'hnik', 'hnil', 'hnim', 'hnit', 'hniš', 'hnja', 'hnje', 'hnjem', 'hnjen', 'hnji', 'hnjih', 'hnjim', 'hnjo', 'hno', 'hnost', 'ho', 'hod', 'hoj', 'hol', 'hom', 'hor', 'hord', 'host', 'hot', 'hov', 'hr', 'hra', 'hrah', 'hraj', 'hral', 'hram', 'hramb', 'hran', 'hrast', 'hrat', 'hrav', 'hraš', 'hrb', 'hre', 'hri', 'hrib', 'hro', 'hropst', 'hrošč', 'hru', 'hrum', 'hrup', 'hrušk', 'hta', 'htah', 'htaj', 'htal', 'htam', 'htan', 'htat', 'htaš', 'hte', 'htel', 'hten', 'htenj', 'htet', 'htev', 'hteč', 'hti', 'htih', 'htim', 'htiš', 'htlji', 'htljiv', 'htna', 'htne', 'htnej', 'htnem', 'htni', 'htnic', 'htnih', 'htnim', 'htno', 'hto', 'htom', 'hton', 'htov', 'htu', 'hu', 'hud', 'huj', 'hun', 'hunk', 'hur', 'hva', 'hval', 'hča', 'hčaj', 'hčal', 'hčam', 'hčan', 'hčat', 'hčaš', 'hče', 'hčer', 'hčerk', 'hči', 'i', 'ih', 'ik', 'im', 'in', 'ir', 'ist', 'it', 'iz', 'izb', 'izv', 'ja', 'jab', 'jah', 'jaht', 'jaj', 'jajc', 'jak', 'jal', 'jalk', 'jam', 'jan', 'janj', 'jant', 'jar', 'jas', 'jast', 'jat', 'jav', 'javk', 'jaz', 'jač', 'jaš', 'je', 'jec', 'jed', 'jej', 'jek', 'jekt', 'jel', 'jem', 'jen', 'jenj', 'jer', 'jes', 'jest', 'jet', 'jev', 'jevk', 'jez', 'ječ', 'ješ', 'jež', 'ji', 'jic', 'jih', 'jil', 'jim', 'jin', 'jit', 'jiv', 'jiz', 'jiš', 'jišč', 'jla', 'jle', 'jli', 'jlih', 'jlji', 'jljiv', 'jlju', 'jljub', 'jlo', 'jlom', 'jlov', 'jlu', 'jma', 'jmah', 'jmam', 'jmanj', 'jme', 'jmem', 'jmeš', 'jmi', 'jmih', 'jmlaj', 'jmlji', 'jmljiv', 'jmo', 'jmom', 'jmov', 'jmra', 'jmu', 'jmuj', 'jna', 'jnah', 'jnam', 'jne', 'jnej', 'jnem', 'jni', 'jnic', 'jnih', 'jnik', 'jnim', 'jnja', 'jnje', 'jnjem', 'jnji', 'jnjih', 'jnjim', 'jnjo', 'jno', 'jnost', 'jnu', 'jo', 'job', 'jod', 'jok', 'jon', 'jonk', 'jor', 'joč', 'jra', 'jraj', 'jraz', 'jre', 'jred', 'jrez', 'jro', 'ju', 'jug', 'juh', 'juj', 'jut', 'jva', 'jve', 'jveč', 'jvi', 'jvlju', 'jvo', 'jvod', 'jvre', 'k', 'ka', 'kad', 'kah', 'kaj', 'kak', 'kal', 'kam', 'kan', 'kanj', 'kant', 'kap', 'kar', 'kar_', 'karn', 'kart', 'kast', 'kat', 'kav', 'kaz', 'kač', 'kaš', 'kašč', 'kca', 'kce', 'kcem', 'kcev', 'kci', 'kcih', 'kcij', 'kcu', 'kdaj', 'kdo', 'kdor', 'kdor_', 'ke', 'kec', 'kej', 'kel', 'kelj', 'kem', 'ken', 'kenj', 'kenk', 'kep', 'ker', 'ket', 'kev', 'ki', 'kic', 'kih', 'kij', 'kil', 'kim', 'kin', 'kinj', 'kip', 'kir', 'kis', 'kit', 'kič', 'kje', 'kjer', 'kla', 'klad', 'klah', 'klal', 'klam', 'klan', 'klanj', 'klat', 'klav', 'kle', 'klel', 'klem', 'klen', 'klep', 'kler', 'klet', 'kletk', 'klešč', 'kli', 'klic', 'klid', 'klih', 'klil', 'klim', 'klin', 'klit', 'kliš', 'klja', 'kljah', 'kljaj', 'kljal', 'kljam', 'kljan', 'kljat', 'kljaš', 'klje', 'kljen', 'klji', 'kljiv', 'kljo', 'klju', 'kljub', 'kljub_', 'kljuj', 'kljuk', 'kljun', 'ključ', 'klo', 'klob', 'klom', 'klon', 'klop', 'klor', 'klost', 'klov', 'klu', 'klub', 'klus', 'kma', 'kmah', 'kmam', 'kme', 'kmec', 'kmet', 'kmi', 'kmo', 'kmu', 'kmuj', 'kna', 'knast', 'kne', 'knem', 'knez', 'kneš', 'kni', 'knih', 'knil', 'knit', 'knja', 'knjah', 'knjaj', 'knjal', 'knjam', 'knjan', 'knjast', 'knjat', 'knjaš', 'knje', 'knjen', 'knji', 'knjic', 'knjig', 'knjič', 'knjo', 'kno', 'knom', 'knu', 'ko', 'kob', 'kock', 'kod', 'koj', 'kok', 'kol', 'kolk', 'kom', 'kon', 'konj', 'kop', 'kor', 'kos', 'kost', 'kot', 'kov', 'koz', 'koč', 'koš', 'kož', 'kr', 'kra', 'kraj', 'kralj', 'kram', 'kran', 'kranj', 'kras', 'krast', 'krat', 'krav', 'kre', 'kred', 'krem', 'krep', 'kres', 'kret', 'krev', 'kreč', 'kri', 'krih', 'krij', 'krik', 'kril', 'krilc', 'krim', 'krin', 'krink', 'krit', 'kriv', 'krivd', 'kriz', 'kriš', 'križ', 'krm', 'krn', 'kro', 'krog', 'kroj', 'krom', 'kron', 'krot', 'krov', 'krp', 'krst', 'kru', 'kruh', 'krut', 'krč', 'ksa', 'ksah', 'ksaj', 'ksal', 'ksam', 'ksar', 'ksat', 'ksaš', 'kse', 'ksen', 'ksi', 'ksih', 'ksist', 'kskur', 'ksna', 'ksne', 'ksnej', 'ksnem', 'ksni', 'ksnih', 'ksnim', 'ksno', 'kso', 'ksom', 'ksov', 'kspe', 'ksper', 'kspert', 'ksplo', 'ksta', 'kstaz', 'kste', 'ksti', 'kstih', 'ksto', 'kstom', 'kstov', 'kstra', 'kstu', 'ksu', 'kta', 'ktah', 'ktam', 'ktar', 'kte', 'kten', 'kter', 'ktet', 'kti', 'ktih', 'ktik', 'ktin', 'ktiv', 'ktka', 'ktkah', 'ktkam', 'ktke', 'ktki', 'ktko', 'ktna', 'ktne', 'ktnej', 'ktnem', 'ktni', 'ktnih', 'ktnim', 'ktno', 'kto', 'ktom', 'ktor', 'ktov', 'ktovk', 'ktra', 'ktrarn', 'ktre', 'ktren', 'ktri', 'ktrih', 'ktrik', 'ktril', 'ktrim', 'ktrin', 'ktrit', 'ktriš', 'ktro', 'ktrom', 'ktron', 'ktrov', 'ktru', 'ktu', 'ktur', 'ku', 'kug', 'kuj', 'kul', 'kult', 'kun', 'kund', 'kup', 'kur', 'kus', 'kuž', 'kužb', 'kva', 'kvah', 'kvam', 'kvar', 'kve', 'kvek', 'kven', 'kvenc', 'kvi', 'kvic', 'kvir', 'kvo', 'kvot', 'kšen', 'kšna', 'kšne', 'kšnem', 'kšni', 'kšnih', 'kšnim', 'kšno', 'la', 'lad', 'lag', 'lah', 'laj', 'lajn', 'lal', 'lam', 'lan', 'lanc', 'lanj', 'lant', 'lar', 'larm', 'las', 'lask', 'last', 'lat', 'lav', 'laz', 'lač', 'laš', 'lašč', 'laž', 'lažb', 'le', 'le-', 'leb', 'lec', 'led', 'leg', 'leh', 'lej', 'lek', 'lel', 'lem', 'len', 'lenj', 'lent', 'lep', 'lepk', 'ler', 'les', 'lesc', 'lest', 'let', 'lev', 'lez', 'leč', 'lež', 'ležb', 'ležk', 'li', 'lib', 'lic', 'lid', 'lig', 'lih', 'lij', 'lik', 'lil', 'lim', 'lin', 'ling', 'lip', 'lir', 'lis', 'lisk', 'list', 'lit', 'liv', 'liz', 'lič', 'liš', 'lišč', 'lja', 'ljah', 'ljaj', 'ljak', 'ljal', 'ljam', 'ljan', 'ljanj', 'ljar', 'ljat', 'ljav', 'ljaš', 'lje', 'ljec', 'ljek', 'ljem', 'ljen', 'ljenj', 'ljenk', 'ljes', 'ljev', 'lječ', 'lješ', 'lji', 'ljic', 'ljih', 'ljil', 'ljim', 'ljit', 'ljiv', 'ljivk', 'ljiš', 'ljišč', 'ljna', 'ljnat', 'ljne', 'ljnej', 'ljnem', 'ljnež', 'ljni', 'ljnih', 'ljnik', 'ljnim', 'ljnja', 'ljnje', 'ljnjem', 'ljnji', 'ljnjih', 'ljnjim', 'ljnjo', 'ljno', 'ljnom', 'ljnost', 'ljnov', 'ljnu', 'ljo', 'ljon', 'ljot', 'ljoč', 'lju', 'ljub', 'ljud', 'ljuf', 'ljuj', 'ljust', 'lma', 'lmah', 'lmam', 'lmač', 'lme', 'lmen', 'lmi', 'lmih', 'lmin', 'lmo', 'lmom', 'lmov', 'lmra', 'lmrak', 'lmu', 'lmun', 'lna', 'lnah', 'lnam', 'lnat', 'lne', 'lnej', 'lnem', 'lneč', 'lneš', 'lnež', 'lni', 'lnic', 'lnih', 'lnik', 'lnil', 'lnim', 'lnin', 'lnit', 'lniš', 'lnje', 'lnjen', 'lnju', 'lnjuj', 'lno', 'lnom', 'lnost', 'lnov', 'lnoč', 'lnu', 'lo', 'lob', 'lod', 'log', 'loj', 'lok', 'lom', 'lon', 'lop', 'lor', 'lord', 'los', 'lost', 'lot', 'lov', 'lovk', 'loč', 'ločb', 'lož', 'ložb', 'lre', 'lu', 'lub', 'luh', 'luj', 'lun', 'lup', 'lur', 'lutk', 'luč', 'lučk', 'luž', 'lva', 'lvah', 'lvam', 'lve', 'lvi', 'lvo', 'lywo', 'ma', 'ma_', 'mad', 'mah', 'maj', 'mak', 'mal', 'malh', 'malk', 'malt', 'mam', 'man', 'mand', 'manj', 'mant', 'mar', 'mark', 'mas', 'mask', 'mast', 'mat', 'maz', 'mač', 'mačk', 'maš', 'me', 'mec', 'med', 'meh', 'mej', 'mek', 'mel', 'melj', 'mem', 'memb', 'men', 'menj', 'ment', 'mer', 'mer_', 'mest', 'met', 'mez', 'meč', 'meš', 'mež', 'mi', 'mi_', 'mic', 'mid', 'mig', 'mih', 'mij', 'mik', 'mil', 'milj', 'mim', 'min', 'mir', 'mis', 'mist', 'mit', 'miv', 'miz', 'mič', 'mičk', 'miš', 'mja', 'mje', 'mjem', 'mji', 'mjih', 'mju', 'mla', 'mlad', 'mlaj', 'mlak', 'mle', 'mlel', 'mlet', 'mli', 'mlin', 'mlja', 'mljah', 'mljaj', 'mljal', 'mljam', 'mljanj', 'mljat', 'mljaš', 'mlje', 'mljem', 'mljen', 'mljenj', 'mlješ', 'mlji', 'mljih', 'mljiv', 'mljišč', 'mljo', 'mlju', 'mna', 'mnah', 'mnaj', 'mnajst', 'mnam', 'mnat', 'mne', 'mnej', 'mnel', 'mnem', 'mnenj', 'mnet', 'mnev', 'mnez', 'mneč', 'mnež', 'mni', 'mnic', 'mnih', 'mnik', 'mnil', 'mnim', 'mnin', 'mnit', 'mniš', 'mnja', 'mnje', 'mnjem', 'mnjen', 'mnjenj', 'mnjev', 'mnji', 'mnjih', 'mnju', 'mno', 'mnog', 'mnom', 'mnost', 'mnov', 'mnu', 'mo', 'mod', 'mog', 'moj', 'mol', 'molk', 'molst', 'mom', 'mon', 'mor', 'most', 'mot', 'mov', 'moz', 'moč', 'mošt', 'mož', 'mr', 'mra', 'mraj', 'mrak', 'mral', 'mram', 'mran', 'mranj', 'mrat', 'mraz', 'mraš', 'mre', 'mrem', 'mren', 'mret', 'mreč', 'mreš', 'mrež', 'mri', 'mrk', 'mrl', 'mu', 'mu_', 'mud', 'muh', 'muj', 'muk', 'mul', 'mum', 'mun', 'mur', 'mur_', 'mut', 'mva', 'mvaj', 'mveč', 'na', 'na_', 'nad', 'nadv', 'nag', 'nah', 'naj', 'najd', 'najdb', 'najst', 'najt', 'najv', 'najz', 'nak', 'nal', 'nam', 'nan', 'nanc', 'nanj', 'nar', 'narh', 'narn', 'nas', 'nast', 'nat', 'nav', 'navz', 'naz', 'nač', 'načb', 'naš', 'ne', 'neb', 'nec', 'neg', 'neh', 'nej', 'nek', 'nel', 'nem', 'nen', 'nenj', 'nent', 'ner', 'nes', 'nest', 'net', 'nev', 'nevz', 'nez', 'neč', 'neš', 'než', 'ni', 'nic', 'nih', 'nij', 'nik', 'nil', 'nilk', 'nim', 'nimf', 'nin', 'ning', 'nir', 'nis', 'nist', 'nit', 'nitk', 'niz', 'nič', 'ničk', 'niš', 'nišč', 'nja', 'njah', 'njaj', 'njak', 'njal', 'njam', 'njan', 'njanj', 'njast', 'njat', 'njav', 'njač', 'njaš', 'nje', 'njec', 'njej', 'njem', 'njen', 'njenj', 'njev', 'njevk', 'nješ', 'nji', 'njic', 'njih', 'njik', 'njim', 'njiv', 'njo', 'njost', 'nju', 'njuj', 'njun', 'njvre', 'nlji', 'nljiv', 'nma', 'nmi', 'no', 'nob', 'nog', 'noht', 'noj', 'nom', 'nor', 'norm', 'nos', 'nost', 'not', 'nov', 'noč', 'noš', 'nož', 'nra', 'nu', 'nud', 'nudb', 'nuh', 'nuj', 'nul', 'nun', 'nut', 'nva', 'nvah', 'nvam', 'nve', 'nven', 'nvi', 'o', 'ob', 'od', 'odv', 'oh', 'ol', 'olj', 'om', 'on', 'or', 'os', 'ost', 'ot', 'ov', 'ovc', 'oz', 'ož', 'pa', 'pad', 'pah', 'paj', 'pak', 'pakt', 'pal', 'palk', 'palm', 'pam', 'pan', 'panj', 'par', 'park', 'pas', 'past', 'pat', 'pav', 'paz', 'pazk', 'pač', 'paš', 'paž', 'pca', 'pce', 'pcem', 'pcev', 'pci', 'pcih', 'pcij', 'pcu', 'pe', 'pec', 'ped', 'peg', 'peh', 'pek', 'pel', 'pelj', 'pem', 'pen', 'penj', 'penk', 'per', 'pes', 'pest', 'pet', 'pev', 'pevk', 'pevt', 'peč', 'peš', 'pež', 'pi', 'pic', 'pih', 'pij', 'pik', 'pil', 'pim', 'pin', 'pinj', 'pip', 'pir', 'pis', 'pisk', 'pit', 'piv', 'pič', 'piš', 'pja', 'pje', 'pjem', 'pji', 'pjih', 'pjo', 'pju', 'pka', 'pkah', 'pkam', 'pkast', 'pke', 'pkej', 'pkem', 'pki', 'pkih', 'pkim', 'pko', 'pkom', 'pkov', 'pku', 'pla', 'plah', 'plaj', 'plal', 'plam', 'plan', 'plast', 'plat', 'plav', 'plavz', 'plaz', 'plač', 'plaš', 'plašč', 'plaž', 'ple', 'plej', 'pleks', 'plem', 'plen', 'ples', 'plest', 'plet', 'plev', 'pleč', 'pleš', 'pli', 'plih', 'plim', 'plin', 'plja', 'pljah', 'pljaj', 'pljal', 'pljam', 'pljanj', 'pljat', 'pljač', 'pljaš', 'plje', 'pljem', 'pljen', 'pljenj', 'pljev', 'plješ', 'plji', 'pljic', 'pljih', 'pljiv', 'pljo', 'plju', 'pljuj', 'pljun', 'pljusk', 'pljuč', 'plo', 'plod', 'ploh', 'plom', 'plosk', 'plot', 'plov', 'plovb', 'plošč', 'plu', 'plug', 'pluj', 'plul', 'plut', 'pmi', 'pna', 'pne', 'pnej', 'pnel', 'pnem', 'pnet', 'pneč', 'pneš', 'pni', 'pnic', 'pnih', 'pnik', 'pnil', 'pnim', 'pnin', 'pnit', 'pniš', 'pnišč', 'pnja', 'pnjah', 'pnjam', 'pnje', 'pnjen', 'pnji', 'pnjo', 'pnju', 'pnjuj', 'pno', 'pnom', 'pnost', 'pnu', 'po', 'pod', 'poj', 'pok', 'pol', 'polj', 'polk', 'poln', 'polt', 'polž', 'pom', 'pomb', 'pon', 'ponj', 'pop', 'por', 'post', 'pot', 'potk', 'pov', 'povz', 'poz', 'pošt', 'pož', 'pr', 'pra', 'prag', 'prah', 'praks', 'pral', 'pran', 'pranj', 'prask', 'prat', 'prav', 'praz', 'pre', 'pred', 'predv', 'prej', 'prek', 'prem', 'prest', 'pret', 'prev', 'prevz', 'prez', 'prečk', 'preš', 'prež', 'pri', 'prid', 'prih', 'pril', 'prin', 'princ', 'prit', 'priv', 'privz', 'prič', 'priž', 'prl', 'prn', 'pro', 'prod', 'prog', 'prom', 'prost', 'prot', 'prov', 'proč', 'prst', 'prt', 'pru', 'pručk', 'psa', 'pse', 'psev', 'psi', 'psih', 'pska', 'pske', 'pskem', 'pski', 'pskih', 'pskim', 'psko', 'pso', 'psom', 'psov', 'psovk', 'pstev', 'psti', 'pstva', 'pstvi', 'pstvih', 'pstvo', 'pstvom', 'pstvu', 'psu', 'psul', 'pta', 'ptaj', 'ptal', 'ptam', 'ptan', 'ptat', 'ptaš', 'pte', 'ptem', 'pter', 'pti', 'ptic', 'ptih', 'ptik', 'ptič', 'pto', 'ptom', 'ptov', 'ptu', 'ptuj', 'pu', 'puc', 'puh', 'puj', 'pul', 'pult', 'pulz', 'pun', 'punc', 'punčk', 'pus', 'pust', 'put', 'pušk', 'pušč', 'pča', 'pčaj', 'pčal', 'pčam', 'pčan', 'pčat', 'pčaš', 'pče', 'pček', 'pčev', 'pči', 'pčij', 'pčka', 'pčke', 'pčki', 'pčkih', 'pčko', 'pčkom', 'pčkov', 'pčku', 'pčno', 'pčnost', 'pču', 'pčuj', 'pša', 'pšaj', 'pšal', 'pšam', 'pšan', 'pšat', 'pšaš', 'pše', 'pšem', 'pši', 'pših', 'pšim', 'pšo', 'pšu', 'pšuj', 'pšči', 'pščin', 'r', 'ra', 'ra_', 'rab', 'rac', 'rad', 'rah', 'raj', 'rajn', 'rak', 'ral', 'ralk', 'ram', 'ran', 'rand', 'ranj', 'rank', 'rant', 'ranč', 'ranž', 'rar', 'ras', 'rast', 'rat', 'rav', 'raz', 'razv', 'rač', 'raš', 'raž', 're', 're_', 'rec', 'red', 'redb', 'reh', 'rej', 'rek', 'rel', 'rem', 'rem_', 'ren', 'renc', 'renj', 'rent', 'rentk', 'rep', 'res', 'ret', 'retk', 'rev', 'rez', 'reč', 'reš', 'rež', 'ri', 'ri_', 'rib', 'ric', 'rif', 'rig', 'rih', 'rih_', 'rij', 'rik', 'ril', 'rilk', 'rim', 'rim_', 'rin', 'ring', 'rint', 'rir', 'ris', 'risb', 'rist', 'rit', 'riv', 'rič', 'riš', 'rišč', 'riž', 'rja', 'rjad', 'rjah', 'rjaj', 'rjak', 'rjal', 'rjam', 'rjan', 'rjanj', 'rjast', 'rjat', 'rjav', 'rjaš', 'rje', 'rjel', 'rjem', 'rjen', 'rjenj', 'rjet', 'rjev', 'rješ', 'rji', 'rjih', 'rjo', 'rju', 'rjuj', 'rla', 'rlan', 'rle', 'rlem', 'rli', 'rlih', 'rlja', 'rljaj', 'rljal', 'rljam', 'rljat', 'rljaš', 'rlji', 'rljiv', 'rlo', 'rlom', 'rlov', 'rlu', 'rma', 'rmad', 'rmah', 'rmam', 'rman', 'rmat', 'rme', 'rmen', 'rmi', 'rmih', 'rmij', 'rmil', 'rmim', 'rmin', 'rmit', 'rmiš', 'rmlje', 'rmljen', 'rmna', 'rmne', 'rmnem', 'rmni', 'rmnih', 'rmnim', 'rmno', 'rmnost', 'rmo', 'rmom', 'rmon', 'rmov', 'rmu', 'rmul', 'rna', 'rnah', 'rnaj', 'rnal', 'rnam', 'rnar', 'rnat', 'rnaš', 'rne', 'rnej', 'rnem', 'rni', 'rnic', 'rnih', 'rnij', 'rnik', 'rnim', 'rnin', 'rnist', 'rnja', 'rnjak', 'rnje', 'rnjem', 'rnjev', 'rnji', 'rnjih', 'rnjim', 'rnjo', 'rnju', 'rno', 'rnost', 'ro', 'ro_', 'rob', 'rod', 'rog', 'roj', 'rok', 'rokb', 'rol', 'rom', 'ron', 'rop', 'ror', 'ros', 'rost', 'rot', 'rov', 'roz', 'roč', 'rož', 'rt', 'ru', 'ruh', 'ruj', 'rum', 'rur', 'rurg', 'rus', 'rut', 'ruš', 'rva', 'rvah', 'rvaj', 'rval', 'rvam', 'rvan', 'rvans', 'rvast', 'rvat', 'rvaš', 'rve', 'rven', 'rver', 'rveč', 'rvi', 'rvil', 'rvit', 'rvju', 'rvna', 'rvne', 'rvnem', 'rvni', 'rvnih', 'rvnim', 'rvno', 'rvo', 'rvoz', 's', 'sa', 'sad', 'sadk', 'sag', 'sah', 'saj', 'sak', 'sal', 'salk', 'sam', 'san', 'sanj', 'sank', 'sap', 'sar', 'sar_', 'sark', 'sarn', 'sast', 'sat', 'sav', 'sač', 'saš', 'saž', 'sca', 'sce', 'scem', 'scen', 'scev', 'sci', 'scih', 'scit', 'scu', 'scvr', 'scvre', 'scvrem', 'scvret', 'scvreš', 'scvri', 'scvrl', 'scvrt', 'se', 'seb', 'sec', 'sed', 'sedb', 'seg', 'seh', 'sej', 'sek', 'sekt', 'sel', 'selj', 'seln', 'sem', 'sen', 'senc', 'senj', 'sent', 'ser', 'ses', 'sesk', 'sest', 'set', 'sev', 'sez', 'seč', 'seš', 'sež', 'sfal', 'sfalt', 'sfe', 'sfer', 'sfin', 'sfing', 'sfo', 'sfor', 'sha', 'shi', 'shla', 'sho', 'shod', 'shra', 'shram', 'shramb', 'shuj', 'si', 'sic', 'sign', 'sih', 'sij', 'sik', 'sil', 'silk', 'sim', 'sin', 'sip', 'sir', 'sit', 'siv', 'siš', 'sja', 'sjak', 'sje', 'sjem', 'sji', 'sjih', 'sjim', 'sjo', 'sju', 'ska', 'skah', 'skaj', 'skal', 'skam', 'skan', 'skanj', 'skar', 'skarn', 'skast', 'skat', 'skav', 'skavt', 'skač', 'skaš', 'ske', 'skem', 'sken', 'sket', 'skev', 'ski', 'skic', 'skih', 'skim', 'skin', 'skla', 'sklad', 'sklan', 'skle', 'sklep', 'skli', 'sklju', 'sklo', 'sklon', 'sklop', 'skna', 'skne', 'sknem', 'skneš', 'skni', 'sknih', 'sknil', 'sknim', 'sknit', 'skno', 'sko', 'skok', 'skom', 'skon', 'skop', 'skost', 'skov', 'skovk', 'skoz', 'skr', 'skra', 'skraj', 'skrb', 'skre', 'skrem', 'skren', 'skreč', 'skri', 'skrij', 'skril', 'skrim', 'skrinj', 'skrit', 'skriš', 'skro', 'skru', 'skrun', 'sku', 'skuj', 'skup', 'skus', 'skva', 'skvah', 'skvam', 'skve', 'skvi', 'sla', 'slab', 'slad', 'slaj', 'slal', 'slam', 'slan', 'slanj', 'slank', 'slap', 'slat', 'slav', 'slač', 'slaš', 'sle', 'slec', 'sled', 'slej', 'slek', 'slem', 'slen', 'slep', 'sleč', 'sli', 'slic', 'slih', 'slik', 'slil', 'slim', 'slin', 'slit', 'sliš', 'slja', 'sljaj', 'slji', 'sljiv', 'slo', 'slog', 'sloj', 'slok', 'slom', 'slon', 'slov', 'slu', 'slug', 'sluh', 'sluj', 'sluz', 'služ', 'služb', 'sma', 'smah', 'smam', 'sman', 'smat', 'sme', 'smeh', 'smej', 'smel', 'smem', 'smen', 'smer', 'smet', 'smeš', 'smi', 'smic', 'smih', 'smim', 'smo', 'smol', 'smom', 'smov', 'smr', 'smra', 'smrad', 'smre', 'smrek', 'smrt', 'smu', 'sna', 'snag', 'snah', 'snam', 'snat', 'sne', 'sneg', 'sneh', 'snej', 'snel', 'snem', 'snenj', 'snet', 'sneč', 'sneš', 'sni', 'snic', 'snih', 'snik', 'snil', 'snim', 'snin', 'snit', 'sniš', 'snja', 'snjar', 'snje', 'snjem', 'snjen', 'snjo', 'snju', 'snjuj', 'snmi', 'sno', 'snob', 'snom', 'snop', 'snost', 'snov', 'snu', 'snuj', 'so', 'sob', 'sod', 'sodb', 'soj', 'sok', 'sol', 'solj', 'solz', 'som', 'son', 'sonc', 'sopst', 'sor', 'sort', 'sov', 'soč', 'spa', 'spak', 'spal', 'span', 'spanj', 'spat', 'spe', 'speh', 'spekt', 'spel', 'spem', 'sperm', 'spet', 'spev', 'speč', 'speš', 'spi', 'spij', 'spil', 'spim', 'spis', 'spit', 'spiš', 'spla', 'sple', 'splest', 'splet', 'splo', 'sploh', 'spne', 'spnem', 'spneš', 'spni', 'spo', 'spod', 'spol', 'spon', 'sponk', 'spor', 'sport', 'spr', 'spra', 'sprav', 'spre', 'sprem', 'spret', 'spreš', 'spri', 'sprl', 'spro', 'sprt', 'spu', 'spust', 'sr', 'sra', 'srag', 'sraj', 'srajc', 'sram', 'srb', 'src', 'sre', 'sred', 'sreč', 'srečk', 'srh', 'sta', 'stah', 'staj', 'stal', 'stam', 'stan', 'stanc', 'stanj', 'stant', 'star', 'stark', 'starš', 'stat', 'stav', 'stavb', 'stavk', 'stač', 'staš', 'ste', 'stec', 'steh', 'stej', 'stek', 'stel', 'stelj', 'stem', 'sten', 'stenc', 'stenj', 'stenk', 'step', 'stepst', 'ster', 'stern', 'stet', 'stev', 'stez', 'steč', 'steš', 'stež', 'sti', 'stic', 'stih', 'stij', 'stik', 'stil', 'stilk', 'stiln', 'stim', 'stin', 'stinj', 'stink', 'stinkt', 'stir', 'stis', 'stisk', 'stit', 'stitk', 'stič', 'stiš', 'stišč', 'stiž', 'stja', 'stjah', 'stjam', 'stjan', 'stje', 'stjem', 'stji', 'stjih', 'stjo', 'stju', 'stka', 'stkah', 'stkam', 'stke', 'stki', 'stkih', 'stko', 'stkom', 'stkov', 'stkrat', 'stku', 'stla', 'stlal', 'stlan', 'stlat', 'stle', 'stli', 'stlin', 'stlji', 'stljiv', 'stlo', 'stma', 'stme', 'stmi', 'stmo', 'stna', 'stnah', 'stnaj', 'stnajst', 'stnam', 'stne', 'stnej', 'stnem', 'stneš', 'stni', 'stnic', 'stnih', 'stnik', 'stnil', 'stnim', 'stnin', 'stnit', 'stnja', 'stnjak', 'stno', 'stnost', 'sto', 'stob', 'stoj', 'stok', 'stol', 'stolp', 'stolč', 'stom', 'stonj', 'stop', 'stor', 'stost', 'stot', 'stov', 'stoč', 'stož', 'str', 'stra', 'strah', 'stral', 'stram', 'stran', 'strank', 'strast', 'strat', 'straž', 'strd', 'stre', 'streh', 'strej', 'strel', 'strelk', 'strem', 'stren', 'stres', 'strest', 'stret', 'streč', 'streš', 'stri', 'stric', 'strih', 'strij', 'stril', 'strim', 'strin', 'strit', 'strič', 'striš', 'strl', 'strm', 'stro', 'strof', 'strog', 'stroj', 'strok', 'strom', 'strop', 'strov', 'strt', 'stru', 'strug', 'struj', 'strun', 'strup', 'ststo', 'stu', 'stud', 'stuj', 'stum', 'stva', 'stvah', 'stvam', 'stvar', 'stve', 'stven', 'stvi', 'stvic', 'stvih', 'stvo', 'stvom', 'stvor', 'stvu', 'su', 'suh', 'suj', 'suk', 'sul', 'sulj', 'sum', 'sun', 'sur', 'sut', 'sva', 'svat', 'svatb', 'sve', 'svet', 'sveč', 'svečk', 'svež', 'svi', 'svil', 'svin', 'svinj', 'svit', 'svo', 'svod', 'svoj', 'sča', 'sči', 'ta', 'tac', 'tah', 'taj', 'tajl', 'tak', 'takt', 'tal', 'tam', 'tan', 'tanc', 'tanj', 'tank', 'tap', 'tar', 'tark', 'tarč', 'tast', 'tat', 'tav', 'tavz', 'taš', 'taž', 'tca', 'tce', 'tcem', 'tcev', 'tci', 'tcih', 'tcu', 'te', 'tec', 'teh', 'tej', 'tek', 'tekst', 'tekt', 'tektk', 'tel', 'telj', 'teljk', 'tem', 'ten', 'tenc', 'tenj', 'tent', 'tep', 'tepst', 'ter', 'tes', 'tesk', 'test', 'tet', 'tev', 'tez', 'teč', 'teš', 'tež', 'tgar', 'tgard', 'tgen', 'ti', 'tic', 'tih', 'tij', 'tijk', 'tik', 'til', 'tilk', 'tim', 'tin', 'ting', 'tint', 'tip', 'tir', 'tis', 'tisk', 'tist', 'tit', 'tiv', 'tič', 'tiš', 'tišč', 'tja', 'tje', 'tjem', 'tji', 'tjih', 'tjim', 'tjin', 'tjič', 'tjo', 'tju', 'tka', 'tkah', 'tkal', 'tkam', 'tkan', 'tkast', 'tkat', 'tkaš', 'tke', 'tkej', 'tkem', 'tkeš', 'tki', 'tkih', 'tkim', 'tkiv', 'tko', 'tkom', 'tkov', 'tkoč', 'tkrat', 'tku', 'tla', 'tlah', 'tlak', 'tlam', 'tlan', 'tle', 'tleh', 'tlej', 'tlel', 'tlem', 'tlenj', 'tlesk', 'tlet', 'tletk', 'tleč', 'tli', 'tlic', 'tlih', 'tlil', 'tlim', 'tlin', 'tlit', 'tlič', 'tliš', 'tlja', 'tljah', 'tljaj', 'tljam', 'tlje', 'tljen', 'tlji', 'tljiv', 'tljo', 'tlju', 'tljuj', 'tlo', 'tlob', 'tlom', 'tlov', 'tlu', 'tma', 'tme', 'tmi', 'tmih', 'tmo', 'tmom', 'tmov', 'tmu', 'tna', 'tnaj', 'tnajst', 'tnal', 'tne', 'tnej', 'tnem', 'tnen', 'tner', 'tneš', 'tni', 'tnic', 'tnih', 'tnij', 'tnik', 'tnil', 'tnim', 'tnin', 'tnit', 'tnja', 'tnjah', 'tnjak', 'tnjam', 'tnje', 'tnjen', 'tnji', 'tnjo', 'tno', 'tnom', 'tnost', 'tnu', 'to', 'tod', 'tog', 'tok', 'tol', 'tolp', 'tolst', 'tolč', 'tom', 'ton', 'top', 'tor', 'torb', 'tort', 'tos', 'tost', 'tov', 'toč', 'točk', 'tož', 'tožb', 'tr', 'tra', 'trah', 'traj', 'trak', 'trakt', 'tral', 'tram', 'tran', 'tranj', 'tras', 'trast', 'trat', 'trav', 'travm', 'traš', 'trc', 'trd', 'tre', 'treb', 'treh', 'trej', 'trem', 'tren', 'trend', 'tres', 'tresk', 'trest', 'tret', 'treš', 'trg', 'tri', 'trih', 'trij', 'trik', 'trim', 'trip', 'trk', 'trl', 'trm', 'trn', 'tro', 'troj', 'trojk', 'trok', 'trol', 'trom', 'tromb', 'trop', 'trost', 'trov', 'trovk', 'trs', 'trsk', 'trst', 'trt', 'tru', 'trud', 'truj', 'trulj', 'trum', 'trušč', 'tska', 'tske', 'tskem', 'tski', 'tskih', 'tskim', 'tsko', 'tstev', 'tsto', 'tstva', 'tstvi', 'tstvih', 'tstvo', 'tstvom', 'tstvu', 'tu', 'tuj', 'tujk', 'tum', 'tur', 'tus', 'tut', 'tutk', 'tuš', 'tva', 'tvah', 'tvak', 'tvam', 'tve', 'tvec', 'tvej', 'tvel', 'tvem', 'tven', 'tvest', 'tvet', 'tvez', 'tveč', 'tvi', 'tvic', 'tvih', 'tvil', 'tvim', 'tvin', 'tvit', 'tviš', 'tvo', 'tvoj', 'tvor', 'tvorb', 'tvu', 'tvuj', 'tčlan', 'u', 'ud', 'ujm', 'uk', 'ul', 'um', 'un', 'unč', 'up', 'ur', 'ust', 'uz', 'uzd', 'uč', 'uš', 'v', 'va', 'vab', 'vac', 'vad', 'vadb', 'vah', 'vaj', 'vak', 'val', 'valj', 'valk', 'vam', 'van', 'vanj', 'vank', 'var', 'varn', 'vas', 'vast', 'vat', 'vav', 'vač', 'vaš', 'vbo', 'vbriz', 'vce', 'vda', 'vdaj', 'vdal', 'vdam', 'vdan', 'vdat', 'vdaš', 'vde', 'vdi', 'vdih', 'vdo', 'vdol', 'vdor', 'vdov', 'vdr', 'vdre', 'vdrem', 'vdret', 'vdreš', 'vdri', 'vdrl', 've', 'vec', 'ved', 'vedb', 'veh', 'vej', 'vek', 'vel', 'velj', 'vem', 'ven', 'venj', 'ver', 'verb', 'verz', 'ves', 'vest', 'vet', 'vez', 'več', 'veš', 'vešč', 'vež', 'vgra', 'vho', 'vhod', 'vi', 'vic', 'vid', 'vih', 'viht', 'vij', 'vik', 'vil', 'vilk', 'vim', 'vin', 'vinc', 'vinj', 'vink', 'vir', 'vis', 'vist', 'vit', 'viz', 'vič', 'viš', 'višč', 'vja', 'vjad', 'vjaj', 'vjak', 'vjal', 'vjam', 'vjan', 'vjanj', 'vjat', 'vjaš', 'vje', 'vjem', 'vji', 'vjih', 'vjim', 'vjin', 'vjo', 'vjost', 'vju', 'vklju', 'vkr', 'vkup', 'vla', 'vlad', 'vlak', 'vlač', 'vle', 'vleč', 'vlečk', 'vli', 'vlij', 'vlil', 'vlit', 'vlja', 'vljah', 'vljaj', 'vljal', 'vljam', 'vljan', 'vljanj', 'vljar', 'vljat', 'vljav', 'vljaš', 'vlje', 'vljem', 'vljen', 'vljenj', 'vljenk', 'vljev', 'vlješ', 'vlji', 'vljic', 'vljih', 'vljin', 'vljiv', 'vljišč', 'vljo', 'vlju', 'vlo', 'vlog', 'vma', 'vmah', 'vmam', 'vme', 'vmes', 'vmi', 'vmo', 'vna', 'vnaj', 'vnal', 'vnam', 'vnan', 'vnanj', 'vnat', 'vnav', 'vnaš', 'vne', 'vneh', 'vnej', 'vnel', 'vnem', 'vnet', 'vnež', 'vni', 'vnic', 'vnih', 'vnij', 'vnik', 'vnim', 'vnin', 'vnja', 'vnjak', 'vnjo', 'vnmi', 'vno', 'vnom', 'vnost', 'vnov', 'vnu', 'vnuk', 'vo', 'vod', 'voh', 'voj', 'vojn', 'vojsk', 'vol', 'volj', 'volk', 'vom', 'vonj', 'vor', 'vost', 'vot', 'vov', 'voz', 'vpa', 'vpast', 'vpe', 'vpi', 'vpij', 'vpil', 'vpis', 'vpit', 'vple', 'vplest', 'vpli', 'vpliv', 'vpo', 'vpra', 'vpre', 'vpreg', 'vpri', 'vr', 'vra', 'vrag', 'vran', 'vrat', 'vratc', 'vrač', 'vrb', 'vre', 'vred', 'vrel', 'vrem', 'vret', 'vreč', 'vrečk', 'vreš', 'vrh', 'vri', 'vric', 'vrih', 'vrisk', 'vrišč', 'vrl', 'vrn', 'vro', 'vrom', 'vron', 'vrov', 'vroč', 'vrst', 'vrt', 'vru', 'vrv', 'vrč', 'vsa', 'vsad', 'vsaj', 'vsak', 'vse', 'vseh', 'vsej', 'vsem', 'vsev', 'vsi', 'vso', 'vsot', 'vsta', 'vstaj', 'vstal', 'vstat', 'vstav', 'vsto', 'vstop', 'vstran', 'vsu', 'vsuj', 'vsul', 'vsut', 'vta', 'vtem', 'vti', 'vtis', 'vu', 'vul', 'vulj', 'vur', 'vza', 'vzbu', 'vzde', 'vzdev', 'vzdi', 'vzdih', 'vzdolž', 'vzdr', 'vzdra', 'vzdu', 'vze', 'vzel', 'vzet', 'vzga', 'vzgi', 'vzgib', 'vzgo', 'vzgon', 'vzha', 'vzho', 'vzhod', 'vzi', 'vzit', 'vzki', 'vzkli', 'vzklij', 'vzklik', 'vzklil', 'vzklit', 'vzle', 'vzlju', 'vzme', 'vznak', 'vzne', 'vzni', 'vznik', 'vzno', 'vzo', 'vzor', 'vzpe', 'vzpel', 'vzpet', 'vzpne', 'vzpnem', 'vzpneš', 'vzpni', 'vzpo', 'vzpod', 'vzpon', 'vzra', 'vzre', 'vzrej', 'vzro', 'vzrok', 'vztra', 'vztre', 'vzva', 'vzvi', 'vzvo', 'vzvod', 'vzvra', 'vzšel', 'vzšla', 'vzšle', 'vzšli', 'vzšlo', 'vča', 'vče', 'včla', 'vše', 'všeč', 'všte', 'vštej', 'vštel', 'vštet', 'vštric', 'vžga', 'vžgal', 'vžgat', 'vžge', 'vžgem', 'vžgeš', 'vžgi', 'vži', 'wyor', 'z', 'za', 'za_', 'zab', 'zad', 'zah', 'zaj', 'zal', 'zalk', 'zam', 'zan', 'zanj', 'zank', 'zar', 'zarn', 'zast', 'zat', 'zav', 'zavz', 'zaz', 'zaš', 'zaž', 'zba', 'zbe', 'zbi', 'zbij', 'zbil', 'zbir', 'zbirk', 'zbit', 'zbla', 'zble', 'zbli', 'zbo', 'zbor', 'zbost', 'zbra', 'zbral', 'zbran', 'zbrat', 'zbu', 'zda', 'zdaj', 'zde', 'zdel', 'zdet', 'zdi', 'zdim', 'zdiš', 'zdo', 'zdol', 'zdr', 'zdra', 'zdrah', 'zdrav', 'zdri', 'zdriz', 'zdro', 'zdru', 'združ', 'združb', 'ze', 'zeb', 'zebst', 'zec', 'zeg', 'zeh', 'zej', 'zek', 'zel', 'zem', 'zen', 'zenj', 'zer', 'zerc', 'zerv', 'zet', 'zeč', 'zeš', 'zga', 'zgi', 'zgla', 'zgle', 'zgled', 'zgne', 'zgnest', 'zgni', 'zgnij', 'zgnil', 'zgnit', 'zgo', 'zgod', 'zgodb', 'zgolj', 'zgr', 'zgra', 'zgrad', 'zgradb', 'zgre', 'zgri', 'zgrist', 'zgro', 'zgru', 'zgu', 'zho', 'zi', 'zib', 'zibk', 'zic', 'zid', 'zih', 'zij', 'zik', 'zil', 'zim', 'zin', 'zir', 'zit', 'zitk', 'ziv', 'ziš', 'zišč', 'zja', 'zjav', 'zje', 'zjed', 'zjej', 'zjem', 'zjest', 'zješ', 'zji', 'zjih', 'zjim', 'zjo', 'zju', 'zka', 'zke', 'zkem', 'zki', 'zkih', 'zkim', 'zko', 'zkri', 'zla', 'zlag', 'zlaj', 'zlal', 'zlam', 'zlan', 'zlat', 'zlaš', 'zle', 'zlem', 'zlest', 'zlet', 'zleč', 'zli', 'zlic', 'zlih', 'zlij', 'zlik', 'zlil', 'zlim', 'zlin', 'zling', 'zlit', 'zliv', 'zlišč', 'zlja', 'zljaj', 'zljal', 'zljam', 'zljan', 'zljat', 'zljaš', 'zlji', 'zljiv', 'zlo', 'zlog', 'zlom', 'zlov', 'zlož', 'zložb', 'zlu', 'zma', 'zmag', 'zmah', 'zmam', 'zmanj', 'zmaz', 'zme', 'zmed', 'zmen', 'zmer', 'zmes', 'zmest', 'zmi', 'zmih', 'zmij', 'zmil', 'zmit', 'zmno', 'zmo', 'zmom', 'zmot', 'zmov', 'zmr', 'zmra', 'zmu', 'zna', 'znad', 'znaj', 'znajd', 'znajdb', 'znajt', 'znak', 'znal', 'znam', 'znamk', 'znan', 'znanj', 'znank', 'znat', 'znav', 'znač', 'značb', 'značk', 'znaš', 'zne', 'znej', 'znel', 'znem', 'znest', 'znet', 'zneč', 'zneš', 'znež', 'zni', 'znic', 'znih', 'znik', 'znil', 'znim', 'znin', 'znit', 'zniv', 'zniš', 'znje', 'znjen', 'znjenj', 'znjo', 'zno', 'znoj', 'znom', 'znost', 'znu', 'znuj', 'zo', 'zob', 'zod', 'zof', 'zom', 'zon', 'zor', 'zot', 'zov', 'zoč', 'zpe', 'zpel', 'zpet', 'zpne', 'zpnem', 'zpneš', 'zpni', 'zr', 'zra', 'zrab', 'zrak', 'zrast', 'zraz', 'zre', 'zred', 'zrek', 'zrel', 'zrem', 'zret', 'zrez', 'zreč', 'zreš', 'zri', 'zrl', 'zrn', 'zro', 'zrod', 'zrt', 'zru', 'ztra', 'zu', 'zuj', 'zul', 'zum', 'zup', 'zur', 'zut', 'zuz', 'zva', 'zvad', 'zval', 'zvan', 'zvar', 'zvat', 'zve', 'zved', 'zvem', 'zven', 'zver', 'zvest', 'zvez', 'zvezd', 'zveš', 'zvi', 'zvid', 'zvij', 'zvil', 'zvir', 'zvit', 'zvle', 'zvleč', 'zvna', 'zvne', 'zvnel', 'zvnet', 'zvo', 'zvod', 'zvoj', 'zvok', 'zvon', 'zvor', 'zvr', 'zvra', 'zvrat', 'zvrst', 'zvrš', 'zvršb', 'zvrž', 'ča', 'čad', 'čah', 'čaj', 'čak', 'čal', 'čam', 'čan', 'čanj', 'čar', 'čas', 'čast', 'čat', 'čav', 'čačk', 'čaš', 'če', 'čec', 'čeh', 'ček', 'čel', 'čem', 'čen', 'čenj', 'čenk', 'čep', 'čer', 'čes', 'česc', 'čet', 'čev', 'čevk', 'čez', 'čeč', 'češ', 'či', 'čic', 'čih', 'čij', 'čil', 'čim', 'čin', 'čink', 'čipk', 'čir', 'čist', 'čistk', 'čit', 'čič', 'čiš', 'čišč', 'čja', 'čje', 'čjem', 'čji', 'čjih', 'čjim', 'čjo', 'čju', 'čka', 'čkah', 'čkaj', 'čkal', 'čkam', 'čkan', 'čkanj', 'čkast', 'čkat', 'čkaš', 'čke', 'čkem', 'čki', 'čkih', 'čkim', 'čko', 'čkom', 'čkov', 'čkrat', 'čku', 'čla', 'člah', 'člam', 'član', 'čle', 'člen', 'čli', 'člji', 'čljiv', 'člo', 'čma', 'čmah', 'čmam', 'čmar', 'čme', 'čmi', 'čmo', 'čna', 'čnad', 'čnat', 'čne', 'čnej', 'čnem', 'čneš', 'čnež', 'čni', 'čnic', 'čnih', 'čnik', 'čnim', 'čnin', 'čno', 'čnog', 'čnost', 'čo', 'čoln', 'čoč', 'čr', 'čre', 'čred', 'črev', 'črk', 'črn', 'črnk', 'črt', 'črv', 'čstran', 'ču', 'čud', 'čuj', 'čun', 'čut', 'čva', 'čvar', 'čve', 'čvi', 'čvir', 'čvr', 'čvre', 'čvrst', 'ša', 'šac', 'šah', 'šaj', 'šal', 'šalk', 'šam', 'šan', 'šanj', 'šap', 'šar', 'šast', 'šat', 'šav', 'šaš', 'šca', 'šce', 'šcem', 'šcev', 'šci', 'šcih', 'šcu', 'še', 'šec', 'šef', 'šeh', 'šej', 'šek', 'šel', 'šelj', 'šem', 'šen', 'šen_', 'šenj', 'šes', 'šest', 'šet', 'šetk', 'šev', 'šeč', 'šeš', 'ši', 'šib', 'šic', 'ših', 'šij', 'šil', 'šilj', 'šiljk', 'šim', 'šin', 'šip', 'šir', 'šit', 'šiv', 'šič', 'šiš', 'šja', 'šje', 'šjem', 'šji', 'šjih', 'šjim', 'šjo', 'šju', 'ška', 'škaf', 'škah', 'škam', 'škan', 'ške', 'škem', 'šket', 'ški', 'ških', 'škim', 'škin', 'škle', 'škne', 'šknem', 'škneš', 'škni', 'šknil', 'šknit', 'ško', 'škod', 'škodb', 'škof', 'školj', 'školjk', 'škom', 'škor', 'škost', 'škov', 'škr', 'škre', 'škri', 'škric', 'škro', 'šku', 'škuj', 'šla', 'šle', 'šlek', 'šlem', 'šli', 'šlic', 'šlih', 'šlim', 'šlja', 'šljaj', 'šljal', 'šljam', 'šljanj', 'šljat', 'šljaš', 'šlje', 'šljem', 'šljen', 'šljenj', 'šljev', 'šlješ', 'šlji', 'šljih', 'šljij', 'šljiv', 'šljo', 'šlju', 'šljuj', 'šlo', 'šma', 'šmi', 'šmin', 'šmink', 'šna', 'šna_', 'šne', 'šne_', 'šnej', 'šnem', 'šnem_', 'šneš', 'šnež', 'šni', 'šni_', 'šnic', 'šnih', 'šnih_', 'šnik', 'šnil', 'šnim', 'šnim_', 'šnit', 'šnja', 'šnjah', 'šnjam', 'šnjar', 'šnjav', 'šnje', 'šnjem', 'šnjev', 'šnji', 'šnjih', 'šnjim', 'šnjo', 'šno', 'šno_', 'šnost', 'šo', 'šok', 'šol', 'šop', 'šot', 'šoč', 'špa', 'špan', 'špe', 'špo', 'špor', 'šport', 'špot', 'špra', 'špranj', 'šra', 'šta', 'štab', 'štah', 'štam', 'štar', 'šte', 'štej', 'štel', 'šten', 'štet', 'štev', 'šti', 'štlji', 'štljiv', 'štna', 'štne', 'štnem', 'štni', 'štnih', 'štnik', 'štnim', 'štnin', 'štno', 'što', 'štol', 'štom', 'štor', 'štr', 'štre', 'štren', 'štru', 'štu', 'štuj', 'štva', 'štve', 'štven', 'štvi', 'štvih', 'štvo', 'štvom', 'štvu', 'šu', 'šuj', 'šum', 'šur', 'šved', 'švi', 'šča', 'ščad', 'ščah', 'ščaj', 'ščak', 'ščal', 'ščalk', 'ščam', 'ščan', 'ščanj', 'ščank', 'ščar', 'ščat', 'ščav', 'ščaš', 'šče', 'šček', 'ščem', 'ščen', 'ščenj', 'ščev', 'ščeč', 'ščeš', 'šči', 'ščic', 'ščih', 'ščil', 'ščim', 'ščin', 'ščit', 'ščiš', 'ščka', 'ščke', 'ščki', 'ščkih', 'ščko', 'ščkom', 'ščkov', 'ščku', 'ščna', 'ščne', 'ščnem', 'ščni', 'ščnih', 'ščnim', 'ščno', 'ščo', 'ščob', 'ščoč', 'šču', 'ščuj', 'ž', 'ža', 'žab', 'žag', 'žah', 'žaj', 'žak', 'žal', 'žam', 'žan', 'žanj', 'žar', 'žat', 'žav', 'žaš', 'žbi', 'žbic', 'žde', 'ždel', 'ždet', 'ždeč', 'ždi', 'ždim', 'ždiš', 'že', 'žec', 'žeh', 'žek', 'žel', 'želj', 'želv', 'žem', 'žen', 'ženj', 'ženk', 'žensk', 'žep', 'žer', 'žet', 'žev', 'žeč', 'žeš', 'žga', 'žgal', 'žgan', 'žganj', 'žgat', 'žge', 'žgem', 'žgeš', 'žgi', 'žgo', 'žgoč', 'ži', 'žic', 'žig', 'žih', 'žij', 'žil', 'žim', 'žin', 'žink', 'žir', 'žit', 'živ', 'žič', 'žiš', 'žišč', 'žja', 'žje', 'žjem', 'žjev', 'žji', 'žjih', 'žjim', 'žjo', 'žju', 'žla', 'žle', 'žleb', 'žlez', 'žli', 'žlic', 'žlja', 'žljaj', 'žljal', 'žljam', 'žljanj', 'žljat', 'žljav', 'žljaš', 'žlji', 'žljiv', 'žlo', 'žme', 'žmem', 'žmeš', 'žmi', 'žna', 'žnat', 'žne', 'žnej', 'žnem', 'žnež', 'žni', 'žnic', 'žnih', 'žnik', 'žnim', 'žniv', 'žnja', 'žnjah', 'žnjak', 'žnjam', 'žnje', 'žnjem', 'žnjev', 'žnji', 'žnjic', 'žnjih', 'žnjim', 'žnjo', 'žnju', 'žno', 'žnost', 'žo', 'žog', 'žol', 'žolč', 'žon', 'žoč', 'žr', 'žre', 'žrel', 'žrem', 'žret', 'žreš', 'žri', 'žrl', 'žrt', 'žu', 'žuh', 'žuj', 'žuž', 'žve', 'žven', 'žviž', 'žvižg']\n"
     ]
    }
   ],
   "source": [
    "%run ../../../prepare_data.py\n",
    "# print(syllable_dictionary)\n",
    "syllable_letters_translator = create_syllable_letters_translator(max_syllable, syllable_dictionary, dictionary, vowels)\n",
    "print(syllable_letters_translator[3])\n",
    "print(syllable_dictionary)\n",
    "#     [[[1 if let < len(el) and a == el[let] else 0 for a in dictionary] for let in range(max_syllable)] for el in syllable_dictionary]\n",
    "\n",
    "# [[[1 if let < len(el) and a == el[let] else 0 for a in dictionary] for let in range(max_syllable)] for el in syllable_dictionary]"
   ]
  },
  {
   "cell_type": "code",
   "execution_count": 7,
   "metadata": {},
   "outputs": [
    {
     "name": "stdout",
     "output_type": "stream",
     "text": [
      "[2130 1226 1677    2 1873 4738    0    0    0    0    0]\n",
      "(430151, 11)\n"
     ]
    },
    {
     "ename": "NameError",
     "evalue": "name 'X_test' is not defined",
     "output_type": "error",
     "traceback": [
      "\u001b[0;31m---------------------------------------------------------------------------\u001b[0m",
      "\u001b[0;31mNameError\u001b[0m                                 Traceback (most recent call last)",
      "\u001b[0;32m<ipython-input-7-caa0c951f236>\u001b[0m in \u001b[0;36m<module>\u001b[0;34m()\u001b[0m\n\u001b[1;32m      1\u001b[0m \u001b[0mprint\u001b[0m \u001b[0;34m(\u001b[0m\u001b[0mX_train\u001b[0m\u001b[0;34m[\u001b[0m\u001b[0;36m0\u001b[0m\u001b[0;34m]\u001b[0m\u001b[0;34m)\u001b[0m\u001b[0;34m\u001b[0m\u001b[0m\n\u001b[1;32m      2\u001b[0m \u001b[0mprint\u001b[0m \u001b[0;34m(\u001b[0m\u001b[0mX_train\u001b[0m\u001b[0;34m.\u001b[0m\u001b[0mshape\u001b[0m\u001b[0;34m)\u001b[0m\u001b[0;34m\u001b[0m\u001b[0m\n\u001b[0;32m----> 3\u001b[0;31m \u001b[0mprint\u001b[0m \u001b[0;34m(\u001b[0m\u001b[0mX_test\u001b[0m\u001b[0;34m.\u001b[0m\u001b[0mshape\u001b[0m\u001b[0;34m)\u001b[0m\u001b[0;34m\u001b[0m\u001b[0m\n\u001b[0m\u001b[1;32m      4\u001b[0m \u001b[0mprint\u001b[0m \u001b[0;34m(\u001b[0m\u001b[0mX_validate\u001b[0m\u001b[0;34m.\u001b[0m\u001b[0mshape\u001b[0m\u001b[0;34m)\u001b[0m\u001b[0;34m\u001b[0m\u001b[0m\n\u001b[1;32m      5\u001b[0m \u001b[0;31m# X_other_features = create_X_features(content)\u001b[0m\u001b[0;34m\u001b[0m\u001b[0;34m\u001b[0m\u001b[0m\n",
      "\u001b[0;31mNameError\u001b[0m: name 'X_test' is not defined"
     ]
    }
   ],
   "source": [
    "print (X_train[0])\n",
    "print (X_train.shape)\n",
    "print (X_test.shape)\n",
    "print (X_validate.shape)\n",
    "# X_other_features = create_X_features(content)\n",
    "# print (X_other_features[178200])\n",
    "decode_position = 38\n",
    "print (decode_input(X_validate[decode_position], dictionary))\n",
    "# print (X_other_features_train[0])\n",
    "print (decode_X_features(feature_dictionary, [X_other_features_train[decode_position]]))\n",
    "# print (len(X_other_features_train[0]))"
   ]
  },
  {
   "cell_type": "code",
   "execution_count": 15,
   "metadata": {
    "collapsed": true
   },
   "outputs": [],
   "source": [
    "num_examples = len(X_train) # training set size\n",
    "# nn_input_dim = max_word * len(dictionary) # input layer dimensionality\n",
    "# nn_output_dim = max_num_vowels * max_num_vowels # output layer dimensionality\n",
    "nn_output_dim = 11\n",
    "nn_hdim = 516\n",
    "batch_size = 16\n",
    "actual_epoch = 1\n",
    "num_fake_epoch = 20\n",
    "\n",
    "# Gradient descent parameters (I picked these by hand)\n",
    "# epsilon = 1 # learning rate for gradient descent\n",
    "# reg_lambda = 1 # regularization strength"
   ]
  },
  {
   "cell_type": "code",
   "execution_count": 19,
   "metadata": {
    "collapsed": true
   },
   "outputs": [],
   "source": [
    "conv_input_shape=(11, 252)\n",
    "othr_input = (140, )\n",
    "\n",
    "conv_input = Input(shape=conv_input_shape, name='conv_input')\n",
    "# x_conv = Conv1D(43, (3), padding='same', activation='relu')(conv_input)\n",
    "x_conv = Conv1D(44, (3), padding='same', activation='relu')(conv_input)\n",
    "x_conv = MaxPooling1D(pool_size=2)(x_conv)\n",
    "x_conv = Flatten()(x_conv)\n",
    "# x_conv = Dense(516, activation='relu', kernel_constraint=maxnorm(3))(x_conv)\n",
    "\n",
    "othr_input = Input(shape=othr_input, name='othr_input')\n",
    "# x_othr = Dense(256, input_dim=167, activation='relu')(othr_input)\n",
    "# x_othr = Dropout(0.3)(x_othr)\n",
    "# x_othr = Dense(512, activation='relu')(othr_input)\n",
    "# x_othr = Dropout(0.3)(x_othr)\n",
    "# x_othr = Dense(256, activation='relu')(othr_input)\n",
    "\n",
    "x = concatenate([x_conv, othr_input])\n",
    "# x = Dense(1024, input_dim=(516 + 256), activation='relu')(x)\n",
    "x = Dense(256, activation='relu')(x)\n",
    "x = Dropout(0.3)(x)\n",
    "x = Dense(512, activation='relu')(x)\n",
    "x = Dropout(0.3)(x)\n",
    "x = Dense(256, activation='relu')(x)\n",
    "x = Dropout(0.2)(x)\n",
    "x = Dense(nn_output_dim, activation='sigmoid')(x)"
   ]
  },
  {
   "cell_type": "code",
   "execution_count": 20,
   "metadata": {
    "collapsed": true
   },
   "outputs": [],
   "source": [
    "model = Model(inputs=[conv_input, othr_input], outputs=x)\n",
    "\n",
    "# epochs = 5\n",
    "# lrate = 0.1\n",
    "# decay = lrate/epochs\n",
    "# sgd = SGD(lr=lrate, momentum=0.9, decay=decay, nesterov=False)\n",
    "# model.compile(loss='mean_squared_error', optimizer='adam', metrics=['accuracy'])\n",
    "\n",
    "# Compile model\n",
    "# keras.optimizers.Adam(lr=0.001, beta_1=0.9, beta_2=0.999, epsilon=1e-08, decay=0.0)\n",
    "opt = optimizers.Adam(lr=1E-4, beta_1=0.9, beta_2=0.999, epsilon=1e-08)\n",
    "model.compile(loss='binary_crossentropy', optimizer=opt, metrics=[actual_accuracy,])\n",
    "# model.compile(loss='mean_squared_error', optimizer='adam', metrics=['accuracy'])"
   ]
  },
  {
   "cell_type": "code",
   "execution_count": 21,
   "metadata": {},
   "outputs": [
    {
     "name": "stdout",
     "output_type": "stream",
     "text": [
      "Epoch 1/20\n",
      "1345/1344 [==============================] - 14s - loss: 0.1791 - actual_accuracy: 0.3753 - val_loss: 0.1182 - val_actual_accuracy: 0.6081\n",
      "Epoch 2/20\n",
      "1345/1344 [==============================] - 16s - loss: 0.1101 - actual_accuracy: 0.6429 - val_loss: 0.0994 - val_actual_accuracy: 0.7132\n",
      "Epoch 3/20\n",
      "1345/1344 [==============================] - 15s - loss: 0.0965 - actual_accuracy: 0.7090 - val_loss: 0.0931 - val_actual_accuracy: 0.7427\n",
      "Epoch 4/20\n",
      "1345/1344 [==============================] - 15s - loss: 0.0898 - actual_accuracy: 0.7422 - val_loss: 0.0864 - val_actual_accuracy: 0.7650\n",
      "Epoch 5/20\n",
      "1345/1344 [==============================] - 15s - loss: 0.0840 - actual_accuracy: 0.7642 - val_loss: 0.0904 - val_actual_accuracy: 0.7638\n",
      "Epoch 6/20\n",
      "1345/1344 [==============================] - 17s - loss: 0.0791 - actual_accuracy: 0.7817 - val_loss: 0.0811 - val_actual_accuracy: 0.7906\n",
      "Epoch 7/20\n",
      "1345/1344 [==============================] - 16s - loss: 0.0748 - actual_accuracy: 0.7946 - val_loss: 0.0800 - val_actual_accuracy: 0.7995\n",
      "Epoch 8/20\n",
      "1345/1344 [==============================] - 16s - loss: 0.0716 - actual_accuracy: 0.8026 - val_loss: 0.0793 - val_actual_accuracy: 0.8113\n",
      "Epoch 9/20\n",
      "1345/1344 [==============================] - 17s - loss: 0.0657 - actual_accuracy: 0.8210 - val_loss: 0.0800 - val_actual_accuracy: 0.8152\n",
      "Epoch 10/20\n",
      "1345/1344 [==============================] - 17s - loss: 0.0639 - actual_accuracy: 0.8266 - val_loss: 0.0804 - val_actual_accuracy: 0.8079\n",
      "Epoch 11/20\n",
      "1345/1344 [==============================] - 18s - loss: 0.0619 - actual_accuracy: 0.8353 - val_loss: 0.0734 - val_actual_accuracy: 0.8125\n",
      "Epoch 12/20\n",
      "1345/1344 [==============================] - 18s - loss: 0.0583 - actual_accuracy: 0.8456 - val_loss: 0.0760 - val_actual_accuracy: 0.8225\n",
      "Epoch 13/20\n",
      "1345/1344 [==============================] - 18s - loss: 0.0551 - actual_accuracy: 0.8548 - val_loss: 0.0752 - val_actual_accuracy: 0.8301\n",
      "Epoch 14/20\n",
      "1345/1344 [==============================] - 17s - loss: 0.0555 - actual_accuracy: 0.8508 - val_loss: 0.0736 - val_actual_accuracy: 0.8263\n",
      "Epoch 15/20\n",
      "1345/1344 [==============================] - 20s - loss: 0.0520 - actual_accuracy: 0.8674 - val_loss: 0.0773 - val_actual_accuracy: 0.8332\n",
      "Epoch 16/20\n",
      "1345/1344 [==============================] - 21s - loss: 0.0507 - actual_accuracy: 0.8661 - val_loss: 0.0762 - val_actual_accuracy: 0.8355\n",
      "Epoch 17/20\n",
      "1345/1344 [==============================] - 22s - loss: 0.0484 - actual_accuracy: 0.8745 - val_loss: 0.0733 - val_actual_accuracy: 0.8447\n",
      "Epoch 18/20\n",
      "1345/1344 [==============================] - 22s - loss: 0.0459 - actual_accuracy: 0.8812 - val_loss: 0.0772 - val_actual_accuracy: 0.8344\n",
      "Epoch 19/20\n",
      "1345/1344 [==============================] - 22s - loss: 0.0440 - actual_accuracy: 0.8882 - val_loss: 0.0790 - val_actual_accuracy: 0.8409\n",
      "Epoch 20/20\n",
      "1345/1344 [==============================] - 22s - loss: 0.0438 - actual_accuracy: 0.8869 - val_loss: 0.0826 - val_actual_accuracy: 0.8324\n"
     ]
    }
   ],
   "source": [
    "history = model.fit_generator(generate_fake_epoch_syllabled_letters(X_train, X_other_features_train, y_train, batch_size, syllable_letters_translator), X_train.shape[0]/(batch_size * num_fake_epoch), epochs=actual_epoch*num_fake_epoch, validation_data=generate_fake_epoch_syllabled_letters(X_test, X_other_features_test, y_test, batch_size, syllable_letters_translator), validation_steps=X_test.shape[0]/(batch_size * num_fake_epoch))"
   ]
  },
  {
   "cell_type": "code",
   "execution_count": 73,
   "metadata": {
    "scrolled": false
   },
   "outputs": [
    {
     "name": "stdout",
     "output_type": "stream",
     "text": [
      "Epoch 1/20\n",
      "1345/1344 [==============================] - 12s - loss: 0.1995 - actual_accuracy: 0.3282 - val_loss: 0.1255 - val_actual_accuracy: 0.6070\n",
      "Epoch 2/20\n",
      "1345/1344 [==============================] - 13s - loss: 0.1144 - actual_accuracy: 0.6303 - val_loss: 0.1022 - val_actual_accuracy: 0.7074\n",
      "Epoch 3/20\n",
      "1345/1344 [==============================] - 13s - loss: 0.0987 - actual_accuracy: 0.7020 - val_loss: 0.0960 - val_actual_accuracy: 0.7442\n",
      "Epoch 4/20\n",
      "1345/1344 [==============================] - 15s - loss: 0.0912 - actual_accuracy: 0.7333 - val_loss: 0.0890 - val_actual_accuracy: 0.7615\n",
      "Epoch 5/20\n",
      "1345/1344 [==============================] - 17s - loss: 0.0843 - actual_accuracy: 0.7592 - val_loss: 0.0887 - val_actual_accuracy: 0.7676\n",
      "Epoch 6/20\n",
      "1345/1344 [==============================] - 19s - loss: 0.0784 - actual_accuracy: 0.7791 - val_loss: 0.0821 - val_actual_accuracy: 0.7887\n",
      "Epoch 7/20\n",
      "1345/1344 [==============================] - 18s - loss: 0.0737 - actual_accuracy: 0.7945 - val_loss: 0.0764 - val_actual_accuracy: 0.8113\n",
      "Epoch 8/20\n",
      "1345/1344 [==============================] - 19s - loss: 0.0704 - actual_accuracy: 0.8100 - val_loss: 0.0770 - val_actual_accuracy: 0.8075\n",
      "Epoch 9/20\n",
      "1345/1344 [==============================] - 19s - loss: 0.0651 - actual_accuracy: 0.8217 - val_loss: 0.0785 - val_actual_accuracy: 0.8183\n",
      "Epoch 10/20\n",
      "1345/1344 [==============================] - 19s - loss: 0.0625 - actual_accuracy: 0.8324 - val_loss: 0.0802 - val_actual_accuracy: 0.8229\n",
      "Epoch 11/20\n",
      "1345/1344 [==============================] - 19s - loss: 0.0599 - actual_accuracy: 0.8412 - val_loss: 0.0727 - val_actual_accuracy: 0.8221\n",
      "Epoch 12/20\n",
      "1345/1344 [==============================] - 20s - loss: 0.0565 - actual_accuracy: 0.8520 - val_loss: 0.0732 - val_actual_accuracy: 0.8229\n",
      "Epoch 13/20\n",
      "1345/1344 [==============================] - 21s - loss: 0.0525 - actual_accuracy: 0.8650 - val_loss: 0.0751 - val_actual_accuracy: 0.8286\n",
      "Epoch 14/20\n",
      "1345/1344 [==============================] - 19s - loss: 0.0540 - actual_accuracy: 0.8572 - val_loss: 0.0750 - val_actual_accuracy: 0.8340\n",
      "Epoch 15/20\n",
      "1345/1344 [==============================] - 20s - loss: 0.0493 - actual_accuracy: 0.8717 - val_loss: 0.0755 - val_actual_accuracy: 0.8282\n",
      "Epoch 16/20\n",
      "1345/1344 [==============================] - 21s - loss: 0.0477 - actual_accuracy: 0.8749 - val_loss: 0.0758 - val_actual_accuracy: 0.8413\n",
      "Epoch 17/20\n",
      "1345/1344 [==============================] - 20s - loss: 0.0460 - actual_accuracy: 0.8793 - val_loss: 0.0718 - val_actual_accuracy: 0.8447\n",
      "Epoch 18/20\n",
      "1345/1344 [==============================] - 20s - loss: 0.0439 - actual_accuracy: 0.8853 - val_loss: 0.0774 - val_actual_accuracy: 0.8259\n",
      "Epoch 19/20\n",
      "1345/1344 [==============================] - 22s - loss: 0.0410 - actual_accuracy: 0.8925 - val_loss: 0.0780 - val_actual_accuracy: 0.8466\n",
      "Epoch 20/20\n",
      "1345/1344 [==============================] - 20s - loss: 0.0416 - actual_accuracy: 0.8938 - val_loss: 0.0874 - val_actual_accuracy: 0.8282\n"
     ]
    }
   ],
   "source": [
    "# history = model.fit_generator(generate_fake_epoch(X_train, X_other_features_train, y_train, batch_size), X_train.shape[0]/(batch_size * num_fake_epoch), epochs=actual_epoch*num_fake_epoch, validation_data=([X_test, X_other_features_test], y_test))\n",
    "history = model.fit_generator(generate_fake_epoch_syllabled_letters(X_train, X_other_features_train, y_train, batch_size, syllable_letters_translator), X_train.shape[0]/(batch_size * num_fake_epoch), epochs=actual_epoch*num_fake_epoch, validation_data=generate_fake_epoch_syllabled_letters(X_test, X_other_features_test, y_test, batch_size, syllable_letters_translator), validation_steps=X_test.shape[0]/(batch_size * num_fake_epoch))\n",
    "\n",
    "\n",
    "# model.fit([X_train, X_other_features_train], y_train, validation_data=([X_validate, X_other_features_validate], y_validate), epochs=1, batch_size=16)"
   ]
  },
  {
   "cell_type": "code",
   "execution_count": 27,
   "metadata": {
    "collapsed": true
   },
   "outputs": [],
   "source": [
    "name = '1_epoch'\n",
    "model.save(name + '.h5')\n",
    "output = open(name + '_history.pkl', 'wb')\n",
    "pickle.dump(history.history, output)\n",
    "output.close()"
   ]
  },
  {
   "cell_type": "code",
   "execution_count": 3,
   "metadata": {},
   "outputs": [
    {
     "name": "stdout",
     "output_type": "stream",
     "text": [
      "READING CONTENT...\n",
      "CONTENT READ SUCCESSFULY\n",
      "CREATING DICTIONARY...\n",
      "DICTIONARY CREATION SUCCESSFUL!\n"
     ]
    }
   ],
   "source": [
    "dictionary, max_word, max_num_vowels, content, vowels, accetuated_vowels = create_dict()\n",
    "train_content, test_content, validate_content = split_content(content, 0.2, '../../internal_representations/inputs/content_shuffle_vector.h5')\n",
    "feature_dictionary = create_feature_dictionary()\n",
    "syllable_dictionary = create_syllables_dictionary(content, vowels)\n",
    "max_syllable = get_max_syllable(syllable_dictionary)\n",
    "def generate_input_from_word(word, max_word, dictionary):\n",
    "    x = np.zeros((max_word, len(dictionary)))\n",
    "    j = 0\n",
    "    for c in list(word):\n",
    "        index = 0\n",
    "        for d in dictionary:\n",
    "            if c == d:\n",
    "                x[j, index] = 1\n",
    "                break\n",
    "            index += 1\n",
    "        j += 1\n",
    "    return x\n",
    "\n",
    "# model = load_model()\n",
    "# prediction = predict(model, generate_input_from_word('hidrija'))\n",
    "# print decode_position(prediction[0])"
   ]
  },
  {
   "cell_type": "code",
   "execution_count": 8,
   "metadata": {
    "collapsed": true
   },
   "outputs": [],
   "source": [
    "%run ../../../prepare_data.py\n",
    "# generate_X_and_y(dictionary, max_word, max_num_vowels, content, vowels, accetuated_vowels, feature_dictionary)"
   ]
  }
 ],
 "metadata": {
  "kernelspec": {
   "display_name": "Python 3",
   "language": "python",
   "name": "python3"
  },
  "language_info": {
   "codemirror_mode": {
    "name": "ipython",
    "version": 3
   },
   "file_extension": ".py",
   "mimetype": "text/x-python",
   "name": "python",
   "nbconvert_exporter": "python",
   "pygments_lexer": "ipython3",
   "version": "3.5.2"
  }
 },
 "nbformat": 4,
 "nbformat_minor": 1
}
