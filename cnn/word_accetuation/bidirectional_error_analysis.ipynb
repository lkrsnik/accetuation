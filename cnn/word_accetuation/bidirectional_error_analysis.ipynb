{
 "cells": [
  {
   "cell_type": "code",
   "execution_count": 1,
   "metadata": {},
   "outputs": [
    {
     "name": "stderr",
     "output_type": "stream",
     "text": [
      "Using Theano backend.\n"
     ]
    }
   ],
   "source": [
    "# -*- coding: utf-8 -*-\n",
    "from __future__ import unicode_literals\n",
    "# text in Western (Windows 1252)\n",
    "\n",
    "import pickle\n",
    "import numpy as np\n",
    "from keras import optimizers\n",
    "from keras.models import Model\n",
    "from keras.layers import Dense, Dropout, Input\n",
    "from keras.layers.merge import concatenate\n",
    "from keras.layers.convolutional import Conv1D\n",
    "from keras.layers.convolutional import MaxPooling1D\n",
    "from keras.layers import Flatten\n",
    "from keras.models import load_model\n",
    "# from keras import backend as Input\n",
    "np.random.seed(7)"
   ]
  },
  {
   "cell_type": "code",
   "execution_count": 2,
   "metadata": {
    "collapsed": true
   },
   "outputs": [],
   "source": [
    "import sys\n",
    "#sys.path.insert(0, '../../')\n",
    "sys.path.insert(0, '/home/luka/Developement/accetuation/')\n",
    "from prepare_data import *\n",
    "\n",
    "%run ../../prepare_data.py"
   ]
  },
  {
   "cell_type": "code",
   "execution_count": 4,
   "metadata": {},
   "outputs": [
    {
     "name": "stdout",
     "output_type": "stream",
     "text": [
      "LOADING DATA...\n",
      "LOAD SUCCESSFUL!\n"
     ]
    }
   ],
   "source": [
    "data = Data('sl')\n",
    "data.generate_data('syllables_word_accetuation_train',\n",
    "                   'syllables_word_accetuation_test',\n",
    "                   'syllables_word_accetuation_validate', content_name='SlovarIJS_BESEDE_utf8.lex',\n",
    "                      content_shuffle_vector='content_shuffle_vector', shuffle_vector='shuffle_vector',\n",
    "                      inputs_location='../internal_representations/inputs/', content_location='../../data/')"
   ]
  },
  {
   "cell_type": "code",
   "execution_count": 38,
   "metadata": {},
   "outputs": [
    {
     "name": "stdout",
     "output_type": "stream",
     "text": [
      "LOADING DATA...\n",
      "LOAD SUCCESSFUL!\n"
     ]
    }
   ],
   "source": [
    "data = Data('s')\n",
    "data.generate_data('syllables_word_accetuation_train',\n",
    "                   'syllables_word_accetuation_test',\n",
    "                   'syllables_word_accetuation_validate', content_name='SlovarIJS_BESEDE_utf8.lex',\n",
    "                      content_shuffle_vector='content_shuffle_vector', shuffle_vector='shuffle_vector',\n",
    "                      inputs_location='../internal_representations/inputs/', content_location='../../data/')"
   ]
  },
  {
   "cell_type": "code",
   "execution_count": 3,
   "metadata": {},
   "outputs": [
    {
     "name": "stdout",
     "output_type": "stream",
     "text": [
      "LOADING DATA...\n",
      "LOAD SUCCESSFUL!\n"
     ]
    }
   ],
   "source": [
    "data = Data('l', bidirectional_basic_input=True, bidirectional_architectural_input=True)\n",
    "data.generate_data('letters_word_accetuation_bidirectional_train',\n",
    "                   'letters_word_accetuation_bidirectional_test',\n",
    "                   'letters_word_accetuation_bidirectional_validate', content_name='SlovarIJS_BESEDE_utf8.lex',\n",
    "                      content_shuffle_vector='content_shuffle_vector', shuffle_vector='shuffle_vector',\n",
    "                      inputs_location='../internal_representations/inputs/', content_location='../../data/')"
   ]
  },
  {
   "cell_type": "code",
   "execution_count": 5,
   "metadata": {
    "collapsed": true
   },
   "outputs": [],
   "source": [
    "content = data._read_content('../../data/SlovarIJS_BESEDE_utf8.lex')\n",
    "dictionary, max_word, max_num_vowels, vowels, accented_vowels = data._create_dict(content)\n",
    "feature_dictionary = data._create_feature_dictionary()\n",
    "syllable_dictionary = data._create_syllables_dictionary(content, vowels)"
   ]
  },
  {
   "cell_type": "code",
   "execution_count": 6,
   "metadata": {},
   "outputs": [
    {
     "data": {
      "text/plain": [
       "5168"
      ]
     },
     "execution_count": 6,
     "metadata": {},
     "output_type": "execute_result"
    }
   ],
   "source": [
    "len(syllable_dictionary)"
   ]
  },
  {
   "cell_type": "code",
   "execution_count": 5,
   "metadata": {
    "collapsed": true
   },
   "outputs": [],
   "source": [
    "data.x_train = np.concatenate((data.x_train, data.x_test), axis=0)\n",
    "data.x_other_features_train = np.concatenate((data.x_other_features_train, data.x_other_features_test), axis=0)\n",
    "data.y_train = np.concatenate((data.y_train, data.y_test), axis=0)"
   ]
  },
  {
   "cell_type": "code",
   "execution_count": 37,
   "metadata": {
    "collapsed": true
   },
   "outputs": [],
   "source": [
    "nn_output_dim = 10\n",
    "nn_hdim = 516\n",
    "batch_size = 16\n",
    "# actual_epoch = 1\n",
    "actual_epoch = 20\n",
    "# num_fake_epoch = 2\n",
    "num_fake_epoch = 20\n",
    "\n",
    "\n",
    "\n",
    "# letters\n",
    "# conv_input_shape=(23, 36)\n",
    "\n",
    "# syllabled letters\n",
    "conv_input_shape=(10, 252)\n",
    "\n",
    "\n",
    "othr_input = (140, )\n",
    "\n",
    "conv_input = Input(shape=conv_input_shape, name='conv_input')\n",
    "# letters\n",
    "# x_conv = Conv1D(115, (3), padding='same', activation='relu')(conv_input)\n",
    "# x_conv = Conv1D(46, (3), padding='same', activation='relu')(x_conv)\n",
    "\n",
    "# syllabled letters\n",
    "x_conv = Conv1D(200, (2), padding='same', activation='relu')(conv_input)\n",
    "x_conv = MaxPooling1D(pool_size=2)(x_conv)\n",
    "x_conv = Flatten()(x_conv)\n",
    "\n",
    "othr_input = Input(shape=othr_input, name='othr_input')\n",
    "\n",
    "x = concatenate([x_conv, othr_input])\n",
    "# x = Dense(1024, input_dim=(516 + 256), activation='relu')(x)\n",
    "x = Dense(256, activation='relu')(x)\n",
    "x = Dropout(0.3)(x)\n",
    "x = Dense(256, activation='relu')(x)\n",
    "x = Dropout(0.3)(x)\n",
    "x = Dense(256, activation='relu')(x)\n",
    "x = Dropout(0.3)(x)\n",
    "x = Dense(nn_output_dim, activation='sigmoid')(x)\n",
    "\n",
    "\n",
    "\n",
    "\n",
    "model = Model(inputs=[conv_input, othr_input], outputs=x)\n",
    "opt = optimizers.Adam(lr=1E-4, beta_1=0.9, beta_2=0.999, epsilon=1e-08)\n",
    "model.compile(loss='binary_crossentropy', optimizer=opt, metrics=[actual_accuracy,])"
   ]
  },
  {
   "cell_type": "code",
   "execution_count": 38,
   "metadata": {
    "collapsed": true
   },
   "outputs": [],
   "source": [
    "model.load_weights('syllabled_letters/v2_5_3/20_test_epoch.h5')\n",
    "#model = load_model('syllabled_letters/v2_5_3/40_epoch.h5', custom_objects={'actual_accuracy': actual_accuracy})"
   ]
  },
  {
   "cell_type": "code",
   "execution_count": 6,
   "metadata": {
    "collapsed": true
   },
   "outputs": [],
   "source": [
    "num_examples = len(data.x_train)  # training set size\n",
    "nn_output_dim = 10\n",
    "nn_hdim = 516\n",
    "batch_size = 16\n",
    "# actual_epoch = 1\n",
    "actual_epoch = 20\n",
    "# num_fake_epoch = 2\n",
    "num_fake_epoch = 20\n",
    "\n",
    "\n",
    "\n",
    "# letters\n",
    "# conv_input_shape=(23, 36)\n",
    "\n",
    "# syllabled letters\n",
    "conv_input_shape=(10, 5168)\n",
    "\n",
    "\n",
    "othr_input = (140, )\n",
    "\n",
    "conv_input = Input(shape=conv_input_shape, name='conv_input')\n",
    "# letters\n",
    "# x_conv = Conv1D(115, (3), padding='same', activation='relu')(conv_input)\n",
    "# x_conv = Conv1D(46, (3), padding='same', activation='relu')(x_conv)\n",
    "\n",
    "# syllabled letters\n",
    "x_conv = Conv1D(200, (2), padding='same', activation='relu')(conv_input)\n",
    "x_conv = MaxPooling1D(pool_size=2)(x_conv)\n",
    "x_conv = Flatten()(x_conv)\n",
    "\n",
    "othr_input = Input(shape=othr_input, name='othr_input')\n",
    "\n",
    "x = concatenate([x_conv, othr_input])\n",
    "# x = Dense(1024, input_dim=(516 + 256), activation='relu')(x)\n",
    "x = Dense(256, activation='relu')(x)\n",
    "x = Dropout(0.3)(x)\n",
    "x = Dense(256, activation='relu')(x)\n",
    "x = Dropout(0.3)(x)\n",
    "x = Dense(256, activation='relu')(x)\n",
    "x = Dropout(0.3)(x)\n",
    "x = Dense(nn_output_dim, activation='sigmoid')(x)\n",
    "\n",
    "\n",
    "\n",
    "\n",
    "model = Model(inputs=[conv_input, othr_input], outputs=x)\n",
    "opt = optimizers.Adam(lr=1E-4, beta_1=0.9, beta_2=0.999, epsilon=1e-08)\n",
    "model.compile(loss='binary_crossentropy', optimizer=opt, metrics=[actual_accuracy,])"
   ]
  },
  {
   "cell_type": "code",
   "execution_count": 28,
   "metadata": {
    "collapsed": true
   },
   "outputs": [],
   "source": [
    "model.load_weights('syllables/v2_4/20_epoch.h5')"
   ]
  },
  {
   "cell_type": "code",
   "execution_count": 7,
   "metadata": {
    "collapsed": true
   },
   "outputs": [],
   "source": [
    "model.load_weights('syllables/v2_4/20_test_epoch.h5')"
   ]
  },
  {
   "cell_type": "code",
   "execution_count": 7,
   "metadata": {
    "collapsed": true
   },
   "outputs": [],
   "source": [
    "batch_size = 16\n",
    "actual_epoch = 20\n",
    "num_fake_epoch = 20"
   ]
  },
  {
   "cell_type": "code",
   "execution_count": 4,
   "metadata": {
    "collapsed": true
   },
   "outputs": [],
   "source": [
    "data.x_train = None\n",
    "nn_output_dim = 10\n",
    "nn_hdim = 516\n",
    "batch_size = 16\n",
    "# actual_epoch = 1\n",
    "actual_epoch = 20\n",
    "# num_fake_epoch = 2\n",
    "num_fake_epoch = 20\n",
    "\n",
    "\n",
    "\n",
    "\n",
    "conv_input_shape=(23, 36)\n",
    "othr_input = (140, )\n",
    "\n",
    "conv_input = Input(shape=conv_input_shape, name='conv_input')\n",
    "x_conv = Conv1D(115, (3), padding='same', activation='relu')(conv_input)\n",
    "x_conv = Conv1D(46, (3), padding='same', activation='relu')(x_conv)\n",
    "x_conv = MaxPooling1D(pool_size=2)(x_conv)\n",
    "x_conv = Flatten()(x_conv)\n",
    "\n",
    "conv_input2 = Input(shape=conv_input_shape, name='conv_input2')\n",
    "x_conv2 = Conv1D(115, (3), padding='same', activation='relu')(conv_input2)\n",
    "x_conv2 = Conv1D(46, (3), padding='same', activation='relu')(x_conv2)\n",
    "x_conv2 = MaxPooling1D(pool_size=2)(x_conv2)\n",
    "x_conv2 = Flatten()(x_conv2)\n",
    "# x_conv = Dense(516, activation='relu', kernel_constraint=maxnorm(3))(x_conv)\n",
    "\n",
    "othr_input = Input(shape=othr_input, name='othr_input')\n",
    "\n",
    "x = concatenate([x_conv, x_conv2, othr_input])\n",
    "# x = Dense(1024, input_dim=(516 + 256), activation='relu')(x)\n",
    "x = Dense(256, activation='relu')(x)\n",
    "x = Dropout(0.3)(x)\n",
    "x = Dense(256, activation='relu')(x)\n",
    "x = Dropout(0.3)(x)\n",
    "x = Dense(256, activation='relu')(x)\n",
    "x = Dropout(0.3)(x)\n",
    "x = Dense(nn_output_dim, activation='sigmoid')(x)\n",
    "\n",
    "\n",
    "\n",
    "\n",
    "model = Model(inputs=[conv_input, conv_input2, othr_input], outputs=x)\n",
    "opt = optimizers.Adam(lr=1E-4, beta_1=0.9, beta_2=0.999, epsilon=1e-08)\n",
    "model.compile(loss='binary_crossentropy', optimizer=opt, metrics=[actual_accuracy,])"
   ]
  },
  {
   "cell_type": "code",
   "execution_count": 11,
   "metadata": {
    "collapsed": true
   },
   "outputs": [],
   "source": [
    "model = load_model('cnn_dictionary/v3_10/20_epoch.h5', custom_objects={'actual_accuracy': actual_accuracy})\n",
    "# model = load_model('cnn_dictionary/v3_10/20_test_epoch.h5', custom_objects={'actual_accuracy': actual_accuracy})"
   ]
  },
  {
   "cell_type": "code",
   "execution_count": 14,
   "metadata": {
    "collapsed": true
   },
   "outputs": [],
   "source": [
    "model.load_weights('cnn_dictionary/v5_1/20_epoch.h5')"
   ]
  },
  {
   "cell_type": "code",
   "execution_count": 16,
   "metadata": {},
   "outputs": [
    {
     "name": "stdout",
     "output_type": "stream",
     "text": [
      "\n",
      "actual_accuracy: 88.26%\n"
     ]
    }
   ],
   "source": [
    "scores = model.evaluate_generator(data.generator('validate', batch_size, content_name='SlovarIJS_BESEDE_utf8.lex', content_location='../../data/'), \n",
    "                            data.x_validate.shape[0]/(batch_size))\n",
    "print(\"\\n%s: %.2f%%\" % (model.metrics_names[1], scores[1]*100))"
   ]
  },
  {
   "cell_type": "code",
   "execution_count": 6,
   "metadata": {
    "collapsed": true
   },
   "outputs": [],
   "source": [
    "predictions = model.predict_generator(data.generator('validate', batch_size, content_name='SlovarIJS_BESEDE_utf8.lex', content_location='../../data/'), \n",
    "                                      data.x_validate.shape[0]/(batch_size))"
   ]
  },
  {
   "cell_type": "code",
   "execution_count": 7,
   "metadata": {},
   "outputs": [],
   "source": [
    "accuracy, errors = data.test_accuracy(predictions, data.x_validate, data.x_other_features_validate, data.y_validate, dictionary, feature_dictionary, vowels)#, syllable_dictionary=syllable_dictionary)"
   ]
  },
  {
   "cell_type": "code",
   "execution_count": 8,
   "metadata": {
    "collapsed": true
   },
   "outputs": [],
   "source": [
    "# PREDICT TEST DATA!!!\n",
    "predictions = model.predict_generator(data.generator('validate', batch_size, content_name='SlovarIJS_BESEDE_utf8.lex', content_location='../../data/'), \n",
    "                                      data.x_validate.shape[0]/(batch_size))"
   ]
  },
  {
   "cell_type": "code",
   "execution_count": 22,
   "metadata": {},
   "outputs": [
    {
     "ename": "IndexError",
     "evalue": "index 10 is out of bounds for axis 0 with size 10",
     "output_type": "error",
     "traceback": [
      "\u001b[0;31m---------------------------------------------------------------------------\u001b[0m",
      "\u001b[0;31mIndexError\u001b[0m                                Traceback (most recent call last)",
      "\u001b[0;32m<ipython-input-22-fbadac12bb48>\u001b[0m in \u001b[0;36m<module>\u001b[0;34m()\u001b[0m\n\u001b[0;32m----> 1\u001b[0;31m \u001b[0maccuracy\u001b[0m\u001b[0;34m,\u001b[0m \u001b[0merrors\u001b[0m \u001b[0;34m=\u001b[0m \u001b[0mdata\u001b[0m\u001b[0;34m.\u001b[0m\u001b[0mtest_accuracy\u001b[0m\u001b[0;34m(\u001b[0m\u001b[0mpredictions\u001b[0m\u001b[0;34m,\u001b[0m \u001b[0mdata\u001b[0m\u001b[0;34m.\u001b[0m\u001b[0mx_validate\u001b[0m\u001b[0;34m,\u001b[0m \u001b[0mdata\u001b[0m\u001b[0;34m.\u001b[0m\u001b[0mx_other_features_validate\u001b[0m\u001b[0;34m,\u001b[0m \u001b[0mdata\u001b[0m\u001b[0;34m.\u001b[0m\u001b[0my_validate\u001b[0m\u001b[0;34m,\u001b[0m \u001b[0mdictionary\u001b[0m\u001b[0;34m,\u001b[0m \u001b[0mfeature_dictionary\u001b[0m\u001b[0;34m,\u001b[0m \u001b[0mvowels\u001b[0m\u001b[0;34m,\u001b[0m \u001b[0msyllable_dictionary\u001b[0m\u001b[0;34m=\u001b[0m\u001b[0msyllable_dictionary\u001b[0m\u001b[0;34m)\u001b[0m\u001b[0;34m\u001b[0m\u001b[0m\n\u001b[0m",
      "\u001b[0;32m~/Developement/accetuation/prepare_data.py\u001b[0m in \u001b[0;36mtest_accuracy\u001b[0;34m(self, predictions, x, x_other_features, y, dictionary, feature_dictionary, vowels, syllable_dictionary)\u001b[0m\n\u001b[1;32m    972\u001b[0m                                \u001b[0mdecoded_x\u001b[0m\u001b[0;34m,\u001b[0m\u001b[0;34m\u001b[0m\u001b[0m\n\u001b[1;32m    973\u001b[0m                                \u001b[0mself\u001b[0m\u001b[0;34m.\u001b[0m\u001b[0mdecode_x_other_features\u001b[0m\u001b[0;34m(\u001b[0m\u001b[0mfeature_dictionary\u001b[0m\u001b[0;34m,\u001b[0m \u001b[0;34m[\u001b[0m\u001b[0mx_other_features\u001b[0m\u001b[0;34m[\u001b[0m\u001b[0mi\u001b[0m\u001b[0;34m]\u001b[0m\u001b[0;34m]\u001b[0m\u001b[0;34m)\u001b[0m\u001b[0;34m,\u001b[0m\u001b[0;34m\u001b[0m\u001b[0m\n\u001b[0;32m--> 974\u001b[0;31m                                \u001b[0mself\u001b[0m\u001b[0;34m.\u001b[0m\u001b[0massign_stress_locations\u001b[0m\u001b[0;34m(\u001b[0m\u001b[0mdecoded_x\u001b[0m\u001b[0;34m,\u001b[0m \u001b[0mnp\u001b[0m\u001b[0;34m.\u001b[0m\u001b[0maround\u001b[0m\u001b[0;34m(\u001b[0m\u001b[0mpredictions\u001b[0m\u001b[0;34m[\u001b[0m\u001b[0mi\u001b[0m\u001b[0;34m]\u001b[0m\u001b[0;34m)\u001b[0m\u001b[0;34m,\u001b[0m \u001b[0mvowels\u001b[0m\u001b[0;34m,\u001b[0m \u001b[0msyllables\u001b[0m\u001b[0;34m=\u001b[0m\u001b[0mself\u001b[0m\u001b[0;34m.\u001b[0m\u001b[0m_input_type\u001b[0m \u001b[0;34m!=\u001b[0m \u001b[0;34m'l'\u001b[0m\u001b[0;34m)\u001b[0m\u001b[0;34m,\u001b[0m\u001b[0;34m\u001b[0m\u001b[0m\n\u001b[0m\u001b[1;32m    975\u001b[0m                                \u001b[0mself\u001b[0m\u001b[0;34m.\u001b[0m\u001b[0massign_stress_locations\u001b[0m\u001b[0;34m(\u001b[0m\u001b[0mdecoded_x\u001b[0m\u001b[0;34m,\u001b[0m \u001b[0my\u001b[0m\u001b[0;34m[\u001b[0m\u001b[0mi\u001b[0m\u001b[0;34m]\u001b[0m\u001b[0;34m,\u001b[0m \u001b[0mvowels\u001b[0m\u001b[0;34m,\u001b[0m \u001b[0msyllables\u001b[0m\u001b[0;34m=\u001b[0m\u001b[0mself\u001b[0m\u001b[0;34m.\u001b[0m\u001b[0m_input_type\u001b[0m \u001b[0;34m!=\u001b[0m \u001b[0;34m'l'\u001b[0m\u001b[0;34m)\u001b[0m\u001b[0;34m\u001b[0m\u001b[0m\n\u001b[1;32m    976\u001b[0m                                ])\n",
      "\u001b[0;32m~/Developement/accetuation/prepare_data.py\u001b[0m in \u001b[0;36massign_stress_locations\u001b[0;34m(self, word, y, vowels, syllables)\u001b[0m\n\u001b[1;32m    999\u001b[0m                 \u001b[0;32melif\u001b[0m \u001b[0mword_list\u001b[0m\u001b[0;34m[\u001b[0m\u001b[0mi\u001b[0m\u001b[0;34m]\u001b[0m \u001b[0;34m==\u001b[0m \u001b[0;34m'i'\u001b[0m \u001b[0;32mand\u001b[0m \u001b[0my\u001b[0m\u001b[0;34m[\u001b[0m\u001b[0mvowel_num\u001b[0m\u001b[0;34m]\u001b[0m \u001b[0;34m==\u001b[0m \u001b[0;36m1\u001b[0m\u001b[0;34m:\u001b[0m\u001b[0;34m\u001b[0m\u001b[0m\n\u001b[1;32m   1000\u001b[0m                     \u001b[0mword_list\u001b[0m\u001b[0;34m[\u001b[0m\u001b[0mi\u001b[0m\u001b[0;34m]\u001b[0m \u001b[0;34m=\u001b[0m \u001b[0;34m'í'\u001b[0m\u001b[0;34m\u001b[0m\u001b[0m\n\u001b[0;32m-> 1001\u001b[0;31m                 \u001b[0;32melif\u001b[0m \u001b[0mword_list\u001b[0m\u001b[0;34m[\u001b[0m\u001b[0mi\u001b[0m\u001b[0;34m]\u001b[0m \u001b[0;34m==\u001b[0m \u001b[0;34m'o'\u001b[0m \u001b[0;32mand\u001b[0m \u001b[0my\u001b[0m\u001b[0;34m[\u001b[0m\u001b[0mvowel_num\u001b[0m\u001b[0;34m]\u001b[0m \u001b[0;34m==\u001b[0m \u001b[0;36m1\u001b[0m\u001b[0;34m:\u001b[0m\u001b[0;34m\u001b[0m\u001b[0m\n\u001b[0m\u001b[1;32m   1002\u001b[0m                     \u001b[0mword_list\u001b[0m\u001b[0;34m[\u001b[0m\u001b[0mi\u001b[0m\u001b[0;34m]\u001b[0m \u001b[0;34m=\u001b[0m \u001b[0;34m'ó'\u001b[0m\u001b[0;34m\u001b[0m\u001b[0m\n\u001b[1;32m   1003\u001b[0m                 \u001b[0;32melif\u001b[0m \u001b[0mword_list\u001b[0m\u001b[0;34m[\u001b[0m\u001b[0mi\u001b[0m\u001b[0;34m]\u001b[0m \u001b[0;34m==\u001b[0m \u001b[0;34m'u'\u001b[0m \u001b[0;32mand\u001b[0m \u001b[0my\u001b[0m\u001b[0;34m[\u001b[0m\u001b[0mvowel_num\u001b[0m\u001b[0;34m]\u001b[0m \u001b[0;34m==\u001b[0m \u001b[0;36m1\u001b[0m\u001b[0;34m:\u001b[0m\u001b[0;34m\u001b[0m\u001b[0m\n",
      "\u001b[0;31mIndexError\u001b[0m: index 10 is out of bounds for axis 0 with size 10"
     ]
    }
   ],
   "source": [
    "accuracy, errors = data.test_accuracy(predictions, data.x_validate, data.x_other_features_validate, data.y_validate, dictionary, feature_dictionary, vowels, syllable_dictionary=syllable_dictionary)"
   ]
  },
  {
   "cell_type": "code",
   "execution_count": 9,
   "metadata": {},
   "outputs": [
    {
     "data": {
      "text/plain": [
       "0.06823798458190403"
      ]
     },
     "execution_count": 9,
     "metadata": {},
     "output_type": "execute_result"
    }
   ],
   "source": [
    "accuracy"
   ]
  },
  {
   "cell_type": "code",
   "execution_count": 10,
   "metadata": {},
   "outputs": [
    {
     "data": {
      "text/plain": [
       "[[0, 'egarssrage', 'Ncfsg-'],\n",
       " [1, 'jugetzarrazteguj', 'Vm-r2s--'],\n",
       " [2, 'inepurtsstrupeni', 'Agpmsny'],\n",
       " [3, 'alizejazzajezila', 'Vm-p-pn-'],\n",
       " [4, 'atingetannategnita', 'Vm-r2d--'],\n",
       " [5, 'atakimmikata', 'Vm-r2d-n'],\n",
       " [6, 'anšupziizpušna', 'Agpmdn-'],\n",
       " [7, 'imičojajnimerpsspreminjajočimi', 'Agpmpi-'],\n",
       " [8, 'imakserffreskami', 'Ncfpi-'],\n",
       " [9, 'onetagoboobogateno', 'Agpfsa-'],\n",
       " [10, 'ilitsalbooppooblastili', 'Vm-p-df-'],\n",
       " [11, 'acijlpakkapljica', 'Ncfsn-'],\n",
       " [12, 'anešalpssplašena', 'Vm-p-dm-'],\n",
       " [13, 'alatsvvstala', 'Agpnpn-'],\n",
       " [14, 'etjažobbožajte', 'Vm-r2p--'],\n",
       " [15, 'inakuukani', 'Ncfsl-'],\n",
       " [16, 'hilerzerpprezrelih', 'Agpmpl-'],\n",
       " [17, 'mivokitanaffanatikovim', 'Aspmpd-'],\n",
       " [18, 'ilajlvatsessestavljali', 'Vm-p-dn-'],\n",
       " [19, 'vejletivarpuupraviteljev', 'Ncmpg-']]"
      ]
     },
     "execution_count": 10,
     "metadata": {},
     "output_type": "execute_result"
    }
   ],
   "source": [
    "errors[:20]"
   ]
  },
  {
   "cell_type": "code",
   "execution_count": 18,
   "metadata": {
    "collapsed": true
   },
   "outputs": [],
   "source": [
    "errors = [[el[0], el[1][::-1], el[2], el[3][::-1], el[4][::-1]] for el in errors]"
   ]
  },
  {
   "cell_type": "code",
   "execution_count": 21,
   "metadata": {
    "collapsed": true
   },
   "outputs": [],
   "source": [
    "errors.sort(key=lambda x: x[1])"
   ]
  },
  {
   "cell_type": "code",
   "execution_count": 12,
   "metadata": {
    "collapsed": true
   },
   "outputs": [],
   "source": [
    "errors.sort(key=lambda x: x[1])\n",
    "# name = 'letters_word_accetuation'\n",
    "# name = 'letters_word_accetuation_test'\n",
    "# name = 'syllables_word_accetuation'\n",
    "# name = 'syllables_word_accetuation_test'\n",
    "# name = 'syllabled_letters_word_accetuation'\n",
    "name = 'syllables_word_accetuation_test'\n",
    "output = open(name + '_error.pkl', 'wb')\n",
    "pickle.dump(errors, output)\n",
    "output.close()\n",
    "output = open(name + '_predictions.pkl', 'wb')\n",
    "pickle.dump(predictions, output)\n",
    "output.close()"
   ]
  },
  {
   "cell_type": "code",
   "execution_count": 13,
   "metadata": {
    "collapsed": true
   },
   "outputs": [],
   "source": [
    "pickle_input = open('letters_word_accetuation.pkl', 'rb')\n",
    "letters_word_accetuation = pickle.load(pickle_input)\n",
    "pickle_input = open('syllables_word_accetuation.pkl', 'rb')\n",
    "syllables_word_accetuation = pickle.load(pickle_input)\n",
    "pickle_input = open('syllabled_letters_word_accetuation.pkl', 'rb')\n",
    "syllabled_letters_word_accetuation = pickle.load(pickle_input)"
   ]
  },
  {
   "cell_type": "code",
   "execution_count": 7,
   "metadata": {
    "collapsed": true
   },
   "outputs": [],
   "source": [
    "pickle_input = open('letters_word_accetuation_predictions.pkl', 'rb')\n",
    "letters_word_accetuation_predictions = pickle.load(pickle_input)\n",
    "pickle_input = open('syllables_word_accetuation_predictions.pkl', 'rb')\n",
    "syllables_word_accetuation_predictions = pickle.load(pickle_input)\n",
    "pickle_input = open('syllabled_letters_word_accetuation_predictions.pkl', 'rb')\n",
    "syllabled_letters_word_accetuation_predictions = pickle.load(pickle_input)"
   ]
  },
  {
   "cell_type": "code",
   "execution_count": 52,
   "metadata": {},
   "outputs": [
    {
     "name": "stdout",
     "output_type": "stream",
     "text": [
      "87.9845819040242\n"
     ]
    }
   ],
   "source": [
    "accuracy, errors = data.test_accuracy(syllabled_letters_word_accetuation_predictions, data.x_validate, data.x_other_features_validate, data.y_validate, dictionary, feature_dictionary, vowels, syllable_dictionary=syllable_dictionary)\n",
    "print(accuracy)"
   ]
  },
  {
   "cell_type": "code",
   "execution_count": 13,
   "metadata": {
    "collapsed": true
   },
   "outputs": [],
   "source": [
    "# TEST DATA\n",
    "pickle_input = open('letters_word_accetuation_test_error.pkl', 'rb')\n",
    "letters_word_accetuation_test = pickle.load(pickle_input)\n",
    "pickle_input = open('syllables_word_accetuation_test_error.pkl', 'rb')\n",
    "syllables_word_accetuation_test = pickle.load(pickle_input)\n",
    "pickle_input = open('syllabled_letters_word_accetuation_test_error.pkl', 'rb')\n",
    "syllabled_letters_word_accetuation_test = pickle.load(pickle_input)\n",
    "pickle_input = open('ensemble_test_errors.pkl', 'rb')\n",
    "ensemble_word_accetuation_test = pickle.load(pickle_input)\n",
    "\n",
    "pickle_input = open('letters_word_accetuation_test_predictions.pkl', 'rb')\n",
    "letters_word_accetuation_predictions = pickle.load(pickle_input)\n",
    "pickle_input = open('syllables_word_accetuation_test_predictions.pkl', 'rb')\n",
    "syllables_word_accetuation_predictions = pickle.load(pickle_input)\n",
    "pickle_input = open('syllabled_letters_word_accetuation_test_predictions.pkl', 'rb')\n",
    "syllabled_letters_word_accetuation_predictions = pickle.load(pickle_input)\n",
    "pickle_input = open('ensemble_test_predictions.pkl', 'rb')\n",
    "ensemble_word_accetuation_predictions = pickle.load(pickle_input)"
   ]
  },
  {
   "cell_type": "code",
   "execution_count": 51,
   "metadata": {},
   "outputs": [
    {
     "ename": "IndexError",
     "evalue": "index 52058 is out of bounds for axis 0 with size 52058",
     "output_type": "error",
     "traceback": [
      "\u001b[0;31m---------------------------------------------------------------------------\u001b[0m",
      "\u001b[0;31mIndexError\u001b[0m                                Traceback (most recent call last)",
      "\u001b[0;32m<ipython-input-51-38da4235909e>\u001b[0m in \u001b[0;36m<module>\u001b[0;34m()\u001b[0m\n\u001b[0;32m----> 1\u001b[0;31m \u001b[0maccuracy\u001b[0m\u001b[0;34m,\u001b[0m \u001b[0merrors\u001b[0m \u001b[0;34m=\u001b[0m \u001b[0mdata\u001b[0m\u001b[0;34m.\u001b[0m\u001b[0mtest_accuracy\u001b[0m\u001b[0;34m(\u001b[0m\u001b[0msyllables_word_accetuation_predictions\u001b[0m\u001b[0;34m,\u001b[0m \u001b[0mdata\u001b[0m\u001b[0;34m.\u001b[0m\u001b[0mx_test\u001b[0m\u001b[0;34m,\u001b[0m \u001b[0mdata\u001b[0m\u001b[0;34m.\u001b[0m\u001b[0mx_other_features_test\u001b[0m\u001b[0;34m,\u001b[0m \u001b[0mdata\u001b[0m\u001b[0;34m.\u001b[0m\u001b[0my_test\u001b[0m\u001b[0;34m,\u001b[0m \u001b[0mdictionary\u001b[0m\u001b[0;34m,\u001b[0m \u001b[0mfeature_dictionary\u001b[0m\u001b[0;34m,\u001b[0m \u001b[0mvowels\u001b[0m\u001b[0;34m,\u001b[0m \u001b[0msyllable_dictionary\u001b[0m\u001b[0;34m=\u001b[0m\u001b[0msyllable_dictionary\u001b[0m\u001b[0;34m)\u001b[0m\u001b[0;34m\u001b[0m\u001b[0m\n\u001b[0m\u001b[1;32m      2\u001b[0m \u001b[0mprint\u001b[0m\u001b[0;34m(\u001b[0m\u001b[0maccuracy\u001b[0m\u001b[0;34m)\u001b[0m\u001b[0;34m\u001b[0m\u001b[0m\n",
      "\u001b[0;32m~/Developement/accetuation/prepare_data.py\u001b[0m in \u001b[0;36mtest_accuracy\u001b[0;34m(self, predictions, x, x_other_features, y, dictionary, feature_dictionary, vowels, syllable_dictionary)\u001b[0m\n\u001b[1;32m    820\u001b[0m         \u001b[0mnum_of_correct_pred\u001b[0m \u001b[0;34m=\u001b[0m \u001b[0;36m0\u001b[0m\u001b[0;34m\u001b[0m\u001b[0m\n\u001b[1;32m    821\u001b[0m         \u001b[0;32mfor\u001b[0m \u001b[0mi\u001b[0m \u001b[0;32min\u001b[0m \u001b[0mrange\u001b[0m\u001b[0;34m(\u001b[0m\u001b[0mpredictions\u001b[0m\u001b[0;34m.\u001b[0m\u001b[0mshape\u001b[0m\u001b[0;34m[\u001b[0m\u001b[0;36m0\u001b[0m\u001b[0;34m]\u001b[0m\u001b[0;34m)\u001b[0m\u001b[0;34m:\u001b[0m\u001b[0;34m\u001b[0m\u001b[0m\n\u001b[0;32m--> 822\u001b[0;31m             \u001b[0;32mif\u001b[0m \u001b[0;34m(\u001b[0m\u001b[0mnp\u001b[0m\u001b[0;34m.\u001b[0m\u001b[0maround\u001b[0m\u001b[0;34m(\u001b[0m\u001b[0mpredictions\u001b[0m\u001b[0;34m[\u001b[0m\u001b[0mi\u001b[0m\u001b[0;34m]\u001b[0m\u001b[0;34m)\u001b[0m \u001b[0;34m==\u001b[0m \u001b[0my\u001b[0m\u001b[0;34m[\u001b[0m\u001b[0mi\u001b[0m\u001b[0;34m]\u001b[0m\u001b[0;34m)\u001b[0m\u001b[0;34m.\u001b[0m\u001b[0mall\u001b[0m\u001b[0;34m(\u001b[0m\u001b[0;34m)\u001b[0m\u001b[0;34m:\u001b[0m\u001b[0;34m\u001b[0m\u001b[0m\n\u001b[0m\u001b[1;32m    823\u001b[0m                 \u001b[0mnum_of_correct_pred\u001b[0m \u001b[0;34m+=\u001b[0m \u001b[0;36m1\u001b[0m\u001b[0;34m\u001b[0m\u001b[0m\n\u001b[1;32m    824\u001b[0m             \u001b[0;32melse\u001b[0m\u001b[0;34m:\u001b[0m\u001b[0;34m\u001b[0m\u001b[0m\n",
      "\u001b[0;31mIndexError\u001b[0m: index 52058 is out of bounds for axis 0 with size 52058"
     ]
    }
   ],
   "source": [
    "accuracy, errors = data.test_accuracy(syllabled_letters_word_accetuation_predictions, data.x_test, data.x_other_features_test, data.y_test, dictionary, feature_dictionary, vowels, syllable_dictionary=syllable_dictionary)\n",
    "print(accuracy)"
   ]
  },
  {
   "cell_type": "code",
   "execution_count": 14,
   "metadata": {},
   "outputs": [
    {
     "name": "stdout",
     "output_type": "stream",
     "text": [
      "90.23643539522703\n"
     ]
    }
   ],
   "source": [
    "ensemble_predictions = np.mean( np.array([ letters_word_accetuation_predictions, syllables_word_accetuation_predictions, syllabled_letters_word_accetuation_predictions ]), axis=0 )\n",
    "accuracy, errors = data.test_accuracy(ensemble_predictions, data.x_validate, data.x_other_features_validate, data.y_validate, dictionary, feature_dictionary, vowels, syllable_dictionary=syllable_dictionary)\n",
    "print(accuracy)"
   ]
  },
  {
   "cell_type": "code",
   "execution_count": 11,
   "metadata": {},
   "outputs": [
    {
     "ename": "NameError",
     "evalue": "name 'ensemble_predictions' is not defined",
     "output_type": "error",
     "traceback": [
      "\u001b[0;31m---------------------------------------------------------------------------\u001b[0m",
      "\u001b[0;31mNameError\u001b[0m                                 Traceback (most recent call last)",
      "\u001b[0;32m<ipython-input-11-9e83198bb8ec>\u001b[0m in \u001b[0;36m<module>\u001b[0;34m()\u001b[0m\n\u001b[1;32m      3\u001b[0m \u001b[0moutput\u001b[0m\u001b[0;34m.\u001b[0m\u001b[0mclose\u001b[0m\u001b[0;34m(\u001b[0m\u001b[0;34m)\u001b[0m\u001b[0;34m\u001b[0m\u001b[0m\n\u001b[1;32m      4\u001b[0m \u001b[0moutput\u001b[0m \u001b[0;34m=\u001b[0m \u001b[0mopen\u001b[0m\u001b[0;34m(\u001b[0m\u001b[0;34m'ensemble_test_predictions.pkl'\u001b[0m\u001b[0;34m,\u001b[0m \u001b[0;34m'wb'\u001b[0m\u001b[0;34m)\u001b[0m\u001b[0;34m\u001b[0m\u001b[0m\n\u001b[0;32m----> 5\u001b[0;31m \u001b[0mpickle\u001b[0m\u001b[0;34m.\u001b[0m\u001b[0mdump\u001b[0m\u001b[0;34m(\u001b[0m\u001b[0mensemble_predictions\u001b[0m\u001b[0;34m,\u001b[0m \u001b[0moutput\u001b[0m\u001b[0;34m)\u001b[0m\u001b[0;34m\u001b[0m\u001b[0m\n\u001b[0m\u001b[1;32m      6\u001b[0m \u001b[0moutput\u001b[0m\u001b[0;34m.\u001b[0m\u001b[0mclose\u001b[0m\u001b[0;34m(\u001b[0m\u001b[0;34m)\u001b[0m\u001b[0;34m\u001b[0m\u001b[0m\n",
      "\u001b[0;31mNameError\u001b[0m: name 'ensemble_predictions' is not defined"
     ]
    }
   ],
   "source": [
    "output = open('ensemble_test_errors.pkl', 'wb')\n",
    "pickle.dump(errors, output)\n",
    "output.close()\n",
    "output = open('ensemble_test_predictions.pkl', 'wb')\n",
    "pickle.dump(ensemble_predictions, output)\n",
    "output.close()"
   ]
  },
  {
   "cell_type": "code",
   "execution_count": 84,
   "metadata": {},
   "outputs": [
    {
     "data": {
      "text/plain": [
       "52058"
      ]
     },
     "execution_count": 84,
     "metadata": {},
     "output_type": "execute_result"
    }
   ],
   "source": [
    "len(predictions)"
   ]
  },
  {
   "cell_type": "code",
   "execution_count": 19,
   "metadata": {},
   "outputs": [
    {
     "name": "stdout",
     "output_type": "stream",
     "text": [
      "6214\n",
      "7770\n",
      "6515\n",
      "3232\n",
      "3662\n",
      "3868\n",
      "0.8641323139575089\n",
      "2609\n",
      "UNIQUE ERRORS\n",
      "1594\n"
     ]
    }
   ],
   "source": [
    "def compare_outputs(outputs1, outputs2):\n",
    "    outputs2_indices = [el[0] for el in outputs2]\n",
    "    return [el for el in outputs1 if el[0] in outputs2_indices]\n",
    "\n",
    "def get_unique_errors(outputs1, outputs2):\n",
    "    outputs2_indices = [el[0] for el in outputs2]\n",
    "    return [el for el in outputs1 if el[0] not in outputs2_indices]\n",
    "\n",
    "print(len(letters_word_accetuation))\n",
    "print(len(syllables_word_accetuation))\n",
    "print(len(syllabled_letters_word_accetuation))\n",
    "print(len(compare_outputs(letters_word_accetuation, syllables_word_accetuation)))\n",
    "print(len(compare_outputs(letters_word_accetuation, syllabled_letters_word_accetuation)))\n",
    "print(len(compare_outputs(syllables_word_accetuation, syllabled_letters_word_accetuation)))\n",
    "\n",
    "\n",
    "print(1  - 7073.0/52058)\n",
    "collective_errors = compare_outputs(letters_word_accetuation, compare_outputs(syllabled_letters_word_accetuation, syllables_word_accetuation))\n",
    "print(len(collective_errors))\n",
    "\n",
    "# print(letters_word_accetuation[:20])\n",
    "# print(syllables_word_accetuation[:20])\n",
    "# print(syllabled_letters_word_accetuation[:20])\n",
    "# print(collective_errors)\n",
    "\n",
    "# unique_err = get_unique_errors(get_unique_errors(letters_word_accetuation, syllables_word_accetuation), syllabled_letters_word_accetuation)\n",
    "# unique_err = get_unique_errors(get_unique_errors(syllables_word_accetuation, letters_word_accetuation), syllabled_letters_word_accetuation)\n",
    "unique_err = get_unique_errors(get_unique_errors(syllabled_letters_word_accetuation, letters_word_accetuation), syllables_word_accetuation)\n",
    "print(\"UNIQUE ERRORS\")\n",
    "print(len(unique_err))"
   ]
  },
  {
   "cell_type": "code",
   "execution_count": 100,
   "metadata": {},
   "outputs": [
    {
     "name": "stdout",
     "output_type": "stream",
     "text": [
      "[  1.84468085e-08   9.99999106e-01   2.88171825e-17   7.48493946e-24\n",
      "   4.87220418e-36   0.00000000e+00   0.00000000e+00   0.00000000e+00\n",
      "   0.00000000e+00   0.00000000e+00]\n",
      "[  3.23229117e-11   9.99989212e-01   2.31212027e-08   2.49620165e-26\n",
      "   3.08989440e-20   4.69045294e-21   4.73113282e-38   1.19897549e-33\n",
      "   8.32371040e-34   0.00000000e+00]\n",
      "[  4.11718755e-27   1.00000000e+00   2.89068776e-27   0.00000000e+00\n",
      "   0.00000000e+00   0.00000000e+00   0.00000000e+00   0.00000000e+00\n",
      "   0.00000000e+00   0.00000000e+00]\n",
      "[  6.15971052e-09   9.99996126e-01   7.70706787e-09   2.50330040e-24\n",
      "   1.02996483e-20   1.56348435e-21   1.57704427e-38   3.99658482e-34\n",
      "   2.77457006e-34   0.00000000e+00]\n",
      "0.9999961059999999\n"
     ]
    }
   ],
   "source": [
    "print(letters_word_accetuation_predictions[0])\n",
    "print(syllables_word_accetuation_predictions[0])\n",
    "print(syllabled_letters_word_accetuation_predictions[0])\n",
    "\n",
    "test = np.mean( np.array([ letters_word_accetuation_predictions, syllables_word_accetuation_predictions, syllabled_letters_word_accetuation_predictions ]), axis=0 )\n",
    "print(test[0])\n",
    "print((9.99999106e-01 + 9.99989212e-01 + 1.00000000e+00)/3)"
   ]
  },
  {
   "cell_type": "code",
   "execution_count": 12,
   "metadata": {},
   "outputs": [
    {
     "name": "stdout",
     "output_type": "stream",
     "text": [
      "91.7054055092397\n"
     ]
    }
   ],
   "source": [
    "ensemble_predictions = np.mean( np.array([ letters_word_accetuation_predictions, syllables_word_accetuation_predictions, syllabled_letters_word_accetuation_predictions ]), axis=0 )\n",
    "accuracy, errors = data.test_accuracy(ensemble_predictions, data.x_test, data.x_other_features_test, data.y_test, dictionary, feature_dictionary, vowels, syllable_dictionary=syllable_dictionary)\n",
    "print(accuracy)"
   ]
  },
  {
   "cell_type": "code",
   "execution_count": 55,
   "metadata": {
    "collapsed": true
   },
   "outputs": [],
   "source": [
    "output = open('ensemble_errors.pkl', 'wb')\n",
    "pickle.dump(errors, output)\n",
    "output.close()\n",
    "output = open('ensemble_predictions.pkl', 'wb')\n",
    "pickle.dump(predictions, output)\n",
    "output.close()"
   ]
  },
  {
   "cell_type": "code",
   "execution_count": 54,
   "metadata": {},
   "outputs": [
    {
     "data": {
      "text/plain": [
       "91.7054055092397"
      ]
     },
     "execution_count": 54,
     "metadata": {},
     "output_type": "execute_result"
    }
   ],
   "source": [
    "accuracy"
   ]
  },
  {
   "cell_type": "code",
   "execution_count": 16,
   "metadata": {},
   "outputs": [
    {
     "data": {
      "text/plain": [
       "54222"
      ]
     },
     "execution_count": 16,
     "metadata": {},
     "output_type": "execute_result"
    }
   ],
   "source": [
    "len(ensemble_predictions)"
   ]
  },
  {
   "cell_type": "code",
   "execution_count": 21,
   "metadata": {},
   "outputs": [
    {
     "data": {
      "text/plain": [
       "0.9020692707756999"
      ]
     },
     "execution_count": 21,
     "metadata": {},
     "output_type": "execute_result"
    }
   ],
   "source": [
    "1 - len(errors)/float(data.x_validate.shape[0])"
   ]
  },
  {
   "cell_type": "code",
   "execution_count": 81,
   "metadata": {},
   "outputs": [
    {
     "name": "stdout",
     "output_type": "stream",
     "text": [
      "5145\n"
     ]
    },
    {
     "data": {
      "text/plain": [
       "[[39151, 'angelček', 'Ncmsn-', 'angélček', 'ángelček'],\n",
       " [23994, 'angelčka', 'Ncmsay', 'angélčka', 'ángelčka'],\n",
       " [51473, 'angelčka', 'Ncmdn-', 'angélčka', 'ángelčka'],\n",
       " [51722, 'angelčka', 'Ncmda-', 'angélčka', 'ángelčka'],\n",
       " [39441, 'angelčke', 'Ncmpa-', 'angélčke', 'ángelčke'],\n",
       " [13007, 'angelčki', 'Ncmpi-', 'angélčki', 'ángelčki'],\n",
       " [26666, 'angelčki', 'Ncmpn-', 'angélčki', 'ángelčki'],\n",
       " [12105, 'angelčkih', 'Ncmpl-', 'angélčkih', 'ángelčkih'],\n",
       " [38386, 'angelčkih', 'Ncmdl-', 'angélčkih', 'ángelčkih'],\n",
       " [47668, 'angelčkom', 'Ncmsi-', 'angélčkom', 'ángelčkom'],\n",
       " [50929, 'angelčkom', 'Ncmpd-', 'angélčkom', 'ángelčkom'],\n",
       " [31075, 'angelčkoma', 'Ncmdd-', 'angélčkoma', 'ángelčkoma'],\n",
       " [44215, 'angelčkoma', 'Ncmdi-', 'angélčkoma', 'ángelčkoma'],\n",
       " [17076, 'angelčkov', 'Ncmdg-', 'angélčkov', 'ángelčkov'],\n",
       " [45804, 'angelčkov', 'Ncmpg-', 'angélčkov', 'ángelčkov'],\n",
       " [6155, 'angelčku', 'Ncmsd-', 'angélčku', 'ángelčku'],\n",
       " [30432, 'angelčku', 'Ncmsl-', 'angélčku', 'ángelčku'],\n",
       " [46442, 'antisemitizem', 'Ncmsn-', 'antisemitízem', 'ántisemitízem'],\n",
       " [51454, 'antisemitizem', 'Ncmsan', 'antisemitízem', 'ántisemitízem'],\n",
       " [23548, 'antisemitizmom', 'Ncmsi-', 'antisemitízmom', 'ántisemitízmom'],\n",
       " [37078, 'antisemitizmu', 'Ncmsl-', 'antisemitízmu', 'ántisemitízmu'],\n",
       " [123, 'astronoma', 'Ncmda-', 'astrónoma', 'astronóma'],\n",
       " [5075, 'astronoma', 'Ncmsg-', 'astrónoma', 'astronóma'],\n",
       " [35607, 'astronoma', 'Ncmdn-', 'astrónoma', 'astronóma'],\n",
       " [42845, 'astronoma', 'Ncmsay', 'astrónoma', 'astronóma'],\n",
       " [17827, 'astronomi', 'Ncmpi-', 'astrónomi', 'astronómi'],\n",
       " [3684, 'avtohton', 'Agpmsan', 'ávtohton', 'avtohtón'],\n",
       " [45316, 'avtohton', 'Agpmsnn', 'ávtohton', 'avtohtón'],\n",
       " [34626, 'belgijskem', 'Agpnsl-', 'belgíjskem', 'bélgijskem'],\n",
       " [46832, 'belgijskem', 'Agpmsl-', 'belgíjskem', 'bélgijskem'],\n",
       " [1966, 'belgijskih', 'Agpfpl-', 'belgíjskih', 'bélgijskih'],\n",
       " [2712, 'belgijskih', 'Agpmdl-', 'belgíjskih', 'bélgijskih'],\n",
       " [3053, 'belgijskih', 'Agpfdl-', 'belgíjskih', 'bélgijskih'],\n",
       " [6106, 'belgijskih', 'Agpfdg-', 'belgíjskih', 'bélgijskih'],\n",
       " [11374, 'belgijskih', 'Agpnpl-', 'belgíjskih', 'bélgijskih'],\n",
       " [13033, 'belgijskih', 'Agpfpg-', 'belgíjskih', 'bélgijskih'],\n",
       " [13775, 'belgijskih', 'Agpmpl-', 'belgíjskih', 'bélgijskih'],\n",
       " [20804, 'belgijskih', 'Agpmpg-', 'belgíjskih', 'bélgijskih'],\n",
       " [33899, 'belgijskih', 'Agpndl-', 'belgíjskih', 'bélgijskih'],\n",
       " [41780, 'belgijskih', 'Agpndg-', 'belgíjskih', 'bélgijskih'],\n",
       " [46324, 'belgijskih', 'Agpmdg-', 'belgíjskih', 'bélgijskih'],\n",
       " [46940, 'belgijskih', 'Agpnpg-', 'belgíjskih', 'bélgijskih'],\n",
       " [10671, 'belgijskim', 'Agpnpd-', 'belgíjskim', 'bélgijskim'],\n",
       " [34349, 'belgijskim', 'Agpmpd-', 'belgíjskim', 'bélgijskim'],\n",
       " [39094, 'belgijskim', 'Agpmsi-', 'belgíjskim', 'bélgijskim'],\n",
       " [40602, 'belgijskim', 'Agpfpd-', 'belgíjskim', 'bélgijskim'],\n",
       " [47849, 'belgijskim', 'Agpnsi-', 'belgíjskim', 'bélgijskim'],\n",
       " [17195, 'birokracij', 'Ncfdg-', 'birokrácij', 'birokracíj'],\n",
       " [35410, 'birokracij', 'Ncfpg-', 'birokrácij', 'birokracíj'],\n",
       " [6563, 'blagostanj', 'Ncndg-', 'blagóstanj', 'blagostánj'],\n",
       " [48588, 'blagostanj', 'Ncnpg-', 'blagóstanj', 'blagostánj'],\n",
       " [1279, 'bobnanj', 'Ncnpg-', 'bobnánj', 'bóbnanj'],\n",
       " [29842, 'bobnanj', 'Ncndg-', 'bobnánj', 'bóbnanj'],\n",
       " [5590, 'boter', 'Ncfdg-', 'botér', 'bóter'],\n",
       " [38060, 'boter', 'Ncfpg-', 'botér', 'bóter'],\n",
       " [22745, 'bratranca', 'Ncmdn-', 'bratránca', 'brátranca'],\n",
       " [25474, 'bratranca', 'Ncmsay', 'bratránca', 'brátranca'],\n",
       " [34241, 'bratranca', 'Ncmda-', 'bratránca', 'brátranca'],\n",
       " [37957, 'bratranca', 'Ncmsg-', 'bratránca', 'brátranca'],\n",
       " [7869, 'bratrance', 'Ncmpa-', 'bratránce', 'brátrance'],\n",
       " [3715, 'bratranci', 'Ncmpn-', 'bratránci', 'brátranci'],\n",
       " [37732, 'bratranci', 'Ncmpi-', 'bratránci', 'brátranci'],\n",
       " [17111, 'bratrancu', 'Ncmsd-', 'bratrancu', 'brátrancu'],\n",
       " [11398, 'brenkal', 'Vm-p-sm-', 'brenkál', 'brénkal'],\n",
       " [5846, 'brenkala', 'Vm-p-pn-', 'brenkála', 'brénkala'],\n",
       " [19231, 'brenkala', 'Vm-p-dm-', 'brenkála', 'brénkala'],\n",
       " [22107, 'brenkala', 'Vm-p-sf-', 'brenkála', 'brénkala'],\n",
       " [9993, 'brenkale', 'Vm-p-pf-', 'brenkále', 'brénkale'],\n",
       " [2191, 'brenkali', 'Vm-p-df-', 'brenkáli', 'brénkali'],\n",
       " [16123, 'brenkali', 'Vm-p-pm-', 'brenkáli', 'brénkali'],\n",
       " [47087, 'brenkali', 'Vm-p-dn-', 'brenkáli', 'brénkali'],\n",
       " [42390, 'brenkalo', 'Vm-p-sn-', 'brenkálo', 'brénkalo'],\n",
       " [30124, 'brenkata', 'Vm-r2d-n', 'brenkáta', 'brénkata'],\n",
       " [30508, 'brenkata', 'Vm-r3d-n', 'brenkáta', 'brénkata'],\n",
       " [49044, 'brenkati', 'Vm-n----', 'brenkáti', 'brénkati'],\n",
       " [22291, 'cenimo', 'Vm-r1p--', 'cenímo', 'cénimo'],\n",
       " [31452, 'cenita', 'Vm-r2d--', 'ceníta', 'cénita'],\n",
       " [19336, 'cenite', 'Vm-r2p--', 'ceníte', 'cénite'],\n",
       " [1071, 'ceniti', 'Vm-n----', 'ceníti', 'céniti'],\n",
       " [47796, 'ceniva', 'Vm-r1d--', 'ceníva', 'céniva'],\n",
       " [786, 'centimeter', 'Ncmsan', 'centiméter', 'céntiméter'],\n",
       " [51326, 'centimeter', 'Ncmsn-', 'centiméter', 'céntiméter'],\n",
       " [7520, 'centimetra', 'Ncmdn-', 'centimétra', 'céntimétra'],\n",
       " [31675, 'centimetra', 'Ncmsg-', 'centimétra', 'céntimétra'],\n",
       " [51023, 'centimetra', 'Ncmda-', 'centimétra', 'céntimétra'],\n",
       " [27580, 'centimetre', 'Ncmpa-', 'centimétre', 'céntimétre'],\n",
       " [40900, 'centimetri', 'Ncmpn-', 'centimétri', 'céntimétri'],\n",
       " [48098, 'centimetri', 'Ncmpi-', 'centimétri', 'céntimétri'],\n",
       " [2646, 'centimetrih', 'Ncmdl-', 'centimétrih', 'céntimétrih'],\n",
       " [20441, 'centimetrih', 'Ncmpl-', 'centimétrih', 'céntimétrih'],\n",
       " [38444, 'centimetrom', 'Ncmpd-', 'centimétrom', 'céntimétrom'],\n",
       " [38446, 'centimetrom', 'Ncmsi-', 'centimétrom', 'céntimétrom'],\n",
       " [569, 'centimetroma', 'Ncmdi-', 'centimétroma', 'céntimétroma'],\n",
       " [44119, 'centimetroma', 'Ncmdd-', 'centimétroma', 'céntimétroma'],\n",
       " [35187, 'centimetrov', 'Ncmdg-', 'centimétrov', 'céntimétrov'],\n",
       " [43752, 'centimetrov', 'Ncmpg-', 'centimétrov', 'céntimétrov'],\n",
       " [38414, 'centimetru', 'Ncmsd-', 'centimétru', 'céntimétru'],\n",
       " [44778, 'centimetru', 'Ncmsl-', 'centimétru', 'céntimétru'],\n",
       " [23158, 'cvetličarja', 'Ncmsg-', 'cvetlíčarja', 'cvetličárja'],\n",
       " [41756, 'cvetličarja', 'Ncmdn-', 'cvetlíčarja', 'cvetličárja'],\n",
       " [47610, 'cvetličarja', 'Ncmda-', 'cvetlíčarja', 'cvetličárja'],\n",
       " [51875, 'cvetličarja', 'Ncmsay', 'cvetlíčarja', 'cvetličárja'],\n",
       " [12046, 'cvetličarje', 'Ncmpa-', 'cvetlíčarje', 'cvetličárje'],\n",
       " [35732, 'cvetličarjem', 'Ncmsi-', 'cvetlíčarjem', 'cvetličárjem'],\n",
       " [39837, 'cvetličarjem', 'Ncmpd-', 'cvetlíčarjem', 'cvetličárjem'],\n",
       " [26050, 'cvetličarjev', 'Ncmpg-', 'cvetlíčarjev', 'cvetličárjev'],\n",
       " [41691, 'cvetličarjev', 'Ncmdg-', 'cvetlíčarjev', 'cvetličárjev'],\n",
       " [16118, 'cvetličarji', 'Ncmpn-', 'cvetlíčarji', 'cvetličárji'],\n",
       " [38878, 'cvetličarji', 'Ncmpi-', 'cvetlíčarji', 'cvetličárji'],\n",
       " [31791, 'cvetličarjih', 'Ncmpl-', 'cvetlíčarjih', 'cvetličárjih'],\n",
       " [34677, 'cvetličarjih', 'Ncmdl-', 'cvetlíčarjih', 'cvetličárjih'],\n",
       " [240, 'cvetličarju', 'Ncmsl-', 'cvetlíčarju', 'cvetličárju'],\n",
       " [50599, 'cvetličarju', 'Ncmsd-', 'cvetlíčarju', 'cvetličárju'],\n",
       " [46723, 'debelost', 'Ncfsa-', 'debélost', 'debelóst'],\n",
       " [4147, 'decimeter', 'Ncmsan', 'deciméter', 'déciméter'],\n",
       " [27407, 'decimeter', 'Ncmsn-', 'deciméter', 'déciméter'],\n",
       " [17088, 'decimetra', 'Ncmdn-', 'decimétra', 'décimétra'],\n",
       " [23266, 'decimetra', 'Ncmda-', 'decimétra', 'décimétra'],\n",
       " [26066, 'decimetra', 'Ncmsg-', 'decimétra', 'décimétra'],\n",
       " [7288, 'decimetre', 'Ncmpa-', 'decimétre', 'décimétre'],\n",
       " [5107, 'decimetri', 'Ncmpi-', 'decimétri', 'décimétri'],\n",
       " [29230, 'decimetri', 'Ncmpn-', 'decimétri', 'décimétri'],\n",
       " [8959, 'decimetrih', 'Ncmpl-', 'decimétrih', 'décimétrih'],\n",
       " [29014, 'decimetrih', 'Ncmdl-', 'decimétrih', 'décimétrih'],\n",
       " [17676, 'decimetrom', 'Ncmpd-', 'decimétrom', 'décimétrom'],\n",
       " [46178, 'decimetrom', 'Ncmsi-', 'decimétrom', 'décimétrom'],\n",
       " [21613, 'decimetroma', 'Ncmdd-', 'decimétroma', 'décimétroma'],\n",
       " [50035, 'decimetroma', 'Ncmdi-', 'decimétroma', 'décimétroma'],\n",
       " [19374, 'decimetrov', 'Ncmpg-', 'decimétrov', 'décimétrov'],\n",
       " [30710, 'decimetrov', 'Ncmdg-', 'decimétrov', 'décimétrov'],\n",
       " [25397, 'decimetru', 'Ncmsd-', 'decimétru', 'décimétru'],\n",
       " [26580, 'decimetru', 'Ncmsl-', 'decimétru', 'décimétru'],\n",
       " [38044, 'deteljah', 'Ncfpl-', 'detéljah', 'dételjah'],\n",
       " [8958, 'deteljam', 'Ncfpd-', 'detéljam', 'dételjam'],\n",
       " [9839, 'deteljama', 'Ncfdi-', 'detéljama', 'dételjama'],\n",
       " [18474, 'deteljama', 'Ncfdd-', 'detéljama', 'dételjama'],\n",
       " [14666, 'deteljami', 'Ncfpi-', 'detéljami', 'dételjami'],\n",
       " [22274, 'deteljo', 'Ncfsa-', 'détéljo', 'dételjo'],\n",
       " [10124, 'dimnikarska', 'Agpfsn-', 'dimnikárska', 'dímnikarska'],\n",
       " [11161, 'dimnikarska', 'Agpmda-', 'dimnikárska', 'dímnikarska'],\n",
       " [20362, 'dimnikarska', 'Agpnpa-', 'dimnikárska', 'dímnikarska'],\n",
       " [41373, 'dimnikarska', 'Agpmdn-', 'dimnikárska', 'dímnikarska'],\n",
       " [48282, 'dimnikarska', 'Agpnpn-', 'dimnikárska', 'dímnikarska'],\n",
       " [1739, 'dimnikarske', 'Agpmpa-', 'dimnikárske', 'dímnikarske'],\n",
       " [18094, 'dimnikarske', 'Agpfpa-', 'dimnikárske', 'dímnikarske'],\n",
       " [21979, 'dimnikarske', 'Agpfpn-', 'dimnikárske', 'dímnikarske'],\n",
       " [50151, 'dimnikarske', 'Agpfsg-', 'dimnikárske', 'dímnikarske'],\n",
       " [8838, 'dimnikarskem', 'Agpmsl-', 'dimnikárskem', 'dímnikarskem'],\n",
       " [23348, 'dimnikarskem', 'Agpnsl-', 'dimnikárskem', 'dímnikarskem'],\n",
       " [42130, 'dimnikarski', 'Agpmpn-', 'dimnikárski', 'dímnikarski'],\n",
       " [43529, 'dimnikarski', 'Agpmsn-', 'dimnikárski', 'dímnikarski'],\n",
       " [49195, 'dimnikarski', 'Agpmsa-', 'dimnikárski', 'dímnikarski'],\n",
       " [20325, 'dimnikarskih', 'Agpnpl-', 'dimnikárskih', 'dímnikarskih'],\n",
       " [14471, 'dimnikarsko', 'Agpfsi-', 'dimnikársko', 'dímnikarsko'],\n",
       " [17153, 'dimnikarsko', 'Agpnsa-', 'dimnikársko', 'dímnikarsko'],\n",
       " [27425, 'dimnikarsko', 'Agpnsn-', 'dimnikársko', 'dímnikarsko'],\n",
       " [38535, 'dimnikarsko', 'Agpfsa-', 'dimnikársko', 'dímnikarsko'],\n",
       " [11794, 'dramiva', 'Vm-r1d--', 'drámiva', 'dramíva'],\n",
       " [16077, 'enoličen', 'Agpmsan', 'enóličen', 'énolíčen'],\n",
       " [48424, 'enoličen', 'Agpmsnn', 'enóličen', 'énolíčen'],\n",
       " [7295, 'enolična', 'Agpmda-', 'enólična', 'énolíčna'],\n",
       " [25587, 'enolična', 'Agpnpa-', 'enólična', 'énolíčna'],\n",
       " [27026, 'enolična', 'Agpmdn-', 'enólična', 'énolíčna'],\n",
       " [43279, 'enolična', 'Agpnpn-', 'enólična', 'énolíčna'],\n",
       " [44456, 'enolična', 'Agpfsn-', 'enólična', 'énolíčna'],\n",
       " [8064, 'enolične', 'Agpmpa-', 'enólične', 'énolíčne'],\n",
       " [8681, 'enolične', 'Agpfsg-', 'enólične', 'énolíčne'],\n",
       " [17454, 'enolične', 'Agpfpa-', 'enólične', 'énolíčne'],\n",
       " [18263, 'enolične', 'Agpfpn-', 'enólične', 'énolíčne'],\n",
       " [21876, 'enoličnega', 'Agpmsg-', 'enóličnega', 'énolíčnega'],\n",
       " [26205, 'enoličnega', 'Agpnsg-', 'enóličnega', 'énolíčnega'],\n",
       " [48990, 'enoličnega', 'Agpmsa-', 'enóličnega', 'énolíčnega'],\n",
       " [10911, 'enoličnem', 'Agpmsl-', 'enóličnem', 'énolíčnem'],\n",
       " [43379, 'enoličnem', 'Agpnsl-', 'énóličnem', 'énolíčnem'],\n",
       " [16675, 'enoličnemu', 'Agpmsd-', 'enóličnemu', 'énolíčnemu'],\n",
       " [26186, 'enoličnemu', 'Agpnsd-', 'enóličnemu', 'énolíčnemu'],\n",
       " [9109, 'enolični', 'Agpfda-', 'enólični', 'énolíčni'],\n",
       " [9549, 'enolični', 'Agpfsd-', 'enólični', 'énolíčni'],\n",
       " [10690, 'enolični', 'Agpmsny', 'enólični', 'énolíčni'],\n",
       " [16975, 'enolični', 'Agpmsay', 'enólični', 'énolíčni'],\n",
       " [18355, 'enolični', 'Agpfdn-', 'enólični', 'énolíčni'],\n",
       " [25985, 'enolični', 'Agpnda-', 'enólični', 'énolíčni'],\n",
       " [28708, 'enolični', 'Agpfsl-', 'enólični', 'énolíčni'],\n",
       " [42107, 'enolični', 'Agpndn-', 'enólični', 'énolíčni'],\n",
       " [43344, 'enolični', 'Agpmpn-', 'enólični', 'énolíčni'],\n",
       " [1165, 'enoličnih', 'Agpfdl-', 'énóličnih', 'énolíčnih'],\n",
       " [8073, 'enoličnih', 'Agpnpl-', 'énóličnih', 'énolíčnih'],\n",
       " [8299, 'enoličnih', 'Agpmpl-', 'énóličnih', 'énolíčnih'],\n",
       " [10007, 'enoličnih', 'Agpmpg-', 'enóličnih', 'énolíčnih'],\n",
       " [14854, 'enoličnih', 'Agpnpg-', 'énóličnih', 'énolíčnih'],\n",
       " [21194, 'enoličnih', 'Agpfpl-', 'énóličnih', 'énolíčnih'],\n",
       " [28263, 'enoličnih', 'Agpfdg-', 'enóličnih', 'énolíčnih'],\n",
       " [36552, 'enoličnih', 'Agpndl-', 'énóličnih', 'énolíčnih'],\n",
       " [39634, 'enoličnih', 'Agpmdg-', 'énóličnih', 'énolíčnih'],\n",
       " [40487, 'enoličnih', 'Agpfpg-', 'enóličnih', 'énolíčnih'],\n",
       " [43088, 'enoličnih', 'Agpmdl-', 'énóličnih', 'énolíčnih'],\n",
       " [45522, 'enoličnih', 'Agpndg-', 'énóličnih', 'énolíčnih'],\n",
       " [16132, 'enoličnim', 'Agpfpd-', 'enóličnim', 'énolíčnim'],\n",
       " [16657, 'enoličnim', 'Agpnsi-', 'énóličnim', 'énolíčnim'],\n",
       " [28811, 'enoličnim', 'Agpmsi-', 'énóličnim', 'énolíčnim'],\n",
       " [42721, 'enoličnim', 'Agpmpd-', 'enóličnim', 'énolíčnim'],\n",
       " [44537, 'enoličnim', 'Agpnpd-', 'enóličnim', 'énolíčnim'],\n",
       " [190, 'enoličnima', 'Agpfdi-', 'enóličnima', 'énolíčnima'],\n",
       " [19771, 'enoličnima', 'Agpndd-', 'enóličnima', 'énolíčnima'],\n",
       " [36600, 'enoličnima', 'Agpndi-', 'enóličnima', 'énolíčnima'],\n",
       " [40375, 'enoličnima', 'Agpfdd-', 'enóličnima', 'énolíčnima'],\n",
       " [49148, 'enoličnima', 'Agpmdd-', 'enóličnima', 'énolíčnima'],\n",
       " [50543, 'enoličnima', 'Agpmdi-', 'enóličnima', 'énolíčnima'],\n",
       " [3040, 'enoličnimi', 'Agpmpi-', 'enóličnimi', 'énolíčnimi'],\n",
       " [46667, 'enoličnimi', 'Agpnpi-', 'enóličnimi', 'énolíčnimi'],\n",
       " [50485, 'enoličnimi', 'Agpfpi-', 'enóličnimi', 'énolíčnimi'],\n",
       " [3841, 'enolično', 'Agpnsn-', 'enólično', 'énolíčno'],\n",
       " [20176, 'enolično', 'Agpnsa-', 'enólično', 'énolíčno'],\n",
       " [33857, 'enolično', 'Agpfsi-', 'enólično', 'énolíčno'],\n",
       " [47123, 'enolično', 'Rgp', 'enólično', 'énolíčno'],\n",
       " [48507, 'enolično', 'Agpfsa-', 'enólično', 'énolíčno'],\n",
       " [15422, 'godelj', 'Ncfdg-', 'godélj', 'gódelj'],\n",
       " [30429, 'goste', 'Rgp', 'góste', 'gosté'],\n",
       " [6240, 'hladnokrvna', 'Agpmda-', 'hládnokŕvna', 'hladnokŕvna'],\n",
       " [8061, 'hladnokrvna', 'Agpmdn-', 'hládnokŕvna', 'hladnokŕvna'],\n",
       " [17440, 'hladnokrvna', 'Agpnpn-', 'hládnokŕvna', 'hladnokŕvna'],\n",
       " [33712, 'hladnokrvna', 'Agpnpa-', 'hládnokŕvna', 'hladnokŕvna'],\n",
       " [46275, 'hladnokrvna', 'Agpfsn-', 'hládnokŕvna', 'hladnokŕvna'],\n",
       " [44248, 'hladnokrvni', 'Agpmsny', 'hládnokŕvni', 'hladnokŕvni'],\n",
       " [46993, 'hodnik', 'Ncmsan', 'hódnik', 'hodník'],\n",
       " [51672, 'hodnik', 'Ncmsn-', 'hódnik', 'hodník'],\n",
       " [4565, 'hollywoodska', 'Agpmda-', 'hollywoódska', 'hóllywoodska'],\n",
       " [16948, 'hollywoodska', 'Agpnpa-', 'hollywoódska', 'hóllywoodska'],\n",
       " [27280, 'hollywoodska', 'Agpmdn-', 'hollywoódska', 'hóllywoodska'],\n",
       " [37227, 'hollywoodska', 'Agpnpn-', 'hollywoódska', 'hóllywoodska'],\n",
       " [42137, 'hollywoodska', 'Agpfsn-', 'hollywoódska', 'hóllywoodska'],\n",
       " [1866, 'hollywoodske', 'Agpfpn-', 'hollywoódske', 'hóllywoodske'],\n",
       " [31247, 'hollywoodske', 'Agpfsg-', 'hollywoódske', 'hóllywoodske'],\n",
       " [40710, 'hollywoodske', 'Agpfpa-', 'hollywoódske', 'hóllywoodske'],\n",
       " [51082, 'hollywoodske', 'Agpmpa-', 'hollywoódske', 'hóllywoodske'],\n",
       " [1919, 'hollywoodskega', 'Agpmsa-', 'hollywoódskega', 'hóllywoodskega'],\n",
       " [7404, 'hollywoodskega', 'Agpnsg-', 'hollywoódskega', 'hóllywoodskega'],\n",
       " [24915, 'hollywoodskega', 'Agpmsg-', 'hollywoódskega', 'hóllywoodskega'],\n",
       " [24537, 'hollywoodskem', 'Agpnsl-', 'hollywoódskem', 'hóllywoodskem'],\n",
       " [48530, 'hollywoodskem', 'Agpmsl-', 'hollywoódskem', 'hóllywoodskem'],\n",
       " [35338, 'hollywoodskemu', 'Agpmsd-', 'hollywoódskemu', 'hóllywoodskemu'],\n",
       " [47569, 'hollywoodskemu', 'Agpnsd-', 'hollywoódskemu', 'hóllywoodskemu'],\n",
       " [1951, 'hollywoodski', 'Agpmpn-', 'hollywoódski', 'hóllywoodski'],\n",
       " [7191, 'hollywoodski', 'Agpfda-', 'hollywoódski', 'hóllywoodski'],\n",
       " [16112, 'hollywoodski', 'Agpndn-', 'hollywoódski', 'hóllywoodski'],\n",
       " [23444, 'hollywoodski', 'Agpmsa-', 'hollywoódski', 'hóllywoodski'],\n",
       " [23800, 'hollywoodski', 'Agpnda-', 'hollywoódski', 'hóllywoodski'],\n",
       " [28291, 'hollywoodski', 'Agpfsl-', 'hollywoódski', 'hóllywoodski'],\n",
       " [32519, 'hollywoodski', 'Agpfdn-', 'hollywoódski', 'hóllywoodski'],\n",
       " [34781, 'hollywoodski', 'Agpfsd-', 'hollywoódski', 'hóllywoodski'],\n",
       " [35480, 'hollywoodski', 'Agpmsn-', 'hollywoódski', 'hóllywoodski'],\n",
       " [2144, 'hollywoodskih', 'Agpnpg-', 'hollywoódskih', 'hóllywoodskih'],\n",
       " [3945, 'hollywoodskih', 'Agpmdl-', 'hollywoódskih', 'hóllywoodskih'],\n",
       " [7904, 'hollywoodskih', 'Agpndg-', 'hollywoódskih', 'hóllywoodskih'],\n",
       " [11214, 'hollywoodskih', 'Agpfdg-', 'hollywoódskih', 'hóllywoodskih'],\n",
       " [16727, 'hollywoodskih', 'Agpndl-', 'hollywoódskih', 'hóllywoodskih'],\n",
       " [16962, 'hollywoodskih', 'Agpfdl-', 'hollywoódskih', 'hóllywoodskih'],\n",
       " [21169, 'hollywoodskih', 'Agpmdg-', 'hollywoódskih', 'hóllywoodskih'],\n",
       " [21659, 'hollywoodskih', 'Agpfpl-', 'hollywoódskih', 'hóllywoodskih'],\n",
       " [28489, 'hollywoodskih', 'Agpfpg-', 'hollywoódskih', 'hóllywoodskih'],\n",
       " [30904, 'hollywoodskih', 'Agpnpl-', 'hollywoódskih', 'hóllywoodskih'],\n",
       " [31866, 'hollywoodskih', 'Agpmpl-', 'hollywoódskih', 'hóllywoodskih'],\n",
       " [41341, 'hollywoodskih', 'Agpmpg-', 'hollywoódskih', 'hóllywoodskih'],\n",
       " [5662, 'hollywoodskim', 'Agpnpd-', 'hollywoódskim', 'hóllywoodskim'],\n",
       " [16662, 'hollywoodskim', 'Agpmpd-', 'hollywoódskim', 'hóllywoodskim'],\n",
       " [40284, 'hollywoodskim', 'Agpmsi-', 'hollywoódskim', 'hóllywoodskim'],\n",
       " [42312, 'hollywoodskim', 'Agpnsi-', 'hollywoódskim', 'hóllywoodskim'],\n",
       " [51105, 'hollywoodskim', 'Agpfpd-', 'hollywoódskim', 'hóllywoodskim'],\n",
       " [9795, 'hollywoodskima', 'Agpfdi-', 'hollywoódskima', 'hóllywoodskima'],\n",
       " [24899, 'hollywoodskima', 'Agpndi-', 'hollywoódskima', 'hóllywoodskima'],\n",
       " [32301, 'hollywoodskima', 'Agpndd-', 'hollywoódskima', 'hóllywoodskima'],\n",
       " [33713, 'hollywoodskima', 'Agpmdi-', 'hollywoódskima', 'hóllywoodskima'],\n",
       " [38131, 'hollywoodskima', 'Agpmdd-', 'hollywoódskima', 'hóllywoodskima'],\n",
       " [51723, 'hollywoodskima', 'Agpfdd-', 'hollywoódskima', 'hóllywoodskima'],\n",
       " [3952, 'hollywoodskimi', 'Agpfpi-', 'hollywoódskimi', 'hóllywoodskimi'],\n",
       " [50024, 'hollywoodskimi', 'Agpmpi-', 'hollywoódskimi', 'hóllywoodskimi'],\n",
       " [52046, 'hollywoodskimi', 'Agpnpi-', 'hollywoódskimi', 'hóllywoodskimi'],\n",
       " [10130, 'hollywoodsko', 'Agpfsi-', 'hollywoódsko', 'hóllywoodsko'],\n",
       " [11005, 'hollywoodsko', 'Agpfsa-', 'hollywoódsko', 'hóllywoodsko'],\n",
       " [13098, 'hollywoodsko', 'Agpnsa-', 'hollywoódsko', 'hóllywoodsko'],\n",
       " [25435, 'hollywoodsko', 'Agpnsn-', 'hollywoódsko', 'hóllywoodsko'],\n",
       " [15548, 'hrbet', 'Ncmsan', 'hrbét', 'hŕbet'],\n",
       " [29502, 'hrbet', 'Ncmsn-', 'hrbét', 'hŕbet'],\n",
       " [37204, 'hrume', 'Rgp', 'hrúme', 'hrumé'],\n",
       " [6701, 'hudobij', 'Ncfpg-', 'hudóbij', 'hudobíj'],\n",
       " [16569, 'hudobij', 'Ncfdg-', 'hudóbij', 'hudobíj'],\n",
       " [4691, 'ima', 'Vm-r3s-n', 'íma', 'imá'],\n",
       " [14350, 'imajo', 'Vm-r3p-n', 'ímajo', 'imájo'],\n",
       " [25869, 'imam', 'Vm-r1s-n', 'ímam', 'imám'],\n",
       " [4653, 'imamo', 'Vm-r1p-n', 'ímamo', 'imámo'],\n",
       " [18793, 'imata', 'Vm-r2d-n', 'ímata', 'imáta'],\n",
       " [37067, 'imata', 'Vm-r3d-n', 'ímata', 'imáta'],\n",
       " [25167, 'imate', 'Vm-r2p-n', 'ímate', 'imáte'],\n",
       " [21760, 'imava', 'Vm-r1d-n', 'ímava', 'imáva'],\n",
       " [15072, 'imaš', 'Vm-r2s-n', 'ímaš', 'imáš'],\n",
       " [12881, 'imejta', 'Vm-r2d--', 'ímejta', 'iméjta'],\n",
       " [1965, 'izcejala', 'Vm-p-dm-', 'izcejála', 'izcéjala'],\n",
       " [18470, 'izcejala', 'Vm-p-sf-', 'izcejála', 'izcéjala'],\n",
       " [39315, 'izcejala', 'Vm-p-pn-', 'izcejála', 'izcéjala'],\n",
       " [51937, 'izcejale', 'Vm-p-pf-', 'izcejále', 'izcéjale'],\n",
       " [5372, 'izcejali', 'Vm-p-df-', 'izcejáli', 'izcéjali'],\n",
       " [33143, 'izcejali', 'Vm-p-dn-', 'izcejáli', 'izcéjali'],\n",
       " [39968, 'izcejali', 'Vm-p-pm-', 'izcejáli', 'izcéjali'],\n",
       " [11147, 'izcejalo', 'Vm-p-sn-', 'izcejálo', 'izcéjalo'],\n",
       " [42338, 'izcejati', 'Vm-n----', 'izcejáti', 'izcéjati'],\n",
       " [2597, 'izobčenca', 'Ncmsg-', 'izobčénca', 'izóbčenca'],\n",
       " [17561, 'izobčenca', 'Ncmdn-', 'izobčénca', 'izóbčenca'],\n",
       " [33308, 'izobčenca', 'Ncmsay', 'izobčénca', 'izóbčenca'],\n",
       " [46901, 'izobčenca', 'Ncmda-', 'izobčénca', 'izóbčenca'],\n",
       " [2454, 'izobčence', 'Ncmpa-', 'izobčénce', 'izóbčence'],\n",
       " [11790, 'izobčencem', 'Ncmsi-', 'izobčéncem', 'izóbčencem'],\n",
       " [39324, 'izobčencem', 'Ncmpd-', 'izobčéncem', 'izóbčencem'],\n",
       " [23330, 'izobčencema', 'Ncmdi-', 'izobčéncema', 'izóbčencema'],\n",
       " [26226, 'izobčencema', 'Ncmdd-', 'izobčéncema', 'izóbčencema'],\n",
       " [5138, 'izobčencev', 'Ncmpg-', 'izobčéncev', 'izóbčencev'],\n",
       " [10263, 'izobčencev', 'Ncmdg-', 'izobčéncev', 'izóbčencev'],\n",
       " [46991, 'izobčenci', 'Ncmpi-', 'izobčénci', 'izóbčenci'],\n",
       " [47204, 'izobčenci', 'Ncmpn-', 'izobčénci', 'izóbčenci'],\n",
       " [14689, 'izobčencih', 'Ncmpl-', 'izobčéncih', 'izóbčencih'],\n",
       " [45795, 'izobčencih', 'Ncmdl-', 'izobčéncih', 'izóbčencih'],\n",
       " [37138, 'izobčencu', 'Ncmsl-', 'izobčéncu', 'izóbčencu'],\n",
       " [47285, 'izobčencu', 'Ncmsd-', 'izobčéncu', 'izóbčencu'],\n",
       " [9104, 'izvedena', 'Vm-p-pn-', 'izvedéna', 'izvédena'],\n",
       " [29489, 'izvedena', 'Vm-p-sf-', 'izvedéna', 'izvédena'],\n",
       " [40003, 'izvedena', 'Vm-p-dm-', 'izvedéna', 'izvédena'],\n",
       " [13193, 'izvedene', 'Vm-p-pf-', 'izvedéne', 'izvédene'],\n",
       " [11152, 'izvedeni', 'Vm-p-df-', 'izvedéni', 'izvédeni'],\n",
       " [19982, 'izvedeni', 'Vm-p-pm-', 'izvedéni', 'izvédeni'],\n",
       " [27296, 'izvedeni', 'Vm-p-dn-', 'izvedéni', 'izvédeni'],\n",
       " [2623, 'izvedeno', 'Vm-p-sn-', 'izvedéno', 'izvédeno'],\n",
       " [30976, 'izvedimo', 'Vm-r1p--', 'izvedímo', 'izvédimo'],\n",
       " [897, 'izvedita', 'Vm-r2d--', 'izvedíta', 'izvédita'],\n",
       " [13837, 'izvedite', 'Vm-r2p--', 'izvedíte', 'izvédite'],\n",
       " [45403, 'izvediva', 'Vm-r1d--', 'izvedíva', 'izvédiva'],\n",
       " [1185, 'izčrpnejša', 'Agcmda-', 'izčrpnejša', 'izčrpnéjša'],\n",
       " [25166, 'izčrpnejša', 'Agcnpn-', 'izčŕpnejša', 'izčrpnéjša'],\n",
       " [26218, 'izčrpnejša', 'Agcnpa-', 'izčŕpnejša', 'izčrpnéjša'],\n",
       " [40681, 'izčrpnejša', 'Agcmdn-', 'izčŕpnejša', 'izčrpnéjša'],\n",
       " [41145, 'izčrpnejša', 'Agcfsn-', 'izčŕpnejša', 'izčrpnéjša'],\n",
       " [14970, 'izčrpnejše', 'Agcfpa-', 'izčŕpnejše', 'izčrpnéjše'],\n",
       " [17354, 'izčrpnejše', 'Agcnsa-', 'izčŕpnejše', 'izčrpnéjše'],\n",
       " [17806, 'izčrpnejše', 'Rgc', 'izčŕpnejše', 'izčrpnéjše'],\n",
       " [25437, 'izčrpnejše', 'Agcmpa-', 'izčŕpnejše', 'izčrpnéjše'],\n",
       " [34081, 'izčrpnejše', 'Agcnsn-', 'izčŕpnejše', 'izčrpnéjše'],\n",
       " [38234, 'izčrpnejše', 'Agcfsg-', 'izčŕpnejše', 'izčrpnéjše'],\n",
       " [39898, 'izčrpnejše', 'Agcfpn-', 'izčŕpnejše', 'izčrpnéjše'],\n",
       " [33920, 'izčrpnejšega', 'Agcmsg-', 'izčŕpnejšega', 'izčrpnéjšega'],\n",
       " [39932, 'izčrpnejšega', 'Agcmsa-', 'izčŕpnejšega', 'izčrpnéjšega'],\n",
       " [46045, 'izčrpnejšega', 'Agcnsg-', 'izčŕpnejšega', 'izčrpnéjšega'],\n",
       " [15429, 'izčrpnejšem', 'Agcmsl-', 'izčŕpnejšem', 'izčrpnéjšem'],\n",
       " [27966, 'izčrpnejšem', 'Agcnsl-', 'izčŕpnejšem', 'izčrpnéjšem'],\n",
       " [5604, 'izčrpnejšemu', 'Agcnsd-', 'izčŕpnejšemu', 'izčrpnéjšemu'],\n",
       " [45640, 'izčrpnejšemu', 'Agcmsd-', 'izčŕpnejšemu', 'izčrpnéjšemu'],\n",
       " [9546, 'izčrpnejši', 'Agcnda-', 'izčrpnejši', 'izčrpnéjši'],\n",
       " [11908, 'izčrpnejši', 'Agcfsl-', 'izčŕpnejši', 'izčrpnéjši'],\n",
       " [15011, 'izčrpnejši', 'Agcmpn-', 'izčŕpnejši', 'izčrpnéjši'],\n",
       " [25825, 'izčrpnejši', 'Agcfsd-', 'ízčrpnejši', 'izčrpnéjši'],\n",
       " [25892, 'izčrpnejši', 'Agcfdn-', 'izčŕpnejši', 'izčrpnéjši'],\n",
       " [37650, 'izčrpnejši', 'Agcndn-', 'izčŕpnejši', 'izčrpnéjši'],\n",
       " [38604, 'izčrpnejši', 'Agcmsn-', 'izčŕpnejši', 'izčrpnéjši'],\n",
       " [45193, 'izčrpnejši', 'Agcfda-', 'ízčrpnejši', 'izčrpnéjši'],\n",
       " [48981, 'izčrpnejši', 'Agcmsa-', 'ízčrpnejši', 'izčrpnéjši'],\n",
       " [1429, 'izčrpnejših', 'Agcfpl-', 'izčŕpnejših', 'izčrpnéjših'],\n",
       " [3408, 'izčrpnejših', 'Agcfdg-', 'izčŕpnejših', 'izčrpnéjših'],\n",
       " [8426, 'izčrpnejših', 'Agcmpl-', 'izčŕpnejših', 'izčrpnéjših'],\n",
       " [17009, 'izčrpnejših', 'Agcfdl-', 'izčŕpnejših', 'izčrpnéjših'],\n",
       " [18640, 'izčrpnejših', 'Agcmpg-', 'izčŕpnejših', 'izčrpnéjših'],\n",
       " [24080, 'izčrpnejših', 'Agcmdg-', 'izčŕpnejših', 'izčrpnéjših'],\n",
       " [24381, 'izčrpnejših', 'Agcnpl-', 'izčŕpnejših', 'izčrpnéjših'],\n",
       " [31476, 'izčrpnejših', 'Agcndg-', 'izčŕpnejših', 'izčrpnéjših'],\n",
       " [41129, 'izčrpnejših', 'Agcnpg-', 'izčŕpnejših', 'izčrpnéjših'],\n",
       " [42934, 'izčrpnejših', 'Agcndl-', 'izčŕpnejših', 'izčrpnéjših'],\n",
       " [46058, 'izčrpnejših', 'Agcmdl-', 'izčŕpnejših', 'izčrpnéjših'],\n",
       " [49304, 'izčrpnejših', 'Agcfpg-', 'izčŕpnejših', 'izčrpnéjših'],\n",
       " [9449, 'izčrpnejšim', 'Agcnpd-', 'izčŕpnejšim', 'izčrpnéjšim'],\n",
       " [14383, 'izčrpnejšim', 'Agcmsi-', 'izčŕpnejšim', 'izčrpnéjšim'],\n",
       " [25078, 'izčrpnejšim', 'Agcnsi-', 'izčŕpnejšim', 'izčrpnéjšim'],\n",
       " [46930, 'izčrpnejšim', 'Agcmpd-', 'izčŕpnejšim', 'izčrpnéjšim'],\n",
       " [47094, 'izčrpnejšim', 'Agcfpd-', 'izčŕpnejšim', 'izčrpnéjšim'],\n",
       " [15437, 'izčrpnejšima', 'Agcfdi-', 'izčŕpnejšima', 'izčrpnéjšima'],\n",
       " [17866, 'izčrpnejšima', 'Agcfdd-', 'izčŕpnejšima', 'izčrpnéjšima'],\n",
       " [19053, 'izčrpnejšima', 'Agcndi-', 'izčŕpnejšima', 'izčrpnéjšima'],\n",
       " [48188, 'izčrpnejšima', 'Agcmdi-', 'izčŕpnejšima', 'izčrpnéjšima'],\n",
       " [48452, 'izčrpnejšima', 'Agcmdd-', 'izčŕpnejšima', 'izčrpnéjšima'],\n",
       " [51744, 'izčrpnejšima', 'Agcndd-', 'izčŕpnejšima', 'izčrpnéjšima'],\n",
       " [13046, 'izčrpnejšimi', 'Agcfpi-', 'izčŕpnejšimi', 'izčrpnéjšimi'],\n",
       " [23490, 'izčrpnejšimi', 'Agcmpi-', 'izčŕpnejšimi', 'izčrpnéjšimi'],\n",
       " [37376, 'izčrpnejšimi', 'Agcnpi-', 'izčŕpnejšimi', 'izčrpnéjšimi'],\n",
       " [24486, 'izčrpnejšo', 'Agcfsi-', 'izčŕpnejšo', 'izčrpnéjšo'],\n",
       " [37825, 'izčrpnejšo', 'Agcfsa-', 'izčŕpnejšo', 'izčrpnéjšo'],\n",
       " [10974, 'jagod', 'Ncfpg-', 'jagód', 'jágod'],\n",
       " [28181, 'jagod', 'Ncfdg-', 'jagód', 'jágod'],\n",
       " [41575, 'jagoda', 'Ncfsn-', 'jagóda', 'jágoda'],\n",
       " [22907, 'jagodah', 'Ncfpl-', 'jagódah', 'jágodah'],\n",
       " [44101, 'jagodah', 'Ncfdl-', 'jagódah', 'jágodah'],\n",
       " [34617, 'jagodam', 'Ncfpd-', 'jagódam', 'jágodam'],\n",
       " [22571, 'jagodama', 'Ncfdi-', 'jagódama', 'jágodama'],\n",
       " [31427, 'jagodama', 'Ncfdd-', 'jagódama', 'jágodama'],\n",
       " [15217, 'jagodami', 'Ncfpi-', 'jagódami', 'jágodami'],\n",
       " [16464, 'jagode', 'Ncfpn-', 'jagóde', 'jágode'],\n",
       " [24245, 'jagode', 'Ncfsg-', 'jagóde', 'jágode'],\n",
       " [35714, 'jagode', 'Ncfpa-', 'jagóde', 'jágode'],\n",
       " [2398, 'jagodi', 'Ncfdn-', 'jagódi', 'jágodi'],\n",
       " [14519, 'jagodi', 'Ncfsl-', 'jagódi', 'jágodi'],\n",
       " [40547, 'jagodi', 'Ncfsd-', 'jagódi', 'jágodi'],\n",
       " [41653, 'jagodi', 'Ncfda-', 'jagódi', 'jágodi'],\n",
       " [10426, 'jagodo', 'Ncfsi-', 'jagódo', 'jágodo'],\n",
       " [23310, 'jagodo', 'Ncfsa-', 'jagódo', 'jágodo'],\n",
       " [5910, 'jantaren', 'Agpmsnn', 'jantáren', 'jántaren'],\n",
       " [8081, 'jantaren', 'Agpmsan', 'jantáren', 'jántaren'],\n",
       " [12096, 'jantarna', 'Agpmda-', 'jantárna', 'jántarna'],\n",
       " [19590, 'jantarna', 'Agpnpa-', 'jantárna', 'jántarna'],\n",
       " [24525, 'jantarna', 'Agpfsn-', 'jantárna', 'jántarna'],\n",
       " [45290, 'jantarna', 'Agpnpn-', 'jantárna', 'jántarna'],\n",
       " [45563, 'jantarna', 'Agpmdn-', 'jantárna', 'jántarna'],\n",
       " [467, 'jantarne', 'Agpfpa-', 'jantárne', 'jántarne'],\n",
       " [11810, 'jantarne', 'Agpmpa-', 'jantárne', 'jántarne'],\n",
       " [19436, 'jantarne', 'Agpfsg-', 'jantárne', 'jántarne'],\n",
       " [29849, 'jantarne', 'Agpfpn-', 'jantárne', 'jántarne'],\n",
       " [8282, 'jantarnega', 'Agpmsg-', 'jantárnega', 'jántarnega'],\n",
       " [24172, 'jantarnega', 'Agpnsg-', 'jantárnega', 'jántarnega'],\n",
       " [26518, 'jantarnega', 'Agpmsa-', 'jantárnega', 'jántarnega'],\n",
       " [9789, 'jantarnem', 'Agpmsl-', 'jantárnem', 'jántarnem'],\n",
       " [13598, 'jantarnem', 'Agpnsl-', 'jantárnem', 'jántarnem'],\n",
       " [3083, 'jantarnemu', 'Agpnsd-', 'jantárnemu', 'jántarnemu'],\n",
       " [19899, 'jantarnemu', 'Agpmsd-', 'jantárnemu', 'jántarnemu'],\n",
       " [8733, 'jantarni', 'Agpfdn-', 'jantárni', 'jántarni'],\n",
       " [14889, 'jantarni', 'Agpmsny', 'jantárni', 'jántarni'],\n",
       " [20188, 'jantarni', 'Agpfsl-', 'jantárni', 'jántarni'],\n",
       " [26530, 'jantarni', 'Agpnda-', 'jantárni', 'jántarni'],\n",
       " [31420, 'jantarni', 'Agpfda-', 'jantárni', 'jántarni'],\n",
       " [31423, 'jantarni', 'Agpmpn-', 'jantárni', 'jántarni'],\n",
       " [36338, 'jantarni', 'Agpmsay', 'jantárni', 'jántarni'],\n",
       " [42995, 'jantarni', 'Agpndn-', 'jantárni', 'jántarni'],\n",
       " [49651, 'jantarni', 'Agpfsd-', 'jantárni', 'jántarni'],\n",
       " [8131, 'jantarnih', 'Agpfdg-', 'jantárnih', 'jántarnih'],\n",
       " [20129, 'jantarnih', 'Agpnpl-', 'jantárnih', 'jántarnih'],\n",
       " [24691, 'jantarnih', 'Agpndg-', 'jantárnih', 'jántarnih'],\n",
       " [33163, 'jantarnih', 'Agpmdg-', 'jantárnih', 'jántarnih'],\n",
       " [35804, 'jantarnih', 'Agpmpl-', 'jantárnih', 'jántarnih'],\n",
       " [36029, 'jantarnih', 'Agpndl-', 'jantárnih', 'jántarnih'],\n",
       " [39139, 'jantarnih', 'Agpmpg-', 'jantárnih', 'jántarnih'],\n",
       " [40590, 'jantarnih', 'Agpfpg-', 'jantárnih', 'jántarnih'],\n",
       " [40796, 'jantarnih', 'Agpnpg-', 'jantárnih', 'jántarnih'],\n",
       " [45807, 'jantarnih', 'Agpmdl-', 'jantárnih', 'jántarnih'],\n",
       " [50173, 'jantarnih', 'Agpfdl-', 'jantárnih', 'jántarnih'],\n",
       " [50312, 'jantarnih', 'Agpfpl-', 'jantárnih', 'jántarnih'],\n",
       " [4769, 'jantarnim', 'Agpnpd-', 'jantárnim', 'jántarnim'],\n",
       " [23794, 'jantarnim', 'Agpfpd-', 'jantárnim', 'jántarnim'],\n",
       " [37737, 'jantarnim', 'Agpmpd-', 'jantárnim', 'jántarnim'],\n",
       " [37796, 'jantarnim', 'Agpnsi-', 'jantárnim', 'jántarnim'],\n",
       " [47466, 'jantarnim', 'Agpmsi-', 'jantárnim', 'jántarnim'],\n",
       " [10383, 'jantarnima', 'Agpfdd-', 'jantárnima', 'jántarnima'],\n",
       " [25182, 'jantarnima', 'Agpndi-', 'jantárnima', 'jántarnima'],\n",
       " [25224, 'jantarnima', 'Agpndd-', 'jantárnima', 'jántarnima'],\n",
       " [33306, 'jantarnima', 'Agpmdd-', 'jantárnima', 'jántarnima'],\n",
       " [33964, 'jantarnima', 'Agpfdi-', 'jantárnima', 'jántarnima'],\n",
       " [48888, 'jantarnima', 'Agpmdi-', 'jantárnima', 'jántarnima'],\n",
       " [2667, 'jantarnimi', 'Agpnpi-', 'jantárnimi', 'jántarnimi'],\n",
       " [5964, 'jantarnimi', 'Agpmpi-', 'jantárnimi', 'jántarnimi'],\n",
       " [29787, 'jantarnimi', 'Agpfpi-', 'jantárnimi', 'jántarnimi'],\n",
       " [1896, 'jantarno', 'Agpfsi-', 'jantárno', 'jántarno'],\n",
       " [12904, 'jantarno', 'Agpnsn-', 'jantárno', 'jántarno'],\n",
       " [34444, 'jantarno', 'Agpfsa-', 'jantárno', 'jántarno'],\n",
       " [47008, 'jantarno', 'Agpnsa-', 'jantárno', 'jántarno'],\n",
       " [47035, 'jantarno', 'Rgp', 'jantárno', 'jántarno'],\n",
       " [33524, 'jezera', 'Ncnsg-', 'jezéra', 'jézera'],\n",
       " [43994, 'jezera', 'Ncnpa-', 'jezéra', 'jézera'],\n",
       " [50811, 'jezera', 'Ncnpn-', 'jezéra', 'jézera'],\n",
       " [3776, 'jezeri', 'Ncndn-', 'jezéri', 'jézeri'],\n",
       " [44893, 'jezeri', 'Ncnpi-', 'jezéri', 'jézeri'],\n",
       " [48776, 'jezeri', 'Ncnda-', 'jezéri', 'jézeri'],\n",
       " [12719, 'jezerih', 'Ncndl-', 'jezérih', 'jézerih'],\n",
       " [39806, 'jezerih', 'Ncnpl-', 'jezérih', 'jézerih'],\n",
       " [12274, 'jezero', 'Ncnsa-', 'jezéro', 'jézero'],\n",
       " [27003, 'jezero', 'Ncnsn-', 'jezéro', 'jézero'],\n",
       " [5763, 'jezerom', 'Ncnpd-', 'jezérom', 'jézerom'],\n",
       " [29904, 'jezerom', 'Ncnsi-', 'jezérom', 'jézerom'],\n",
       " [11813, 'jezeroma', 'Ncndi-', 'jezéroma', 'jézeroma'],\n",
       " [14268, 'jezeroma', 'Ncndd-', 'jezéroma', 'jézeroma'],\n",
       " [3867, 'jezeru', 'Ncnsd-', 'jezéru', 'jézeru'],\n",
       " [44982, 'jezeru', 'Ncnsl-', 'jezéru', 'jézeru'],\n",
       " [25478, 'kali', 'Ncfpa-', 'káli', 'kalí'],\n",
       " [25672, 'kali', 'Ncfpn-', 'káli', 'kalí'],\n",
       " [34621, 'kali', 'Ncfsg-', 'káli', 'kalí'],\n",
       " [39574, 'kali', 'Ncfda-', 'káli', 'kalí'],\n",
       " [40102, 'kali', 'Ncfdn-', 'káli', 'kalí'],\n",
       " [32211, 'kaljo', 'Ncfsi-', 'káljo', 'kaljó'],\n",
       " [15322, 'kamenček', 'Ncmsn-', 'kamenčék', 'kámenček'],\n",
       " [43776, 'kamenček', 'Ncmsan', 'kaménček', 'kámenček'],\n",
       " [8076, 'kamenčka', 'Ncmda-', 'kaménčka', 'kámenčka'],\n",
       " [23503, 'kamenčka', 'Ncmsg-', 'kaménčka', 'kámenčka'],\n",
       " [47402, 'kamenčka', 'Ncmdn-', 'kaménčka', 'kámenčka'],\n",
       " [49898, 'kamenčke', 'Ncmpa-', 'kaménčke', 'kámenčke'],\n",
       " [5778, 'kamenčki', 'Ncmpi-', 'kaménčki', 'kámenčki'],\n",
       " [42544, 'kamenčki', 'Ncmpn-', 'kaménčki', 'kámenčki'],\n",
       " [35495, 'kamenčkih', 'Ncmpl-', 'kaménčkih', 'kámenčkih'],\n",
       " [50185, 'kamenčkih', 'Ncmdl-', 'kaménčkih', 'kámenčkih'],\n",
       " [16821, 'kamenčkom', 'Ncmpd-', 'kaménčkom', 'kámenčkom'],\n",
       " [19233, 'kamenčkom', 'Ncmsi-', 'kaménčkom', 'kámenčkom'],\n",
       " [34037, 'kamenčkoma', 'Ncmdd-', 'kaménčkoma', 'kámenčkoma'],\n",
       " [43838, 'kamenčkoma', 'Ncmdi-', 'kaménčkoma', 'kámenčkoma'],\n",
       " [1246, 'kamenčkov', 'Ncmpg-', 'kaménčkov', 'kámenčkov'],\n",
       " [2110, 'kamenčkov', 'Ncmdg-', 'kaménčkov', 'kámenčkov'],\n",
       " [21780, 'kamenčku', 'Ncmsd-', 'kaménčku', 'kámenčku'],\n",
       " [29247, 'kamenčku', 'Ncmsl-', 'kaménčku', 'kámenčku'],\n",
       " [29770, 'kapljanj', 'Ncnpg-', 'kápljanj', 'kapljánj'],\n",
       " [33476, 'kapljanj', 'Ncndg-', 'kápljanj', 'kapljánj'],\n",
       " [19204, 'kasneje', 'Rgp', 'kasnéje', 'kásneje'],\n",
       " [20882, 'kasneje', 'Rgc', 'kasnéje', 'kásneje'],\n",
       " [13498, 'kleči', 'Vm-r3s-n', 'kléči', 'klečí'],\n",
       " [3767, 'klečijo', 'Vm-r3p-n', 'kléčijo', 'klečíjo'],\n",
       " [10008, 'klečim', 'Vm-r1s-n', 'kléčim', 'klečím'],\n",
       " [15106, 'klečimo', 'Vm-r1p-n', 'kléčimo', 'klečímo'],\n",
       " [37830, 'klečimo', 'Vm-r1p--', 'kléčimo', 'klečímo'],\n",
       " [10996, 'klečita', 'Vm-r2d-n', 'kléčita', 'klečíta'],\n",
       " [25034, 'klečita', 'Vm-r3d-n', 'kléčita', 'klečíta'],\n",
       " [13427, 'klečite', 'Vm-r2p-n', 'kléčite', 'klečíte'],\n",
       " [34762, 'klečiva', 'Vm-r1d-n', 'kléčiva', 'klečíva'],\n",
       " [28647, 'kokoš', 'Ncfsa-', 'kókoš', 'kokóš'],\n",
       " [34789, 'kokoš', 'Ncfsn-', 'kókoš', 'kokóš'],\n",
       " [20251, 'konica', 'Ncfsn-', 'kónica', 'koníca'],\n",
       " [1558, 'konici', 'Ncfsl-', 'kónici', 'koníci'],\n",
       " [27318, 'konici', 'Ncfsd-', 'kónici', 'koníci'],\n",
       " [31093, 'konici', 'Ncfdn-', 'kónici', 'koníci'],\n",
       " [9077, 'konico', 'Ncfsi-', 'kónico', 'koníco'],\n",
       " [17882, 'konico', 'Ncfsa-', 'kónico', 'koníco'],\n",
       " [30552, 'kosila', 'Vm-p-dm-', 'kosíla', 'kósila'],\n",
       " [42724, 'kosila', 'Vm-p-sf-', 'kosíla', 'kósila'],\n",
       " [43503, 'kosila', 'Vm-p-pn-', 'kosíla', 'kósila'],\n",
       " [45273, 'kosile', 'Vm-p-pf-', 'kosíle', 'kósile'],\n",
       " [8843, 'kosili', 'Vm-p-dn-', 'kosíli', 'kósili'],\n",
       " [11765, 'kosili', 'Vm-p-df-', 'kosíli', 'kósili'],\n",
       " [40605, 'kosilo', 'Vm-p-sn-', 'kosílo', 'kósilo'],\n",
       " [549, 'košarkarske', 'Agpmpa-', 'košarkárske', 'košárkarske'],\n",
       " [17406, 'košarkarske', 'Agpfpn-', 'košarkárske', 'košárkarske'],\n",
       " [39695, 'košarkarske', 'Agpfpa-', 'košarkárske', 'košárkarske'],\n",
       " [24024, 'košarkarskem', 'Agpmsl-', 'košarkárskem', 'košárkarskem'],\n",
       " [28539, 'košarkarskem', 'Agpnsl-', 'košarkárskem', 'košárkarskem'],\n",
       " [9701, 'košarkarski', 'Agpndn-', 'košarkárski', 'košárkarski'],\n",
       " [21479, 'košarkarski', 'Agpnda-', 'košarkárski', 'košárkarski'],\n",
       " [27350, 'košarkarski', 'Agpmsn-', 'košarkárski', 'košárkarski'],\n",
       " [28049, 'košarkarski', 'Agpmpn-', 'košarkárski', 'košárkarski'],\n",
       " [32055, 'košarkarski', 'Agpfsd-', 'košarkárski', 'košárkarski'],\n",
       " [37004, 'košarkarski', 'Agpfdn-', 'košarkárski', 'košárkarski'],\n",
       " [47793, 'košarkarski', 'Agpmsa-', 'košarkárski', 'košárkarski'],\n",
       " [48184, 'košarkarski', 'Agpfda-', 'košarkárski', 'košárkarski'],\n",
       " [283, 'košarkarskih', 'Agpndl-', 'košarkárskih', 'košárkarskih'],\n",
       " [1725, 'košarkarskih', 'Agpfpl-', 'košarkárskih', 'košárkarskih'],\n",
       " [15958, 'košarkarskih', 'Agpfdl-', 'košarkárskih', 'košárkarskih'],\n",
       " [17194, 'košarkarskih', 'Agpndg-', 'košarkárskih', 'košárkarskih'],\n",
       " [17472, 'košarkarskih', 'Agpmdl-', 'košarkárskih', 'košárkarskih'],\n",
       " [19056, 'košarkarskih', 'Agpmpg-', 'košarkárskih', 'košárkarskih'],\n",
       " [19739, 'košarkarskih', 'Agpfpg-', 'košarkárskih', 'košárkarskih'],\n",
       " [23023, 'košarkarskih', 'Agpnpl-', 'košarkárskih', 'košárkarskih'],\n",
       " [27721, 'košarkarskih', 'Agpmpl-', 'košarkárskih', 'košárkarskih'],\n",
       " [33863, 'košarkarskih', 'Agpnpg-', 'košarkárskih', 'košárkarskih'],\n",
       " [35883, 'košarkarskih', 'Agpfdg-', 'košarkárskih', 'košárkarskih'],\n",
       " [50974, 'košarkarskih', 'Agpmdg-', 'košarkárskih', 'košárkarskih'],\n",
       " [890, 'košarkarskim', 'Agpnsi-', 'košarkárskim', 'košárkarskim'],\n",
       " [33431, 'košarkarskim', 'Agpnpd-', 'košarkárskim', 'košárkarskim'],\n",
       " [34705, 'košarkarskim', 'Agpfpd-', 'košarkárskim', 'košárkarskim'],\n",
       " [37461, 'košarkarskim', 'Agpmsi-', 'košarkárskim', 'košárkarskim'],\n",
       " [45407, 'košarkarskim', 'Agpmpd-', 'košarkárskim', 'košárkarskim'],\n",
       " [21008, 'košarkarsko', 'Agpnsa-', 'košarkársko', 'košárkarsko'],\n",
       " [25438, 'košarkarsko', 'Agpfsa-', 'košarkársko', 'košárkarsko'],\n",
       " [46157, 'košarkarsko', 'Agpfsi-', 'košarkársko', 'košárkarsko'],\n",
       " [49814, 'košarkarsko', 'Agpnsn-', 'košarkársko', 'košárkarsko'],\n",
       " [4705, 'košen', 'Vm-p-sm-', 'kóšen', 'košén'],\n",
       " [24950, 'krpancem', 'Ncmsi-', 'krpáncem', 'kŕpancem'],\n",
       " [32085, 'krpancev', 'Ncmpg-', 'krpáncev', 'kŕpancev'],\n",
       " [6374, 'krpanci', 'Ncmpi-', 'krpánci', 'kŕpanci'],\n",
       " [23372, 'krpanci', 'Ncmpn-', 'krpánci', 'kŕpanci'],\n",
       " [10530, 'krpanec', 'Ncmsan', 'krpánec', 'kŕpanec'],\n",
       " [6163, 'krčmaric', 'Ncfdg-', 'krčmáric', 'krčmaríc'],\n",
       " [31377, 'krčmaric', 'Ncfpg-', 'krčmáric', 'krčmaríc'],\n",
       " [42097, 'krčmarica', 'Ncfsn-', 'krčmárica', 'krčmaríca'],\n",
       " [1556, 'krčmaricah', 'Ncfdl-', 'krčmáricah', 'krčmarícah'],\n",
       " [12025, 'krčmaricah', 'Ncfpl-', 'krčmáricah', 'krčmarícah'],\n",
       " [39486, 'krčmaricam', 'Ncfpd-', 'krčmáricam', 'krčmarícam'],\n",
       " [16932, 'krčmaricama', 'Ncfdi-', 'krčmáricama', 'krčmarícama'],\n",
       " [43924, 'krčmaricama', 'Ncfdd-', 'krčmáricama', 'krčmarícama'],\n",
       " [25820, 'krčmaricami', 'Ncfpi-', 'krčmáricami', 'krčmarícami'],\n",
       " [21471, 'krčmarici', 'Ncfsd-', 'krčmárici', 'krčmaríci'],\n",
       " [12101, 'krčmaričin', 'Aspmsa-', 'krčmáričin', 'krčmaríčin'],\n",
       " [28032, 'krčmaričinih', 'Aspmdg-', 'krčmáričinih', 'krčmaríčinih'],\n",
       " [6, 'krčmaričinim', 'Aspfpd-', 'krčmáričinim', 'krčmaríčinim'],\n",
       " [3669, 'krčmaričinim', 'Aspmsi-', 'krčmáričinim', 'krčmaríčinim'],\n",
       " [29754, 'krčmaričinim', 'Aspmpd-', 'krčmáričinim', 'krčmaríčinim'],\n",
       " [49088, 'krčmaričinim', 'Aspnpd-', 'krčmáričinim', 'krčmaríčinim'],\n",
       " [6108, 'krčmaričino', 'Aspnsa-', 'krčmaričino', 'krčmaríčino'],\n",
       " [2284, 'leksikon', 'Ncmsan', 'leksikon', 'léksikon'],\n",
       " [23617, 'leksikon', 'Ncmsn-', 'leksikon', 'léksikon'],\n",
       " [30384, 'leksikona', 'Ncmdn-', 'leksíkona', 'léksikona'],\n",
       " [44646, 'leksikona', 'Ncmda-', 'leksíkona', 'léksikona'],\n",
       " [48421, 'leksikona', 'Ncmsg-', 'leksikóna', 'léksikona'],\n",
       " [2830, 'leksikone', 'Ncmpa-', 'leksikóne', 'léksikone'],\n",
       " [4279, 'leksikoni', 'Ncmpi-', 'leksikóni', 'léksikoni'],\n",
       " [23235, 'leksikoni', 'Ncmpn-', 'leksikóni', 'léksikoni'],\n",
       " [47212, 'leksikonih', 'Ncmpl-', 'leksikonih', 'léksikonih'],\n",
       " [50240, 'leksikonih', 'Ncmdl-', 'leksíkonih', 'léksikonih'],\n",
       " [14579, 'leksikonom', 'Ncmsi-', 'leksíkonom', 'léksikonom'],\n",
       " [3171, 'leksikonoma', 'Ncmdi-', 'leksikónoma', 'léksikonoma'],\n",
       " [39384, 'leksikonoma', 'Ncmdd-', 'leksikónoma', 'léksikonoma'],\n",
       " [5585, 'leksikonov', 'Ncmpg-', 'leksikonov', 'léksikonov'],\n",
       " [26550, 'leksikonov', 'Ncmdg-', 'leksíkonov', 'léksikonov'],\n",
       " [22682, 'leksikonu', 'Ncmsd-', 'leksíkonu', 'léksikonu'],\n",
       " [23072, 'leksikonu', 'Ncmsl-', 'leksikonu', 'léksikonu'],\n",
       " [2812, 'lepite', 'Vm-r2p--', 'lepíte', 'lépite'],\n",
       " [14585, 'lepiti', 'Vm-n----', 'lepíti', 'lépiti'],\n",
       " [24685, 'ljubezniv', 'Agpmsan', 'ljubézniv', 'ljubeznív'],\n",
       " [32948, 'ljubezniv', 'Agpmsnn', 'ljubézniv', 'ljubeznív'],\n",
       " [3928, 'ljubeznivem', 'Agpnsl-', 'ljubéznivem', 'ljubeznívem'],\n",
       " [37850, 'ljubeznivem', 'Agpmsl-', 'ljubéznivem', 'ljubeznívem'],\n",
       " [75, 'ljubeznivih', 'Agpmpg-', 'ljubéznivih', 'ljubeznívih'],\n",
       " [2574, 'ljubeznivih', 'Agpmpl-', 'ljubéznivih', 'ljubeznívih'],\n",
       " [2738, 'ljubeznivih', 'Agpfpg-', 'ljubéznivih', 'ljubeznívih'],\n",
       " [4193, 'ljubeznivih', 'Agpmdl-', 'ljubéznivih', 'ljubeznívih'],\n",
       " [12652, 'ljubeznivih', 'Agpfpl-', 'ljubéznivih', 'ljubeznívih'],\n",
       " [14056, 'ljubeznivih', 'Agpfdl-', 'ljubéznivih', 'ljubeznívih'],\n",
       " [16697, 'ljubeznivih', 'Agpndl-', 'ljubéznivih', 'ljubeznívih'],\n",
       " [17086, 'ljubeznivih', 'Agpndg-', 'ljubéznivih', 'ljubeznívih'],\n",
       " [18630, 'ljubeznivih', 'Agpmdg-', 'ljubéznivih', 'ljubeznívih'],\n",
       " [19455, 'ljubeznivih', 'Agpnpl-', 'ljubéznivih', 'ljubeznívih'],\n",
       " [33019, 'ljubeznivih', 'Agpfdg-', 'ljubéznivih', 'ljubeznívih'],\n",
       " [37953, 'ljubeznivih', 'Agpnpg-', 'ljubéznivih', 'ljubeznívih'],\n",
       " [16750, 'ljubeznivim', 'Agpfpd-', 'ljubeznivim', 'ljubeznívim'],\n",
       " [24231, 'ljubeznivim', 'Agpnpd-', 'ljubeznivim', 'ljubeznívim'],\n",
       " [31738, 'ljubeznivim', 'Agpnsi-', 'ljubeznivim', 'ljubeznívim'],\n",
       " [37274, 'ljubeznivim', 'Agpmpd-', 'ljubeznivim', 'ljubeznívim'],\n",
       " [49684, 'ljubeznivim', 'Agpmsi-', 'ljubeznivim', 'ljubeznívim'],\n",
       " [44559, 'ljubljenček', 'Ncmsn-', 'ljubljénček', 'ljúbljenček'],\n",
       " [18283, 'ljubljenčka', 'Ncmdn-', 'ljubljénčka', 'ljúbljenčka'],\n",
       " [23373, 'ljubljenčka', 'Ncmda-', 'ljubljénčka', 'ljúbljenčka'],\n",
       " [27579, 'ljubljenčka', 'Ncmsg-', 'ljubljénčka', 'ljúbljenčka'],\n",
       " [29379, 'ljubljenčka', 'Ncmsay', 'ljubljénčka', 'ljúbljenčka'],\n",
       " [46776, 'ljubljenčke', 'Ncmpa-', 'ljubljénčke', 'ljúbljenčke'],\n",
       " [17424, 'ljubljenčki', 'Ncmpn-', 'ljubljénčki', 'ljúbljenčki'],\n",
       " [36999, 'ljubljenčki', 'Ncmpi-', 'ljubljénčki', 'ljúbljenčki'],\n",
       " [2207, 'ljubljenčkih', 'Ncmpl-', 'ljubljénčkih', 'ljúbljenčkih'],\n",
       " [9505, 'ljubljenčkih', 'Ncmdl-', 'ljubljénčkih', 'ljúbljenčkih'],\n",
       " [14713, 'ljubljenčkom', 'Ncmpd-', 'ljubljénčkom', 'ljúbljenčkom'],\n",
       " [44841, 'ljubljenčkom', 'Ncmsi-', 'ljubljénčkom', 'ljúbljenčkom'],\n",
       " [35243, 'ljubljenčkoma', 'Ncmdd-', 'ljubljénčkoma', 'ljúbljenčkoma'],\n",
       " [51665, 'ljubljenčkoma', 'Ncmdi-', 'ljubljénčkoma', 'ljúbljenčkoma'],\n",
       " [31572, 'ljubljenčkov', 'Ncmpg-', 'ljubljénčkov', 'ljúbljenčkov'],\n",
       " [39093, 'ljubljenčkov', 'Ncmdg-', 'ljubljénčkov', 'ljúbljenčkov'],\n",
       " [30008, 'ljubljenčku', 'Ncmsl-', 'ljubljénčku', 'ljúbljenčku'],\n",
       " [41053, 'ljubljenčku', 'Ncmsd-', 'ljubljénčku', 'ljúbljenčku'],\n",
       " [51032, 'ljudem', 'Ncmpd-', 'ljúdem', 'ljudém'],\n",
       " [514, 'ljudi', 'Ncmpa-', 'ljúdi', 'ljudí'],\n",
       " [25928, 'ljudi', 'Ncmdg-', 'ljúdi', 'ljudí'],\n",
       " [45607, 'ljudi', 'Ncmpg-', 'ljúdi', 'ljudí'],\n",
       " [29644, 'ljudje', 'Ncmpn-', 'ljúdje', 'ljudjé'],\n",
       " [51803, 'ljudmi', 'Ncmpi-', 'ljúdmi', 'ljudmí'],\n",
       " [34259, 'logikom', 'Ncmpd-', 'logíkom', 'lógikom'],\n",
       " [39350, 'logikom', 'Ncmsi-', 'logíkom', 'lógikom'],\n",
       " [7748, 'logikov', 'Ncmpg-', 'logíkov', 'lógikov'],\n",
       " [42823, 'logikov', 'Ncmdg-', 'logíkov', 'lógikov'],\n",
       " [11730, 'lokav', 'Agpmsnn', 'lókav', 'lokáv'],\n",
       " [30745, 'lokav', 'Agpmsan', 'lókav', 'lokáv'],\n",
       " [1478, 'lokava', 'Agpnpn-', 'lókava', 'lokáva'],\n",
       " [5198, 'lokava', 'Agpmdn-', 'lókava', 'lokáva'],\n",
       " [32606, 'lokava', 'Agpmda-', 'lókava', 'lokáva'],\n",
       " [34634, 'lokava', 'Agpnpa-', 'lókava', 'lokáva'],\n",
       " [51235, 'lokava', 'Agpfsn-', 'lókava', 'lokáva'],\n",
       " [27688, 'lokave', 'Agpfsg-', 'lókave', 'lokáve'],\n",
       " [10057, 'lokavi', 'Agpfsd-', 'lókavi', 'lokávi'],\n",
       " [19174, 'lokavi', 'Agpnda-', 'lókavi', 'lokávi'],\n",
       " [19361, 'lokavi', 'Agpmpn-', 'lókavi', 'lokávi'],\n",
       " [23143, 'lokavi', 'Agpfsl-', 'lókavi', 'lokávi'],\n",
       " [26930, 'lokavi', 'Agpndn-', 'lókavi', 'lokávi'],\n",
       " [33065, 'lokavi', 'Agpmsny', 'lókavi', 'lokávi'],\n",
       " [33280, 'lokavi', 'Agpmsay', 'lókavi', 'lokávi'],\n",
       " [4229, 'lokavih', 'Agpfpg-', 'lókavih', 'lokávih'],\n",
       " [4308, 'lokavih', 'Agpmpl-', 'lókavih', 'lokávih'],\n",
       " [9778, 'lokavih', 'Agpfdg-', 'lókavih', 'lokávih'],\n",
       " [14533, 'lokavih', 'Agpnpl-', 'lókavih', 'lokávih'],\n",
       " [22187, 'lokavih', 'Agpndg-', 'lókavih', 'lokávih'],\n",
       " [23129, 'lokavih', 'Agpnpg-', 'lókavih', 'lokávih'],\n",
       " [24597, 'lokavih', 'Agpmdg-', 'lókavih', 'lokávih'],\n",
       " [25811, 'lokavih', 'Agpmpg-', 'lókavih', 'lokávih'],\n",
       " [27760, 'lokavih', 'Agpndl-', 'lókavih', 'lokávih'],\n",
       " [36875, 'lokavih', 'Agpfdl-', 'lókavih', 'lokávih'],\n",
       " [42972, 'lokavih', 'Agpfpl-', 'lókavih', 'lokávih'],\n",
       " [49190, 'lokavih', 'Agpmdl-', 'lókavih', 'lokávih'],\n",
       " [8216, 'lokavim', 'Agpmsi-', 'lókavim', 'lokávim'],\n",
       " [15504, 'lokavim', 'Agpnsi-', 'lókavim', 'lokávim'],\n",
       " [16480, 'lokavim', 'Agpmpd-', 'lókavim', 'lokávim'],\n",
       " [38308, 'lokavim', 'Agpnpd-', 'lókavim', 'lokávim'],\n",
       " [41008, 'lokavim', 'Agpfpd-', 'lókavim', 'lokávim'],\n",
       " [3872, 'lokavima', 'Agpmdi-', 'lókavima', 'lokávima'],\n",
       " [19342, 'lokavima', 'Agpndi-', 'lókavima', 'lokávima'],\n",
       " [24301, 'lokavima', 'Agpmdd-', 'lókavima', 'lokávima'],\n",
       " [24395, 'lokavima', 'Agpfdi-', 'lókavima', 'lokávima'],\n",
       " [28274, 'lokavima', 'Agpndd-', 'lókavima', 'lokávima'],\n",
       " [40843, 'lokavima', 'Agpfdd-', 'lókavima', 'lokávima'],\n",
       " [3406, 'lokavimi', 'Agpmpi-', 'lókavimi', 'lokávimi'],\n",
       " [11883, 'lokavimi', 'Agpnpi-', 'lókavimi', 'lokávimi'],\n",
       " [43812, 'lokavimi', 'Agpfpi-', 'lókavimi', 'lokávimi'],\n",
       " [7674, 'lokavo', 'Rgp', 'lókavo', 'lokávo'],\n",
       " [36000, 'lokavo', 'Agpfsi-', 'lókavo', 'lokávo'],\n",
       " [3857, 'mahnila', 'Vm-p-pn-', 'mahníla', 'máhnila'],\n",
       " [13313, 'mahnila', 'Vm-p-dm-', 'mahníla', 'máhnila'],\n",
       " [30464, 'mahnila', 'Vm-p-sf-', 'mahníla', 'máhnila'],\n",
       " [26590, 'mahnile', 'Vm-p-pf-', 'mahníle', 'máhnile'],\n",
       " [25332, 'mahnili', 'Vm-p-dn-', 'mahníli', 'máhnili'],\n",
       " [26521, 'mahnili', 'Vm-p-pm-', 'mahníli', 'máhnili'],\n",
       " [32061, 'mahnili', 'Vm-p-df-', 'mahníli', 'máhnili'],\n",
       " [18921, 'mahnilo', 'Vm-p-sn-', 'mahnílo', 'máhnilo'],\n",
       " [19339, 'marmornat', 'Agpmsan', 'marmórnat', 'mármornat'],\n",
       " [26798, 'marmornat', 'Agpmsnn', 'marmórnat', 'mármornat'],\n",
       " [7608, 'marmornata', 'Agpmda-', 'marmórnata', 'mármornata'],\n",
       " [12217, 'marmornata', 'Agpnpa-', 'marmórnata', 'mármornata'],\n",
       " [17204, 'marmornata', 'Agpmdn-', 'marmórnata', 'mármornata'],\n",
       " [25071, 'marmornata', 'Agpnpn-', 'marmórnata', 'mármornata'],\n",
       " [44341, 'marmornata', 'Agpfsn-', 'marmórnata', 'mármornata'],\n",
       " [4168, 'marmornate', 'Agpfsg-', 'marmórnate', 'mármornate'],\n",
       " [18130, 'marmornate', 'Agpfpa-', 'marmórnate', 'mármornate'],\n",
       " [31899, 'marmornate', 'Agpfpn-', 'marmórnate', 'mármornate'],\n",
       " [42185, 'marmornate', 'Agpmpa-', 'marmórnate', 'mármornate'],\n",
       " [4765, 'marmornatega', 'Agpnsg-', 'marmornátega', 'mármornatega'],\n",
       " [19057, 'marmornatega', 'Agpmsa-', 'marmornátega', 'mármornatega'],\n",
       " [22510, 'marmornatega', 'Agpmsg-', 'marmornátega', 'mármornatega'],\n",
       " [48256, 'marmornatem', 'Agpmsl-', 'marmórnatem', 'mármornatem'],\n",
       " [48804, 'marmornatem', 'Agpnsl-', 'marmórnatem', 'mármornatem'],\n",
       " [16811, 'marmornatemu', 'Agpmsd-', 'marmornátemu', 'mármornatemu'],\n",
       " [50542, 'marmornatemu', 'Agpnsd-', 'marmornátemu', 'mármornatemu'],\n",
       " [10794, 'marmornati', 'Agpmsny', 'marmórnati', 'mármornati'],\n",
       " [16092, 'marmornati', 'Agpmpn-', 'marmórnati', 'mármornati'],\n",
       " [19442, 'marmornati', 'Agpfsl-', 'marmórnati', 'mármornati'],\n",
       " [19733, 'marmornati', 'Agpndn-', 'marmórnati', 'mármornati'],\n",
       " [21972, 'marmornati', 'Agpnda-', 'marmórnati', 'mármornati'],\n",
       " [33444, 'marmornati', 'Agpfda-', 'marmórnati', 'mármornati'],\n",
       " [36574, 'marmornati', 'Agpfdn-', 'marmórnati', 'mármornati'],\n",
       " [42482, 'marmornati', 'Agpmsay', 'marmórnati', 'mármornati'],\n",
       " [43492, 'marmornati', 'Agpfsd-', 'marmórnati', 'mármornati'],\n",
       " [2266, 'marmornatih', 'Agpmdg-', 'marmórnatih', 'mármornatih'],\n",
       " [4407, 'marmornatih', 'Agpndg-', 'marmórnatih', 'mármornatih'],\n",
       " [5693, 'marmornatih', 'Agpfdl-', 'marmórnatih', 'mármornatih'],\n",
       " [25244, 'marmornatih', 'Agpfpg-', 'marmórnatih', 'mármornatih'],\n",
       " [25797, 'marmornatih', 'Agpnpl-', 'marmórnatih', 'mármornatih'],\n",
       " [32575, 'marmornatih', 'Agpndl-', 'marmórnatih', 'mármornatih'],\n",
       " [35419, 'marmornatih', 'Agpfpl-', 'marmórnatih', 'mármornatih'],\n",
       " [40695, 'marmornatih', 'Agpnpg-', 'marmórnatih', 'mármornatih'],\n",
       " [41429, 'marmornatih', 'Agpmdl-', 'marmórnatih', 'mármornatih'],\n",
       " [43939, 'marmornatih', 'Agpmpl-', 'marmórnatih', 'mármornatih'],\n",
       " [47505, 'marmornatih', 'Agpfdg-', 'marmórnatih', 'mármornatih'],\n",
       " [48169, 'marmornatih', 'Agpmpg-', 'marmórnatih', 'mármornatih'],\n",
       " [4610, 'marmornatim', 'Agpnpd-', 'marmórnatim', 'mármornatim'],\n",
       " [6833, 'marmornatim', 'Agpfpd-', 'marmórnatim', 'mármornatim'],\n",
       " [35828, 'marmornatim', 'Agpmpd-', 'marmórnatim', 'mármornatim'],\n",
       " [36775, 'marmornatim', 'Agpnsi-', 'marmórnatim', 'mármornatim'],\n",
       " [43459, 'marmornatim', 'Agpmsi-', 'marmórnatim', 'mármornatim'],\n",
       " [1172, 'marmornatima', 'Agpfdi-', 'marmornátima', 'mármornatima'],\n",
       " [4788, 'marmornatima', 'Agpndd-', 'marmornátima', 'mármornatima'],\n",
       " [18643, 'marmornatima', 'Agpfdd-', 'marmornátima', 'mármornatima'],\n",
       " [19789, 'marmornatima', 'Agpndi-', 'marmornátima', 'mármornatima'],\n",
       " [28233, 'marmornatima', 'Agpmdd-', 'marmornátima', 'mármornatima'],\n",
       " [47617, 'marmornatima', 'Agpmdi-', 'marmornátima', 'mármornatima'],\n",
       " [28956, 'marmornatimi', 'Agpmpi-', 'marmornátimi', 'mármornatimi'],\n",
       " [35026, 'marmornatimi', 'Agpnpi-', 'marmornátimi', 'mármornatimi'],\n",
       " [38703, 'marmornatimi', 'Agpfpi-', 'marmornátimi', 'mármornatimi'],\n",
       " [7747, 'marmornato', 'Agpnsn-', 'marmornato', 'mármornato'],\n",
       " [20354, 'marmornato', 'Agpfsa-', 'marmornáto', 'mármornato'],\n",
       " [26881, 'marmornato', 'Agpnsa-', 'marmornato', 'mármornato'],\n",
       " [46187, 'marmornato', 'Agpfsi-', 'marmórnato', 'mármornato'],\n",
       " [1281, 'me', 'Pp1-sa--y', 'mé', 'me'],\n",
       " [35797, 'me', 'Pp1-sg--y', 'mé', 'me'],\n",
       " [39616, 'megla', 'Ncfsn-', 'mégla', 'meglá'],\n",
       " [46198, 'meglah', 'Ncfpl-', 'meglah', 'megláh'],\n",
       " [50084, 'meglah', 'Ncfdl-', 'méglah', 'megláh'],\n",
       " [38965, 'megle', 'Ncfpa-', 'mégle', 'meglé'],\n",
       " [42217, 'megle', 'Ncfsg-', 'mégle', 'meglé'],\n",
       " [51819, 'megle', 'Ncfpn-', 'mégle', 'meglé'],\n",
       " [24368, 'megli', 'Ncfsd-', 'mégli', 'meglí'],\n",
       " [40206, 'megli', 'Ncfsl-', 'mégli', 'meglí'],\n",
       " [23820, 'meglo', 'Ncfsa-', 'méglo', 'megló'],\n",
       " [7008, 'melanholij', 'Ncfpg-', 'melanhólij', 'melanholíj'],\n",
       " [24734, 'mencal', 'Vm-p-sm-', 'méncal', 'mencál'],\n",
       " [46673, 'mencam', 'Vm-r1s-n', 'méncam', 'mencám'],\n",
       " [26603, 'mencamo', 'Vm-r1p-n', 'méncamo', 'mencámo'],\n",
       " [29401, 'mencat', 'Vm-u----', 'méncat', 'mencát'],\n",
       " [19911, 'mencate', 'Vm-r2p-n', 'méncate', 'mencáte'],\n",
       " [35768, 'mencava', 'Vm-r1d-n', 'méncava', 'mencáva'],\n",
       " [8800, 'mencaš', 'Vm-r2s-n', 'méncaš', 'mencáš'],\n",
       " [7308, 'mesečnik', 'Ncmsan', 'mesečník', 'mésečnik'],\n",
       " [22348, 'mesečnik', 'Ncmsn-', 'mesečnik', 'mésečnik'],\n",
       " [40592, 'mesečnika', 'Ncmsg-', 'meséčnika', 'mésečnika'],\n",
       " [6069, 'mesečniki', 'Ncmpn-', 'mésečníki', 'mésečniki'],\n",
       " [14868, 'mesečnikih', 'Ncmdl-', 'meséčnikih', 'mésečnikih'],\n",
       " [27745, 'mesečnikom', 'Ncmpd-', 'méséčnikom', 'mésečnikom'],\n",
       " [18370, 'mesečniku', 'Ncmsd-', 'meséčniku', 'mésečniku'],\n",
       " [7439, 'metanj', 'Ncnpg-', 'métanj', 'metánj'],\n",
       " [8276, 'metanj', 'Ncndg-', 'métanj', 'metánj'],\n",
       " [31616, 'mečkanj', 'Ncndg-', 'méčkanj', 'mečkánj'],\n",
       " [17140, 'mi', 'Pp1-pn--b', 'mí', 'mi'],\n",
       " [21269, 'mišičast', 'Agpmsan', 'mišičast', 'míšičast'],\n",
       " [40928, 'mladost', 'Ncfsa-', 'mládost', 'mladóst'],\n",
       " [41872, 'močneje', 'Rgc', 'móčneje', 'močnéje'],\n",
       " [41867, 'mračil', 'Vm-p-sm-', 'mráčil', 'mračíl'],\n",
       " [19169, 'mračit', 'Vm-u----', 'mráčit', 'mračít'],\n",
       " [31838, 'mračiva', 'Vm-r1d-n', 'mráčíva', 'mračíva'],\n",
       " [7181, 'najcenejše', 'Rgs', 'nájcénejše', 'nájcenéjše'],\n",
       " [89, 'najina', 'Ps1fsnd--', 'najína', 'nájina'],\n",
       " [1664, 'najina', 'Ps1npad--', 'najína', 'nájina'],\n",
       " [2643, 'najina', 'Ps1mdad--', 'najína', 'nájina'],\n",
       " [8006, 'najina', 'Ps1npnd--', 'najína', 'nájina'],\n",
       " [51668, 'najina', 'Ps1mdnd--', 'najína', 'nájina'],\n",
       " [4270, 'najine', 'Ps1mpad--', 'najíne', 'nájine'],\n",
       " [9461, 'najine', 'Ps1fpnd--', 'najíne', 'nájine'],\n",
       " [10944, 'najine', 'Ps1fsgd--', 'najíne', 'nájine'],\n",
       " [40689, 'najine', 'Ps1fpad--', 'najíne', 'nájine'],\n",
       " [42663, 'najinem', 'Ps1msld--', 'najínem', 'nájinem'],\n",
       " [48017, 'najinem', 'Ps1nsld--', 'najínem', 'nájinem'],\n",
       " [3008, 'najini', 'Ps1mpnd--', 'najíni', 'nájini'],\n",
       " [13390, 'najini', 'Ps1ndnd--', 'najíni', 'nájini'],\n",
       " [19985, 'najini', 'Ps1fsld--', 'najíni', 'nájini'],\n",
       " [34841, 'najini', 'Ps1fdnd--', 'najíni', 'nájini'],\n",
       " [38811, 'najini', 'Ps1fdad--', 'najíni', 'nájini'],\n",
       " [44574, 'najini', 'Ps1ndad--', 'najíni', 'nájini'],\n",
       " [1975, 'najinih', 'Ps1mdld--', 'najínih', 'nájinih'],\n",
       " [2073, 'najinih', 'Ps1fdgd--', 'najínih', 'nájinih'],\n",
       " [3596, 'najinih', 'Ps1fpgd--', 'najínih', 'nájinih'],\n",
       " [5440, 'najinih', 'Ps1ndld--', 'najínih', 'nájinih'],\n",
       " [7959, 'najinih', 'Ps1fpld--', 'najínih', 'nájinih'],\n",
       " [18562, 'najinih', 'Ps1mpgd--', 'najínih', 'nájinih'],\n",
       " [29125, 'najinih', 'Ps1npld--', 'najínih', 'nájinih'],\n",
       " [29688, 'najinih', 'Ps1mpld--', 'najínih', 'nájinih'],\n",
       " [29856, 'najinih', 'Ps1fdld--', 'najínih', 'nájinih'],\n",
       " [43528, 'najinih', 'Ps1npgd--', 'najínih', 'nájinih'],\n",
       " [5048, 'najinim', 'Ps1fpdd--', 'najínim', 'nájinim'],\n",
       " [41208, 'najinim', 'Ps1npdd--', 'najínim', 'nájinim'],\n",
       " [4913, 'najino', 'Ps1fsad--', 'najíno', 'nájino'],\n",
       " [10718, 'najino', 'Ps1nsad--', 'najíno', 'nájino'],\n",
       " [27889, 'najino', 'Ps1nsnd--', 'najíno', 'nájino'],\n",
       " [46423, 'najino', 'Ps1fsid--', 'najíno', 'nájino'],\n",
       " [3638, 'najizčrpnejša', 'Agsnpn-', 'nájízčŕpnejša', 'nájizčrpnéjša'],\n",
       " [19626, 'najizčrpnejša', 'Agsnpa-', 'nájízčŕpnejša', 'nájizčrpnéjša'],\n",
       " [23409, 'najizčrpnejša', 'Agsmda-', 'nájízčŕpnejša', 'nájizčrpnéjša'],\n",
       " [30607, 'najizčrpnejša', 'Agsmdn-', 'nájízčŕpnejša', 'nájizčrpnéjša'],\n",
       " [36217, 'najizčrpnejša', 'Agsfsn-', 'nájízčŕpnejša', 'nájizčrpnéjša'],\n",
       " [11074, 'najizčrpnejše', 'Rgs', 'nájízčŕpnejše', 'nájizčrpnéjše'],\n",
       " [12647, 'najizčrpnejše', 'Agsnsa-', 'nájízčŕpnejše', 'nájizčrpnéjše'],\n",
       " [14154, 'najizčrpnejše', 'Agsnsn-', 'nájízčŕpnejše', 'nájizčrpnéjše'],\n",
       " [14905, 'najizčrpnejše', 'Agsfpn-', 'nájízčŕpnejše', 'nájizčrpnéjše'],\n",
       " [44223, 'najizčrpnejše', 'Agsmpa-', 'nájízčŕpnejše', 'nájizčrpnéjše'],\n",
       " [45565, 'najizčrpnejše', 'Agsfpa-', 'nájízčŕpnejše', 'nájizčrpnéjše'],\n",
       " [47754, 'najizčrpnejše', 'Agsfsg-', 'nájízčŕpnejše', 'nájizčrpnéjše'],\n",
       " [5571, 'najizčrpnejšega', 'Agsnsg-', 'nájizčŕpnejšega', 'nájizčrpnéjšega'],\n",
       " [18967, 'najizčrpnejšega', 'Agsmsg-', 'nájizčŕpnejšega', 'nájizčrpnéjšega'],\n",
       " [22019, 'najizčrpnejšega', 'Agsmsa-', 'nájizčŕpnejšega', 'nájizčrpnéjšega'],\n",
       " [40190, 'najizčrpnejšem', 'Agsnsl-', 'nájízčŕpnejšem', 'nájizčrpnéjšem'],\n",
       " [49530, 'najizčrpnejšem', 'Agsmsl-', 'nájizčŕpnejšem', 'nájizčrpnéjšem'],\n",
       " [66, 'najizčrpnejšemu', 'Agsmsd-', 'nájizčŕpnejšemu', 'nájizčrpnéjšemu'],\n",
       " [30568, 'najizčrpnejšemu', 'Agsnsd-', 'nájizčŕpnejšemu', 'nájizčrpnéjšemu'],\n",
       " [734, 'najizčrpnejši', 'Agsmsn-', 'nájízčŕpnejši', 'nájizčrpnéjši'],\n",
       " [5460, 'najizčrpnejši', 'Agsfda-', 'nájízčŕpnejši', 'nájizčrpnéjši'],\n",
       " [9201, 'najizčrpnejši', 'Agsnda-', 'nájízčŕpnejši', 'nájizčrpnéjši'],\n",
       " [11454, 'najizčrpnejši', 'Agsfsd-', 'nájízčŕpnejši', 'nájizčrpnéjši'],\n",
       " [22911, 'najizčrpnejši', 'Agsmpn-', 'nájízčŕpnejši', 'nájizčrpnéjši'],\n",
       " [23544, 'najizčrpnejši', 'Agsfsl-', 'nájízčŕpnejši', 'nájizčrpnéjši'],\n",
       " [34768, 'najizčrpnejši', 'Agsndn-', 'nájízčŕpnejši', 'nájizčrpnéjši'],\n",
       " [43545, 'najizčrpnejši', 'Agsfdn-', 'nájízčŕpnejši', 'nájizčrpnéjši'],\n",
       " [47654, 'najizčrpnejši', 'Agsmsa-', 'nájízčŕpnejši', 'nájizčrpnéjši'],\n",
       " [313, 'najizčrpnejših', 'Agsnpg-', 'nájízčŕpnejših', 'nájizčrpnéjših'],\n",
       " [807, 'najizčrpnejših', 'Agsndl-', 'nájízčŕpnejših', 'nájizčrpnéjših'],\n",
       " [4556, 'najizčrpnejših', 'Agsmpg-', 'nájízčŕpnejših', 'nájizčrpnéjših'],\n",
       " [7873, 'najizčrpnejših', 'Agsfdl-', 'nájízčrpnejših', 'nájizčrpnéjših'],\n",
       " [33457, 'najizčrpnejših', 'Agsnpl-', 'nájizčŕpnejših', 'nájizčrpnéjših'],\n",
       " [33498, 'najizčrpnejših', 'Agsfpg-', 'nájízčrpnejših', 'nájizčrpnéjših'],\n",
       " [37098, 'najizčrpnejših', 'Agsmdl-', 'nájizčŕpnejših', 'nájizčrpnéjših'],\n",
       " [39387, 'najizčrpnejših', 'Agsfdg-', 'nájízčrpnejših', 'nájizčrpnéjših'],\n",
       " [42920, 'najizčrpnejših', 'Agsndg-', 'nájízčrpnejših', 'nájizčrpnéjših'],\n",
       " [45913, 'najizčrpnejših', 'Agsfpl-', 'nájízčŕpnejših', 'nájizčrpnéjših'],\n",
       " [51353, 'najizčrpnejših', 'Agsmdg-', 'nájízčŕpnejših', 'nájizčrpnéjših'],\n",
       " [51408, 'najizčrpnejših', 'Agsmpl-', 'nájizčŕpnejših', 'nájizčrpnéjših'],\n",
       " [611, 'najizčrpnejšim', 'Agsmsi-', 'nájizčŕpnejšim', 'nájizčrpnéjšim'],\n",
       " [10784, 'najizčrpnejšim', 'Agsnsi-', 'nájizčŕpnejšim', 'nájizčrpnéjšim'],\n",
       " [30006, 'najizčrpnejšim', 'Agsmpd-', 'nájizčŕpnejšim', 'nájizčrpnéjšim'],\n",
       " [41587, 'najizčrpnejšim', 'Agsfpd-', 'nájízčŕpnejšim', 'nájizčrpnéjšim'],\n",
       " [49813, 'najizčrpnejšim', 'Agsnpd-', 'nájizčŕpnejšim', 'nájizčrpnéjšim'],\n",
       " [9430, 'najizčrpnejšima', 'Agsmdi-', 'nájizčŕpnejšima', 'nájizčrpnéjšima'],\n",
       " [37063, 'najizčrpnejšima', 'Agsfdi-', 'nájizčŕpnejšima', 'nájizčrpnéjšima'],\n",
       " [39071, 'najizčrpnejšima', 'Agsmdd-', 'nájizčŕpnejšima', 'nájizčrpnéjšima'],\n",
       " [40387, 'najizčrpnejšima', 'Agsndi-', 'nájizčŕpnejšima', 'nájizčrpnéjšima'],\n",
       " [42996, 'najizčrpnejšima', 'Agsndd-', 'nájizčŕpnejšima', 'nájizčrpnéjšima'],\n",
       " [43750, 'najizčrpnejšima', 'Agsfdd-', 'nájizčŕpnejšima', 'nájizčrpnéjšima'],\n",
       " [2705, 'najizčrpnejšimi', 'Agsfpi-', 'nájizčŕpnejšimi', 'nájizčrpnéjšimi'],\n",
       " [21437, 'najizčrpnejšimi', 'Agsmpi-', 'nájizčŕpnejšimi', 'nájizčrpnéjšimi'],\n",
       " [51060, 'najizčrpnejšimi', 'Agsnpi-', 'nájizčŕpnejšimi', 'nájizčrpnéjšimi'],\n",
       " [22881, 'najizčrpnejšo', 'Agsfsa-', 'nájízčŕpnejšo', 'nájizčrpnéjšo'],\n",
       " [41330, 'najizčrpnejšo', 'Agsfsi-', 'nájízčŕpnejšo', 'nájizčrpnéjšo'],\n",
       " [6109, 'najpočasnejša', 'Agsmdn-', 'nájpočásnejša', 'nájpočasnéjša'],\n",
       " [12379, 'najpočasnejša', 'Agsnpa-', 'nájpočásnejša', 'nájpočasnéjša'],\n",
       " [21552, 'najpočasnejša', 'Agsnpn-', 'nájpočásnejša', 'nájpočasnéjša'],\n",
       " [26105, 'najpočasnejša', 'Agsfsn-', 'nájpočásnejša', 'nájpočasnéjša'],\n",
       " [33039, 'najpočasnejša', 'Agsmda-', 'nájpočásnejša', 'nájpočasnéjša'],\n",
       " [3170, 'najpočasnejše', 'Agsnsa-', 'nájpočásnejše', 'nájpočasnéjše'],\n",
       " [7225, 'najpočasnejše', 'Agsnsn-', 'nájpočásnejše', 'nájpočasnéjše'],\n",
       " [7909, 'najpočasnejše', 'Agsfpa-', 'nájpočásnejše', 'nájpočasnéjše'],\n",
       " [18526, 'najpočasnejše', 'Agsfpn-', 'nájpočásnejše', 'nájpočasnéjše'],\n",
       " [28568, 'najpočasnejše', 'Agsmpa-', 'nájpočásnejše', 'nájpočasnéjše'],\n",
       " [33490, 'najpočasnejše', 'Rgs', 'nájpočásnejše', 'nájpočasnéjše'],\n",
       " [37565, 'najpočasnejše', 'Agsfsg-', 'nájpočásnejše', 'nájpočasnéjše'],\n",
       " [9877, 'najpočasnejšega', 'Agsmsa-', 'nájpočásnejšega', 'nájpočasnéjšega'],\n",
       " [44262, 'najpočasnejšega', 'Agsmsg-', 'nájpočásnejšega', 'nájpočasnéjšega'],\n",
       " [46322, 'najpočasnejšega', 'Agsnsg-', 'nájpočásnejšega', 'nájpočasnéjšega'],\n",
       " [14517, 'najpočasnejšem', 'Agsnsl-', 'nájpočásnejšem', 'nájpočasnéjšem'],\n",
       " [40276, 'najpočasnejšem', 'Agsmsl-', 'nájpočásnejšem', 'nájpočasnéjšem'],\n",
       " [3439, 'najpočasnejšemu', 'Agsmsd-', 'nájpočásnejšemu', 'nájpočasnéjšemu'],\n",
       " [49578, 'najpočasnejšemu', 'Agsnsd-', 'nájpočásnejšemu', 'nájpočasnéjšemu'],\n",
       " [113, 'najpočasnejši', 'Agsmsa-', 'nájpočásnejši', 'nájpočasnéjši'],\n",
       " [2682, 'najpočasnejši', 'Agsfsl-', 'nájpočásnejši', 'nájpočasnéjši'],\n",
       " [8640, 'najpočasnejši', 'Agsfda-', 'nájpočásnejši', 'nájpočasnéjši'],\n",
       " [11590, 'najpočasnejši', 'Agsfsd-', 'nájpočásnejši', 'nájpočasnéjši'],\n",
       " [11624, 'najpočasnejši', 'Agsmpn-', 'nájpočásnejši', 'nájpočasnéjši'],\n",
       " [12254, 'najpočasnejši', 'Agsmsn-', 'nájpočásnejši', 'nájpočasnéjši'],\n",
       " [37468, 'najpočasnejši', 'Agsfdn-', 'nájpočásnejši', 'nájpočasnéjši'],\n",
       " [41126, 'najpočasnejši', 'Agsnda-', 'nájpočásnejši', 'nájpočasnéjši'],\n",
       " [50532, 'najpočasnejši', 'Agsndn-', 'nájpočásnejši', 'nájpočasnéjši'],\n",
       " [3230, 'najpočasnejših', 'Agsnpg-', 'nájpočásnejših', 'nájpočasnéjših'],\n",
       " [4332, 'najpočasnejših', 'Agsmdl-', 'nájpočásnejših', 'nájpočasnéjših'],\n",
       " [10213, 'najpočasnejših', 'Agsndg-', 'nájpočásnejših', 'nájpočasnéjših'],\n",
       " [12366, 'najpočasnejših', 'Agsfdl-', 'nájpočásnejših', 'nájpočasnéjših'],\n",
       " [15648, 'najpočasnejših', 'Agsnpl-', 'nájpočásnejših', 'nájpočasnéjših'],\n",
       " [18426, 'najpočasnejših', 'Agsmpg-', 'nájpočásnejših', 'nájpočasnéjših'],\n",
       " [32925, 'najpočasnejših', 'Agsfpl-', 'nájpočásnejših', 'nájpočasnéjših'],\n",
       " [34288, 'najpočasnejših', 'Agsfdg-', 'nájpočásnejših', 'nájpočasnéjših'],\n",
       " [46515, 'najpočasnejših', 'Agsmdg-', 'nájpočásnejših', 'nájpočasnéjših'],\n",
       " [49796, 'najpočasnejših', 'Agsndl-', 'nájpočásnejših', 'nájpočasnéjših'],\n",
       " [49895, 'najpočasnejših', 'Agsmpl-', 'nájpočásnejših', 'nájpočasnéjših'],\n",
       " [50790, 'najpočasnejših', 'Agsfpg-', 'nájpočásnejših', 'nájpočasnéjših'],\n",
       " [1359, 'najpočasnejšim', 'Agsnpd-', 'nájpočásnejšim', 'nájpočasnéjšim'],\n",
       " [35054, 'najpočasnejšim', 'Agsmpd-', 'nájpočásnejšim', 'nájpočasnéjšim'],\n",
       " [39257, 'najpočasnejšim', 'Agsfpd-', 'nájpočásnejšim', 'nájpočasnéjšim'],\n",
       " [46161, 'najpočasnejšim', 'Agsnsi-', 'nájpočásnejšim', 'nájpočasnéjšim'],\n",
       " [49646, 'najpočasnejšim', 'Agsmsi-', 'nájpočásnejšim', 'nájpočasnéjšim'],\n",
       " [27598, 'najpočasnejšima', 'Agsfdi-', 'nájpočásnejšima', 'nájpočasnéjšima'],\n",
       " [29900, 'najpočasnejšima', 'Agsmdd-', 'nájpočásnejšima', 'nájpočasnéjšima'],\n",
       " [31574, 'najpočasnejšima', 'Agsmdi-', 'nájpočásnejšima', 'nájpočasnéjšima'],\n",
       " [38111, 'najpočasnejšima', 'Agsfdd-', 'nájpočásnejšima', 'nájpočasnéjšima'],\n",
       " [47369, 'najpočasnejšima', 'Agsndi-', 'nájpočásnejšima', 'nájpočasnéjšima'],\n",
       " [48842, 'najpočasnejšima', 'Agsndd-', 'nájpočásnejšima', 'nájpočasnéjšima'],\n",
       " [5013, 'najpočasnejšimi', 'Agsnpi-', 'nájpočásnejšimi', 'nájpočasnéjšimi'],\n",
       " [26431, 'najpočasnejšimi', 'Agsmpi-', 'nájpočásnejšimi', 'nájpočasnéjšimi'],\n",
       " [38235, 'najpočasnejšimi', 'Agsfpi-', 'nájpočásnejšimi', 'nájpočasnéjšimi'],\n",
       " [32339, 'najpočasnejšo', 'Agsfsi-', 'nájpočásnejšo', 'nájpočasnéjšo'],\n",
       " [48746, 'najpočasnejšo', 'Agsfsa-', 'nájpočásnejšo', 'nájpočasnéjšo'],\n",
       " [13934, 'najsmelejše', 'Rgs', 'nájsmélejše', 'nájsmeléjše'],\n",
       " [26514, 'nasmeten', 'Agpmsnn', 'nasméten', 'nasmetén'],\n",
       " [51337, 'nasmeten', 'Agpmsan', 'nasméten', 'nasmetén'],\n",
       " [818, 'natakarica', 'Ncfsn-', 'natakaríca', 'natákarica'],\n",
       " [38313, 'natakaricah', 'Ncfpl-', 'natakarícah', 'natákaricah'],\n",
       " [51139, 'natakaricah', 'Ncfdl-', 'natakarícah', 'natákaricah'],\n",
       " [12651, 'natakaricam', 'Ncfpd-', 'natakarícam', 'natákaricam'],\n",
       " [24489, 'natakaricama', 'Ncfdi-', 'natakarícama', 'natákaricama'],\n",
       " [24557, 'natakaricama', 'Ncfdd-', 'natakarícama', 'natákaricama'],\n",
       " [51124, 'natakaricami', 'Ncfpi-', 'natakarícami', 'natákaricami'],\n",
       " [5163, 'natakarice', 'Ncfpa-', 'natakaríce', 'natákarice'],\n",
       " [9455, 'natakarice', 'Ncfsg-', 'natakaríce', 'natákarice'],\n",
       " [15231, 'natakarice', 'Ncfpn-', 'natakaríce', 'natákarice'],\n",
       " [5968, 'natakarici', 'Ncfsd-', 'natakaríci', 'natákarici'],\n",
       " [16994, 'natakarici', 'Ncfdn-', 'natakaríci', 'natákarici'],\n",
       " [22719, 'natakarici', 'Ncfda-', 'natakaríci', 'natákarici'],\n",
       " [41683, 'natakarici', 'Ncfsl-', 'natakaríci', 'natákarici'],\n",
       " [33222, 'natakarico', 'Ncfsi-', 'natakaríco', 'natákarico'],\n",
       " [51065, 'natakarico', 'Ncfsa-', 'natakaríco', 'natákarico'],\n",
       " [32585, 'nebotičnik', 'Ncmsn-', 'nébótičnik', 'nebotíčnik'],\n",
       " [38179, 'nebotičnik', 'Ncmsan', 'nébotíčnik', 'nebotíčnik'],\n",
       " [9551, 'nebotičnika', 'Ncmdn-', 'nebótičnika', 'nebotíčnika'],\n",
       " [22033, 'nebotičnika', 'Ncmda-', 'nebótičnika', 'nebotíčnika'],\n",
       " [38717, 'nebotičnika', 'Ncmsg-', 'nebótičnika', 'nebotíčnika'],\n",
       " [48593, 'nebotičnike', 'Ncmpa-', 'nebótičnike', 'nebotíčnike'],\n",
       " [13785, 'nebotičniki', 'Ncmpn-', 'nebótičniki', 'nebotíčniki'],\n",
       " [22184, 'nebotičniki', 'Ncmpi-', 'nebótičniki', 'nebotíčniki'],\n",
       " [17416, 'nebotičnikih', 'Ncmpl-', 'nébótičnikih', 'nebotíčnikih'],\n",
       " [35788, 'nebotičnikih', 'Ncmdl-', 'nébótičnikih', 'nebotíčnikih'],\n",
       " [16843, 'nebotičnikom', 'Ncmsi-', 'nébótičnikom', 'nebotíčnikom'],\n",
       " [27236, 'nebotičnikom', 'Ncmpd-', 'nébótičnikom', 'nebotíčnikom'],\n",
       " [25306, 'nebotičnikoma', 'Ncmdi-', 'nébotíčnikoma', 'nebotíčnikoma'],\n",
       " [46857, 'nebotičnikoma', 'Ncmdd-', 'nébotíčnikoma', 'nebotíčnikoma'],\n",
       " [15800, 'nebotičnikov', 'Ncmdg-', 'nébótičnikov', 'nebotíčnikov'],\n",
       " [44097, 'nebotičnikov', 'Ncmpg-', 'nébótičnikov', 'nebotíčnikov'],\n",
       " [25588, 'nebotičniku', 'Ncmsl-', 'nebótičniku', 'nebotíčniku'],\n",
       " [32912, 'nebotičniku', 'Ncmsd-', 'nebótičniku', 'nebotíčniku'],\n",
       " [26415, 'nepoznavanj', 'Ncndg-', 'nepoznávanj', 'népoznávanj'],\n",
       " [49080, 'nepoznavanj', 'Ncnpg-', 'nepoznávanj', 'népoznávanj'],\n",
       " [27191, 'nepoznavanja', 'Ncnpa-', 'nepoznávanja', 'népoznávanja'],\n",
       " [34011, 'nepoznavanja', 'Ncnpn-', 'nepoznávanja', 'népoznávanja'],\n",
       " [25013, 'nepoznavanje', 'Ncnsa-', 'nepoznávanje', 'népoznávanje'],\n",
       " [38065, 'nepoznavanje', 'Ncnsn-', 'nepoznávanje', 'népoznávanje'],\n",
       " [6192, 'nepoznavanjem', 'Ncnpd-', 'nepoznávanjem', 'népoznávanjem'],\n",
       " [7179, 'nepoznavanjem', 'Ncnsi-', 'nepoznávanjem', 'népoznávanjem'],\n",
       " [676, 'nepoznavanjema', 'Ncndd-', 'nepoznávanjema', 'népoznávanjema'],\n",
       " [34754, 'nepoznavanji', 'Ncnda-', 'nepoznávanji', 'népoznávanji'],\n",
       " [38941, 'nepoznavanji', 'Ncnpi-', 'nepoznávanji', 'népoznávanji'],\n",
       " [52031, 'nepoznavanji', 'Ncndn-', 'nepoznávanji', 'népoznávanji'],\n",
       " [7768, 'nepoznavanjih', 'Ncndl-', 'nepoznávanjih', 'népoznávanjih'],\n",
       " [16741, 'nepoznavanjih', 'Ncnpl-', 'nepoznávanjih', 'népoznávanjih']]"
      ]
     },
     "execution_count": 81,
     "metadata": {},
     "output_type": "execute_result"
    }
   ],
   "source": [
    "print(len(letters_word_accetuation))\n",
    "letters_word_accetuation\n",
    "collective_errors[:1000]\n",
    "#unique_err[:1000]"
   ]
  },
  {
   "cell_type": "code",
   "execution_count": 22,
   "metadata": {},
   "outputs": [
    {
     "name": "stdout",
     "output_type": "stream",
     "text": [
      "54222\n",
      "[  6.65830739e-04   9.97509003e-01   4.23445408e-06   1.21018451e-09\n",
      "   2.96133344e-12   2.41166559e-17   5.49080865e-25   1.48047591e-26\n",
      "   4.22223253e-23   4.62659920e-33]\n",
      "54222\n"
     ]
    }
   ],
   "source": [
    "pickle_input = open('ensemble_test_predictions.pkl', 'rb')\n",
    "ensemble_predictions = pickle.load(pickle_input)\n",
    "\n",
    "print(len(ensemble_predictions))\n",
    "print(ensemble_predictions[0])\n",
    "print(len(data.y_validate))"
   ]
  },
  {
   "cell_type": "code",
   "execution_count": 57,
   "metadata": {
    "collapsed": true
   },
   "outputs": [],
   "source": [
    "probabilities = np.zeros((10, 10))\n",
    "count_results = np.zeros(10)\n",
    "for i in range(len(ensemble_predictions)):\n",
    "    for j in range(10):\n",
    "        if data.y_test[i][j] == 1.0:\n",
    "            probabilities[j] += ensemble_predictions[i]\n",
    "            count_results[j] += 1\n",
    "            \n",
    "for i in range(len(probabilities)):\n",
    "    probabilities[i] = probabilities[i] / count_results[i]"
   ]
  },
  {
   "cell_type": "code",
   "execution_count": 58,
   "metadata": {},
   "outputs": [
    {
     "name": "stdout",
     "output_type": "stream",
     "text": [
      "[[ 0.85  0.15  0.01  0.    0.    0.    0.    0.    0.    0.  ]\n",
      " [ 0.01  0.94  0.06  0.02  0.01  0.    0.    0.    0.    0.  ]\n",
      " [ 0.    0.08  0.9   0.04  0.05  0.03  0.    0.    0.    0.  ]\n",
      " [ 0.    0.19  0.12  0.82  0.    0.1   0.05  0.01  0.    0.  ]\n",
      " [ 0.    0.07  0.69  0.1   0.88  0.05  0.04  0.05  0.    0.  ]\n",
      " [ 0.    0.11  0.43  0.43  0.14  0.92  0.03  0.01  0.01  0.  ]\n",
      " [ 0.    0.    0.13  0.68  0.17  0.17  0.91  0.05  0.    0.  ]\n",
      " [ 0.    0.    0.    0.1   0.84  0.06  0.    1.    0.    0.  ]\n",
      " [ 0.    0.    0.    0.    0.18  0.82  0.    0.    1.    0.  ]\n",
      " [  nan   nan   nan   nan   nan   nan   nan   nan   nan   nan]]\n",
      "[ 2109 26455 20023  4316  1731  1183   377    93    17     0]\n"
     ]
    }
   ],
   "source": [
    "print(np.around(probabilities, decimals=2))\n",
    "print(count_results.astype(int))"
   ]
  },
  {
   "cell_type": "code",
   "execution_count": 46,
   "metadata": {},
   "outputs": [
    {
     "name": "stdout",
     "output_type": "stream",
     "text": [
      "[1359  834    0    0    0    0    0    0    0    0]\n",
      "2\n"
     ]
    }
   ],
   "source": [
    "print(data.x_test[0])\n",
    "print(get_word_length(data.x_test[0]))"
   ]
  },
  {
   "cell_type": "code",
   "execution_count": 79,
   "metadata": {
    "collapsed": true
   },
   "outputs": [],
   "source": [
    "int_max = 0\n",
    "\n",
    "def get_word_length(x):\n",
    "    i = 0\n",
    "    for el in x:\n",
    "        if el == 0:\n",
    "            return i\n",
    "        i += 1\n",
    "\n",
    "probabilities = np.zeros((10, 10))\n",
    "count_results = np.zeros(10)\n",
    "for i in range(len(ensemble_predictions)):\n",
    "    word_len = get_word_length(data.x_test[i])\n",
    "    #print(word_len)\n",
    "    #if word_len > 6:\n",
    "    #    print(word_len)\n",
    "    #    print(data.y_test[i])\n",
    "    \n",
    "    #\n",
    "    for j in range(word_len):\n",
    "        #print(word_len)\n",
    "        if data.y_test[i][word_len - 1 - j] == 1.0:\n",
    "            for k in range(word_len):\n",
    "                probabilities[j][k] += ensemble_predictions[i][word_len - 1 - k]\n",
    "            #probabilities[j] += ensemble_predictions[i]\n",
    "            count_results[j] += 1\n",
    "    \n",
    "#print(probabilities)\n",
    "for i in range(len(probabilities)):\n",
    "    for j in range(len(probabilities[i])):\n",
    "        probabilities[i][j] = probabilities[i][j] / count_results[i]\n",
    "    \n",
    "    #probabilities[i] = probabilities[i] / count_results[i]"
   ]
  },
  {
   "cell_type": "code",
   "execution_count": 63,
   "metadata": {},
   "outputs": [
    {
     "data": {
      "text/plain": [
       "9"
      ]
     },
     "execution_count": 63,
     "metadata": {},
     "output_type": "execute_result"
    }
   ],
   "source": [
    "int_max"
   ]
  },
  {
   "cell_type": "code",
   "execution_count": 80,
   "metadata": {},
   "outputs": [
    {
     "name": "stdout",
     "output_type": "stream",
     "text": [
      "[[ 0.87  0.14  0.16  0.06  0.01  0.    0.    0.    0.    0.  ]\n",
      " [ 0.07  0.92  0.03  0.01  0.    0.    0.    0.    0.    0.  ]\n",
      " [ 0.15  0.06  0.93  0.    0.    0.    0.    0.    0.    0.  ]\n",
      " [ 0.22  0.06  0.07  0.93  0.    0.    0.    0.    0.    0.  ]\n",
      " [ 0.26  0.13  0.    0.04  0.96  0.    0.    0.    0.    0.  ]\n",
      " [ 0.    0.    0.    0.    0.    1.    0.    0.    0.    0.  ]\n",
      " [  nan   nan   nan   nan   nan   nan   nan   nan   nan   nan]\n",
      " [  nan   nan   nan   nan   nan   nan   nan   nan   nan   nan]\n",
      " [  nan   nan   nan   nan   nan   nan   nan   nan   nan   nan]\n",
      " [  nan   nan   nan   nan   nan   nan   nan   nan   nan   nan]]\n",
      "[14812 22918 12964  4939   637    34     0     0     0     0]\n"
     ]
    }
   ],
   "source": [
    "print(np.around(probabilities, decimals=2))\n",
    "print(count_results.astype(int))"
   ]
  },
  {
   "cell_type": "code",
   "execution_count": null,
   "metadata": {
    "collapsed": true
   },
   "outputs": [],
   "source": [
    "#######################################################################################\n",
    "# COLLECTIVE RESULTS\n",
    "#######################################################################################"
   ]
  },
  {
   "cell_type": "code",
   "execution_count": 16,
   "metadata": {
    "collapsed": true
   },
   "outputs": [],
   "source": [
    "# TEST DATA!!!\n",
    "pickle_input = open('../accent_classification/letters_accent_classification_test_predictions.pkl', 'rb')\n",
    "letters_accent_classification_predictions = pickle.load(pickle_input)\n",
    "pickle_input = open('../accent_classification/syllables_accent_classification_test_predictions.pkl', 'rb')\n",
    "syllables_accent_classification_predictions = pickle.load(pickle_input)\n",
    "pickle_input = open('../accent_classification/syllabled_letters_accent_classification_test_predictions.pkl', 'rb')\n",
    "syllabled_letters_accent_classification_predictions = pickle.load(pickle_input)\n",
    "pickle_input = open('../accent_classification/ensemble_test_predictions.pkl', 'rb')\n",
    "ensemble_accent_classification_predictions = pickle.load(pickle_input)\n",
    "\n",
    "pickle_input = open('../accent_classification/letters_accent_classification_test_errors.pkl', 'rb')\n",
    "letters_accent_classification_errors = pickle.load(pickle_input)\n",
    "pickle_input = open('../accent_classification/syllables_accent_classification_test_errors.pkl', 'rb')\n",
    "syllables_accent_classification_errors = pickle.load(pickle_input)\n",
    "pickle_input = open('../accent_classification/syllabled_letters_accent_classification_test_errors.pkl', 'rb')\n",
    "syllabled_letters_accent_classification_errors = pickle.load(pickle_input)\n",
    "pickle_input = open('../accent_classification/ensemble_test_errors.pkl', 'rb')\n",
    "ensemble_accent_classification_errors = pickle.load(pickle_input)"
   ]
  },
  {
   "cell_type": "code",
   "execution_count": 17,
   "metadata": {
    "collapsed": true
   },
   "outputs": [],
   "source": [
    "# TEST DATA\n",
    "pickle_input = open('letters_word_accetuation_test_error.pkl', 'rb')\n",
    "letters_word_accetuation = pickle.load(pickle_input)\n",
    "pickle_input = open('syllables_word_accetuation_test_error.pkl', 'rb')\n",
    "syllables_word_accetuation = pickle.load(pickle_input)\n",
    "pickle_input = open('syllabled_letters_word_accetuation_test_error.pkl', 'rb')\n",
    "syllabled_letters_word_accetuation = pickle.load(pickle_input)\n",
    "pickle_input = open('ensemble_test_errors.pkl', 'rb')\n",
    "ensemble_word_accetuation = pickle.load(pickle_input)\n",
    "\n",
    "pickle_input = open('letters_word_accetuation_test_predictions.pkl', 'rb')\n",
    "letters_word_accetuation_predictions = pickle.load(pickle_input)\n",
    "pickle_input = open('syllables_word_accetuation_test_predictions.pkl', 'rb')\n",
    "syllables_word_accetuation_predictions = pickle.load(pickle_input)\n",
    "pickle_input = open('syllabled_letters_word_accetuation_test_predictions.pkl', 'rb')\n",
    "syllabled_letters_word_accetuation_predictions = pickle.load(pickle_input)\n",
    "pickle_input = open('ensemble_test_predictions.pkl', 'rb')\n",
    "ensemble_word_accetuation_predictions = pickle.load(pickle_input)"
   ]
  },
  {
   "cell_type": "code",
   "execution_count": 32,
   "metadata": {},
   "outputs": [
    {
     "data": {
      "text/plain": [
       "0.9637232119803769"
      ]
     },
     "execution_count": 32,
     "metadata": {},
     "output_type": "execute_result"
    }
   ],
   "source": [
    "1 - len(ensemble_accent_classification_errors)/float(data.x_validate.shape[0])"
   ]
  },
  {
   "cell_type": "code",
   "execution_count": 20,
   "metadata": {},
   "outputs": [
    {
     "name": "stdout",
     "output_type": "stream",
     "text": [
      "letters\n",
      "0.8853970712994725\n",
      "0.9606248386263878\n",
      "0.8564789199955738\n",
      "syllables\n",
      "0.8567002323780015\n",
      "0.9399690162664601\n",
      "0.8071262587141751\n",
      "syllabled letters\n",
      "0.879845819040242\n",
      "0.9598318025893549\n",
      "0.8501346316993103\n",
      "ensembles\n",
      "0.9023643539522703\n",
      "0.9637232119803769\n",
      "0.8765445760023607\n"
     ]
    }
   ],
   "source": [
    "def prediction_accuracy(stress_location_errors, stress_type_errors, length):\n",
    "    print(1 - len(stress_location_errors)/float(length))\n",
    "    print(1 - len(stress_type_errors)/float(length))\n",
    "    collective_error_num = len(stress_location_errors) + len(stress_type_errors) -\\\n",
    "                            len(compare_outputs(letters_accent_classification_errors, letters_word_accetuation_test))\n",
    "    print(1 - collective_error_num/float(length))\n",
    "#print(len(letters_accent_classification_errors))\n",
    "#print(len(letters_word_accetuation_test))\n",
    "#len(compare_outputs(letters_accent_classification_errors, letters_word_accetuation_test))\n",
    "print(\"letters\")\n",
    "prediction_accuracy(letters_word_accetuation, letters_accent_classification_errors, data.x_validate.shape[0])\n",
    "\n",
    "print(\"syllables\")\n",
    "prediction_accuracy(syllables_word_accetuation, syllables_accent_classification_errors, data.x_validate.shape[0])\n",
    "\n",
    "print(\"syllabled letters\")\n",
    "prediction_accuracy(syllabled_letters_word_accetuation, syllabled_letters_accent_classification_errors, data.x_validate.shape[0])\n",
    "\n",
    "print(\"ensembles\")\n",
    "prediction_accuracy(ensemble_word_accetuation, ensemble_accent_classification_errors, data.x_validate.shape[0])"
   ]
  }
 ],
 "metadata": {
  "kernelspec": {
   "display_name": "Python 3",
   "language": "python",
   "name": "python3"
  },
  "language_info": {
   "codemirror_mode": {
    "name": "ipython",
    "version": 3
   },
   "file_extension": ".py",
   "mimetype": "text/x-python",
   "name": "python",
   "nbconvert_exporter": "python",
   "pygments_lexer": "ipython3",
   "version": "3.5.2"
  }
 },
 "nbformat": 4,
 "nbformat_minor": 2
}
