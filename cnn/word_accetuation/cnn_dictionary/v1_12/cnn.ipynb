{
 "cells": [
  {
   "cell_type": "code",
   "execution_count": 1,
   "metadata": {},
   "outputs": [
    {
     "name": "stderr",
     "output_type": "stream",
     "text": [
      "Using Theano backend.\n"
     ]
    }
   ],
   "source": [
    "# -*- coding: utf-8 -*-\n",
    "from __future__ import unicode_literals\n",
    "# text in Western (Windows 1252)\n",
    "\n",
    "import pickle\n",
    "import numpy as np\n",
    "# import StringIO\n",
    "import math\n",
    "from keras import optimizers, metrics\n",
    "from keras.models import Model\n",
    "from keras.layers import Dense, Dropout, Input\n",
    "from keras.layers.merge import concatenate\n",
    "from keras import regularizers\n",
    "from keras.layers.convolutional import Conv1D\n",
    "from keras.layers.convolutional import MaxPooling1D\n",
    "from keras.constraints import maxnorm\n",
    "from keras.layers import Flatten\n",
    "from keras.optimizers import SGD\n",
    "from keras.models import load_model\n",
    "# from keras import backend as Input\n",
    "np.random.seed(7)"
   ]
  },
  {
   "cell_type": "code",
   "execution_count": 2,
   "metadata": {
    "collapsed": true
   },
   "outputs": [],
   "source": [
    "# %run ../../../prepare_data.py\n",
    "\n",
    "import sys\n",
    "sys.path.insert(0, '../../../')\n",
    "from prepare_data import *"
   ]
  },
  {
   "cell_type": "code",
   "execution_count": 5,
   "metadata": {},
   "outputs": [],
   "source": [
    "# X_train, X_other_features_train, y_train, X_validate, X_other_features_validate, y_validate = generate_full_matrix_inputs()\n",
    "# save_inputs('../../internal_representations/inputs/shuffeled_matrix_train_inputs_other_features_multilabel.h5', X_train, y_train, other_features = X_other_features_train)\n",
    "# save_inputs('../../internal_representations/inputs/shuffeled_matrix_validate_inputs_other_features_multilabel.h5', X_validate, y_validate,  other_features = X_other_features_validate)\n",
    "X_train, X_other_features_train, y_train = load_inputs('../../internal_representations/inputs/shuffeled_matrix_train_inputs_other_features_multilabel.h5', other_features=True)\n",
    "X_validate, X_other_features_validate, y_validate = load_inputs('../../internal_representations/inputs/shuffeled_matrix_validate_inputs_other_features_multilabel.h5', other_features=True)"
   ]
  },
  {
   "cell_type": "code",
   "execution_count": 24,
   "metadata": {},
   "outputs": [
    {
     "name": "stdout",
     "output_type": "stream",
     "text": [
      "navleèeta\n",
      "Vmip3d--n\n",
      "None\n"
     ]
    }
   ],
   "source": [
    "# X_other_features = create_X_features(content)\n",
    "# print (X_other_features[178200])\n",
    "decode_position = 30\n",
    "print (decode_input(X_train[decode_position], dictionary))\n",
    "# print (X_other_features_train[0])\n",
    "print (decode_X_features(feature_dictionary, [X_other_features_train[decode_position]]))\n",
    "# print (len(X_other_features_train[0]))"
   ]
  },
  {
   "cell_type": "code",
   "execution_count": 13,
   "metadata": {
    "collapsed": true
   },
   "outputs": [],
   "source": [
    "num_examples = len(X_train) # training set size\n",
    "# nn_input_dim = max_word * len(dictionary) # input layer dimensionality\n",
    "# nn_output_dim = max_num_vowels * max_num_vowels # output layer dimensionality\n",
    "nn_output_dim = 11\n",
    "nn_hdim = 516\n",
    "batch_size = 16\n",
    "actual_epoch = 20\n",
    "num_fake_epoch = 20\n",
    "\n",
    "# Gradient descent parameters (I picked these by hand)\n",
    "# epsilon = 1 # learning rate for gradient descent\n",
    "# reg_lambda = 1 # regularization strength"
   ]
  },
  {
   "cell_type": "code",
   "execution_count": 24,
   "metadata": {
    "collapsed": true
   },
   "outputs": [],
   "source": [
    "# word_processor = Sequential()\n",
    "# word_processor.add(Conv1D(43, (3), input_shape=(23, 43), padding='same', activation='relu'))\n",
    "# word_processor.add(Conv1D(43, (2), padding='same', activation='relu'))\n",
    "# word_processor.add(Conv1D(43, (2), padding='same', activation='relu'))\n",
    "# word_processor.add(MaxPooling1D(pool_size=2))\n",
    "# word_processor.add(Flatten())\n",
    "# word_processor.add(Dense(516, activation='relu', kernel_constraint=maxnorm(3)))\n",
    "\n",
    "# metadata_processor = Sequential()\n",
    "# metadata_processor.add(Dense(256, input_dim=167, activation='relu'))\n",
    "\n",
    "# model = Sequential()\n",
    "# model.add(Merge([word_processor, metadata_processor], mode='concat'))  # Merge is your sensor fusion buddy\n",
    "# model.add(Dense(1024, input_dim=(516 + 256), activation='relu'))\n",
    "# model.add(Dropout(0.3))\n",
    "# model.add(Dense(1024, activation='relu'))\n",
    "# model.add(Dropout(0.2))\n",
    "# model.add(Dense(nn_output_dim, activation='sigmoid'))\n",
    "\n",
    "\n",
    "# -------------------------------------------------------\n",
    "\n",
    "conv_input_shape=(23, 43)\n",
    "othr_input = (167, )\n",
    "\n",
    "conv_input = Input(shape=conv_input_shape, name='conv_input')\n",
    "x_conv = Conv1D(43, (3), padding='same', activation='relu')(conv_input)\n",
    "x_conv = Conv1D(43, (3), padding='same', activation='relu')(x_conv)\n",
    "x_conv = MaxPooling1D(pool_size=2)(x_conv)\n",
    "x_conv = Flatten()(x_conv)\n",
    "# x_conv = Dense(516, activation='relu', kernel_constraint=maxnorm(3))(x_conv)\n",
    "\n",
    "othr_input = Input(shape=othr_input, name='othr_input')\n",
    "x_othr = Dense(256, input_dim=167, activation='relu')(othr_input)\n",
    "x_othr = Dropout(0.3)(x_othr)\n",
    "x_othr = Dense(512, activation='relu')(othr_input)\n",
    "x_othr = Dropout(0.3)(x_othr)\n",
    "x_othr = Dense(256, activation='relu')(othr_input)\n",
    "\n",
    "x = concatenate([x_conv, othr_input])\n",
    "# x = Dense(1024, input_dim=(516 + 256), activation='relu')(x)\n",
    "x = Dense(512, activation='relu')(x)\n",
    "x = Dropout(0.3)(x)\n",
    "x = Dense(1024, activation='relu')(x)\n",
    "x = Dropout(0.3)(x)\n",
    "x = Dense(512, activation='relu')(x)\n",
    "x = Dropout(0.2)(x)\n",
    "x = Dense(nn_output_dim, activation='sigmoid')(x)\n",
    "\n",
    "# model = Model(inputs=[conv_input, othr_input], output=x)"
   ]
  },
  {
   "cell_type": "code",
   "execution_count": 25,
   "metadata": {
    "collapsed": true
   },
   "outputs": [],
   "source": [
    "model = Model(inputs=[conv_input, othr_input], outputs=x)\n",
    "\n",
    "# epochs = 5\n",
    "# lrate = 0.1\n",
    "# decay = lrate/epochs\n",
    "# sgd = SGD(lr=lrate, momentum=0.9, decay=decay, nesterov=False)\n",
    "# model.compile(loss='mean_squared_error', optimizer='adam', metrics=['accuracy'])\n",
    "\n",
    "# Compile model\n",
    "# keras.optimizers.Adam(lr=0.001, beta_1=0.9, beta_2=0.999, epsilon=1e-08, decay=0.0)\n",
    "opt = optimizers.Adam(lr=1E-4, beta_1=0.9, beta_2=0.999, epsilon=1e-08)\n",
    "model.compile(loss='binary_crossentropy', optimizer=opt, metrics=[actual_accuracy,])\n",
    "# model.compile(loss='mean_squared_error', optimizer='adam', metrics=['accuracy'])"
   ]
  },
  {
   "cell_type": "code",
   "execution_count": 26,
   "metadata": {
    "scrolled": false
   },
   "outputs": [
    {
     "name": "stdout",
     "output_type": "stream",
     "text": [
      "Epoch 1/200\n",
      "1336/1335 [==============================] - 77s - loss: 0.1952 - actual_accuracy: 0.2479 - val_loss: 0.1571 - val_actual_accuracy: 0.5056\n",
      "Epoch 2/200\n",
      "1336/1335 [==============================] - 83s - loss: 0.1469 - actual_accuracy: 0.4950 - val_loss: 0.1318 - val_actual_accuracy: 0.5832\n",
      "Epoch 3/200\n",
      "1336/1335 [==============================] - 90s - loss: 0.1181 - actual_accuracy: 0.6331 - val_loss: 0.1156 - val_actual_accuracy: 0.6585\n",
      "Epoch 4/200\n",
      "1336/1335 [==============================] - 101s - loss: 0.1054 - actual_accuracy: 0.6946 - val_loss: 0.1035 - val_actual_accuracy: 0.7077\n",
      "Epoch 5/200\n",
      "1336/1335 [==============================] - 98s - loss: 0.0968 - actual_accuracy: 0.7284 - val_loss: 0.0981 - val_actual_accuracy: 0.7272\n",
      "Epoch 6/200\n",
      "1336/1335 [==============================] - 117s - loss: 0.0915 - actual_accuracy: 0.7512 - val_loss: 0.0948 - val_actual_accuracy: 0.7443\n",
      "Epoch 7/200\n",
      "1336/1335 [==============================] - 116s - loss: 0.0864 - actual_accuracy: 0.7672 - val_loss: 0.0960 - val_actual_accuracy: 0.7421\n",
      "Epoch 8/200\n",
      "1336/1335 [==============================] - 118s - loss: 0.0828 - actual_accuracy: 0.7817 - val_loss: 0.0900 - val_actual_accuracy: 0.7638\n",
      "Epoch 9/200\n",
      "1336/1335 [==============================] - 119s - loss: 0.0791 - actual_accuracy: 0.7899 - val_loss: 0.0908 - val_actual_accuracy: 0.7589 loss: 0.0791 - actual_a\n",
      "Epoch 10/200\n",
      "1336/1335 [==============================] - 115s - loss: 0.0755 - actual_accuracy: 0.8014 - val_loss: 0.0852 - val_actual_accuracy: 0.7808\n",
      "Epoch 11/200\n",
      "1336/1335 [==============================] - 118s - loss: 0.0732 - actual_accuracy: 0.8130 - val_loss: 0.0848 - val_actual_accuracy: 0.7839\n",
      "Epoch 12/200\n",
      "1336/1335 [==============================] - 116s - loss: 0.0711 - actual_accuracy: 0.8161 - val_loss: 0.0842 - val_actual_accuracy: 0.7862\n",
      "Epoch 13/200\n",
      "1336/1335 [==============================] - 112s - loss: 0.0688 - actual_accuracy: 0.8238 - val_loss: 0.0835 - val_actual_accuracy: 0.7919\n",
      "Epoch 14/200\n",
      "1336/1335 [==============================] - 122s - loss: 0.0665 - actual_accuracy: 0.8311 - val_loss: 0.0795 - val_actual_accuracy: 0.8021\n",
      "Epoch 15/200\n",
      "1336/1335 [==============================] - 118s - loss: 0.0649 - actual_accuracy: 0.8360 - val_loss: 0.0787 - val_actual_accuracy: 0.8066\n",
      "Epoch 16/200\n",
      "1336/1335 [==============================] - 116s - loss: 0.0636 - actual_accuracy: 0.8406 - val_loss: 0.0784 - val_actual_accuracy: 0.8058\n",
      "Epoch 17/200\n",
      "1336/1335 [==============================] - 115s - loss: 0.0614 - actual_accuracy: 0.8461 - val_loss: 0.0776 - val_actual_accuracy: 0.8132\n",
      "Epoch 18/200\n",
      "1336/1335 [==============================] - 115s - loss: 0.0597 - actual_accuracy: 0.8482 - val_loss: 0.0772 - val_actual_accuracy: 0.8158\n",
      "Epoch 19/200\n",
      "1336/1335 [==============================] - 116s - loss: 0.0573 - actual_accuracy: 0.8573 - val_loss: 0.0809 - val_actual_accuracy: 0.8108\n",
      "Epoch 20/200\n",
      "1336/1335 [==============================] - 112s - loss: 0.0570 - actual_accuracy: 0.8569 - val_loss: 0.0769 - val_actual_accuracy: 0.8143\n",
      "Epoch 21/200\n",
      "1336/1335 [==============================] - 116s - loss: 0.0551 - actual_accuracy: 0.8606 - val_loss: 0.0773 - val_actual_accuracy: 0.8120\n",
      "Epoch 22/200\n",
      "1336/1335 [==============================] - 110s - loss: 0.0530 - actual_accuracy: 0.8677 - val_loss: 0.0934 - val_actual_accuracy: 0.7839\n",
      "Epoch 23/200\n",
      "1336/1335 [==============================] - 118s - loss: 0.0517 - actual_accuracy: 0.8731 - val_loss: 0.0775 - val_actual_accuracy: 0.8185\n",
      "Epoch 24/200\n",
      "1336/1335 [==============================] - 111s - loss: 0.0498 - actual_accuracy: 0.8769 - val_loss: 0.0790 - val_actual_accuracy: 0.8200\n",
      "Epoch 25/200\n",
      "1336/1335 [==============================] - 115s - loss: 0.0494 - actual_accuracy: 0.8770 - val_loss: 0.0767 - val_actual_accuracy: 0.8222\n",
      "Epoch 26/200\n",
      "1336/1335 [==============================] - 113s - loss: 0.0481 - actual_accuracy: 0.8815 - val_loss: 0.0775 - val_actual_accuracy: 0.8197\n",
      "Epoch 27/200\n",
      "1336/1335 [==============================] - 116s - loss: 0.0472 - actual_accuracy: 0.8830 - val_loss: 0.0997 - val_actual_accuracy: 0.7857\n",
      "Epoch 28/200\n",
      "1336/1335 [==============================] - 117s - loss: 0.0460 - actual_accuracy: 0.8861 - val_loss: 0.0751 - val_actual_accuracy: 0.8251\n",
      "Epoch 29/200\n",
      "1336/1335 [==============================] - 117s - loss: 0.0440 - actual_accuracy: 0.8888 - val_loss: 0.0834 - val_actual_accuracy: 0.8221\n",
      "Epoch 30/200\n",
      "1336/1335 [==============================] - 114s - loss: 0.0438 - actual_accuracy: 0.8896 - val_loss: 0.0820 - val_actual_accuracy: 0.8231\n",
      "Epoch 31/200\n",
      "1336/1335 [==============================] - 117s - loss: 0.0420 - actual_accuracy: 0.8954 - val_loss: 0.0838 - val_actual_accuracy: 0.8227\n",
      "Epoch 32/200\n",
      "1336/1335 [==============================] - 113s - loss: 0.0409 - actual_accuracy: 0.8998 - val_loss: 0.0831 - val_actual_accuracy: 0.8168\n",
      "Epoch 33/200\n",
      "1336/1335 [==============================] - 118s - loss: 0.0407 - actual_accuracy: 0.8973 - val_loss: 0.0806 - val_actual_accuracy: 0.8227\n",
      "Epoch 34/200\n",
      "1336/1335 [==============================] - 112s - loss: 0.0394 - actual_accuracy: 0.8997 - val_loss: 0.0777 - val_actual_accuracy: 0.8276\n",
      "Epoch 35/200\n",
      "1336/1335 [==============================] - 118s - loss: 0.0380 - actual_accuracy: 0.9048 - val_loss: 0.0798 - val_actual_accuracy: 0.8274\n",
      "Epoch 36/200\n",
      "1336/1335 [==============================] - 118s - loss: 0.0394 - actual_accuracy: 0.8996 - val_loss: 0.0797 - val_actual_accuracy: 0.8239\n",
      "Epoch 37/200\n",
      "1336/1335 [==============================] - 114s - loss: 0.0380 - actual_accuracy: 0.9062 - val_loss: 0.0808 - val_actual_accuracy: 0.8277\n",
      "Epoch 38/200\n",
      "1336/1335 [==============================] - 118s - loss: 0.0360 - actual_accuracy: 0.9098 - val_loss: 0.0809 - val_actual_accuracy: 0.8292\n",
      "Epoch 39/200\n",
      "1336/1335 [==============================] - 116s - loss: 0.0357 - actual_accuracy: 0.9118 - val_loss: 0.0872 - val_actual_accuracy: 0.8297\n",
      "Epoch 40/200\n",
      "1336/1335 [==============================] - 120s - loss: 0.0359 - actual_accuracy: 0.9099 - val_loss: 0.0849 - val_actual_accuracy: 0.8264\n",
      "Epoch 41/200\n",
      "1336/1335 [==============================] - 118s - loss: 0.0344 - actual_accuracy: 0.9100 - val_loss: 0.0822 - val_actual_accuracy: 0.8347\n",
      "Epoch 42/200\n",
      "1336/1335 [==============================] - 120s - loss: 0.0340 - actual_accuracy: 0.9141 - val_loss: 0.0930 - val_actual_accuracy: 0.8167\n",
      "Epoch 43/200\n",
      "1336/1335 [==============================] - 115s - loss: 0.0338 - actual_accuracy: 0.9145 - val_loss: 0.1008 - val_actual_accuracy: 0.8092\n",
      "Epoch 44/200\n",
      "1336/1335 [==============================] - 118s - loss: 0.0320 - actual_accuracy: 0.9192 - val_loss: 0.0857 - val_actual_accuracy: 0.8295\n",
      "Epoch 45/200\n",
      "1336/1335 [==============================] - 123s - loss: 0.0320 - actual_accuracy: 0.9187 - val_loss: 0.0845 - val_actual_accuracy: 0.8310\n",
      "Epoch 46/200\n",
      "1336/1335 [==============================] - 118s - loss: 0.0314 - actual_accuracy: 0.9216 - val_loss: 0.0933 - val_actual_accuracy: 0.8233\n",
      "Epoch 47/200\n",
      "1336/1335 [==============================] - 119s - loss: 0.0309 - actual_accuracy: 0.9215 - val_loss: 0.0934 - val_actual_accuracy: 0.8294\n",
      "Epoch 48/200\n",
      "1336/1335 [==============================] - 118s - loss: 0.0304 - actual_accuracy: 0.9242 - val_loss: 0.0862 - val_actual_accuracy: 0.8363\n",
      "Epoch 49/200\n",
      "1336/1335 [==============================] - 124s - loss: 0.0292 - actual_accuracy: 0.9267 - val_loss: 0.0986 - val_actual_accuracy: 0.8273\n",
      "Epoch 50/200\n",
      "1336/1335 [==============================] - 128s - loss: 0.0297 - actual_accuracy: 0.9247 - val_loss: 0.0885 - val_actual_accuracy: 0.8374\n",
      "Epoch 51/200\n",
      "1336/1335 [==============================] - 126s - loss: 0.0286 - actual_accuracy: 0.9280 - val_loss: 0.0889 - val_actual_accuracy: 0.8346\n",
      "Epoch 52/200\n",
      "1336/1335 [==============================] - 131s - loss: 0.0285 - actual_accuracy: 0.9299 - val_loss: 0.0894 - val_actual_accuracy: 0.8402\n",
      "Epoch 53/200\n",
      "1336/1335 [==============================] - 128s - loss: 0.0281 - actual_accuracy: 0.9294 - val_loss: 0.0952 - val_actual_accuracy: 0.8285\n",
      "Epoch 54/200\n"
     ]
    },
    {
     "name": "stdout",
     "output_type": "stream",
     "text": [
      "1336/1335 [==============================] - 104s - loss: 0.0271 - actual_accuracy: 0.9317 - val_loss: 0.0908 - val_actual_accuracy: 0.8314\n",
      "Epoch 55/200\n",
      "1336/1335 [==============================] - 104s - loss: 0.0264 - actual_accuracy: 0.9341 - val_loss: 0.0881 - val_actual_accuracy: 0.8401\n",
      "Epoch 56/200\n",
      "1336/1335 [==============================] - 103s - loss: 0.0274 - actual_accuracy: 0.9288 - val_loss: 0.0908 - val_actual_accuracy: 0.8341\n",
      "Epoch 57/200\n",
      "1336/1335 [==============================] - 110s - loss: 0.0267 - actual_accuracy: 0.9329 - val_loss: 0.0935 - val_actual_accuracy: 0.8369\n",
      "Epoch 58/200\n",
      "1336/1335 [==============================] - 102s - loss: 0.0257 - actual_accuracy: 0.9358 - val_loss: 0.0915 - val_actual_accuracy: 0.8399\n",
      "Epoch 59/200\n",
      "1336/1335 [==============================] - 104s - loss: 0.0258 - actual_accuracy: 0.9375 - val_loss: 0.0997 - val_actual_accuracy: 0.8361\n",
      "Epoch 60/200\n",
      "1336/1335 [==============================] - 113s - loss: 0.0257 - actual_accuracy: 0.9343 - val_loss: 0.0901 - val_actual_accuracy: 0.8410\n",
      "Epoch 61/200\n",
      "1336/1335 [==============================] - 120s - loss: 0.0247 - actual_accuracy: 0.9373 - val_loss: 0.0990 - val_actual_accuracy: 0.8413\n",
      "Epoch 62/200\n",
      "1336/1335 [==============================] - 128s - loss: 0.0239 - actual_accuracy: 0.9393 - val_loss: 0.0957 - val_actual_accuracy: 0.8353\n",
      "Epoch 63/200\n",
      "1336/1335 [==============================] - 125s - loss: 0.0246 - actual_accuracy: 0.9372 - val_loss: 0.0961 - val_actual_accuracy: 0.8386\n",
      "Epoch 64/200\n",
      "1336/1335 [==============================] - 122s - loss: 0.0235 - actual_accuracy: 0.9419 - val_loss: 0.0924 - val_actual_accuracy: 0.8432\n",
      "Epoch 65/200\n",
      "1336/1335 [==============================] - 105s - loss: 0.0242 - actual_accuracy: 0.9400 - val_loss: 0.0976 - val_actual_accuracy: 0.8318\n",
      "Epoch 66/200\n",
      "1336/1335 [==============================] - 107s - loss: 0.0226 - actual_accuracy: 0.9448 - val_loss: 0.1090 - val_actual_accuracy: 0.8282\n",
      "Epoch 67/200\n",
      "1336/1335 [==============================] - 108s - loss: 0.0231 - actual_accuracy: 0.9417 - val_loss: 0.1005 - val_actual_accuracy: 0.8462\n",
      "Epoch 68/200\n",
      "1336/1335 [==============================] - 113s - loss: 0.0225 - actual_accuracy: 0.9440 - val_loss: 0.0977 - val_actual_accuracy: 0.8404\n",
      "Epoch 69/200\n",
      "1336/1335 [==============================] - 108s - loss: 0.0224 - actual_accuracy: 0.9431 - val_loss: 0.0958 - val_actual_accuracy: 0.8404\n",
      "Epoch 70/200\n",
      "1336/1335 [==============================] - 110s - loss: 0.0222 - actual_accuracy: 0.9438 - val_loss: 0.1100 - val_actual_accuracy: 0.8404\n",
      "Epoch 71/200\n",
      "1336/1335 [==============================] - 118s - loss: 0.0214 - actual_accuracy: 0.9464 - val_loss: 0.0994 - val_actual_accuracy: 0.8466\n",
      "Epoch 72/200\n",
      "1336/1335 [==============================] - 108s - loss: 0.0230 - actual_accuracy: 0.9443 - val_loss: 0.0962 - val_actual_accuracy: 0.8413\n",
      "Epoch 73/200\n",
      "1336/1335 [==============================] - 111s - loss: 0.0205 - actual_accuracy: 0.9480 - val_loss: 0.1086 - val_actual_accuracy: 0.8311\n",
      "Epoch 74/200\n",
      "1336/1335 [==============================] - 110s - loss: 0.0203 - actual_accuracy: 0.9513 - val_loss: 0.1075 - val_actual_accuracy: 0.8335\n",
      "Epoch 75/200\n",
      "1336/1335 [==============================] - 110s - loss: 0.0204 - actual_accuracy: 0.9486 - val_loss: 0.0976 - val_actual_accuracy: 0.8416\n",
      "Epoch 76/200\n",
      "1336/1335 [==============================] - 112s - loss: 0.0205 - actual_accuracy: 0.9485 - val_loss: 0.0987 - val_actual_accuracy: 0.8424\n",
      "Epoch 77/200\n",
      "1336/1335 [==============================] - 105s - loss: 0.0202 - actual_accuracy: 0.9509 - val_loss: 0.1046 - val_actual_accuracy: 0.8421\n",
      "Epoch 78/200\n",
      "1336/1335 [==============================] - 104s - loss: 0.0197 - actual_accuracy: 0.9508 - val_loss: 0.1038 - val_actual_accuracy: 0.8442\n",
      "Epoch 79/200\n",
      "1336/1335 [==============================] - 114s - loss: 0.0201 - actual_accuracy: 0.9518 - val_loss: 0.1096 - val_actual_accuracy: 0.8432\n",
      "Epoch 80/200\n",
      "1336/1335 [==============================] - 112s - loss: 0.0197 - actual_accuracy: 0.9527 - val_loss: 0.0986 - val_actual_accuracy: 0.8434\n",
      "Epoch 81/200\n",
      "1336/1335 [==============================] - 111s - loss: 0.0201 - actual_accuracy: 0.9525 - val_loss: 0.1009 - val_actual_accuracy: 0.8443\n",
      "Epoch 82/200\n",
      "1336/1335 [==============================] - 109s - loss: 0.0191 - actual_accuracy: 0.9530 - val_loss: 0.1068 - val_actual_accuracy: 0.8444tual_accuracy: 0.9\n",
      "Epoch 83/200\n",
      "1336/1335 [==============================] - 108s - loss: 0.0193 - actual_accuracy: 0.9527 - val_loss: 0.1144 - val_actual_accuracy: 0.8363\n",
      "Epoch 84/200\n",
      "1336/1335 [==============================] - 108s - loss: 0.0188 - actual_accuracy: 0.9547 - val_loss: 0.1011 - val_actual_accuracy: 0.8508\n",
      "Epoch 85/200\n",
      "1336/1335 [==============================] - 106s - loss: 0.0189 - actual_accuracy: 0.9541 - val_loss: 0.1053 - val_actual_accuracy: 0.8467\n",
      "Epoch 86/200\n",
      "1336/1335 [==============================] - 117s - loss: 0.0184 - actual_accuracy: 0.9544 - val_loss: 0.1009 - val_actual_accuracy: 0.8425\n",
      "Epoch 87/200\n",
      "1336/1335 [==============================] - 123s - loss: 0.0183 - actual_accuracy: 0.9548 - val_loss: 0.1094 - val_actual_accuracy: 0.8440\n",
      "Epoch 88/200\n",
      "1336/1335 [==============================] - 127s - loss: 0.0183 - actual_accuracy: 0.9566 - val_loss: 0.0998 - val_actual_accuracy: 0.8478\n",
      "Epoch 89/200\n",
      "1336/1335 [==============================] - 127s - loss: 0.0174 - actual_accuracy: 0.9569 - val_loss: 0.1037 - val_actual_accuracy: 0.8434\n",
      "Epoch 90/200\n",
      "1336/1335 [==============================] - 128s - loss: 0.0184 - actual_accuracy: 0.9553 - val_loss: 0.1132 - val_actual_accuracy: 0.8427\n",
      "Epoch 91/200\n",
      "1336/1335 [==============================] - 116s - loss: 0.0175 - actual_accuracy: 0.9573 - val_loss: 0.1115 - val_actual_accuracy: 0.8454\n",
      "Epoch 92/200\n",
      "1336/1335 [==============================] - 121s - loss: 0.0183 - actual_accuracy: 0.9572 - val_loss: 0.1048 - val_actual_accuracy: 0.8508\n",
      "Epoch 93/200\n",
      "1336/1335 [==============================] - 136s - loss: 0.0174 - actual_accuracy: 0.9562 - val_loss: 0.1168 - val_actual_accuracy: 0.8339\n",
      "Epoch 94/200\n",
      "1336/1335 [==============================] - 159s - loss: 0.0167 - actual_accuracy: 0.9592 - val_loss: 0.1013 - val_actual_accuracy: 0.8442\n",
      "Epoch 95/200\n",
      "1336/1335 [==============================] - 161s - loss: 0.0161 - actual_accuracy: 0.9597 - val_loss: 0.1086 - val_actual_accuracy: 0.8441\n",
      "Epoch 96/200\n",
      "1336/1335 [==============================] - 157s - loss: 0.0175 - actual_accuracy: 0.9569 - val_loss: 0.1011 - val_actual_accuracy: 0.8433\n",
      "Epoch 97/200\n",
      "1336/1335 [==============================] - 123s - loss: 0.0166 - actual_accuracy: 0.9610 - val_loss: 0.1080 - val_actual_accuracy: 0.8525\n",
      "Epoch 98/200\n",
      "1336/1335 [==============================] - 109s - loss: 0.0161 - actual_accuracy: 0.9608 - val_loss: 0.1060 - val_actual_accuracy: 0.8515\n",
      "Epoch 99/200\n",
      "1336/1335 [==============================] - 105s - loss: 0.0166 - actual_accuracy: 0.9613 - val_loss: 0.1158 - val_actual_accuracy: 0.8484\n",
      "Epoch 100/200\n",
      "1336/1335 [==============================] - 120s - loss: 0.0166 - actual_accuracy: 0.9612 - val_loss: 0.1053 - val_actual_accuracy: 0.8520\n",
      "Epoch 101/200\n",
      "1336/1335 [==============================] - 125s - loss: 0.0159 - actual_accuracy: 0.9631 - val_loss: 0.1061 - val_actual_accuracy: 0.8465\n",
      "Epoch 102/200\n",
      "1336/1335 [==============================] - 149s - loss: 0.0155 - actual_accuracy: 0.9616 - val_loss: 0.1165 - val_actual_accuracy: 0.8431\n",
      "Epoch 103/200\n",
      "1336/1335 [==============================] - 199s - loss: 0.0159 - actual_accuracy: 0.9626 - val_loss: 0.1129 - val_actual_accuracy: 0.8404\n",
      "Epoch 104/200\n",
      "1336/1335 [==============================] - 200s - loss: 0.0153 - actual_accuracy: 0.9622 - val_loss: 0.1125 - val_actual_accuracy: 0.8451\n",
      "Epoch 105/200\n",
      "1336/1335 [==============================] - 184s - loss: 0.0164 - actual_accuracy: 0.9615 - val_loss: 0.1014 - val_actual_accuracy: 0.8511\n",
      "Epoch 106/200\n",
      "1336/1335 [==============================] - 117s - loss: 0.0149 - actual_accuracy: 0.9640 - val_loss: 0.1166 - val_actual_accuracy: 0.8444\n",
      "Epoch 107/200\n"
     ]
    },
    {
     "name": "stdout",
     "output_type": "stream",
     "text": [
      "1336/1335 [==============================] - 117s - loss: 0.0159 - actual_accuracy: 0.9619 - val_loss: 0.1156 - val_actual_accuracy: 0.8487\n",
      "Epoch 108/200\n",
      "1336/1335 [==============================] - 112s - loss: 0.0155 - actual_accuracy: 0.9637 - val_loss: 0.1099 - val_actual_accuracy: 0.8484\n",
      "Epoch 109/200\n",
      "1336/1335 [==============================] - 121s - loss: 0.0150 - actual_accuracy: 0.9639 - val_loss: 0.1079 - val_actual_accuracy: 0.8486\n",
      "Epoch 110/200\n",
      "1336/1335 [==============================] - 134s - loss: 0.0150 - actual_accuracy: 0.9642 - val_loss: 0.1143 - val_actual_accuracy: 0.8489\n",
      "Epoch 111/200\n",
      "1336/1335 [==============================] - 133s - loss: 0.0140 - actual_accuracy: 0.9659 - val_loss: 0.1184 - val_actual_accuracy: 0.8495\n",
      "Epoch 112/200\n",
      "1336/1335 [==============================] - 131s - loss: 0.0153 - actual_accuracy: 0.9628 - val_loss: 0.1093 - val_actual_accuracy: 0.8504\n",
      "Epoch 113/200\n",
      "1336/1335 [==============================] - 123s - loss: 0.0148 - actual_accuracy: 0.9653 - val_loss: 0.1197 - val_actual_accuracy: 0.8477\n",
      "Epoch 114/200\n",
      "1336/1335 [==============================] - 117s - loss: 0.0137 - actual_accuracy: 0.9665 - val_loss: 0.1216 - val_actual_accuracy: 0.8483\n",
      "Epoch 115/200\n",
      "1336/1335 [==============================] - 120s - loss: 0.0138 - actual_accuracy: 0.9667 - val_loss: 0.1131 - val_actual_accuracy: 0.8522\n",
      "Epoch 116/200\n",
      "1336/1335 [==============================] - 121s - loss: 0.0144 - actual_accuracy: 0.9666 - val_loss: 0.1027 - val_actual_accuracy: 0.8501\n",
      "Epoch 117/200\n",
      "1336/1335 [==============================] - 121s - loss: 0.0140 - actual_accuracy: 0.9667 - val_loss: 0.1188 - val_actual_accuracy: 0.8491\n",
      "Epoch 118/200\n",
      "1336/1335 [==============================] - 121s - loss: 0.0140 - actual_accuracy: 0.9666 - val_loss: 0.1167 - val_actual_accuracy: 0.8507\n",
      "Epoch 119/200\n",
      "1336/1335 [==============================] - 113s - loss: 0.0135 - actual_accuracy: 0.9684 - val_loss: 0.1310 - val_actual_accuracy: 0.8448\n",
      "Epoch 120/200\n",
      "1336/1335 [==============================] - 115s - loss: 0.0135 - actual_accuracy: 0.9667 - val_loss: 0.1227 - val_actual_accuracy: 0.8500\n",
      "Epoch 121/200\n",
      "1336/1335 [==============================] - 113s - loss: 0.0144 - actual_accuracy: 0.9673 - val_loss: 0.1167 - val_actual_accuracy: 0.8510\n",
      "Epoch 122/200\n",
      "1336/1335 [==============================] - 111s - loss: 0.0136 - actual_accuracy: 0.9672 - val_loss: 0.1210 - val_actual_accuracy: 0.8504\n",
      "Epoch 123/200\n",
      "1336/1335 [==============================] - 118s - loss: 0.0135 - actual_accuracy: 0.9680 - val_loss: 0.1194 - val_actual_accuracy: 0.8476\n",
      "Epoch 124/200\n",
      "1336/1335 [==============================] - 116s - loss: 0.0132 - actual_accuracy: 0.9668 - val_loss: 0.1062 - val_actual_accuracy: 0.8530\n",
      "Epoch 125/200\n",
      "1336/1335 [==============================] - 111s - loss: 0.0135 - actual_accuracy: 0.9673 - val_loss: 0.1129 - val_actual_accuracy: 0.8542\n",
      "Epoch 126/200\n",
      "1336/1335 [==============================] - 136s - loss: 0.0128 - actual_accuracy: 0.9695 - val_loss: 0.1270 - val_actual_accuracy: 0.8527\n",
      "Epoch 127/200\n",
      "1336/1335 [==============================] - 136s - loss: 0.0130 - actual_accuracy: 0.9693 - val_loss: 0.1205 - val_actual_accuracy: 0.8472\n",
      "Epoch 128/200\n",
      "1336/1335 [==============================] - 154s - loss: 0.0133 - actual_accuracy: 0.9681 - val_loss: 0.1229 - val_actual_accuracy: 0.8504\n",
      "Epoch 129/200\n",
      "1336/1335 [==============================] - 145s - loss: 0.0125 - actual_accuracy: 0.9698 - val_loss: 0.1197 - val_actual_accuracy: 0.8488\n",
      "Epoch 130/200\n",
      "1336/1335 [==============================] - 131s - loss: 0.0127 - actual_accuracy: 0.9678 - val_loss: 0.1220 - val_actual_accuracy: 0.8550\n",
      "Epoch 131/200\n",
      "1336/1335 [==============================] - 123s - loss: 0.0123 - actual_accuracy: 0.9705 - val_loss: 0.1196 - val_actual_accuracy: 0.8531\n",
      "Epoch 132/200\n",
      "1336/1335 [==============================] - 111s - loss: 0.0128 - actual_accuracy: 0.9700 - val_loss: 0.1156 - val_actual_accuracy: 0.8539\n",
      "Epoch 133/200\n",
      "1336/1335 [==============================] - 116s - loss: 0.0126 - actual_accuracy: 0.9699 - val_loss: 0.1293 - val_actual_accuracy: 0.8498\n",
      "Epoch 134/200\n",
      "1336/1335 [==============================] - 135s - loss: 0.0121 - actual_accuracy: 0.9709 - val_loss: 0.1327 - val_actual_accuracy: 0.8517\n",
      "Epoch 135/200\n",
      "1336/1335 [==============================] - 127s - loss: 0.0120 - actual_accuracy: 0.9711 - val_loss: 0.1178 - val_actual_accuracy: 0.8544\n",
      "Epoch 136/200\n",
      "1336/1335 [==============================] - 158s - loss: 0.0119 - actual_accuracy: 0.9714 - val_loss: 0.1114 - val_actual_accuracy: 0.8503\n",
      "Epoch 137/200\n",
      "1336/1335 [==============================] - 125s - loss: 0.0122 - actual_accuracy: 0.9717 - val_loss: 0.1263 - val_actual_accuracy: 0.8531\n",
      "Epoch 138/200\n",
      "1336/1335 [==============================] - 110s - loss: 0.0116 - actual_accuracy: 0.9717 - val_loss: 0.1338 - val_actual_accuracy: 0.8497\n",
      "Epoch 139/200\n",
      "1336/1335 [==============================] - 115s - loss: 0.0119 - actual_accuracy: 0.9727 - val_loss: 0.1251 - val_actual_accuracy: 0.8536\n",
      "Epoch 140/200\n",
      "1336/1335 [==============================] - 113s - loss: 0.0124 - actual_accuracy: 0.9721 - val_loss: 0.1107 - val_actual_accuracy: 0.8542\n",
      "Epoch 141/200\n",
      "1336/1335 [==============================] - 123s - loss: 0.0121 - actual_accuracy: 0.9710 - val_loss: 0.1147 - val_actual_accuracy: 0.8559\n",
      "Epoch 142/200\n",
      "1336/1335 [==============================] - 123s - loss: 0.0117 - actual_accuracy: 0.9717 - val_loss: 0.1338 - val_actual_accuracy: 0.8454\n",
      "Epoch 143/200\n",
      "1336/1335 [==============================] - 152s - loss: 0.0119 - actual_accuracy: 0.9725 - val_loss: 0.1134 - val_actual_accuracy: 0.8563\n",
      "Epoch 144/200\n",
      "1336/1335 [==============================] - 147s - loss: 0.0115 - actual_accuracy: 0.9730 - val_loss: 0.1171 - val_actual_accuracy: 0.8566\n",
      "Epoch 145/200\n",
      "1336/1335 [==============================] - 158s - loss: 0.0124 - actual_accuracy: 0.9702 - val_loss: 0.1108 - val_actual_accuracy: 0.8532\n",
      "Epoch 146/200\n",
      "1336/1335 [==============================] - 118s - loss: 0.0110 - actual_accuracy: 0.9731 - val_loss: 0.1262 - val_actual_accuracy: 0.8567\n",
      "Epoch 147/200\n",
      "1336/1335 [==============================] - 112s - loss: 0.0119 - actual_accuracy: 0.9715 - val_loss: 0.1254 - val_actual_accuracy: 0.8517\n",
      "Epoch 148/200\n",
      "1336/1335 [==============================] - 111s - loss: 0.0118 - actual_accuracy: 0.9730 - val_loss: 0.1151 - val_actual_accuracy: 0.8549\n",
      "Epoch 149/200\n",
      "1336/1335 [==============================] - 118s - loss: 0.0115 - actual_accuracy: 0.9713 - val_loss: 0.1260 - val_actual_accuracy: 0.8509\n",
      "Epoch 150/200\n",
      "1336/1335 [==============================] - 119s - loss: 0.0115 - actual_accuracy: 0.9716 - val_loss: 0.1316 - val_actual_accuracy: 0.8500\n",
      "Epoch 151/200\n",
      "1336/1335 [==============================] - 123s - loss: 0.0115 - actual_accuracy: 0.9727 - val_loss: 0.1284 - val_actual_accuracy: 0.8463\n",
      "Epoch 152/200\n",
      "1336/1335 [==============================] - 120s - loss: 0.0115 - actual_accuracy: 0.9738 - val_loss: 0.1216 - val_actual_accuracy: 0.8538\n",
      "Epoch 153/200\n",
      "1336/1335 [==============================] - 105s - loss: 0.0111 - actual_accuracy: 0.9736 - val_loss: 0.1239 - val_actual_accuracy: 0.8504\n",
      "Epoch 154/200\n",
      "1336/1335 [==============================] - 112s - loss: 0.0110 - actual_accuracy: 0.9744 - val_loss: 0.1357 - val_actual_accuracy: 0.8449\n",
      "Epoch 155/200\n",
      "1336/1335 [==============================] - 114s - loss: 0.0105 - actual_accuracy: 0.9752 - val_loss: 0.1258 - val_actual_accuracy: 0.8514\n",
      "Epoch 156/200\n",
      "1336/1335 [==============================] - 109s - loss: 0.0109 - actual_accuracy: 0.9750 - val_loss: 0.1242 - val_actual_accuracy: 0.8535\n",
      "Epoch 157/200\n",
      "1336/1335 [==============================] - 113s - loss: 0.0107 - actual_accuracy: 0.9758 - val_loss: 0.1362 - val_actual_accuracy: 0.8533\n",
      "Epoch 158/200\n",
      "1336/1335 [==============================] - 119s - loss: 0.0111 - actual_accuracy: 0.9731 - val_loss: 0.1194 - val_actual_accuracy: 0.8566\n",
      "Epoch 159/200\n"
     ]
    },
    {
     "name": "stdout",
     "output_type": "stream",
     "text": [
      "1336/1335 [==============================] - 111s - loss: 0.0104 - actual_accuracy: 0.9758 - val_loss: 0.1276 - val_actual_accuracy: 0.8587\n",
      "Epoch 160/200\n",
      "1336/1335 [==============================] - 112s - loss: 0.0113 - actual_accuracy: 0.9734 - val_loss: 0.1148 - val_actual_accuracy: 0.8576\n",
      "Epoch 161/200\n",
      "1336/1335 [==============================] - 112s - loss: 0.0105 - actual_accuracy: 0.9762 - val_loss: 0.1225 - val_actual_accuracy: 0.8519\n",
      "Epoch 162/200\n",
      "1336/1335 [==============================] - 108s - loss: 0.0105 - actual_accuracy: 0.9755 - val_loss: 0.1251 - val_actual_accuracy: 0.8494\n",
      "Epoch 163/200\n",
      "1336/1335 [==============================] - 108s - loss: 0.0099 - actual_accuracy: 0.9768 - val_loss: 0.1212 - val_actual_accuracy: 0.8544\n",
      "Epoch 164/200\n",
      "1336/1335 [==============================] - 109s - loss: 0.0097 - actual_accuracy: 0.9767 - val_loss: 0.1414 - val_actual_accuracy: 0.8477\n",
      "Epoch 165/200\n",
      "1336/1335 [==============================] - 112s - loss: 0.0105 - actual_accuracy: 0.9760 - val_loss: 0.1194 - val_actual_accuracy: 0.8552\n",
      "Epoch 166/200\n",
      "1336/1335 [==============================] - 113s - loss: 0.0101 - actual_accuracy: 0.9771 - val_loss: 0.1274 - val_actual_accuracy: 0.8528\n",
      "Epoch 167/200\n",
      "1336/1335 [==============================] - 117s - loss: 0.0105 - actual_accuracy: 0.9754 - val_loss: 0.1213 - val_actual_accuracy: 0.8540\n",
      "Epoch 168/200\n",
      "1336/1335 [==============================] - 122s - loss: 0.0104 - actual_accuracy: 0.9755 - val_loss: 0.1260 - val_actual_accuracy: 0.8525\n",
      "Epoch 169/200\n",
      "1336/1335 [==============================] - 112s - loss: 0.0104 - actual_accuracy: 0.9759 - val_loss: 0.1352 - val_actual_accuracy: 0.8438\n",
      "Epoch 170/200\n",
      "1336/1335 [==============================] - 118s - loss: 0.0102 - actual_accuracy: 0.9759 - val_loss: 0.1302 - val_actual_accuracy: 0.8539\n",
      "Epoch 171/200\n",
      "1336/1335 [==============================] - 106s - loss: 0.0101 - actual_accuracy: 0.9760 - val_loss: 0.1332 - val_actual_accuracy: 0.8531\n",
      "Epoch 172/200\n",
      "1336/1335 [==============================] - 111s - loss: 0.0105 - actual_accuracy: 0.9751 - val_loss: 0.1177 - val_actual_accuracy: 0.8531\n",
      "Epoch 173/200\n",
      "1336/1335 [==============================] - 105s - loss: 0.0106 - actual_accuracy: 0.9752 - val_loss: 0.1227 - val_actual_accuracy: 0.8524\n",
      "Epoch 174/200\n",
      "1336/1335 [==============================] - 106s - loss: 0.0090 - actual_accuracy: 0.9795 - val_loss: 0.1292 - val_actual_accuracy: 0.8508cy: 0.97\n",
      "Epoch 175/200\n",
      "1336/1335 [==============================] - 104s - loss: 0.0094 - actual_accuracy: 0.9784 - val_loss: 0.1185 - val_actual_accuracy: 0.8553\n",
      "Epoch 176/200\n",
      "1336/1335 [==============================] - 110s - loss: 0.0098 - actual_accuracy: 0.9776 - val_loss: 0.1268 - val_actual_accuracy: 0.8539\n",
      "Epoch 177/200\n",
      "1336/1335 [==============================] - 112s - loss: 0.0097 - actual_accuracy: 0.9773 - val_loss: 0.1340 - val_actual_accuracy: 0.8558\n",
      "Epoch 178/200\n",
      "1336/1335 [==============================] - 111s - loss: 0.0093 - actual_accuracy: 0.9777 - val_loss: 0.1345 - val_actual_accuracy: 0.8591\n",
      "Epoch 179/200\n",
      "1336/1335 [==============================] - 108s - loss: 0.0095 - actual_accuracy: 0.9786 - val_loss: 0.1354 - val_actual_accuracy: 0.8517\n",
      "Epoch 180/200\n",
      "1336/1335 [==============================] - 105s - loss: 0.0101 - actual_accuracy: 0.9760 - val_loss: 0.1293 - val_actual_accuracy: 0.8588\n",
      "Epoch 181/200\n",
      "1336/1335 [==============================] - 108s - loss: 0.0098 - actual_accuracy: 0.9772 - val_loss: 0.1259 - val_actual_accuracy: 0.8544\n",
      "Epoch 182/200\n",
      "1336/1335 [==============================] - 104s - loss: 0.0098 - actual_accuracy: 0.9775 - val_loss: 0.1278 - val_actual_accuracy: 0.8552\n",
      "Epoch 183/200\n",
      "1336/1335 [==============================] - 105s - loss: 0.0088 - actual_accuracy: 0.9802 - val_loss: 0.1268 - val_actual_accuracy: 0.8538\n",
      "Epoch 184/200\n",
      "1336/1335 [==============================] - 112s - loss: 0.0090 - actual_accuracy: 0.9789 - val_loss: 0.1268 - val_actual_accuracy: 0.8573\n",
      "Epoch 185/200\n",
      "1336/1335 [==============================] - 110s - loss: 0.0098 - actual_accuracy: 0.9772 - val_loss: 0.1209 - val_actual_accuracy: 0.8555\n",
      "Epoch 186/200\n",
      "1336/1335 [==============================] - 115s - loss: 0.0089 - actual_accuracy: 0.9799 - val_loss: 0.1487 - val_actual_accuracy: 0.8504\n",
      "Epoch 187/200\n",
      "1336/1335 [==============================] - 114s - loss: 0.0100 - actual_accuracy: 0.9768 - val_loss: 0.1419 - val_actual_accuracy: 0.8541\n",
      "Epoch 188/200\n",
      "1336/1335 [==============================] - 108s - loss: 0.0096 - actual_accuracy: 0.9777 - val_loss: 0.1250 - val_actual_accuracy: 0.8563\n",
      "Epoch 189/200\n",
      "1336/1335 [==============================] - 112s - loss: 0.0091 - actual_accuracy: 0.9786 - val_loss: 0.1280 - val_actual_accuracy: 0.8574\n",
      "Epoch 190/200\n",
      "1336/1335 [==============================] - 120s - loss: 0.0092 - actual_accuracy: 0.9782 - val_loss: 0.1320 - val_actual_accuracy: 0.8570\n",
      "Epoch 191/200\n",
      "1336/1335 [==============================] - 116s - loss: 0.0090 - actual_accuracy: 0.9800 - val_loss: 0.1408 - val_actual_accuracy: 0.85269\n",
      "Epoch 192/200\n",
      "1336/1335 [==============================] - 104s - loss: 0.0095 - actual_accuracy: 0.9783 - val_loss: 0.1408 - val_actual_accuracy: 0.8544\n",
      "Epoch 193/200\n",
      "1336/1335 [==============================] - 107s - loss: 0.0087 - actual_accuracy: 0.9799 - val_loss: 0.1434 - val_actual_accuracy: 0.8512\n",
      "Epoch 194/200\n",
      "1336/1335 [==============================] - 112s - loss: 0.0089 - actual_accuracy: 0.9796 - val_loss: 0.1281 - val_actual_accuracy: 0.8572\n",
      "Epoch 195/200\n",
      "1336/1335 [==============================] - 107s - loss: 0.0082 - actual_accuracy: 0.9806 - val_loss: 0.1276 - val_actual_accuracy: 0.8553\n",
      "Epoch 196/200\n",
      "1336/1335 [==============================] - 109s - loss: 0.0091 - actual_accuracy: 0.9796 - val_loss: 0.1245 - val_actual_accuracy: 0.8584\n",
      "Epoch 197/200\n",
      "1336/1335 [==============================] - 108s - loss: 0.0086 - actual_accuracy: 0.9804 - val_loss: 0.1245 - val_actual_accuracy: 0.8591\n",
      "Epoch 198/200\n",
      "1336/1335 [==============================] - 107s - loss: 0.0087 - actual_accuracy: 0.9795 - val_loss: 0.1335 - val_actual_accuracy: 0.8595\n",
      "Epoch 199/200\n",
      "1336/1335 [==============================] - 110s - loss: 0.0086 - actual_accuracy: 0.9812 - val_loss: 0.1363 - val_actual_accuracy: 0.8575\n",
      "Epoch 200/200\n",
      "1336/1335 [==============================] - 101s - loss: 0.0090 - actual_accuracy: 0.9782 - val_loss: 0.1217 - val_actual_accuracy: 0.8563\n"
     ]
    }
   ],
   "source": [
    "history = model.fit_generator(generate_fake_epoch(X_train, X_other_features_train, y_train, batch_size), X_train.shape[0]/(batch_size * num_fake_epoch), epochs=actual_epoch*num_fake_epoch, validation_data=([X_validate, X_other_features_validate], y_validate))\n",
    "\n",
    "# model.fit([X_train, X_other_features_train], y_train, validation_data=([X_validate, X_other_features_validate], y_validate), epochs=1, batch_size=16)"
   ]
  },
  {
   "cell_type": "code",
   "execution_count": 27,
   "metadata": {
    "collapsed": true
   },
   "outputs": [],
   "source": [
    "name = '10_epoch'\n",
    "model.save(name + '.h5')\n",
    "output = open(name + '_history.pkl', 'wb')\n",
    "pickle.dump(history.history, output)\n",
    "output.close()"
   ]
  },
  {
   "cell_type": "code",
   "execution_count": 23,
   "metadata": {},
   "outputs": [
    {
     "data": {
      "image/png": "[encoded data removed]",
      "text/plain": [
       "<matplotlib.figure.Figure at 0x7f22dae658d0>"
      ]
     },
     "metadata": {},
     "output_type": "display_data"
    },
    {
     "data": {
      "image/png": "[encoded data removed]",
      "text/plain": [
       "<matplotlib.figure.Figure at 0x7f2291380588>"
      ]
     },
     "metadata": {},
     "output_type": "display_data"
    }
   ],
   "source": [
    "import matplotlib.pyplot as plt\n",
    "plt.plot(history.history['actual_accuracy'])\n",
    "plt.plot(history.history['val_actual_accuracy'])\n",
    "plt.title('model accuracy')\n",
    "plt.ylabel('accuracy')\n",
    "plt.xlabel('epoch')\n",
    "plt.legend(['train', 'test'], loc='upper left')\n",
    "plt.show()\n",
    "# summarize history for loss\n",
    "plt.plot(history.history['loss'])\n",
    "plt.plot(history.history['val_loss'])\n",
    "plt.title('model loss')\n",
    "plt.ylabel('loss')\n",
    "plt.xlabel('epoch')\n",
    "plt.legend(['train', 'test'], loc='upper left')\n",
    "plt.show()"
   ]
  },
  {
   "cell_type": "code",
   "execution_count": 25,
   "metadata": {
    "collapsed": true
   },
   "outputs": [],
   "source": [
    "model = load_model('test.h5')"
   ]
  },
  {
   "cell_type": "code",
   "execution_count": 6,
   "metadata": {},
   "outputs": [
    {
     "ename": "NameError",
     "evalue": "name 'h5f' is not defined",
     "output_type": "error",
     "traceback": [
      "\u001b[1;31m---------------------------------------------------------------------------\u001b[0m",
      "\u001b[1;31mNameError\u001b[0m                                 Traceback (most recent call last)",
      "\u001b[1;32m<ipython-input-6-e361f7023d53>\u001b[0m in \u001b[0;36m<module>\u001b[1;34m()\u001b[0m\n\u001b[1;32m----> 1\u001b[1;33m \u001b[0mh5f\u001b[0m\u001b[1;33m.\u001b[0m\u001b[0mclose\u001b[0m\u001b[1;33m(\u001b[0m\u001b[1;33m)\u001b[0m\u001b[1;33m\u001b[0m\u001b[0m\n\u001b[0m",
      "\u001b[1;31mNameError\u001b[0m: name 'h5f' is not defined"
     ]
    }
   ],
   "source": [
    "h5f.close()"
   ]
  },
  {
   "cell_type": "code",
   "execution_count": 67,
   "metadata": {},
   "outputs": [
    {
     "name": "stdout",
     "output_type": "stream",
     "text": [
      "108736/108961 [============================>.] - ETA: 0s\n",
      "acc: 96.57%\n"
     ]
    }
   ],
   "source": [
    "# evaluate the model\n",
    "scores = model.evaluate([X_validate, X_other_features_validate], y_validate)\n",
    "print(\"\\n%s: %.2f%%\" % (model.metrics_names[1], scores[1]*100))"
   ]
  },
  {
   "cell_type": "code",
   "execution_count": 187,
   "metadata": {},
   "outputs": [
    {
     "name": "stdout",
     "output_type": "stream",
     "text": [
      "nerazloènejši\n",
      "[ 0.  1.  0.  1.  0.  0.  0.  0.  0.  0.  0.]\n",
      "[ 0.  1.  0.  1.  0.  0.  0.  0.  0.  0.  0.]\n",
      "1.0\n",
      "1.0\n",
      "Elemwise{Cast{float32}}.0\n"
     ]
    }
   ],
   "source": [
    "pos = 0\n",
    "print(decode_input(X_validate[pos], dictionary))\n",
    "# predictions = model.predict([X_validate, X_other_features_validate])\n",
    "predictions2 = model.predict([X_validate[pos:pos+1], X_other_features_validate[pos:pos+1]])\n",
    "# print(predictions2)\n",
    "print(np.round(predictions2)[0])\n",
    "# predictions = np.round(predictions)\n",
    "print(y_validate[pos])\n",
    "# accuracy = sum([1 if np.all(y_validate[i] == predictions[i]) else 0 for i in range(X_validate.shape[0])])/float(X_validate.shape[0])\n",
    "# print(accuracy)\n",
    "\n",
    "\n",
    "import keras.backend as K\n",
    "\n",
    "def act_accuracy(y_true, y_pred):\n",
    "    return K.mean(K.equal(K.mean(K.equal(K.round(y_true), K.round(y_pred)), axis=-1), 1.0))\n",
    "\n",
    "\n",
    "def mean_pred2(y_true, y_pred):\n",
    "    return K.mean(K.equal(K.argmax(y_true, axis=-1), K.argmax(y_pred, axis=-1)))\n",
    "#     return K.mean(K.all(K.equal(y_true, y_pred), axis=-1))\n",
    "#     return K.equal(K.round(y_true), K.round(y_pred))\n",
    "\n",
    "print(mean_pred(y_validate[pos], predictions[pos]).eval())\n",
    "print(mean_pred(np.array([[ 0.,  1.,  0.,  1.,  0.,  0.,  0.,  0.,  0.,  0.,  0.],\n",
    "                          [ 0.,  1.,  0.,  1.,  0.,  0.,  0.,  0.,  0.,  0.,  0.]]), \n",
    "                np.array([[ 0.,  0.51,  0.,  0.51,  0.,  0.,  0.,  0.,  0.,  0.,  0.],\n",
    "                          [ 0.,  0.92,  0.,  0.51,  0.,  0.,  0.,  0.,  0.,  0.,  0.]])).eval())\n",
    "# print(mean_pred(y_validate[pos], predictions[pos]))\n",
    "# print(mean_pred2(y_validate[pos], predictions[pos]))\n",
    "print(metrics.categorical_accuracy(y_validate[pos], predictions[pos]))"
   ]
  },
  {
   "cell_type": "code",
   "execution_count": null,
   "metadata": {
    "collapsed": true
   },
   "outputs": [],
   "source": [
    "predictions = model.predict(X[429145:])"
   ]
  },
  {
   "cell_type": "code",
   "execution_count": 21,
   "metadata": {},
   "outputs": [
    {
     "data": {
      "text/plain": [
       "[1, 0]"
      ]
     },
     "execution_count": 21,
     "metadata": {},
     "output_type": "execute_result"
    }
   ],
   "source": [
    "decode_position(predictions[0], max_num_vowels)"
   ]
  },
  {
   "cell_type": "code",
   "execution_count": 23,
   "metadata": {},
   "outputs": [
    {
     "name": "stdout",
     "output_type": "stream",
     "text": [
      "READING CONTENT...\n",
      "CONTENT READ SUCCESSFULY\n",
      "CREATING DICTIONARY...\n",
      "DICTIONARY CREATION SUCCESSFUL!\n",
      "107287\n",
      "96.5186835311\n"
     ]
    }
   ],
   "source": [
    "def test_accuracy(predictions, y):\n",
    "    dictionary, max_word, max_num_vowels, content, vowels, accetuated_vowels = create_dict()\n",
    "    num_of_pred = len(predictions)\n",
    "    num_of_correct_pred = 0\n",
    "    for i in range(predictions.shape[0]):\n",
    "        if decode_position(predictions[i], max_num_vowels) == decode_position(y[i], max_num_vowels):\n",
    "            num_of_correct_pred += 1\n",
    "\n",
    "    return (num_of_correct_pred/float(num_of_pred)) * 100\n",
    "\n",
    "\n",
    "print(test_accuracy(predictions, y[429145:]))"
   ]
  },
  {
   "cell_type": "code",
   "execution_count": 17,
   "metadata": {},
   "outputs": [
    {
     "data": {
      "text/plain": [
       "(107287, 121)"
      ]
     },
     "execution_count": 17,
     "metadata": {},
     "output_type": "execute_result"
    }
   ],
   "source": [
    "predictions.shape"
   ]
  },
  {
   "cell_type": "code",
   "execution_count": 12,
   "metadata": {},
   "outputs": [
    {
     "name": "stdout",
     "output_type": "stream",
     "text": [
      "11\n"
     ]
    }
   ],
   "source": [
    "print max_num_vowels"
   ]
  },
  {
   "cell_type": "code",
   "execution_count": 31,
   "metadata": {},
   "outputs": [
    {
     "name": "stdout",
     "output_type": "stream",
     "text": [
      "READING CONTENT...\n",
      "CONTENT READ SUCCESSFULY\n",
      "CREATING DICTIONARY...\n",
      "DICTIONARY CREATION SUCCESSFUL!\n"
     ]
    }
   ],
   "source": [
    "dictionary, max_word, max_num_vowels, content, vowels, accetuated_vowels = create_dict()\n",
    "feature_dictionary = create_feature_dictionary(content)\n",
    "def generate_input_from_word(word, max_word, dictionary):\n",
    "    x = np.zeros((max_word, len(dictionary)))\n",
    "    j = 0\n",
    "    for c in list(word):\n",
    "        index = 0\n",
    "        for d in dictionary:\n",
    "            if c == d:\n",
    "                x[j, index] = 1\n",
    "                break\n",
    "            index += 1\n",
    "        j += 1\n",
    "    return x\n",
    "\n",
    "# model = load_model()\n",
    "# prediction = predict(model, generate_input_from_word('hidrija'))\n",
    "# print decode_position(prediction[0])"
   ]
  },
  {
   "cell_type": "code",
   "execution_count": 190,
   "metadata": {
    "collapsed": true
   },
   "outputs": [],
   "source": [
    "%run ../../../prepare_data.py\n",
    "# generate_X_and_y(dictionary, max_word, max_num_vowels, content, vowels, accetuated_vowels, feature_dictionary)"
   ]
  }
 ],
 "metadata": {
  "kernelspec": {
   "display_name": "Python 3",
   "language": "python",
   "name": "python3"
  },
  "language_info": {
   "codemirror_mode": {
    "name": "ipython",
    "version": 3
   },
   "file_extension": ".py",
   "mimetype": "text/x-python",
   "name": "python",
   "nbconvert_exporter": "python",
   "pygments_lexer": "ipython3",
   "version": "3.5.2"
  }
 },
 "nbformat": 4,
 "nbformat_minor": 1
}
