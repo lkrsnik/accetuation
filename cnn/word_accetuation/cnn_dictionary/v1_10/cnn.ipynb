{
 "cells": [
  {
   "cell_type": "code",
   "execution_count": 1,
   "metadata": {},
   "outputs": [
    {
     "name": "stderr",
     "output_type": "stream",
     "text": [
      "Using Theano backend.\n"
     ]
    }
   ],
   "source": [
    "# -*- coding: utf-8 -*-\n",
    "from __future__ import unicode_literals\n",
    "# text in Western (Windows 1252)\n",
    "\n",
    "import pickle\n",
    "import numpy as np\n",
    "# import StringIO\n",
    "import math\n",
    "from keras import optimizers, metrics\n",
    "from keras.models import Model\n",
    "from keras.layers import Dense, Dropout, Input\n",
    "from keras.layers.merge import concatenate\n",
    "from keras import regularizers\n",
    "from keras.layers.convolutional import Conv1D\n",
    "from keras.layers.convolutional import MaxPooling1D\n",
    "from keras.constraints import maxnorm\n",
    "from keras.layers import Flatten\n",
    "from keras.optimizers import SGD\n",
    "from keras.models import load_model\n",
    "# from keras import backend as Input\n",
    "np.random.seed(7)"
   ]
  },
  {
   "cell_type": "code",
   "execution_count": 2,
   "metadata": {
    "collapsed": true
   },
   "outputs": [],
   "source": [
    "# %run ../../../prepare_data.py\n",
    "\n",
    "import sys\n",
    "sys.path.insert(0, '../../../')\n",
    "from prepare_data import *"
   ]
  },
  {
   "cell_type": "code",
   "execution_count": 5,
   "metadata": {},
   "outputs": [],
   "source": [
    "# X_train, X_other_features_train, y_train, X_validate, X_other_features_validate, y_validate = generate_full_matrix_inputs()\n",
    "# save_inputs('../../internal_representations/inputs/shuffeled_matrix_train_inputs_other_features_multilabel.h5', X_train, y_train, other_features = X_other_features_train)\n",
    "# save_inputs('../../internal_representations/inputs/shuffeled_matrix_validate_inputs_other_features_multilabel.h5', X_validate, y_validate,  other_features = X_other_features_validate)\n",
    "X_train, X_other_features_train, y_train = load_inputs('../../internal_representations/inputs/shuffeled_matrix_train_inputs_other_features_multilabel.h5', other_features=True)\n",
    "X_validate, X_other_features_validate, y_validate = load_inputs('../../internal_representations/inputs/shuffeled_matrix_validate_inputs_other_features_multilabel.h5', other_features=True)"
   ]
  },
  {
   "cell_type": "code",
   "execution_count": 24,
   "metadata": {},
   "outputs": [
    {
     "name": "stdout",
     "output_type": "stream",
     "text": [
      "navleèeta\n",
      "Vmip3d--n\n",
      "None\n"
     ]
    }
   ],
   "source": [
    "# X_other_features = create_X_features(content)\n",
    "# print (X_other_features[178200])\n",
    "decode_position = 30\n",
    "print (decode_input(X_train[decode_position], dictionary))\n",
    "# print (X_other_features_train[0])\n",
    "print (decode_X_features(feature_dictionary, [X_other_features_train[decode_position]]))\n",
    "# print (len(X_other_features_train[0]))"
   ]
  },
  {
   "cell_type": "code",
   "execution_count": 13,
   "metadata": {
    "collapsed": true
   },
   "outputs": [],
   "source": [
    "num_examples = len(X_train) # training set size\n",
    "# nn_input_dim = max_word * len(dictionary) # input layer dimensionality\n",
    "# nn_output_dim = max_num_vowels * max_num_vowels # output layer dimensionality\n",
    "nn_output_dim = 11\n",
    "nn_hdim = 516\n",
    "batch_size = 16\n",
    "actual_epoch = 10\n",
    "num_fake_epoch = 20\n",
    "\n",
    "# Gradient descent parameters (I picked these by hand)\n",
    "# epsilon = 1 # learning rate for gradient descent\n",
    "# reg_lambda = 1 # regularization strength"
   ]
  },
  {
   "cell_type": "code",
   "execution_count": 14,
   "metadata": {
    "collapsed": true
   },
   "outputs": [],
   "source": [
    "# word_processor = Sequential()\n",
    "# word_processor.add(Conv1D(43, (3), input_shape=(23, 43), padding='same', activation='relu'))\n",
    "# word_processor.add(Conv1D(43, (2), padding='same', activation='relu'))\n",
    "# word_processor.add(Conv1D(43, (2), padding='same', activation='relu'))\n",
    "# word_processor.add(MaxPooling1D(pool_size=2))\n",
    "# word_processor.add(Flatten())\n",
    "# word_processor.add(Dense(516, activation='relu', kernel_constraint=maxnorm(3)))\n",
    "\n",
    "# metadata_processor = Sequential()\n",
    "# metadata_processor.add(Dense(256, input_dim=167, activation='relu'))\n",
    "\n",
    "# model = Sequential()\n",
    "# model.add(Merge([word_processor, metadata_processor], mode='concat'))  # Merge is your sensor fusion buddy\n",
    "# model.add(Dense(1024, input_dim=(516 + 256), activation='relu'))\n",
    "# model.add(Dropout(0.3))\n",
    "# model.add(Dense(1024, activation='relu'))\n",
    "# model.add(Dropout(0.2))\n",
    "# model.add(Dense(nn_output_dim, activation='sigmoid'))\n",
    "\n",
    "\n",
    "# -------------------------------------------------------\n",
    "\n",
    "conv_input_shape=(23, 43)\n",
    "othr_input = (167, )\n",
    "\n",
    "conv_input = Input(shape=conv_input_shape, name='conv_input')\n",
    "x_conv = Conv1D(43, (3), padding='same', activation='relu')(conv_input)\n",
    "x_conv = Conv1D(43, (3), padding='same', activation='relu')(x_conv)\n",
    "x_conv = MaxPooling1D(pool_size=2)(x_conv)\n",
    "x_conv = Flatten()(x_conv)\n",
    "# x_conv = Dense(516, activation='relu', kernel_constraint=maxnorm(3))(x_conv)\n",
    "\n",
    "othr_input = Input(shape=othr_input, name='othr_input')\n",
    "# x_othr = Dense(256, input_dim=167, activation='relu')(othr_input)\n",
    "# x_othr = Dropout(0.3)(x_othr)\n",
    "# x_othr = Dense(256, activation='relu')(othr_input)\n",
    "\n",
    "x = concatenate([x_conv, othr_input])\n",
    "# x = Dense(1024, input_dim=(516 + 256), activation='relu')(x)\n",
    "x = Dense(512, activation='relu')(x)\n",
    "x = Dropout(0.3)(x)\n",
    "x = Dense(1024, activation='relu')(x)\n",
    "x = Dropout(0.3)(x)\n",
    "x = Dense(512, activation='relu')(x)\n",
    "x = Dropout(0.2)(x)\n",
    "x = Dense(nn_output_dim, activation='sigmoid')(x)\n",
    "\n",
    "# model = Model(inputs=[conv_input, othr_input], output=x)"
   ]
  },
  {
   "cell_type": "code",
   "execution_count": 15,
   "metadata": {
    "collapsed": true
   },
   "outputs": [],
   "source": [
    "model = Model(inputs=[conv_input, othr_input], outputs=x)\n",
    "\n",
    "# epochs = 5\n",
    "# lrate = 0.1\n",
    "# decay = lrate/epochs\n",
    "# sgd = SGD(lr=lrate, momentum=0.9, decay=decay, nesterov=False)\n",
    "# model.compile(loss='mean_squared_error', optimizer='adam', metrics=['accuracy'])\n",
    "\n",
    "# Compile model\n",
    "# keras.optimizers.Adam(lr=0.001, beta_1=0.9, beta_2=0.999, epsilon=1e-08, decay=0.0)\n",
    "opt = optimizers.Adam(lr=1E-4, beta_1=0.9, beta_2=0.999, epsilon=1e-08)\n",
    "model.compile(loss='binary_crossentropy', optimizer=opt, metrics=[actual_accuracy,])\n",
    "# model.compile(loss='mean_squared_error', optimizer='adam', metrics=['accuracy'])"
   ]
  },
  {
   "cell_type": "code",
   "execution_count": 16,
   "metadata": {
    "scrolled": false
   },
   "outputs": [
    {
     "name": "stdout",
     "output_type": "stream",
     "text": [
      "Epoch 1/200\n",
      "1336/1335 [==============================] - 69s - loss: 0.1926 - actual_accuracy: 0.2792 - val_loss: 0.1515 - val_actual_accuracy: 0.5040\n",
      "Epoch 2/200\n",
      "1336/1335 [==============================] - 72s - loss: 0.1432 - actual_accuracy: 0.4943 - val_loss: 0.1333 - val_actual_accuracy: 0.5625\n",
      "Epoch 3/200\n",
      "1336/1335 [==============================] - 100s - loss: 0.1216 - actual_accuracy: 0.6024 - val_loss: 0.1164 - val_actual_accuracy: 0.6440\n",
      "Epoch 4/200\n",
      "1336/1335 [==============================] - 104s - loss: 0.1083 - actual_accuracy: 0.6711 - val_loss: 0.1050 - val_actual_accuracy: 0.7006\n",
      "Epoch 5/200\n",
      "1336/1335 [==============================] - 92s - loss: 0.0986 - actual_accuracy: 0.7136 - val_loss: 0.0991 - val_actual_accuracy: 0.7240\n",
      "Epoch 6/200\n",
      "1336/1335 [==============================] - 99s - loss: 0.0919 - actual_accuracy: 0.7429 - val_loss: 0.0944 - val_actual_accuracy: 0.7423\n",
      "Epoch 7/200\n",
      "1336/1335 [==============================] - 95s - loss: 0.0870 - actual_accuracy: 0.7620 - val_loss: 0.0921 - val_actual_accuracy: 0.7552\n",
      "Epoch 8/200\n",
      "1336/1335 [==============================] - 96s - loss: 0.0827 - actual_accuracy: 0.7778 - val_loss: 0.0882 - val_actual_accuracy: 0.7668\n",
      "Epoch 9/200\n",
      "1336/1335 [==============================] - 95s - loss: 0.0777 - actual_accuracy: 0.7916 - val_loss: 0.0933 - val_actual_accuracy: 0.7602\n",
      "Epoch 10/200\n",
      "1336/1335 [==============================] - 99s - loss: 0.0741 - actual_accuracy: 0.8101 - val_loss: 0.0848 - val_actual_accuracy: 0.7852\n",
      "Epoch 11/200\n",
      "1336/1335 [==============================] - 100s - loss: 0.0713 - actual_accuracy: 0.8156 - val_loss: 0.0825 - val_actual_accuracy: 0.7923\n",
      "Epoch 12/200\n",
      "1336/1335 [==============================] - 95s - loss: 0.0691 - actual_accuracy: 0.8198 - val_loss: 0.0841 - val_actual_accuracy: 0.7865\n",
      "Epoch 13/200\n",
      "1336/1335 [==============================] - 96s - loss: 0.0666 - actual_accuracy: 0.8308 - val_loss: 0.0859 - val_actual_accuracy: 0.7874\n",
      "Epoch 14/200\n",
      "1336/1335 [==============================] - 96s - loss: 0.0643 - actual_accuracy: 0.8380 - val_loss: 0.0803 - val_actual_accuracy: 0.8046\n",
      "Epoch 15/200\n",
      "1336/1335 [==============================] - 93s - loss: 0.0630 - actual_accuracy: 0.8428 - val_loss: 0.0796 - val_actual_accuracy: 0.8078\n",
      "Epoch 16/200\n",
      "1336/1335 [==============================] - 101s - loss: 0.0627 - actual_accuracy: 0.8396 - val_loss: 0.0784 - val_actual_accuracy: 0.8038\n",
      "Epoch 17/200\n",
      "1336/1335 [==============================] - 98s - loss: 0.0595 - actual_accuracy: 0.8513 - val_loss: 0.0785 - val_actual_accuracy: 0.8117\n",
      "Epoch 18/200\n",
      "1336/1335 [==============================] - 96s - loss: 0.0574 - actual_accuracy: 0.8561 - val_loss: 0.0758 - val_actual_accuracy: 0.8222\n",
      "Epoch 19/200\n",
      "1336/1335 [==============================] - 95s - loss: 0.0554 - actual_accuracy: 0.8662 - val_loss: 0.0813 - val_actual_accuracy: 0.8112\n",
      "Epoch 20/200\n",
      "1336/1335 [==============================] - 101s - loss: 0.0549 - actual_accuracy: 0.8624 - val_loss: 0.0785 - val_actual_accuracy: 0.8111\n",
      "Epoch 21/200\n",
      "1336/1335 [==============================] - 96s - loss: 0.0529 - actual_accuracy: 0.8671 - val_loss: 0.0768 - val_actual_accuracy: 0.8196\n",
      "Epoch 22/200\n",
      "1336/1335 [==============================] - 101s - loss: 0.0511 - actual_accuracy: 0.8764 - val_loss: 0.0823 - val_actual_accuracy: 0.8100\n",
      "Epoch 23/200\n",
      "1336/1335 [==============================] - 98s - loss: 0.0500 - actual_accuracy: 0.8764 - val_loss: 0.0770 - val_actual_accuracy: 0.8216\n",
      "Epoch 24/200\n",
      "1336/1335 [==============================] - 99s - loss: 0.0480 - actual_accuracy: 0.8794 - val_loss: 0.0786 - val_actual_accuracy: 0.8236\n",
      "Epoch 25/200\n",
      "1336/1335 [==============================] - 103s - loss: 0.0468 - actual_accuracy: 0.8836 - val_loss: 0.0789 - val_actual_accuracy: 0.8235\n",
      "Epoch 26/200\n",
      "1336/1335 [==============================] - 92s - loss: 0.0458 - actual_accuracy: 0.8850 - val_loss: 0.0777 - val_actual_accuracy: 0.8269\n",
      "Epoch 27/200\n",
      "1336/1335 [==============================] - 94s - loss: 0.0456 - actual_accuracy: 0.8867 - val_loss: 0.0858 - val_actual_accuracy: 0.8138\n",
      "Epoch 28/200\n",
      "1336/1335 [==============================] - 96s - loss: 0.0438 - actual_accuracy: 0.8910 - val_loss: 0.0754 - val_actual_accuracy: 0.8344\n",
      "Epoch 29/200\n",
      "1336/1335 [==============================] - 97s - loss: 0.0418 - actual_accuracy: 0.8965 - val_loss: 0.0821 - val_actual_accuracy: 0.8221\n",
      "Epoch 30/200\n",
      "1336/1335 [==============================] - 105s - loss: 0.0424 - actual_accuracy: 0.8944 - val_loss: 0.0788 - val_actual_accuracy: 0.8300\n",
      "Epoch 31/200\n",
      "1336/1335 [==============================] - 98s - loss: 0.0405 - actual_accuracy: 0.8998 - val_loss: 0.0761 - val_actual_accuracy: 0.8331\n",
      "Epoch 32/200\n",
      "1336/1335 [==============================] - 100s - loss: 0.0392 - actual_accuracy: 0.9023 - val_loss: 0.0792 - val_actual_accuracy: 0.8278\n",
      "Epoch 33/200\n",
      "1336/1335 [==============================] - 97s - loss: 0.0388 - actual_accuracy: 0.9060 - val_loss: 0.0827 - val_actual_accuracy: 0.8263\n",
      "Epoch 34/200\n",
      "1336/1335 [==============================] - 96s - loss: 0.0376 - actual_accuracy: 0.9047 - val_loss: 0.0837 - val_actual_accuracy: 0.8282\n",
      "Epoch 35/200\n",
      "1336/1335 [==============================] - 97s - loss: 0.0365 - actual_accuracy: 0.9092 - val_loss: 0.0802 - val_actual_accuracy: 0.8332\n",
      "Epoch 36/200\n",
      "1336/1335 [==============================] - 97s - loss: 0.0376 - actual_accuracy: 0.9056 - val_loss: 0.0812 - val_actual_accuracy: 0.8287\n",
      "Epoch 37/200\n",
      "1336/1335 [==============================] - 96s - loss: 0.0360 - actual_accuracy: 0.9121 - val_loss: 0.0832 - val_actual_accuracy: 0.8319\n",
      "Epoch 38/200\n",
      "1336/1335 [==============================] - 104s - loss: 0.0348 - actual_accuracy: 0.9119 - val_loss: 0.0819 - val_actual_accuracy: 0.8337\n",
      "Epoch 39/200\n",
      "1336/1335 [==============================] - 105s - loss: 0.0338 - actual_accuracy: 0.9169 - val_loss: 0.0857 - val_actual_accuracy: 0.8330\n",
      "Epoch 40/200\n",
      "1336/1335 [==============================] - 98s - loss: 0.0341 - actual_accuracy: 0.9139 - val_loss: 0.0852 - val_actual_accuracy: 0.8278\n",
      "Epoch 41/200\n",
      "1336/1335 [==============================] - 100s - loss: 0.0334 - actual_accuracy: 0.9184 - val_loss: 0.0820 - val_actual_accuracy: 0.8347\n",
      "Epoch 42/200\n",
      "1336/1335 [==============================] - 98s - loss: 0.0327 - actual_accuracy: 0.9199 - val_loss: 0.0902 - val_actual_accuracy: 0.8264\n",
      "Epoch 43/200\n",
      "1336/1335 [==============================] - 100s - loss: 0.0322 - actual_accuracy: 0.9182 - val_loss: 0.0807 - val_actual_accuracy: 0.8376\n",
      "Epoch 44/200\n",
      "1336/1335 [==============================] - 99s - loss: 0.0304 - actual_accuracy: 0.9222 - val_loss: 0.0865 - val_actual_accuracy: 0.8349\n",
      "Epoch 45/200\n",
      "1336/1335 [==============================] - 103s - loss: 0.0308 - actual_accuracy: 0.9222 - val_loss: 0.0867 - val_actual_accuracy: 0.8381\n",
      "Epoch 46/200\n",
      "1336/1335 [==============================] - 102s - loss: 0.0299 - actual_accuracy: 0.9259 - val_loss: 0.0973 - val_actual_accuracy: 0.8290\n",
      "Epoch 47/200\n",
      "1336/1335 [==============================] - 107s - loss: 0.0299 - actual_accuracy: 0.9252 - val_loss: 0.0935 - val_actual_accuracy: 0.8336\n",
      "Epoch 48/200\n",
      "1336/1335 [==============================] - 102s - loss: 0.0289 - actual_accuracy: 0.9273 - val_loss: 0.0892 - val_actual_accuracy: 0.8375\n",
      "Epoch 49/200\n",
      "1336/1335 [==============================] - 105s - loss: 0.0276 - actual_accuracy: 0.9304 - val_loss: 0.0903 - val_actual_accuracy: 0.8411\n",
      "Epoch 50/200\n",
      "1336/1335 [==============================] - 100s - loss: 0.0278 - actual_accuracy: 0.9319 - val_loss: 0.0940 - val_actual_accuracy: 0.8371\n",
      "Epoch 51/200\n",
      "1336/1335 [==============================] - 106s - loss: 0.0279 - actual_accuracy: 0.9307 - val_loss: 0.0870 - val_actual_accuracy: 0.8456\n",
      "Epoch 52/200\n",
      "1336/1335 [==============================] - 108s - loss: 0.0271 - actual_accuracy: 0.9325 - val_loss: 0.0864 - val_actual_accuracy: 0.8422\n",
      "Epoch 53/200\n",
      "1336/1335 [==============================] - 105s - loss: 0.0258 - actual_accuracy: 0.9354 - val_loss: 0.1029 - val_actual_accuracy: 0.8316\n",
      "Epoch 54/200\n"
     ]
    },
    {
     "name": "stdout",
     "output_type": "stream",
     "text": [
      "1336/1335 [==============================] - 101s - loss: 0.0260 - actual_accuracy: 0.9368 - val_loss: 0.0938 - val_actual_accuracy: 0.8376\n",
      "Epoch 55/200\n",
      "1336/1335 [==============================] - 105s - loss: 0.0255 - actual_accuracy: 0.9390 - val_loss: 0.0917 - val_actual_accuracy: 0.8403\n",
      "Epoch 56/200\n",
      "1336/1335 [==============================] - 105s - loss: 0.0268 - actual_accuracy: 0.9319 - val_loss: 0.0912 - val_actual_accuracy: 0.8381\n",
      "Epoch 57/200\n",
      "1336/1335 [==============================] - 109s - loss: 0.0255 - actual_accuracy: 0.9382 - val_loss: 0.0869 - val_actual_accuracy: 0.8415\n",
      "Epoch 58/200\n",
      "1336/1335 [==============================] - 108s - loss: 0.0241 - actual_accuracy: 0.9410 - val_loss: 0.0908 - val_actual_accuracy: 0.8481\n",
      "Epoch 59/200\n",
      "1336/1335 [==============================] - 97s - loss: 0.0245 - actual_accuracy: 0.9397 - val_loss: 0.1014 - val_actual_accuracy: 0.8354\n",
      "Epoch 60/200\n",
      "1336/1335 [==============================] - 95s - loss: 0.0240 - actual_accuracy: 0.9405 - val_loss: 0.0913 - val_actual_accuracy: 0.8414\n",
      "Epoch 61/200\n",
      "1336/1335 [==============================] - 102s - loss: 0.0238 - actual_accuracy: 0.9415 - val_loss: 0.0987 - val_actual_accuracy: 0.8399\n",
      "Epoch 62/200\n",
      "1336/1335 [==============================] - 96s - loss: 0.0229 - actual_accuracy: 0.9429 - val_loss: 0.1020 - val_actual_accuracy: 0.8380\n",
      "Epoch 63/200\n",
      "1336/1335 [==============================] - 98s - loss: 0.0238 - actual_accuracy: 0.9411 - val_loss: 0.1044 - val_actual_accuracy: 0.8381\n",
      "Epoch 64/200\n",
      "1336/1335 [==============================] - 97s - loss: 0.0218 - actual_accuracy: 0.9456 - val_loss: 0.0962 - val_actual_accuracy: 0.8442\n",
      "Epoch 65/200\n",
      "1336/1335 [==============================] - 94s - loss: 0.0230 - actual_accuracy: 0.9436 - val_loss: 0.1000 - val_actual_accuracy: 0.8421\n",
      "Epoch 66/200\n",
      "1336/1335 [==============================] - 98s - loss: 0.0217 - actual_accuracy: 0.9452 - val_loss: 0.1026 - val_actual_accuracy: 0.8436\n",
      "Epoch 67/200\n",
      "1336/1335 [==============================] - 94s - loss: 0.0222 - actual_accuracy: 0.9460 - val_loss: 0.1084 - val_actual_accuracy: 0.8406\n",
      "Epoch 68/200\n",
      "1336/1335 [==============================] - 109s - loss: 0.0217 - actual_accuracy: 0.9470 - val_loss: 0.1037 - val_actual_accuracy: 0.8465\n",
      "Epoch 69/200\n",
      "1336/1335 [==============================] - 96s - loss: 0.0209 - actual_accuracy: 0.9469 - val_loss: 0.1098 - val_actual_accuracy: 0.8445\n",
      "Epoch 70/200\n",
      "1336/1335 [==============================] - 103s - loss: 0.0208 - actual_accuracy: 0.9483 - val_loss: 0.1099 - val_actual_accuracy: 0.8352\n",
      "Epoch 71/200\n",
      "1336/1335 [==============================] - 95s - loss: 0.0213 - actual_accuracy: 0.9465 - val_loss: 0.1020 - val_actual_accuracy: 0.8469\n",
      "Epoch 72/200\n",
      "1336/1335 [==============================] - 103s - loss: 0.0205 - actual_accuracy: 0.9486 - val_loss: 0.0980 - val_actual_accuracy: 0.8464\n",
      "Epoch 73/200\n",
      "1336/1335 [==============================] - 101s - loss: 0.0202 - actual_accuracy: 0.9494 - val_loss: 0.1130 - val_actual_accuracy: 0.8429\n",
      "Epoch 74/200\n",
      "1336/1335 [==============================] - 89s - loss: 0.0200 - actual_accuracy: 0.9512 - val_loss: 0.0913 - val_actual_accuracy: 0.8533\n",
      "Epoch 75/200\n",
      "1336/1335 [==============================] - 92s - loss: 0.0193 - actual_accuracy: 0.9522 - val_loss: 0.1033 - val_actual_accuracy: 0.8488\n",
      "Epoch 76/200\n",
      "1336/1335 [==============================] - 96s - loss: 0.0202 - actual_accuracy: 0.9491 - val_loss: 0.0983 - val_actual_accuracy: 0.8501\n",
      "Epoch 77/200\n",
      "1336/1335 [==============================] - 94s - loss: 0.0193 - actual_accuracy: 0.9515 - val_loss: 0.1031 - val_actual_accuracy: 0.8491\n",
      "Epoch 78/200\n",
      "1336/1335 [==============================] - 94s - loss: 0.0183 - actual_accuracy: 0.9536 - val_loss: 0.1045 - val_actual_accuracy: 0.8523\n",
      "Epoch 79/200\n",
      "1336/1335 [==============================] - 97s - loss: 0.0192 - actual_accuracy: 0.9533 - val_loss: 0.1083 - val_actual_accuracy: 0.8465\n",
      "Epoch 80/200\n",
      "1336/1335 [==============================] - 98s - loss: 0.0186 - actual_accuracy: 0.9533 - val_loss: 0.0998 - val_actual_accuracy: 0.8416\n",
      "Epoch 81/200\n",
      "1336/1335 [==============================] - 115s - loss: 0.0187 - actual_accuracy: 0.9545 - val_loss: 0.1113 - val_actual_accuracy: 0.8458\n",
      "Epoch 82/200\n",
      "1336/1335 [==============================] - 100s - loss: 0.0181 - actual_accuracy: 0.9543 - val_loss: 0.1147 - val_actual_accuracy: 0.8443\n",
      "Epoch 83/200\n",
      "1336/1335 [==============================] - 95s - loss: 0.0181 - actual_accuracy: 0.9554 - val_loss: 0.1203 - val_actual_accuracy: 0.8449\n",
      "Epoch 84/200\n",
      "1336/1335 [==============================] - 102s - loss: 0.0171 - actual_accuracy: 0.9578 - val_loss: 0.1112 - val_actual_accuracy: 0.8453\n",
      "Epoch 85/200\n",
      "1336/1335 [==============================] - 98s - loss: 0.0177 - actual_accuracy: 0.9563 - val_loss: 0.1081 - val_actual_accuracy: 0.8509\n",
      "Epoch 86/200\n",
      "1336/1335 [==============================] - 100s - loss: 0.0178 - actual_accuracy: 0.9573 - val_loss: 0.1069 - val_actual_accuracy: 0.8528\n",
      "Epoch 87/200\n",
      "1336/1335 [==============================] - 97s - loss: 0.0173 - actual_accuracy: 0.9586 - val_loss: 0.1140 - val_actual_accuracy: 0.8536\n",
      "Epoch 88/200\n",
      "1336/1335 [==============================] - 99s - loss: 0.0176 - actual_accuracy: 0.9571 - val_loss: 0.1057 - val_actual_accuracy: 0.8504\n",
      "Epoch 89/200\n",
      "1336/1335 [==============================] - 96s - loss: 0.0164 - actual_accuracy: 0.9610 - val_loss: 0.1216 - val_actual_accuracy: 0.8465\n",
      "Epoch 90/200\n",
      "1336/1335 [==============================] - 98s - loss: 0.0165 - actual_accuracy: 0.9594 - val_loss: 0.1188 - val_actual_accuracy: 0.8443\n",
      "Epoch 91/200\n",
      "1336/1335 [==============================] - 98s - loss: 0.0167 - actual_accuracy: 0.9596 - val_loss: 0.1096 - val_actual_accuracy: 0.8497\n",
      "Epoch 92/200\n",
      "1336/1335 [==============================] - 97s - loss: 0.0163 - actual_accuracy: 0.9595 - val_loss: 0.1141 - val_actual_accuracy: 0.8531\n",
      "Epoch 93/200\n",
      "1336/1335 [==============================] - 100s - loss: 0.0164 - actual_accuracy: 0.9598 - val_loss: 0.1165 - val_actual_accuracy: 0.8486\n",
      "Epoch 94/200\n",
      "1336/1335 [==============================] - 97s - loss: 0.0161 - actual_accuracy: 0.9618 - val_loss: 0.1097 - val_actual_accuracy: 0.8509\n",
      "Epoch 95/200\n",
      "1336/1335 [==============================] - 95s - loss: 0.0157 - actual_accuracy: 0.9621 - val_loss: 0.1089 - val_actual_accuracy: 0.8518\n",
      "Epoch 96/200\n",
      "1336/1335 [==============================] - 100s - loss: 0.0168 - actual_accuracy: 0.9593 - val_loss: 0.1097 - val_actual_accuracy: 0.8521\n",
      "Epoch 97/200\n",
      "1336/1335 [==============================] - 100s - loss: 0.0153 - actual_accuracy: 0.9634 - val_loss: 0.1218 - val_actual_accuracy: 0.8476\n",
      "Epoch 98/200\n",
      "1336/1335 [==============================] - 99s - loss: 0.0152 - actual_accuracy: 0.9631 - val_loss: 0.1067 - val_actual_accuracy: 0.8567\n",
      "Epoch 99/200\n",
      "1336/1335 [==============================] - 94s - loss: 0.0160 - actual_accuracy: 0.9620 - val_loss: 0.1202 - val_actual_accuracy: 0.8478\n",
      "Epoch 100/200\n",
      "1336/1335 [==============================] - 97s - loss: 0.0146 - actual_accuracy: 0.9646 - val_loss: 0.1092 - val_actual_accuracy: 0.8581\n",
      "Epoch 101/200\n",
      "1336/1335 [==============================] - 99s - loss: 0.0159 - actual_accuracy: 0.9610 - val_loss: 0.1004 - val_actual_accuracy: 0.8522\n",
      "Epoch 102/200\n",
      "1336/1335 [==============================] - 97s - loss: 0.0147 - actual_accuracy: 0.9632 - val_loss: 0.1222 - val_actual_accuracy: 0.8477\n",
      "Epoch 103/200\n",
      "1336/1335 [==============================] - 92s - loss: 0.0146 - actual_accuracy: 0.9642 - val_loss: 0.1244 - val_actual_accuracy: 0.8456\n",
      "Epoch 104/200\n",
      "1336/1335 [==============================] - 93s - loss: 0.0146 - actual_accuracy: 0.9646 - val_loss: 0.1144 - val_actual_accuracy: 0.8520\n",
      "Epoch 105/200\n",
      "1336/1335 [==============================] - 218s - loss: 0.0144 - actual_accuracy: 0.9646 - val_loss: 0.1148 - val_actual_accuracy: 0.8451\n",
      "Epoch 106/200\n",
      "1336/1335 [==============================] - 180s - loss: 0.0142 - actual_accuracy: 0.9667 - val_loss: 0.1190 - val_actual_accuracy: 0.8576\n",
      "Epoch 107/200\n"
     ]
    },
    {
     "name": "stdout",
     "output_type": "stream",
     "text": [
      "1336/1335 [==============================] - 126s - loss: 0.0146 - actual_accuracy: 0.9660 - val_loss: 0.1246 - val_actual_accuracy: 0.8543\n",
      "Epoch 108/200\n",
      "1336/1335 [==============================] - 134s - loss: 0.0145 - actual_accuracy: 0.9658 - val_loss: 0.1265 - val_actual_accuracy: 0.8465\n",
      "Epoch 109/200\n",
      "1336/1335 [==============================] - 125s - loss: 0.0138 - actual_accuracy: 0.9675 - val_loss: 0.1179 - val_actual_accuracy: 0.8594\n",
      "Epoch 110/200\n",
      "1336/1335 [==============================] - 122s - loss: 0.0131 - actual_accuracy: 0.9674 - val_loss: 0.1248 - val_actual_accuracy: 0.8541\n",
      "Epoch 111/200\n",
      "1336/1335 [==============================] - 118s - loss: 0.0138 - actual_accuracy: 0.9665 - val_loss: 0.1143 - val_actual_accuracy: 0.8587\n",
      "Epoch 112/200\n",
      "1336/1335 [==============================] - 113s - loss: 0.0135 - actual_accuracy: 0.9680 - val_loss: 0.1166 - val_actual_accuracy: 0.8563\n",
      "Epoch 113/200\n",
      "1336/1335 [==============================] - 122s - loss: 0.0134 - actual_accuracy: 0.9685 - val_loss: 0.1169 - val_actual_accuracy: 0.8567\n",
      "Epoch 114/200\n",
      "1336/1335 [==============================] - 127s - loss: 0.0132 - actual_accuracy: 0.9680 - val_loss: 0.1161 - val_actual_accuracy: 0.8555\n",
      "Epoch 115/200\n",
      "1336/1335 [==============================] - 124s - loss: 0.0130 - actual_accuracy: 0.9687 - val_loss: 0.1149 - val_actual_accuracy: 0.8560\n",
      "Epoch 116/200\n",
      "1336/1335 [==============================] - 116s - loss: 0.0139 - actual_accuracy: 0.9656 - val_loss: 0.1081 - val_actual_accuracy: 0.8602\n",
      "Epoch 117/200\n",
      "1336/1335 [==============================] - 117s - loss: 0.0128 - actual_accuracy: 0.9698 - val_loss: 0.1228 - val_actual_accuracy: 0.8557\n",
      "Epoch 118/200\n",
      "1336/1335 [==============================] - 115s - loss: 0.0127 - actual_accuracy: 0.9702 - val_loss: 0.1202 - val_actual_accuracy: 0.8576\n",
      "Epoch 119/200\n",
      "1336/1335 [==============================] - 103s - loss: 0.0134 - actual_accuracy: 0.9681 - val_loss: 0.1239 - val_actual_accuracy: 0.8531\n",
      "Epoch 120/200\n",
      "1336/1335 [==============================] - 108s - loss: 0.0126 - actual_accuracy: 0.9692 - val_loss: 0.1187 - val_actual_accuracy: 0.8542\n",
      "Epoch 121/200\n",
      "1336/1335 [==============================] - 113s - loss: 0.0133 - actual_accuracy: 0.9690 - val_loss: 0.1162 - val_actual_accuracy: 0.8536\n",
      "Epoch 122/200\n",
      "1336/1335 [==============================] - 121s - loss: 0.0123 - actual_accuracy: 0.9704 - val_loss: 0.1205 - val_actual_accuracy: 0.8521\n",
      "Epoch 123/200\n",
      "1336/1335 [==============================] - 121s - loss: 0.0127 - actual_accuracy: 0.9697 - val_loss: 0.1185 - val_actual_accuracy: 0.8543\n",
      "Epoch 124/200\n",
      "1336/1335 [==============================] - 123s - loss: 0.0115 - actual_accuracy: 0.9730 - val_loss: 0.1208 - val_actual_accuracy: 0.8552\n",
      "Epoch 125/200\n",
      "1336/1335 [==============================] - 123s - loss: 0.0126 - actual_accuracy: 0.9703 - val_loss: 0.1211 - val_actual_accuracy: 0.8525\n",
      "Epoch 126/200\n",
      "1336/1335 [==============================] - 97s - loss: 0.0119 - actual_accuracy: 0.9723 - val_loss: 0.1324 - val_actual_accuracy: 0.8569\n",
      "Epoch 127/200\n",
      "1336/1335 [==============================] - 95s - loss: 0.0122 - actual_accuracy: 0.9720 - val_loss: 0.1234 - val_actual_accuracy: 0.8610\n",
      "Epoch 128/200\n",
      "1336/1335 [==============================] - 93s - loss: 0.0123 - actual_accuracy: 0.9701 - val_loss: 0.1232 - val_actual_accuracy: 0.8570\n",
      "Epoch 129/200\n",
      "1336/1335 [==============================] - 101s - loss: 0.0114 - actual_accuracy: 0.9720 - val_loss: 0.1261 - val_actual_accuracy: 0.8604\n",
      "Epoch 130/200\n",
      "1336/1335 [==============================] - 95s - loss: 0.0114 - actual_accuracy: 0.9731 - val_loss: 0.1261 - val_actual_accuracy: 0.8581\n",
      "Epoch 131/200\n",
      "1336/1335 [==============================] - 101s - loss: 0.0114 - actual_accuracy: 0.9731 - val_loss: 0.1174 - val_actual_accuracy: 0.8620\n",
      "Epoch 132/200\n",
      "1336/1335 [==============================] - 96s - loss: 0.0115 - actual_accuracy: 0.9732 - val_loss: 0.1238 - val_actual_accuracy: 0.8540\n",
      "Epoch 133/200\n",
      "1336/1335 [==============================] - 99s - loss: 0.0112 - actual_accuracy: 0.9738 - val_loss: 0.1202 - val_actual_accuracy: 0.8589\n",
      "Epoch 134/200\n",
      "1336/1335 [==============================] - 91s - loss: 0.0109 - actual_accuracy: 0.9748 - val_loss: 0.1274 - val_actual_accuracy: 0.8572\n",
      "Epoch 135/200\n",
      "1336/1335 [==============================] - 97s - loss: 0.0109 - actual_accuracy: 0.9738 - val_loss: 0.1143 - val_actual_accuracy: 0.8565\n",
      "Epoch 136/200\n",
      "1336/1335 [==============================] - 96s - loss: 0.0116 - actual_accuracy: 0.9718 - val_loss: 0.1161 - val_actual_accuracy: 0.8576\n",
      "Epoch 137/200\n",
      "1336/1335 [==============================] - 92s - loss: 0.0113 - actual_accuracy: 0.9728 - val_loss: 0.1238 - val_actual_accuracy: 0.8598\n",
      "Epoch 138/200\n",
      "1336/1335 [==============================] - 98s - loss: 0.0101 - actual_accuracy: 0.9746 - val_loss: 0.1303 - val_actual_accuracy: 0.8610\n",
      "Epoch 139/200\n",
      "1336/1335 [==============================] - 94s - loss: 0.0114 - actual_accuracy: 0.9732 - val_loss: 0.1222 - val_actual_accuracy: 0.8627\n",
      "Epoch 140/200\n",
      "1336/1335 [==============================] - 105s - loss: 0.0107 - actual_accuracy: 0.9743 - val_loss: 0.1218 - val_actual_accuracy: 0.8494\n",
      "Epoch 141/200\n",
      "1336/1335 [==============================] - 103s - loss: 0.0112 - actual_accuracy: 0.9727 - val_loss: 0.1329 - val_actual_accuracy: 0.8549\n",
      "Epoch 142/200\n",
      "1336/1335 [==============================] - 96s - loss: 0.0106 - actual_accuracy: 0.9754 - val_loss: 0.1411 - val_actual_accuracy: 0.8496\n",
      "Epoch 143/200\n",
      "1336/1335 [==============================] - 98s - loss: 0.0107 - actual_accuracy: 0.9748 - val_loss: 0.1364 - val_actual_accuracy: 0.8490\n",
      "Epoch 144/200\n",
      "1336/1335 [==============================] - 96s - loss: 0.0103 - actual_accuracy: 0.9757 - val_loss: 0.1250 - val_actual_accuracy: 0.8562\n",
      "Epoch 145/200\n",
      "1336/1335 [==============================] - 98s - loss: 0.0106 - actual_accuracy: 0.9760 - val_loss: 0.1323 - val_actual_accuracy: 0.8562\n",
      "Epoch 146/200\n",
      "1336/1335 [==============================] - 99s - loss: 0.0099 - actual_accuracy: 0.9776 - val_loss: 0.1366 - val_actual_accuracy: 0.8566\n",
      "Epoch 147/200\n",
      "1336/1335 [==============================] - 93s - loss: 0.0114 - actual_accuracy: 0.9738 - val_loss: 0.1205 - val_actual_accuracy: 0.8607\n",
      "Epoch 148/200\n",
      "1336/1335 [==============================] - 97s - loss: 0.0103 - actual_accuracy: 0.9753 - val_loss: 0.1317 - val_actual_accuracy: 0.8604\n",
      "Epoch 149/200\n",
      "1336/1335 [==============================] - 95s - loss: 0.0111 - actual_accuracy: 0.9746 - val_loss: 0.1243 - val_actual_accuracy: 0.8575\n",
      "Epoch 150/200\n",
      "1336/1335 [==============================] - 95s - loss: 0.0100 - actual_accuracy: 0.9757 - val_loss: 0.1371 - val_actual_accuracy: 0.8574\n",
      "Epoch 151/200\n",
      "1336/1335 [==============================] - 95s - loss: 0.0102 - actual_accuracy: 0.9769 - val_loss: 0.1252 - val_actual_accuracy: 0.8628\n",
      "Epoch 152/200\n",
      "1336/1335 [==============================] - 104s - loss: 0.0097 - actual_accuracy: 0.9776 - val_loss: 0.1396 - val_actual_accuracy: 0.8483\n",
      "Epoch 153/200\n",
      "1336/1335 [==============================] - 101s - loss: 0.0098 - actual_accuracy: 0.9761 - val_loss: 0.1255 - val_actual_accuracy: 0.8614\n",
      "Epoch 154/200\n",
      "1336/1335 [==============================] - 98s - loss: 0.0094 - actual_accuracy: 0.9783 - val_loss: 0.1191 - val_actual_accuracy: 0.8618\n",
      "Epoch 155/200\n",
      "1336/1335 [==============================] - 103s - loss: 0.0094 - actual_accuracy: 0.9775 - val_loss: 0.1222 - val_actual_accuracy: 0.8602\n",
      "Epoch 156/200\n",
      "1336/1335 [==============================] - 95s - loss: 0.0107 - actual_accuracy: 0.9750 - val_loss: 0.1189 - val_actual_accuracy: 0.8622\n",
      "Epoch 157/200\n",
      "1336/1335 [==============================] - 95s - loss: 0.0102 - actual_accuracy: 0.9758 - val_loss: 0.1216 - val_actual_accuracy: 0.8633\n",
      "Epoch 158/200\n",
      "1336/1335 [==============================] - 99s - loss: 0.0088 - actual_accuracy: 0.9791 - val_loss: 0.1261 - val_actual_accuracy: 0.8607\n",
      "Epoch 159/200\n",
      "1336/1335 [==============================] - 93s - loss: 0.0097 - actual_accuracy: 0.9774 - val_loss: 0.1292 - val_actual_accuracy: 0.8555\n",
      "Epoch 160/200\n"
     ]
    },
    {
     "name": "stdout",
     "output_type": "stream",
     "text": [
      "1336/1335 [==============================] - 96s - loss: 0.0093 - actual_accuracy: 0.9792 - val_loss: 0.1272 - val_actual_accuracy: 0.8599\n",
      "Epoch 161/200\n",
      "1336/1335 [==============================] - 105s - loss: 0.0103 - actual_accuracy: 0.9764 - val_loss: 0.1218 - val_actual_accuracy: 0.8515\n",
      "Epoch 162/200\n",
      "1336/1335 [==============================] - 96s - loss: 0.0093 - actual_accuracy: 0.9782 - val_loss: 0.1371 - val_actual_accuracy: 0.8531\n",
      "Epoch 163/200\n",
      "1336/1335 [==============================] - 98s - loss: 0.0093 - actual_accuracy: 0.9785 - val_loss: 0.1329 - val_actual_accuracy: 0.8560\n",
      "Epoch 164/200\n",
      "1336/1335 [==============================] - 105s - loss: 0.0088 - actual_accuracy: 0.9793 - val_loss: 0.1493 - val_actual_accuracy: 0.8494\n",
      "Epoch 165/200\n",
      "1336/1335 [==============================] - 97s - loss: 0.0090 - actual_accuracy: 0.9788 - val_loss: 0.1404 - val_actual_accuracy: 0.8587\n",
      "Epoch 166/200\n",
      "1336/1335 [==============================] - 95s - loss: 0.0095 - actual_accuracy: 0.9783 - val_loss: 0.1339 - val_actual_accuracy: 0.8598\n",
      "Epoch 167/200\n",
      "1336/1335 [==============================] - 95s - loss: 0.0094 - actual_accuracy: 0.9787 - val_loss: 0.1305 - val_actual_accuracy: 0.8564\n",
      "Epoch 168/200\n",
      "1336/1335 [==============================] - 100s - loss: 0.0093 - actual_accuracy: 0.9784 - val_loss: 0.1343 - val_actual_accuracy: 0.8607\n",
      "Epoch 169/200\n",
      "1336/1335 [==============================] - 105s - loss: 0.0093 - actual_accuracy: 0.9784 - val_loss: 0.1326 - val_actual_accuracy: 0.8641\n",
      "Epoch 170/200\n",
      "1336/1335 [==============================] - 101s - loss: 0.0089 - actual_accuracy: 0.9786 - val_loss: 0.1367 - val_actual_accuracy: 0.8522\n",
      "Epoch 171/200\n",
      "1336/1335 [==============================] - 98s - loss: 0.0090 - actual_accuracy: 0.9797 - val_loss: 0.1265 - val_actual_accuracy: 0.8594\n",
      "Epoch 172/200\n",
      "1336/1335 [==============================] - 94s - loss: 0.0096 - actual_accuracy: 0.9786 - val_loss: 0.1316 - val_actual_accuracy: 0.8628\n",
      "Epoch 173/200\n",
      "1336/1335 [==============================] - 94s - loss: 0.0091 - actual_accuracy: 0.9778 - val_loss: 0.1299 - val_actual_accuracy: 0.8545\n",
      "Epoch 174/200\n",
      "1336/1335 [==============================] - 96s - loss: 0.0091 - actual_accuracy: 0.9791 - val_loss: 0.1353 - val_actual_accuracy: 0.8589\n",
      "Epoch 175/200\n",
      "1336/1335 [==============================] - 96s - loss: 0.0082 - actual_accuracy: 0.9809 - val_loss: 0.1289 - val_actual_accuracy: 0.8597\n",
      "Epoch 176/200\n",
      "1336/1335 [==============================] - 94s - loss: 0.0086 - actual_accuracy: 0.9805 - val_loss: 0.1248 - val_actual_accuracy: 0.8605\n",
      "Epoch 177/200\n",
      "1336/1335 [==============================] - 94s - loss: 0.0085 - actual_accuracy: 0.9797 - val_loss: 0.1361 - val_actual_accuracy: 0.8510.979\n",
      "Epoch 178/200\n",
      "1336/1335 [==============================] - 94s - loss: 0.0086 - actual_accuracy: 0.9805 - val_loss: 0.1357 - val_actual_accuracy: 0.8623\n",
      "Epoch 179/200\n",
      "1336/1335 [==============================] - 104s - loss: 0.0085 - actual_accuracy: 0.9807 - val_loss: 0.1256 - val_actual_accuracy: 0.8586\n",
      "Epoch 180/200\n",
      "1336/1335 [==============================] - 103s - loss: 0.0085 - actual_accuracy: 0.9802 - val_loss: 0.1260 - val_actual_accuracy: 0.8638\n",
      "Epoch 181/200\n",
      "1336/1335 [==============================] - 95s - loss: 0.0087 - actual_accuracy: 0.9795 - val_loss: 0.1293 - val_actual_accuracy: 0.8621\n",
      "Epoch 182/200\n",
      "1336/1335 [==============================] - 100s - loss: 0.0086 - actual_accuracy: 0.9803 - val_loss: 0.1228 - val_actual_accuracy: 0.8605\n",
      "Epoch 183/200\n",
      "1336/1335 [==============================] - 95s - loss: 0.0081 - actual_accuracy: 0.9804 - val_loss: 0.1298 - val_actual_accuracy: 0.8577\n",
      "Epoch 184/200\n",
      "1336/1335 [==============================] - 98s - loss: 0.0081 - actual_accuracy: 0.9806 - val_loss: 0.1329 - val_actual_accuracy: 0.8540\n",
      "Epoch 185/200\n",
      "1336/1335 [==============================] - 95s - loss: 0.0085 - actual_accuracy: 0.9799 - val_loss: 0.1234 - val_actual_accuracy: 0.8592\n",
      "Epoch 186/200\n",
      "1336/1335 [==============================] - 98s - loss: 0.0084 - actual_accuracy: 0.9812 - val_loss: 0.1271 - val_actual_accuracy: 0.8626\n",
      "Epoch 187/200\n",
      "1336/1335 [==============================] - 111s - loss: 0.0087 - actual_accuracy: 0.9794 - val_loss: 0.1364 - val_actual_accuracy: 0.8607\n",
      "Epoch 188/200\n",
      "1336/1335 [==============================] - 110s - loss: 0.0083 - actual_accuracy: 0.9806 - val_loss: 0.1353 - val_actual_accuracy: 0.8568\n",
      "Epoch 189/200\n",
      "1336/1335 [==============================] - 93s - loss: 0.0083 - actual_accuracy: 0.9811 - val_loss: 0.1476 - val_actual_accuracy: 0.8596\n",
      "Epoch 190/200\n",
      "1336/1335 [==============================] - 97s - loss: 0.0083 - actual_accuracy: 0.9796 - val_loss: 0.1230 - val_actual_accuracy: 0.8645\n",
      "Epoch 191/200\n",
      "1336/1335 [==============================] - 95s - loss: 0.0076 - actual_accuracy: 0.9824 - val_loss: 0.1290 - val_actual_accuracy: 0.8657\n",
      "Epoch 192/200\n",
      "1336/1335 [==============================] - 96s - loss: 0.0081 - actual_accuracy: 0.9810 - val_loss: 0.1560 - val_actual_accuracy: 0.85051s - loss: 0.0082 - actual\n",
      "Epoch 193/200\n",
      "1336/1335 [==============================] - 115s - loss: 0.0084 - actual_accuracy: 0.9805 - val_loss: 0.1286 - val_actual_accuracy: 0.8619\n",
      "Epoch 194/200\n",
      "1336/1335 [==============================] - 102s - loss: 0.0074 - actual_accuracy: 0.9824 - val_loss: 0.1501 - val_actual_accuracy: 0.8561\n",
      "Epoch 195/200\n",
      "1336/1335 [==============================] - 104s - loss: 0.0077 - actual_accuracy: 0.9829 - val_loss: 0.1321 - val_actual_accuracy: 0.8624\n",
      "Epoch 196/200\n",
      "1336/1335 [==============================] - 103s - loss: 0.0080 - actual_accuracy: 0.9816 - val_loss: 0.1285 - val_actual_accuracy: 0.8608\n",
      "Epoch 197/200\n",
      "1336/1335 [==============================] - 94s - loss: 0.0072 - actual_accuracy: 0.9826 - val_loss: 0.1385 - val_actual_accuracy: 0.8614\n",
      "Epoch 198/200\n",
      "1336/1335 [==============================] - 96s - loss: 0.0081 - actual_accuracy: 0.9815 - val_loss: 0.1458 - val_actual_accuracy: 0.8616\n",
      "Epoch 199/200\n",
      "1336/1335 [==============================] - 93s - loss: 0.0081 - actual_accuracy: 0.9820 - val_loss: 0.1405 - val_actual_accuracy: 0.8588\n",
      "Epoch 200/200\n",
      "1336/1335 [==============================] - 96s - loss: 0.0075 - actual_accuracy: 0.9832 - val_loss: 0.1332 - val_actual_accuracy: 0.8604\n"
     ]
    }
   ],
   "source": [
    "history = model.fit_generator(generate_fake_epoch(X_train, X_other_features_train, y_train, batch_size), X_train.shape[0]/(batch_size * num_fake_epoch), epochs=actual_epoch*num_fake_epoch, validation_data=([X_validate, X_other_features_validate], y_validate))\n",
    "\n",
    "# model.fit([X_train, X_other_features_train], y_train, validation_data=([X_validate, X_other_features_validate], y_validate), epochs=1, batch_size=16)"
   ]
  },
  {
   "cell_type": "code",
   "execution_count": 17,
   "metadata": {
    "collapsed": true
   },
   "outputs": [],
   "source": [
    "name = '5_epoch'\n",
    "model.save(name + '.h5')\n",
    "output = open(name + '_history.pkl', 'wb')\n",
    "pickle.dump(history.history, output)\n",
    "output.close()"
   ]
  },
  {
   "cell_type": "code",
   "execution_count": 18,
   "metadata": {},
   "outputs": [
    {
     "data": {
      "image/png": "[encoded data removed]",
      "text/plain": [
       "<matplotlib.figure.Figure at 0x7f2291056cc0>"
      ]
     },
     "metadata": {},
     "output_type": "display_data"
    },
    {
     "data": {
      "image/png": "[encoded data removed]",
      "text/plain": [
       "<matplotlib.figure.Figure at 0x7f22912b8b38>"
      ]
     },
     "metadata": {},
     "output_type": "display_data"
    }
   ],
   "source": [
    "import matplotlib.pyplot as plt\n",
    "plt.plot(history.history['actual_accuracy'])\n",
    "plt.plot(history.history['val_actual_accuracy'])\n",
    "plt.title('model accuracy')\n",
    "plt.ylabel('accuracy')\n",
    "plt.xlabel('epoch')\n",
    "plt.legend(['train', 'test'], loc='upper left')\n",
    "plt.show()\n",
    "# summarize history for loss\n",
    "plt.plot(history.history['loss'])\n",
    "plt.plot(history.history['val_loss'])\n",
    "plt.title('model loss')\n",
    "plt.ylabel('loss')\n",
    "plt.xlabel('epoch')\n",
    "plt.legend(['train', 'test'], loc='upper left')\n",
    "plt.show()"
   ]
  },
  {
   "cell_type": "code",
   "execution_count": 25,
   "metadata": {
    "collapsed": true
   },
   "outputs": [],
   "source": [
    "model = load_model('test.h5')"
   ]
  },
  {
   "cell_type": "code",
   "execution_count": 6,
   "metadata": {},
   "outputs": [
    {
     "ename": "NameError",
     "evalue": "name 'h5f' is not defined",
     "output_type": "error",
     "traceback": [
      "\u001b[1;31m---------------------------------------------------------------------------\u001b[0m",
      "\u001b[1;31mNameError\u001b[0m                                 Traceback (most recent call last)",
      "\u001b[1;32m<ipython-input-6-e361f7023d53>\u001b[0m in \u001b[0;36m<module>\u001b[1;34m()\u001b[0m\n\u001b[1;32m----> 1\u001b[1;33m \u001b[0mh5f\u001b[0m\u001b[1;33m.\u001b[0m\u001b[0mclose\u001b[0m\u001b[1;33m(\u001b[0m\u001b[1;33m)\u001b[0m\u001b[1;33m\u001b[0m\u001b[0m\n\u001b[0m",
      "\u001b[1;31mNameError\u001b[0m: name 'h5f' is not defined"
     ]
    }
   ],
   "source": [
    "h5f.close()"
   ]
  },
  {
   "cell_type": "code",
   "execution_count": 67,
   "metadata": {},
   "outputs": [
    {
     "name": "stdout",
     "output_type": "stream",
     "text": [
      "108736/108961 [============================>.] - ETA: 0s\n",
      "acc: 96.57%\n"
     ]
    }
   ],
   "source": [
    "# evaluate the model\n",
    "scores = model.evaluate([X_validate, X_other_features_validate], y_validate)\n",
    "print(\"\\n%s: %.2f%%\" % (model.metrics_names[1], scores[1]*100))"
   ]
  },
  {
   "cell_type": "code",
   "execution_count": 187,
   "metadata": {},
   "outputs": [
    {
     "name": "stdout",
     "output_type": "stream",
     "text": [
      "nerazloènejši\n",
      "[ 0.  1.  0.  1.  0.  0.  0.  0.  0.  0.  0.]\n",
      "[ 0.  1.  0.  1.  0.  0.  0.  0.  0.  0.  0.]\n",
      "1.0\n",
      "1.0\n",
      "Elemwise{Cast{float32}}.0\n"
     ]
    }
   ],
   "source": [
    "pos = 0\n",
    "print(decode_input(X_validate[pos], dictionary))\n",
    "# predictions = model.predict([X_validate, X_other_features_validate])\n",
    "predictions2 = model.predict([X_validate[pos:pos+1], X_other_features_validate[pos:pos+1]])\n",
    "# print(predictions2)\n",
    "print(np.round(predictions2)[0])\n",
    "# predictions = np.round(predictions)\n",
    "print(y_validate[pos])\n",
    "# accuracy = sum([1 if np.all(y_validate[i] == predictions[i]) else 0 for i in range(X_validate.shape[0])])/float(X_validate.shape[0])\n",
    "# print(accuracy)\n",
    "\n",
    "\n",
    "import keras.backend as K\n",
    "\n",
    "def act_accuracy(y_true, y_pred):\n",
    "    return K.mean(K.equal(K.mean(K.equal(K.round(y_true), K.round(y_pred)), axis=-1), 1.0))\n",
    "\n",
    "\n",
    "def mean_pred2(y_true, y_pred):\n",
    "    return K.mean(K.equal(K.argmax(y_true, axis=-1), K.argmax(y_pred, axis=-1)))\n",
    "#     return K.mean(K.all(K.equal(y_true, y_pred), axis=-1))\n",
    "#     return K.equal(K.round(y_true), K.round(y_pred))\n",
    "\n",
    "print(mean_pred(y_validate[pos], predictions[pos]).eval())\n",
    "print(mean_pred(np.array([[ 0.,  1.,  0.,  1.,  0.,  0.,  0.,  0.,  0.,  0.,  0.],\n",
    "                          [ 0.,  1.,  0.,  1.,  0.,  0.,  0.,  0.,  0.,  0.,  0.]]), \n",
    "                np.array([[ 0.,  0.51,  0.,  0.51,  0.,  0.,  0.,  0.,  0.,  0.,  0.],\n",
    "                          [ 0.,  0.92,  0.,  0.51,  0.,  0.,  0.,  0.,  0.,  0.,  0.]])).eval())\n",
    "# print(mean_pred(y_validate[pos], predictions[pos]))\n",
    "# print(mean_pred2(y_validate[pos], predictions[pos]))\n",
    "print(metrics.categorical_accuracy(y_validate[pos], predictions[pos]))"
   ]
  },
  {
   "cell_type": "code",
   "execution_count": null,
   "metadata": {
    "collapsed": true
   },
   "outputs": [],
   "source": [
    "predictions = model.predict(X[429145:])"
   ]
  },
  {
   "cell_type": "code",
   "execution_count": 21,
   "metadata": {},
   "outputs": [
    {
     "data": {
      "text/plain": [
       "[1, 0]"
      ]
     },
     "execution_count": 21,
     "metadata": {},
     "output_type": "execute_result"
    }
   ],
   "source": [
    "decode_position(predictions[0], max_num_vowels)"
   ]
  },
  {
   "cell_type": "code",
   "execution_count": 23,
   "metadata": {},
   "outputs": [
    {
     "name": "stdout",
     "output_type": "stream",
     "text": [
      "READING CONTENT...\n",
      "CONTENT READ SUCCESSFULY\n",
      "CREATING DICTIONARY...\n",
      "DICTIONARY CREATION SUCCESSFUL!\n",
      "107287\n",
      "96.5186835311\n"
     ]
    }
   ],
   "source": [
    "def test_accuracy(predictions, y):\n",
    "    dictionary, max_word, max_num_vowels, content, vowels, accetuated_vowels = create_dict()\n",
    "    num_of_pred = len(predictions)\n",
    "    num_of_correct_pred = 0\n",
    "    for i in range(predictions.shape[0]):\n",
    "        if decode_position(predictions[i], max_num_vowels) == decode_position(y[i], max_num_vowels):\n",
    "            num_of_correct_pred += 1\n",
    "\n",
    "    return (num_of_correct_pred/float(num_of_pred)) * 100\n",
    "\n",
    "\n",
    "print(test_accuracy(predictions, y[429145:]))"
   ]
  },
  {
   "cell_type": "code",
   "execution_count": 17,
   "metadata": {},
   "outputs": [
    {
     "data": {
      "text/plain": [
       "(107287, 121)"
      ]
     },
     "execution_count": 17,
     "metadata": {},
     "output_type": "execute_result"
    }
   ],
   "source": [
    "predictions.shape"
   ]
  },
  {
   "cell_type": "code",
   "execution_count": 12,
   "metadata": {},
   "outputs": [
    {
     "name": "stdout",
     "output_type": "stream",
     "text": [
      "11\n"
     ]
    }
   ],
   "source": [
    "print max_num_vowels"
   ]
  },
  {
   "cell_type": "code",
   "execution_count": 31,
   "metadata": {},
   "outputs": [
    {
     "name": "stdout",
     "output_type": "stream",
     "text": [
      "READING CONTENT...\n",
      "CONTENT READ SUCCESSFULY\n",
      "CREATING DICTIONARY...\n",
      "DICTIONARY CREATION SUCCESSFUL!\n"
     ]
    }
   ],
   "source": [
    "dictionary, max_word, max_num_vowels, content, vowels, accetuated_vowels = create_dict()\n",
    "feature_dictionary = create_feature_dictionary(content)\n",
    "def generate_input_from_word(word, max_word, dictionary):\n",
    "    x = np.zeros((max_word, len(dictionary)))\n",
    "    j = 0\n",
    "    for c in list(word):\n",
    "        index = 0\n",
    "        for d in dictionary:\n",
    "            if c == d:\n",
    "                x[j, index] = 1\n",
    "                break\n",
    "            index += 1\n",
    "        j += 1\n",
    "    return x\n",
    "\n",
    "# model = load_model()\n",
    "# prediction = predict(model, generate_input_from_word('hidrija'))\n",
    "# print decode_position(prediction[0])"
   ]
  },
  {
   "cell_type": "code",
   "execution_count": 190,
   "metadata": {
    "collapsed": true
   },
   "outputs": [],
   "source": [
    "%run ../../../prepare_data.py\n",
    "# generate_X_and_y(dictionary, max_word, max_num_vowels, content, vowels, accetuated_vowels, feature_dictionary)"
   ]
  }
 ],
 "metadata": {
  "kernelspec": {
   "display_name": "Python 3",
   "language": "python",
   "name": "python3"
  },
  "language_info": {
   "codemirror_mode": {
    "name": "ipython",
    "version": 3
   },
   "file_extension": ".py",
   "mimetype": "text/x-python",
   "name": "python",
   "nbconvert_exporter": "python",
   "pygments_lexer": "ipython3",
   "version": "3.5.2"
  }
 },
 "nbformat": 4,
 "nbformat_minor": 1
}
