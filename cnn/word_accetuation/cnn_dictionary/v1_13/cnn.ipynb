{
 "cells": [
  {
   "cell_type": "code",
   "execution_count": 1,
   "metadata": {},
   "outputs": [
    {
     "name": "stderr",
     "output_type": "stream",
     "text": [
      "Using Theano backend.\n"
     ]
    }
   ],
   "source": [
    "# -*- coding: utf-8 -*-\n",
    "from __future__ import unicode_literals\n",
    "# text in Western (Windows 1252)\n",
    "\n",
    "import pickle\n",
    "import numpy as np\n",
    "# import StringIO\n",
    "import math\n",
    "from keras import optimizers, metrics\n",
    "from keras.models import Model\n",
    "from keras.layers import Dense, Dropout, Input\n",
    "from keras.layers.merge import concatenate\n",
    "from keras import regularizers\n",
    "from keras.layers.convolutional import Conv1D\n",
    "from keras.layers.convolutional import MaxPooling1D\n",
    "from keras.constraints import maxnorm\n",
    "from keras.layers import Flatten\n",
    "from keras.optimizers import SGD\n",
    "from keras.models import load_model\n",
    "# from keras import backend as Input\n",
    "np.random.seed(7)"
   ]
  },
  {
   "cell_type": "code",
   "execution_count": 2,
   "metadata": {
    "collapsed": true
   },
   "outputs": [],
   "source": [
    "# %run ../../../prepare_data.py\n",
    "\n",
    "import sys\n",
    "sys.path.insert(0, '../../../')\n",
    "from prepare_data import *"
   ]
  },
  {
   "cell_type": "code",
   "execution_count": 5,
   "metadata": {},
   "outputs": [],
   "source": [
    "# X_train, X_other_features_train, y_train, X_validate, X_other_features_validate, y_validate = generate_full_matrix_inputs()\n",
    "# save_inputs('../../internal_representations/inputs/shuffeled_matrix_train_inputs_other_features_multilabel.h5', X_train, y_train, other_features = X_other_features_train)\n",
    "# save_inputs('../../internal_representations/inputs/shuffeled_matrix_validate_inputs_other_features_multilabel.h5', X_validate, y_validate,  other_features = X_other_features_validate)\n",
    "X_train, X_other_features_train, y_train = load_inputs('../../internal_representations/inputs/shuffeled_matrix_train_inputs_other_features_multilabel.h5', other_features=True)\n",
    "X_validate, X_other_features_validate, y_validate = load_inputs('../../internal_representations/inputs/shuffeled_matrix_validate_inputs_other_features_multilabel.h5', other_features=True)"
   ]
  },
  {
   "cell_type": "code",
   "execution_count": 24,
   "metadata": {},
   "outputs": [
    {
     "name": "stdout",
     "output_type": "stream",
     "text": [
      "navleèeta\n",
      "Vmip3d--n\n",
      "None\n"
     ]
    }
   ],
   "source": [
    "# X_other_features = create_X_features(content)\n",
    "# print (X_other_features[178200])\n",
    "decode_position = 30\n",
    "print (decode_input(X_train[decode_position], dictionary))\n",
    "# print (X_other_features_train[0])\n",
    "print (decode_X_features(feature_dictionary, [X_other_features_train[decode_position]]))\n",
    "# print (len(X_other_features_train[0]))"
   ]
  },
  {
   "cell_type": "code",
   "execution_count": 34,
   "metadata": {
    "collapsed": true
   },
   "outputs": [],
   "source": [
    "num_examples = len(X_train) # training set size\n",
    "# nn_input_dim = max_word * len(dictionary) # input layer dimensionality\n",
    "# nn_output_dim = max_num_vowels * max_num_vowels # output layer dimensionality\n",
    "nn_output_dim = 11\n",
    "nn_hdim = 516\n",
    "batch_size = 16\n",
    "actual_epoch = 10\n",
    "num_fake_epoch = 20\n",
    "\n",
    "# Gradient descent parameters (I picked these by hand)\n",
    "# epsilon = 1 # learning rate for gradient descent\n",
    "# reg_lambda = 1 # regularization strength"
   ]
  },
  {
   "cell_type": "code",
   "execution_count": 35,
   "metadata": {
    "collapsed": true
   },
   "outputs": [],
   "source": [
    "# word_processor = Sequential()\n",
    "# word_processor.add(Conv1D(43, (3), input_shape=(23, 43), padding='same', activation='relu'))\n",
    "# word_processor.add(Conv1D(43, (2), padding='same', activation='relu'))\n",
    "# word_processor.add(Conv1D(43, (2), padding='same', activation='relu'))\n",
    "# word_processor.add(MaxPooling1D(pool_size=2))\n",
    "# word_processor.add(Flatten())\n",
    "# word_processor.add(Dense(516, activation='relu', kernel_constraint=maxnorm(3)))\n",
    "\n",
    "# metadata_processor = Sequential()\n",
    "# metadata_processor.add(Dense(256, input_dim=167, activation='relu'))\n",
    "\n",
    "# model = Sequential()\n",
    "# model.add(Merge([word_processor, metadata_processor], mode='concat'))  # Merge is your sensor fusion buddy\n",
    "# model.add(Dense(1024, input_dim=(516 + 256), activation='relu'))\n",
    "# model.add(Dropout(0.3))\n",
    "# model.add(Dense(1024, activation='relu'))\n",
    "# model.add(Dropout(0.2))\n",
    "# model.add(Dense(nn_output_dim, activation='sigmoid'))\n",
    "\n",
    "\n",
    "# -------------------------------------------------------\n",
    "\n",
    "conv_input_shape=(23, 43)\n",
    "othr_input = (167, )\n",
    "\n",
    "conv_input = Input(shape=conv_input_shape, name='conv_input')\n",
    "x_conv = Conv1D(43, (3), padding='same', activation='relu')(conv_input)\n",
    "x_conv = Conv1D(43, (3), padding='same', activation='relu')(x_conv)\n",
    "x_conv = MaxPooling1D(pool_size=2)(x_conv)\n",
    "x_conv = Flatten()(x_conv)\n",
    "# x_conv = Dense(516, activation='relu', kernel_constraint=maxnorm(3))(x_conv)\n",
    "\n",
    "othr_input = Input(shape=othr_input, name='othr_input')\n",
    "# x_othr = Dense(256, input_dim=167, activation='relu')(othr_input)\n",
    "# x_othr = Dropout(0.3)(x_othr)\n",
    "# x_othr = Dense(512, activation='relu')(othr_input)\n",
    "# x_othr = Dropout(0.3)(x_othr)\n",
    "# x_othr = Dense(256, activation='relu')(othr_input)\n",
    "\n",
    "x = concatenate([x_conv, othr_input])\n",
    "# x = Dense(1024, input_dim=(516 + 256), activation='relu')(x)\n",
    "x = Dense(512, activation='relu')(x)\n",
    "x = Dropout(0.3)(x)\n",
    "x = Dense(1024, activation='relu')(x)\n",
    "x = Dropout(0.3)(x)\n",
    "x = Dense(512, activation='relu')(x)\n",
    "x = Dropout(0.2)(x)\n",
    "x = Dense(nn_output_dim, activation='sigmoid')(x)\n",
    "\n",
    "# model = Model(inputs=[conv_input, othr_input], output=x)"
   ]
  },
  {
   "cell_type": "code",
   "execution_count": 36,
   "metadata": {
    "collapsed": true
   },
   "outputs": [],
   "source": [
    "model = Model(inputs=[conv_input, othr_input], outputs=x)\n",
    "\n",
    "# epochs = 5\n",
    "# lrate = 0.1\n",
    "# decay = lrate/epochs\n",
    "# sgd = SGD(lr=lrate, momentum=0.9, decay=decay, nesterov=False)\n",
    "# model.compile(loss='mean_squared_error', optimizer='adam', metrics=['accuracy'])\n",
    "\n",
    "# Compile model\n",
    "# keras.optimizers.Adam(lr=0.001, beta_1=0.9, beta_2=0.999, epsilon=1e-08, decay=0.0)\n",
    "opt = optimizers.Adam(lr=1E-5, beta_1=0.9, beta_2=0.999, epsilon=1e-08)\n",
    "model.compile(loss='binary_crossentropy', optimizer=opt, metrics=[actual_accuracy,])\n",
    "# model.compile(loss='mean_squared_error', optimizer='adam', metrics=['accuracy'])"
   ]
  },
  {
   "cell_type": "code",
   "execution_count": 40,
   "metadata": {
    "scrolled": false
   },
   "outputs": [
    {
     "name": "stdout",
     "output_type": "stream",
     "text": [
      "Epoch 1/200\n",
      "1336/1335 [==============================] - 79s - loss: 0.0528 - actual_accuracy: 0.8670 - val_loss: 0.0783 - val_actual_accuracy: 0.8182.8 - ETA:\n",
      "Epoch 2/200\n",
      "1336/1335 [==============================] - 81s - loss: 0.0529 - actual_accuracy: 0.8678 - val_loss: 0.0796 - val_actual_accuracy: 0.8130\n",
      "Epoch 3/200\n",
      "1336/1335 [==============================] - 88s - loss: 0.0519 - actual_accuracy: 0.8685 - val_loss: 0.0784 - val_actual_accuracy: 0.8153\n",
      "Epoch 4/200\n",
      "1336/1335 [==============================] - 85s - loss: 0.0515 - actual_accuracy: 0.8686 - val_loss: 0.0807 - val_actual_accuracy: 0.8122\n",
      "Epoch 5/200\n",
      "1336/1335 [==============================] - 84s - loss: 0.0522 - actual_accuracy: 0.8677 - val_loss: 0.0785 - val_actual_accuracy: 0.8170\n",
      "Epoch 6/200\n",
      "1336/1335 [==============================] - 86s - loss: 0.0512 - actual_accuracy: 0.8696 - val_loss: 0.0780 - val_actual_accuracy: 0.8192\n",
      "Epoch 7/200\n",
      "1336/1335 [==============================] - 87s - loss: 0.0525 - actual_accuracy: 0.8674 - val_loss: 0.0782 - val_actual_accuracy: 0.8176\n",
      "Epoch 8/200\n",
      "1336/1335 [==============================] - 86s - loss: 0.0515 - actual_accuracy: 0.8671 - val_loss: 0.0804 - val_actual_accuracy: 0.8116\n",
      "Epoch 9/200\n",
      "1336/1335 [==============================] - 100s - loss: 0.0503 - actual_accuracy: 0.8724 - val_loss: 0.0806 - val_actual_accuracy: 0.8129\n",
      "Epoch 10/200\n",
      "1336/1335 [==============================] - 92s - loss: 0.0511 - actual_accuracy: 0.8707 - val_loss: 0.0790 - val_actual_accuracy: 0.8169\n",
      "Epoch 11/200\n",
      "1336/1335 [==============================] - 97s - loss: 0.0505 - actual_accuracy: 0.8735 - val_loss: 0.0809 - val_actual_accuracy: 0.8113\n",
      "Epoch 12/200\n",
      "1336/1335 [==============================] - 97s - loss: 0.0501 - actual_accuracy: 0.8749 - val_loss: 0.0808 - val_actual_accuracy: 0.8119\n",
      "Epoch 13/200\n",
      "1336/1335 [==============================] - 98s - loss: 0.0503 - actual_accuracy: 0.8706 - val_loss: 0.0799 - val_actual_accuracy: 0.8153\n",
      "Epoch 14/200\n",
      "1336/1335 [==============================] - 85s - loss: 0.0505 - actual_accuracy: 0.8723 - val_loss: 0.0794 - val_actual_accuracy: 0.8190\n",
      "Epoch 15/200\n",
      "1336/1335 [==============================] - 84s - loss: 0.0505 - actual_accuracy: 0.8736 - val_loss: 0.0820 - val_actual_accuracy: 0.8116\n",
      "Epoch 16/200\n",
      "1336/1335 [==============================] - 85s - loss: 0.0513 - actual_accuracy: 0.8686 - val_loss: 0.0811 - val_actual_accuracy: 0.8110\n",
      "Epoch 17/200\n",
      "1336/1335 [==============================] - 84s - loss: 0.0512 - actual_accuracy: 0.8726 - val_loss: 0.0788 - val_actual_accuracy: 0.8169\n",
      "Epoch 18/200\n",
      "1336/1335 [==============================] - 86s - loss: 0.0506 - actual_accuracy: 0.8711 - val_loss: 0.0778 - val_actual_accuracy: 0.8197\n",
      "Epoch 19/200\n",
      "1336/1335 [==============================] - 87s - loss: 0.0497 - actual_accuracy: 0.8763 - val_loss: 0.0792 - val_actual_accuracy: 0.8196\n",
      "Epoch 20/200\n",
      "1336/1335 [==============================] - 96s - loss: 0.0506 - actual_accuracy: 0.8690 - val_loss: 0.0785 - val_actual_accuracy: 0.8178\n",
      "Epoch 21/200\n",
      "1336/1335 [==============================] - 94s - loss: 0.0495 - actual_accuracy: 0.8757 - val_loss: 0.0788 - val_actual_accuracy: 0.8197\n",
      "Epoch 22/200\n",
      "1336/1335 [==============================] - 93s - loss: 0.0495 - actual_accuracy: 0.8764 - val_loss: 0.0785 - val_actual_accuracy: 0.8208\n",
      "Epoch 23/200\n",
      "1336/1335 [==============================] - 99s - loss: 0.0491 - actual_accuracy: 0.8781 - val_loss: 0.0784 - val_actual_accuracy: 0.8195\n",
      "Epoch 24/200\n",
      "1336/1335 [==============================] - 96s - loss: 0.0491 - actual_accuracy: 0.8734 - val_loss: 0.0810 - val_actual_accuracy: 0.8164\n",
      "Epoch 25/200\n",
      "1336/1335 [==============================] - 101s - loss: 0.0495 - actual_accuracy: 0.8746 - val_loss: 0.0786 - val_actual_accuracy: 0.8221\n",
      "Epoch 26/200\n",
      "1336/1335 [==============================] - 104s - loss: 0.0479 - actual_accuracy: 0.8801 - val_loss: 0.0787 - val_actual_accuracy: 0.8230\n",
      "Epoch 27/200\n",
      "1336/1335 [==============================] - 100s - loss: 0.0493 - actual_accuracy: 0.8737 - val_loss: 0.0792 - val_actual_accuracy: 0.8195\n",
      "Epoch 28/200\n",
      "1336/1335 [==============================] - 98s - loss: 0.0478 - actual_accuracy: 0.8793 - val_loss: 0.0794 - val_actual_accuracy: 0.8180\n",
      "Epoch 29/200\n",
      "1336/1335 [==============================] - 95s - loss: 0.0471 - actual_accuracy: 0.8815 - val_loss: 0.0800 - val_actual_accuracy: 0.8195\n",
      "Epoch 30/200\n",
      "1336/1335 [==============================] - 103s - loss: 0.0476 - actual_accuracy: 0.8801 - val_loss: 0.0797 - val_actual_accuracy: 0.8197\n",
      "Epoch 31/200\n",
      "1336/1335 [==============================] - 99s - loss: 0.0483 - actual_accuracy: 0.8783 - val_loss: 0.0810 - val_actual_accuracy: 0.8167\n",
      "Epoch 32/200\n",
      "1336/1335 [==============================] - 96s - loss: 0.0472 - actual_accuracy: 0.8812 - val_loss: 0.0802 - val_actual_accuracy: 0.8176\n",
      "Epoch 33/200\n",
      "1336/1335 [==============================] - 86s - loss: 0.0466 - actual_accuracy: 0.8837 - val_loss: 0.0803 - val_actual_accuracy: 0.8193\n",
      "Epoch 34/200\n",
      "1336/1335 [==============================] - 90s - loss: 0.0474 - actual_accuracy: 0.8800 - val_loss: 0.0784 - val_actual_accuracy: 0.8235\n",
      "Epoch 35/200\n",
      "1336/1335 [==============================] - 85s - loss: 0.0465 - actual_accuracy: 0.8825 - val_loss: 0.0815 - val_actual_accuracy: 0.8166\n",
      "Epoch 36/200\n",
      "1336/1335 [==============================] - 98s - loss: 0.0486 - actual_accuracy: 0.8750 - val_loss: 0.0828 - val_actual_accuracy: 0.8121\n",
      "Epoch 37/200\n",
      "1336/1335 [==============================] - 93s - loss: 0.0482 - actual_accuracy: 0.8808 - val_loss: 0.0785 - val_actual_accuracy: 0.8219\n",
      "Epoch 38/200\n",
      "1336/1335 [==============================] - 103s - loss: 0.0472 - actual_accuracy: 0.8795 - val_loss: 0.0778 - val_actual_accuracy: 0.8254\n",
      "Epoch 39/200\n",
      "1336/1335 [==============================] - 98s - loss: 0.0472 - actual_accuracy: 0.8804 - val_loss: 0.0794 - val_actual_accuracy: 0.8225\n",
      "Epoch 40/200\n",
      "1336/1335 [==============================] - 99s - loss: 0.0475 - actual_accuracy: 0.8795 - val_loss: 0.0790 - val_actual_accuracy: 0.8210\n",
      "Epoch 41/200\n",
      "1336/1335 [==============================] - 99s - loss: 0.0465 - actual_accuracy: 0.8829 - val_loss: 0.0781 - val_actual_accuracy: 0.8260\n",
      "Epoch 42/200\n",
      "1336/1335 [==============================] - 100s - loss: 0.0468 - actual_accuracy: 0.8822 - val_loss: 0.0798 - val_actual_accuracy: 0.8203\n",
      "Epoch 43/200\n",
      "1336/1335 [==============================] - 94s - loss: 0.0461 - actual_accuracy: 0.8850 - val_loss: 0.0787 - val_actual_accuracy: 0.8233- loss: 0.0463\n",
      "Epoch 44/200\n",
      "1336/1335 [==============================] - 87s - loss: 0.0458 - actual_accuracy: 0.8847 - val_loss: 0.0802 - val_actual_accuracy: 0.8216\n",
      "Epoch 45/200\n",
      "1336/1335 [==============================] - 108s - loss: 0.0462 - actual_accuracy: 0.8839 - val_loss: 0.0797 - val_actual_accuracy: 0.8210\n",
      "Epoch 46/200\n",
      "1336/1335 [==============================] - 98s - loss: 0.0451 - actual_accuracy: 0.8864 - val_loss: 0.0795 - val_actual_accuracy: 0.8251\n",
      "Epoch 47/200\n",
      "1336/1335 [==============================] - 105s - loss: 0.0467 - actual_accuracy: 0.8791 - val_loss: 0.0809 - val_actual_accuracy: 0.8185\n",
      "Epoch 48/200\n",
      "1336/1335 [==============================] - 107s - loss: 0.0451 - actual_accuracy: 0.8850 - val_loss: 0.0798 - val_actual_accuracy: 0.8208\n",
      "Epoch 49/200\n",
      "1336/1335 [==============================] - 99s - loss: 0.0446 - actual_accuracy: 0.8860 - val_loss: 0.0802 - val_actual_accuracy: 0.8243\n",
      "Epoch 50/200\n",
      "1336/1335 [==============================] - 109s - loss: 0.0447 - actual_accuracy: 0.8872 - val_loss: 0.0811 - val_actual_accuracy: 0.8210\n",
      "Epoch 51/200\n",
      "1336/1335 [==============================] - 100s - loss: 0.0452 - actual_accuracy: 0.8862 - val_loss: 0.0809 - val_actual_accuracy: 0.8207\n",
      "Epoch 52/200\n",
      "1336/1335 [==============================] - 104s - loss: 0.0450 - actual_accuracy: 0.8889 - val_loss: 0.0803 - val_actual_accuracy: 0.8215\n",
      "Epoch 53/200\n",
      "1336/1335 [==============================] - 98s - loss: 0.0450 - actual_accuracy: 0.8846 - val_loss: 0.0814 - val_actual_accuracy: 0.8196\n",
      "Epoch 54/200\n"
     ]
    },
    {
     "name": "stdout",
     "output_type": "stream",
     "text": [
      "1336/1335 [==============================] - 88s - loss: 0.0449 - actual_accuracy: 0.8857 - val_loss: 0.0788 - val_actual_accuracy: 0.8266\n",
      "Epoch 55/200\n",
      "1336/1335 [==============================] - 85s - loss: 0.0443 - actual_accuracy: 0.8897 - val_loss: 0.0819 - val_actual_accuracy: 0.8195\n",
      "Epoch 56/200\n",
      "1336/1335 [==============================] - 86s - loss: 0.0457 - actual_accuracy: 0.8847 - val_loss: 0.0816 - val_actual_accuracy: 0.8186\n",
      "Epoch 57/200\n",
      "1336/1335 [==============================] - 83s - loss: 0.0457 - actual_accuracy: 0.8857 - val_loss: 0.0786 - val_actual_accuracy: 0.8261\n",
      "Epoch 58/200\n",
      "1336/1335 [==============================] - 85s - loss: 0.0445 - actual_accuracy: 0.8875 - val_loss: 0.0789 - val_actual_accuracy: 0.8268\n",
      "Epoch 59/200\n",
      "1336/1335 [==============================] - 86s - loss: 0.0447 - actual_accuracy: 0.8874 - val_loss: 0.0800 - val_actual_accuracy: 0.8259\n",
      "Epoch 60/200\n",
      "1336/1335 [==============================] - 86s - loss: 0.0454 - actual_accuracy: 0.8871 - val_loss: 0.0789 - val_actual_accuracy: 0.8252\n",
      "Epoch 61/200\n",
      "1336/1335 [==============================] - 85s - loss: 0.0435 - actual_accuracy: 0.8923 - val_loss: 0.0800 - val_actual_accuracy: 0.8258\n",
      "Epoch 62/200\n",
      "1336/1335 [==============================] - 85s - loss: 0.0433 - actual_accuracy: 0.8908 - val_loss: 0.0810 - val_actual_accuracy: 0.8230\n",
      "Epoch 63/200\n",
      "1336/1335 [==============================] - 89s - loss: 0.0433 - actual_accuracy: 0.8922 - val_loss: 0.0802 - val_actual_accuracy: 0.8253\n",
      "Epoch 64/200\n",
      "1336/1335 [==============================] - 94s - loss: 0.0430 - actual_accuracy: 0.8930 - val_loss: 0.0810 - val_actual_accuracy: 0.8277\n",
      "Epoch 65/200\n",
      "1336/1335 [==============================] - 88s - loss: 0.0434 - actual_accuracy: 0.8926 - val_loss: 0.0793 - val_actual_accuracy: 0.8266\n",
      "Epoch 66/200\n",
      "1336/1335 [==============================] - 87s - loss: 0.0433 - actual_accuracy: 0.8911 - val_loss: 0.0795 - val_actual_accuracy: 0.8281\n",
      "Epoch 67/200\n",
      "1336/1335 [==============================] - 87s - loss: 0.0437 - actual_accuracy: 0.8917 - val_loss: 0.0823 - val_actual_accuracy: 0.8224\n",
      "Epoch 68/200\n",
      "1336/1335 [==============================] - 89s - loss: 0.0431 - actual_accuracy: 0.8922 - val_loss: 0.0826 - val_actual_accuracy: 0.8205\n",
      "Epoch 69/200\n",
      "1336/1335 [==============================] - 90s - loss: 0.0418 - actual_accuracy: 0.8953 - val_loss: 0.0827 - val_actual_accuracy: 0.8248\n",
      "Epoch 70/200\n",
      "1336/1335 [==============================] - 95s - loss: 0.0426 - actual_accuracy: 0.8936 - val_loss: 0.0815 - val_actual_accuracy: 0.8264\n",
      "Epoch 71/200\n",
      "1336/1335 [==============================] - 89s - loss: 0.0430 - actual_accuracy: 0.8924 - val_loss: 0.0799 - val_actual_accuracy: 0.8274\n",
      "Epoch 72/200\n",
      "1336/1335 [==============================] - 87s - loss: 0.0423 - actual_accuracy: 0.8937 - val_loss: 0.0803 - val_actual_accuracy: 0.8264\n",
      "Epoch 73/200\n",
      "1336/1335 [==============================] - 90s - loss: 0.0420 - actual_accuracy: 0.8975 - val_loss: 0.0824 - val_actual_accuracy: 0.8228\n",
      "Epoch 74/200\n",
      "1336/1335 [==============================] - 93s - loss: 0.0428 - actual_accuracy: 0.8921 - val_loss: 0.0801 - val_actual_accuracy: 0.8288\n",
      "Epoch 75/200\n",
      "1336/1335 [==============================] - 88s - loss: 0.0420 - actual_accuracy: 0.8953 - val_loss: 0.0836 - val_actual_accuracy: 0.8212\n",
      "Epoch 76/200\n",
      "1336/1335 [==============================] - 85s - loss: 0.0433 - actual_accuracy: 0.8909 - val_loss: 0.0803 - val_actual_accuracy: 0.8267\n",
      "Epoch 77/200\n",
      "1336/1335 [==============================] - 85s - loss: 0.0426 - actual_accuracy: 0.8935 - val_loss: 0.0801 - val_actual_accuracy: 0.8283\n",
      "Epoch 78/200\n",
      "1336/1335 [==============================] - 102s - loss: 0.0424 - actual_accuracy: 0.8926 - val_loss: 0.0798 - val_actual_accuracy: 0.8292\n",
      "Epoch 79/200\n",
      "1336/1335 [==============================] - 98s - loss: 0.0422 - actual_accuracy: 0.8939 - val_loss: 0.0828 - val_actual_accuracy: 0.8263\n",
      "Epoch 80/200\n",
      "1336/1335 [==============================] - 97s - loss: 0.0426 - actual_accuracy: 0.8904 - val_loss: 0.0807 - val_actual_accuracy: 0.8270\n",
      "Epoch 81/200\n",
      "1336/1335 [==============================] - 101s - loss: 0.0421 - actual_accuracy: 0.8951 - val_loss: 0.0819 - val_actual_accuracy: 0.8269\n",
      "Epoch 82/200\n",
      "1336/1335 [==============================] - 98s - loss: 0.0413 - actual_accuracy: 0.8964 - val_loss: 0.0848 - val_actual_accuracy: 0.8204\n",
      "Epoch 83/200\n",
      "1336/1335 [==============================] - 91s - loss: 0.0413 - actual_accuracy: 0.8983 - val_loss: 0.0807 - val_actual_accuracy: 0.8292\n",
      "Epoch 84/200\n",
      "1336/1335 [==============================] - 97s - loss: 0.0411 - actual_accuracy: 0.8960 - val_loss: 0.0807 - val_actual_accuracy: 0.8300\n",
      "Epoch 85/200\n",
      "1336/1335 [==============================] - 98s - loss: 0.0413 - actual_accuracy: 0.8973 - val_loss: 0.0811 - val_actual_accuracy: 0.8288\n",
      "Epoch 86/200\n",
      "1336/1335 [==============================] - 102s - loss: 0.0407 - actual_accuracy: 0.8963 - val_loss: 0.0824 - val_actual_accuracy: 0.8277\n",
      "Epoch 87/200\n",
      "1336/1335 [==============================] - 109s - loss: 0.0417 - actual_accuracy: 0.8946 - val_loss: 0.0819 - val_actual_accuracy: 0.8265\n",
      "Epoch 88/200\n",
      "1336/1335 [==============================] - 103s - loss: 0.0407 - actual_accuracy: 0.8969 - val_loss: 0.0837 - val_actual_accuracy: 0.8230\n",
      "Epoch 89/200\n",
      "1336/1335 [==============================] - 113s - loss: 0.0400 - actual_accuracy: 0.8973 - val_loss: 0.0836 - val_actual_accuracy: 0.8269\n",
      "Epoch 90/200\n",
      "1336/1335 [==============================] - 104s - loss: 0.0403 - actual_accuracy: 0.8965 - val_loss: 0.0830 - val_actual_accuracy: 0.8280\n",
      "Epoch 91/200\n",
      "1336/1335 [==============================] - 108s - loss: 0.0405 - actual_accuracy: 0.8977 - val_loss: 0.0820 - val_actual_accuracy: 0.8292\n",
      "Epoch 92/200\n",
      "1336/1335 [==============================] - 113s - loss: 0.0403 - actual_accuracy: 0.9014 - val_loss: 0.0822 - val_actual_accuracy: 0.8276\n",
      "Epoch 93/200\n",
      "1336/1335 [==============================] - 114s - loss: 0.0402 - actual_accuracy: 0.8987 - val_loss: 0.0827 - val_actual_accuracy: 0.8260\n",
      "Epoch 94/200\n",
      "1336/1335 [==============================] - 118s - loss: 0.0404 - actual_accuracy: 0.8990 - val_loss: 0.0806 - val_actual_accuracy: 0.8301\n",
      "Epoch 95/200\n",
      "1336/1335 [==============================] - 103s - loss: 0.0394 - actual_accuracy: 0.8980 - val_loss: 0.0827 - val_actual_accuracy: 0.8278\n",
      "Epoch 96/200\n",
      "1336/1335 [==============================] - 106s - loss: 0.0410 - actual_accuracy: 0.8976 - val_loss: 0.0832 - val_actual_accuracy: 0.8269\n",
      "Epoch 97/200\n",
      "1336/1335 [==============================] - 112s - loss: 0.0407 - actual_accuracy: 0.8972 - val_loss: 0.0803 - val_actual_accuracy: 0.8304\n",
      "Epoch 98/200\n",
      "1336/1335 [==============================] - 104s - loss: 0.0401 - actual_accuracy: 0.8976 - val_loss: 0.0799 - val_actual_accuracy: 0.8330\n",
      "Epoch 99/200\n",
      "1336/1335 [==============================] - 108s - loss: 0.0399 - actual_accuracy: 0.9014 - val_loss: 0.0824 - val_actual_accuracy: 0.8301\n",
      "Epoch 100/200\n",
      "1336/1335 [==============================] - 97s - loss: 0.0409 - actual_accuracy: 0.8977 - val_loss: 0.0814 - val_actual_accuracy: 0.8282\n",
      "Epoch 101/200\n",
      "1336/1335 [==============================] - 96s - loss: 0.0396 - actual_accuracy: 0.9011 - val_loss: 0.0818 - val_actual_accuracy: 0.8307\n",
      "Epoch 102/200\n",
      "1336/1335 [==============================] - 94s - loss: 0.0389 - actual_accuracy: 0.9002 - val_loss: 0.0845 - val_actual_accuracy: 0.8268\n",
      "Epoch 103/200\n",
      "1336/1335 [==============================] - 95s - loss: 0.0392 - actual_accuracy: 0.9020 - val_loss: 0.0841 - val_actual_accuracy: 0.8288\n",
      "Epoch 104/200\n",
      "1336/1335 [==============================] - 113s - loss: 0.0383 - actual_accuracy: 0.9035 - val_loss: 0.0827 - val_actual_accuracy: 0.8327\n",
      "Epoch 105/200\n",
      "1336/1335 [==============================] - 106s - loss: 0.0390 - actual_accuracy: 0.9012 - val_loss: 0.0828 - val_actual_accuracy: 0.8291\n",
      "Epoch 106/200\n",
      "1336/1335 [==============================] - 103s - loss: 0.0383 - actual_accuracy: 0.9041 - val_loss: 0.0833 - val_actual_accuracy: 0.8292\n",
      "Epoch 107/200\n"
     ]
    },
    {
     "name": "stdout",
     "output_type": "stream",
     "text": [
      "1336/1335 [==============================] - 104s - loss: 0.0398 - actual_accuracy: 0.8985 - val_loss: 0.0823 - val_actual_accuracy: 0.8299\n",
      "Epoch 108/200\n",
      "1336/1335 [==============================] - 84s - loss: 0.0382 - actual_accuracy: 0.9042 - val_loss: 0.0834 - val_actual_accuracy: 0.8279\n",
      "Epoch 109/200\n",
      "1336/1335 [==============================] - 87s - loss: 0.0378 - actual_accuracy: 0.9044 - val_loss: 0.0844 - val_actual_accuracy: 0.8303\n",
      "Epoch 110/200\n",
      "1336/1335 [==============================] - 85s - loss: 0.0380 - actual_accuracy: 0.9026 - val_loss: 0.0847 - val_actual_accuracy: 0.8280\n",
      "Epoch 111/200\n",
      "1336/1335 [==============================] - 85s - loss: 0.0386 - actual_accuracy: 0.9034 - val_loss: 0.0831 - val_actual_accuracy: 0.8302\n",
      "Epoch 112/200\n",
      "1336/1335 [==============================] - 87s - loss: 0.0376 - actual_accuracy: 0.9043 - val_loss: 0.0834 - val_actual_accuracy: 0.8280\n",
      "Epoch 113/200\n",
      "1336/1335 [==============================] - 84s - loss: 0.0379 - actual_accuracy: 0.9061 - val_loss: 0.0853 - val_actual_accuracy: 0.8270\n",
      "Epoch 114/200\n",
      "1336/1335 [==============================] - 94s - loss: 0.0383 - actual_accuracy: 0.9031 - val_loss: 0.0843 - val_actual_accuracy: 0.8284\n",
      "Epoch 115/200\n",
      "1336/1335 [==============================] - 90s - loss: 0.0370 - actual_accuracy: 0.9056 - val_loss: 0.0838 - val_actual_accuracy: 0.8310\n",
      "Epoch 116/200\n",
      "1336/1335 [==============================] - 86s - loss: 0.0386 - actual_accuracy: 0.9020 - val_loss: 0.0830 - val_actual_accuracy: 0.8295\n",
      "Epoch 117/200\n",
      "1336/1335 [==============================] - 98s - loss: 0.0387 - actual_accuracy: 0.9029 - val_loss: 0.0819 - val_actual_accuracy: 0.8317\n",
      "Epoch 118/200\n",
      "1336/1335 [==============================] - 95s - loss: 0.0379 - actual_accuracy: 0.9028 - val_loss: 0.0814 - val_actual_accuracy: 0.8333\n",
      "Epoch 119/200\n",
      "1336/1335 [==============================] - 86s - loss: 0.0384 - actual_accuracy: 0.9061 - val_loss: 0.0831 - val_actual_accuracy: 0.8318\n",
      "Epoch 120/200\n",
      "1336/1335 [==============================] - 90s - loss: 0.0383 - actual_accuracy: 0.9029 - val_loss: 0.0818 - val_actual_accuracy: 0.8308\n",
      "Epoch 121/200\n",
      "1336/1335 [==============================] - 87s - loss: 0.0375 - actual_accuracy: 0.9075 - val_loss: 0.0837 - val_actual_accuracy: 0.8320\n",
      "Epoch 122/200\n",
      "1336/1335 [==============================] - 86s - loss: 0.0371 - actual_accuracy: 0.9057 - val_loss: 0.0868 - val_actual_accuracy: 0.8262\n",
      "Epoch 123/200\n",
      "1336/1335 [==============================] - 87s - loss: 0.0373 - actual_accuracy: 0.9065 - val_loss: 0.0840 - val_actual_accuracy: 0.8317\n",
      "Epoch 124/200\n",
      "1336/1335 [==============================] - 85s - loss: 0.0365 - actual_accuracy: 0.9078 - val_loss: 0.0835 - val_actual_accuracy: 0.8341\n",
      "Epoch 125/200\n",
      "1336/1335 [==============================] - 88s - loss: 0.0372 - actual_accuracy: 0.9068 - val_loss: 0.0847 - val_actual_accuracy: 0.8328\n",
      "Epoch 126/200\n",
      "1336/1335 [==============================] - 90s - loss: 0.0367 - actual_accuracy: 0.9055 - val_loss: 0.0847 - val_actual_accuracy: 0.8320\n",
      "Epoch 127/200\n",
      "1336/1335 [==============================] - 91s - loss: 0.0383 - actual_accuracy: 0.9039 - val_loss: 0.0845 - val_actual_accuracy: 0.8302\n",
      "Epoch 128/200\n",
      "1336/1335 [==============================] - 88s - loss: 0.0366 - actual_accuracy: 0.9086 - val_loss: 0.0855 - val_actual_accuracy: 0.8292\n",
      "Epoch 129/200\n",
      "1336/1335 [==============================] - 88s - loss: 0.0354 - actual_accuracy: 0.9103 - val_loss: 0.0837 - val_actual_accuracy: 0.8337\n",
      "Epoch 130/200\n",
      "1336/1335 [==============================] - 91s - loss: 0.0363 - actual_accuracy: 0.9075 - val_loss: 0.0855 - val_actual_accuracy: 0.8317\n",
      "Epoch 131/200\n",
      "1336/1335 [==============================] - 92s - loss: 0.0368 - actual_accuracy: 0.9086 - val_loss: 0.0840 - val_actual_accuracy: 0.8318\n",
      "Epoch 132/200\n",
      "1336/1335 [==============================] - 87s - loss: 0.0358 - actual_accuracy: 0.9109 - val_loss: 0.0843 - val_actual_accuracy: 0.8322\n",
      "Epoch 133/200\n",
      "1336/1335 [==============================] - 88s - loss: 0.0359 - actual_accuracy: 0.9099 - val_loss: 0.0860 - val_actual_accuracy: 0.8317\n",
      "Epoch 134/200\n",
      "1336/1335 [==============================] - 89s - loss: 0.0360 - actual_accuracy: 0.9094 - val_loss: 0.0848 - val_actual_accuracy: 0.8315\n",
      "Epoch 135/200\n",
      "1336/1335 [==============================] - 86s - loss: 0.0355 - actual_accuracy: 0.9112 - val_loss: 0.0846 - val_actual_accuracy: 0.8347\n",
      "Epoch 136/200\n",
      "1336/1335 [==============================] - 92s - loss: 0.0366 - actual_accuracy: 0.9068 - val_loss: 0.0836 - val_actual_accuracy: 0.8320\n",
      "Epoch 137/200\n",
      "1336/1335 [==============================] - 95s - loss: 0.0360 - actual_accuracy: 0.9098 - val_loss: 0.0852 - val_actual_accuracy: 0.8339\n",
      "Epoch 138/200\n",
      "1336/1335 [==============================] - 93s - loss: 0.0356 - actual_accuracy: 0.9101 - val_loss: 0.0828 - val_actual_accuracy: 0.8354\n",
      "Epoch 139/200\n",
      "1336/1335 [==============================] - 93s - loss: 0.0360 - actual_accuracy: 0.9090 - val_loss: 0.0854 - val_actual_accuracy: 0.8342\n",
      "Epoch 140/200\n",
      "1336/1335 [==============================] - 91s - loss: 0.0370 - actual_accuracy: 0.9086 - val_loss: 0.0827 - val_actual_accuracy: 0.8317\n",
      "Epoch 141/200\n",
      "1336/1335 [==============================] - 97s - loss: 0.0359 - actual_accuracy: 0.9096 - val_loss: 0.0841 - val_actual_accuracy: 0.8345\n",
      "Epoch 142/200\n",
      "1336/1335 [==============================] - 93s - loss: 0.0348 - actual_accuracy: 0.9115 - val_loss: 0.0873 - val_actual_accuracy: 0.8319\n",
      "Epoch 143/200\n",
      "1336/1335 [==============================] - 95s - loss: 0.0349 - actual_accuracy: 0.9131 - val_loss: 0.0869 - val_actual_accuracy: 0.8306\n",
      "Epoch 144/200\n",
      "1336/1335 [==============================] - 99s - loss: 0.0348 - actual_accuracy: 0.9125 - val_loss: 0.0844 - val_actual_accuracy: 0.8362\n",
      "Epoch 145/200\n",
      "1336/1335 [==============================] - 99s - loss: 0.0356 - actual_accuracy: 0.9088 - val_loss: 0.0841 - val_actual_accuracy: 0.8343\n",
      "Epoch 146/200\n",
      "1336/1335 [==============================] - 91s - loss: 0.0342 - actual_accuracy: 0.9131 - val_loss: 0.0864 - val_actual_accuracy: 0.8323\n",
      "Epoch 147/200\n",
      "1336/1335 [==============================] - 96s - loss: 0.0357 - actual_accuracy: 0.9088 - val_loss: 0.0868 - val_actual_accuracy: 0.8321\n",
      "Epoch 148/200\n",
      "1336/1335 [==============================] - 91s - loss: 0.0344 - actual_accuracy: 0.9133 - val_loss: 0.0863 - val_actual_accuracy: 0.8323\n",
      "Epoch 149/200\n",
      "1336/1335 [==============================] - 92s - loss: 0.0338 - actual_accuracy: 0.9128 - val_loss: 0.0857 - val_actual_accuracy: 0.8333\n",
      "Epoch 150/200\n",
      "1336/1335 [==============================] - 91s - loss: 0.0347 - actual_accuracy: 0.9114 - val_loss: 0.0870 - val_actual_accuracy: 0.8319\n",
      "Epoch 151/200\n",
      "1336/1335 [==============================] - 89s - loss: 0.0346 - actual_accuracy: 0.9138 - val_loss: 0.0835 - val_actual_accuracy: 0.8372\n",
      "Epoch 152/200\n",
      "1336/1335 [==============================] - 94s - loss: 0.0338 - actual_accuracy: 0.9145 - val_loss: 0.0850 - val_actual_accuracy: 0.8344\n",
      "Epoch 153/200\n",
      "1336/1335 [==============================] - 88s - loss: 0.0338 - actual_accuracy: 0.9162 - val_loss: 0.0859 - val_actual_accuracy: 0.8345\n",
      "Epoch 154/200\n",
      "1336/1335 [==============================] - 93s - loss: 0.0343 - actual_accuracy: 0.9144 - val_loss: 0.0865 - val_actual_accuracy: 0.8332\n",
      "Epoch 155/200\n",
      "1336/1335 [==============================] - 91s - loss: 0.0331 - actual_accuracy: 0.9160 - val_loss: 0.0850 - val_actual_accuracy: 0.8363\n",
      "Epoch 156/200\n",
      "1336/1335 [==============================] - 84s - loss: 0.0353 - actual_accuracy: 0.9077 - val_loss: 0.0850 - val_actual_accuracy: 0.8336\n",
      "Epoch 157/200\n",
      "1336/1335 [==============================] - 87s - loss: 0.0347 - actual_accuracy: 0.9126 - val_loss: 0.0842 - val_actual_accuracy: 0.8352\n",
      "Epoch 158/200\n",
      "1336/1335 [==============================] - 89s - loss: 0.0341 - actual_accuracy: 0.9142 - val_loss: 0.0839 - val_actual_accuracy: 0.8358\n",
      "Epoch 159/200\n",
      "1336/1335 [==============================] - 87s - loss: 0.0343 - actual_accuracy: 0.9150 - val_loss: 0.0863 - val_actual_accuracy: 0.8349\n",
      "Epoch 160/200\n"
     ]
    },
    {
     "name": "stdout",
     "output_type": "stream",
     "text": [
      "1336/1335 [==============================] - 85s - loss: 0.0343 - actual_accuracy: 0.9131 - val_loss: 0.0836 - val_actual_accuracy: 0.8344\n",
      "Epoch 161/200\n",
      "1336/1335 [==============================] - 86s - loss: 0.0335 - actual_accuracy: 0.9168 - val_loss: 0.0856 - val_actual_accuracy: 0.8338\n",
      "Epoch 162/200\n",
      "1336/1335 [==============================] - 85s - loss: 0.0339 - actual_accuracy: 0.9137 - val_loss: 0.0860 - val_actual_accuracy: 0.8365\n",
      "Epoch 163/200\n",
      "1336/1335 [==============================] - 88s - loss: 0.0337 - actual_accuracy: 0.9146 - val_loss: 0.0871 - val_actual_accuracy: 0.8339\n",
      "Epoch 164/200\n",
      "1336/1335 [==============================] - 86s - loss: 0.0328 - actual_accuracy: 0.9159 - val_loss: 0.0853 - val_actual_accuracy: 0.8373\n",
      "Epoch 165/200\n",
      "1336/1335 [==============================] - 87s - loss: 0.0336 - actual_accuracy: 0.9161 - val_loss: 0.0860 - val_actual_accuracy: 0.8365\n",
      "Epoch 166/200\n",
      "1336/1335 [==============================] - 90s - loss: 0.0328 - actual_accuracy: 0.9157 - val_loss: 0.0915 - val_actual_accuracy: 0.8302\n",
      "Epoch 167/200\n",
      "1336/1335 [==============================] - 88s - loss: 0.0344 - actual_accuracy: 0.9136 - val_loss: 0.0860 - val_actual_accuracy: 0.8369\n",
      "Epoch 168/200\n",
      "1336/1335 [==============================] - 86s - loss: 0.0333 - actual_accuracy: 0.9163 - val_loss: 0.0884 - val_actual_accuracy: 0.8344\n",
      "Epoch 169/200\n",
      "1336/1335 [==============================] - 91s - loss: 0.0323 - actual_accuracy: 0.9185 - val_loss: 0.0864 - val_actual_accuracy: 0.8355\n",
      "Epoch 170/200\n",
      "1336/1335 [==============================] - 88s - loss: 0.0329 - actual_accuracy: 0.9157 - val_loss: 0.0879 - val_actual_accuracy: 0.8335\n",
      "Epoch 171/200\n",
      "1336/1335 [==============================] - 92s - loss: 0.0325 - actual_accuracy: 0.9165 - val_loss: 0.0861 - val_actual_accuracy: 0.8365\n",
      "Epoch 172/200\n",
      "1336/1335 [==============================] - 90s - loss: 0.0319 - actual_accuracy: 0.9210 - val_loss: 0.0881 - val_actual_accuracy: 0.8340\n",
      "Epoch 173/200\n",
      "1336/1335 [==============================] - 85s - loss: 0.0323 - actual_accuracy: 0.9199 - val_loss: 0.0879 - val_actual_accuracy: 0.8366\n",
      "Epoch 174/200\n",
      "1336/1335 [==============================] - 88s - loss: 0.0330 - actual_accuracy: 0.9161 - val_loss: 0.0893 - val_actual_accuracy: 0.8331\n",
      "Epoch 175/200\n",
      "1336/1335 [==============================] - 91s - loss: 0.0319 - actual_accuracy: 0.9202 - val_loss: 0.0858 - val_actual_accuracy: 0.8371\n",
      "Epoch 176/200\n",
      "1336/1335 [==============================] - 88s - loss: 0.0335 - actual_accuracy: 0.9145 - val_loss: 0.0853 - val_actual_accuracy: 0.8370\n",
      "Epoch 177/200\n",
      "1336/1335 [==============================] - 90s - loss: 0.0324 - actual_accuracy: 0.9191 - val_loss: 0.0865 - val_actual_accuracy: 0.8370\n",
      "Epoch 178/200\n",
      "1336/1335 [==============================] - 91s - loss: 0.0317 - actual_accuracy: 0.9219 - val_loss: 0.0880 - val_actual_accuracy: 0.8369\n",
      "Epoch 179/200\n",
      "1336/1335 [==============================] - 89s - loss: 0.0328 - actual_accuracy: 0.9197 - val_loss: 0.0870 - val_actual_accuracy: 0.8387\n",
      "Epoch 180/200\n",
      "1336/1335 [==============================] - 92s - loss: 0.0327 - actual_accuracy: 0.9191 - val_loss: 0.0851 - val_actual_accuracy: 0.8354\n",
      "Epoch 181/200\n",
      "1336/1335 [==============================] - 88s - loss: 0.0321 - actual_accuracy: 0.9180 - val_loss: 0.0903 - val_actual_accuracy: 0.8307\n",
      "Epoch 182/200\n",
      "1336/1335 [==============================] - 101s - loss: 0.0309 - actual_accuracy: 0.9220 - val_loss: 0.0879 - val_actual_accuracy: 0.8365\n",
      "Epoch 183/200\n",
      "1336/1335 [==============================] - 94s - loss: 0.0319 - actual_accuracy: 0.9191 - val_loss: 0.0916 - val_actual_accuracy: 0.8310\n",
      "Epoch 184/200\n",
      "1336/1335 [==============================] - 99s - loss: 0.0314 - actual_accuracy: 0.9206 - val_loss: 0.0861 - val_actual_accuracy: 0.8374\n",
      "Epoch 185/200\n",
      "1336/1335 [==============================] - 92s - loss: 0.0317 - actual_accuracy: 0.9209 - val_loss: 0.0873 - val_actual_accuracy: 0.8384\n",
      "Epoch 186/200\n",
      "1336/1335 [==============================] - 93s - loss: 0.0306 - actual_accuracy: 0.9215 - val_loss: 0.0921 - val_actual_accuracy: 0.8310\n",
      "Epoch 187/200\n",
      "1336/1335 [==============================] - 100s - loss: 0.0323 - actual_accuracy: 0.9164 - val_loss: 0.0867 - val_actual_accuracy: 0.8382\n",
      "Epoch 188/200\n",
      "1336/1335 [==============================] - 92s - loss: 0.0313 - actual_accuracy: 0.9210 - val_loss: 0.0895 - val_actual_accuracy: 0.8350\n",
      "Epoch 189/200\n",
      "1336/1335 [==============================] - 96s - loss: 0.0305 - actual_accuracy: 0.9229 - val_loss: 0.0886 - val_actual_accuracy: 0.8355\n",
      "Epoch 190/200\n",
      "1336/1335 [==============================] - 85s - loss: 0.0311 - actual_accuracy: 0.9195 - val_loss: 0.0889 - val_actual_accuracy: 0.8338\n",
      "Epoch 191/200\n",
      "1336/1335 [==============================] - 90s - loss: 0.0308 - actual_accuracy: 0.9198 - val_loss: 0.0857 - val_actual_accuracy: 0.8389\n",
      "Epoch 192/200\n",
      "1336/1335 [==============================] - 94s - loss: 0.0309 - actual_accuracy: 0.9232 - val_loss: 0.0874 - val_actual_accuracy: 0.8364ss: \n",
      "Epoch 193/200\n",
      "1336/1335 [==============================] - 93s - loss: 0.0307 - actual_accuracy: 0.9252 - val_loss: 0.0894 - val_actual_accuracy: 0.8369\n",
      "Epoch 194/200\n",
      "1336/1335 [==============================] - 92s - loss: 0.0309 - actual_accuracy: 0.9222 - val_loss: 0.0894 - val_actual_accuracy: 0.8354\n",
      "Epoch 195/200\n",
      "1336/1335 [==============================] - 90s - loss: 0.0302 - actual_accuracy: 0.9215 - val_loss: 0.0893 - val_actual_accuracy: 0.8363\n",
      "Epoch 196/200\n",
      "1336/1335 [==============================] - 91s - loss: 0.0311 - actual_accuracy: 0.9210 - val_loss: 0.0879 - val_actual_accuracy: 0.8374\n",
      "Epoch 197/200\n",
      "1336/1335 [==============================] - 89s - loss: 0.0315 - actual_accuracy: 0.9217 - val_loss: 0.0872 - val_actual_accuracy: 0.8370\n",
      "Epoch 198/200\n",
      "1336/1335 [==============================] - 93s - loss: 0.0303 - actual_accuracy: 0.9235 - val_loss: 0.0881 - val_actual_accuracy: 0.8375\n",
      "Epoch 199/200\n",
      "1336/1335 [==============================] - 90s - loss: 0.0310 - actual_accuracy: 0.9232 - val_loss: 0.0893 - val_actual_accuracy: 0.8351\n",
      "Epoch 200/200\n",
      "1336/1335 [==============================] - 93s - loss: 0.0312 - actual_accuracy: 0.9198 - val_loss: 0.0873 - val_actual_accuracy: 0.8350\n"
     ]
    }
   ],
   "source": [
    "history = model.fit_generator(generate_fake_epoch(X_train, X_other_features_train, y_train, batch_size), X_train.shape[0]/(batch_size * num_fake_epoch), epochs=actual_epoch*num_fake_epoch, validation_data=([X_validate, X_other_features_validate], y_validate))\n",
    "\n",
    "# model.fit([X_train, X_other_features_train], y_train, validation_data=([X_validate, X_other_features_validate], y_validate), epochs=1, batch_size=16)"
   ]
  },
  {
   "cell_type": "code",
   "execution_count": 38,
   "metadata": {
    "collapsed": true
   },
   "outputs": [],
   "source": [
    "name = '10-20_epoch'\n",
    "model.save(name + '.h5')\n",
    "output = open(name + '_history.pkl', 'wb')\n",
    "pickle.dump(history.history, output)\n",
    "output.close()"
   ]
  },
  {
   "cell_type": "code",
   "execution_count": 39,
   "metadata": {},
   "outputs": [
    {
     "data": {
      "image/png": "[encoded data removed]",
      "text/plain": [
       "<matplotlib.figure.Figure at 0x7f22db1fdc18>"
      ]
     },
     "metadata": {},
     "output_type": "display_data"
    },
    {
     "data": {
      "image/png": "[encoded data removed]",
      "text/plain": [
       "<matplotlib.figure.Figure at 0x7f22dbe6eda0>"
      ]
     },
     "metadata": {},
     "output_type": "display_data"
    }
   ],
   "source": [
    "import matplotlib.pyplot as plt\n",
    "plt.plot(history.history['actual_accuracy'])\n",
    "plt.plot(history.history['val_actual_accuracy'])\n",
    "plt.title('model accuracy')\n",
    "plt.ylabel('accuracy')\n",
    "plt.xlabel('epoch')\n",
    "plt.legend(['train', 'test'], loc='upper left')\n",
    "plt.show()\n",
    "# summarize history for loss\n",
    "plt.plot(history.history['loss'])\n",
    "plt.plot(history.history['val_loss'])\n",
    "plt.title('model loss')\n",
    "plt.ylabel('loss')\n",
    "plt.xlabel('epoch')\n",
    "plt.legend(['train', 'test'], loc='upper left')\n",
    "plt.show()"
   ]
  },
  {
   "cell_type": "code",
   "execution_count": 25,
   "metadata": {
    "collapsed": true
   },
   "outputs": [],
   "source": [
    "model = load_model('test.h5')"
   ]
  },
  {
   "cell_type": "code",
   "execution_count": 6,
   "metadata": {},
   "outputs": [
    {
     "ename": "NameError",
     "evalue": "name 'h5f' is not defined",
     "output_type": "error",
     "traceback": [
      "\u001b[1;31m---------------------------------------------------------------------------\u001b[0m",
      "\u001b[1;31mNameError\u001b[0m                                 Traceback (most recent call last)",
      "\u001b[1;32m<ipython-input-6-e361f7023d53>\u001b[0m in \u001b[0;36m<module>\u001b[1;34m()\u001b[0m\n\u001b[1;32m----> 1\u001b[1;33m \u001b[0mh5f\u001b[0m\u001b[1;33m.\u001b[0m\u001b[0mclose\u001b[0m\u001b[1;33m(\u001b[0m\u001b[1;33m)\u001b[0m\u001b[1;33m\u001b[0m\u001b[0m\n\u001b[0m",
      "\u001b[1;31mNameError\u001b[0m: name 'h5f' is not defined"
     ]
    }
   ],
   "source": [
    "h5f.close()"
   ]
  },
  {
   "cell_type": "code",
   "execution_count": 67,
   "metadata": {},
   "outputs": [
    {
     "name": "stdout",
     "output_type": "stream",
     "text": [
      "108736/108961 [============================>.] - ETA: 0s\n",
      "acc: 96.57%\n"
     ]
    }
   ],
   "source": [
    "# evaluate the model\n",
    "scores = model.evaluate([X_validate, X_other_features_validate], y_validate)\n",
    "print(\"\\n%s: %.2f%%\" % (model.metrics_names[1], scores[1]*100))"
   ]
  },
  {
   "cell_type": "code",
   "execution_count": 187,
   "metadata": {},
   "outputs": [
    {
     "name": "stdout",
     "output_type": "stream",
     "text": [
      "nerazloènejši\n",
      "[ 0.  1.  0.  1.  0.  0.  0.  0.  0.  0.  0.]\n",
      "[ 0.  1.  0.  1.  0.  0.  0.  0.  0.  0.  0.]\n",
      "1.0\n",
      "1.0\n",
      "Elemwise{Cast{float32}}.0\n"
     ]
    }
   ],
   "source": [
    "pos = 0\n",
    "print(decode_input(X_validate[pos], dictionary))\n",
    "# predictions = model.predict([X_validate, X_other_features_validate])\n",
    "predictions2 = model.predict([X_validate[pos:pos+1], X_other_features_validate[pos:pos+1]])\n",
    "# print(predictions2)\n",
    "print(np.round(predictions2)[0])\n",
    "# predictions = np.round(predictions)\n",
    "print(y_validate[pos])\n",
    "# accuracy = sum([1 if np.all(y_validate[i] == predictions[i]) else 0 for i in range(X_validate.shape[0])])/float(X_validate.shape[0])\n",
    "# print(accuracy)\n",
    "\n",
    "\n",
    "import keras.backend as K\n",
    "\n",
    "def act_accuracy(y_true, y_pred):\n",
    "    return K.mean(K.equal(K.mean(K.equal(K.round(y_true), K.round(y_pred)), axis=-1), 1.0))\n",
    "\n",
    "\n",
    "def mean_pred2(y_true, y_pred):\n",
    "    return K.mean(K.equal(K.argmax(y_true, axis=-1), K.argmax(y_pred, axis=-1)))\n",
    "#     return K.mean(K.all(K.equal(y_true, y_pred), axis=-1))\n",
    "#     return K.equal(K.round(y_true), K.round(y_pred))\n",
    "\n",
    "print(mean_pred(y_validate[pos], predictions[pos]).eval())\n",
    "print(mean_pred(np.array([[ 0.,  1.,  0.,  1.,  0.,  0.,  0.,  0.,  0.,  0.,  0.],\n",
    "                          [ 0.,  1.,  0.,  1.,  0.,  0.,  0.,  0.,  0.,  0.,  0.]]), \n",
    "                np.array([[ 0.,  0.51,  0.,  0.51,  0.,  0.,  0.,  0.,  0.,  0.,  0.],\n",
    "                          [ 0.,  0.92,  0.,  0.51,  0.,  0.,  0.,  0.,  0.,  0.,  0.]])).eval())\n",
    "# print(mean_pred(y_validate[pos], predictions[pos]))\n",
    "# print(mean_pred2(y_validate[pos], predictions[pos]))\n",
    "print(metrics.categorical_accuracy(y_validate[pos], predictions[pos]))"
   ]
  },
  {
   "cell_type": "code",
   "execution_count": null,
   "metadata": {
    "collapsed": true
   },
   "outputs": [],
   "source": [
    "predictions = model.predict(X[429145:])"
   ]
  },
  {
   "cell_type": "code",
   "execution_count": 21,
   "metadata": {},
   "outputs": [
    {
     "data": {
      "text/plain": [
       "[1, 0]"
      ]
     },
     "execution_count": 21,
     "metadata": {},
     "output_type": "execute_result"
    }
   ],
   "source": [
    "decode_position(predictions[0], max_num_vowels)"
   ]
  },
  {
   "cell_type": "code",
   "execution_count": 23,
   "metadata": {},
   "outputs": [
    {
     "name": "stdout",
     "output_type": "stream",
     "text": [
      "READING CONTENT...\n",
      "CONTENT READ SUCCESSFULY\n",
      "CREATING DICTIONARY...\n",
      "DICTIONARY CREATION SUCCESSFUL!\n",
      "107287\n",
      "96.5186835311\n"
     ]
    }
   ],
   "source": [
    "def test_accuracy(predictions, y):\n",
    "    dictionary, max_word, max_num_vowels, content, vowels, accetuated_vowels = create_dict()\n",
    "    num_of_pred = len(predictions)\n",
    "    num_of_correct_pred = 0\n",
    "    for i in range(predictions.shape[0]):\n",
    "        if decode_position(predictions[i], max_num_vowels) == decode_position(y[i], max_num_vowels):\n",
    "            num_of_correct_pred += 1\n",
    "\n",
    "    return (num_of_correct_pred/float(num_of_pred)) * 100\n",
    "\n",
    "\n",
    "print(test_accuracy(predictions, y[429145:]))"
   ]
  },
  {
   "cell_type": "code",
   "execution_count": 17,
   "metadata": {},
   "outputs": [
    {
     "data": {
      "text/plain": [
       "(107287, 121)"
      ]
     },
     "execution_count": 17,
     "metadata": {},
     "output_type": "execute_result"
    }
   ],
   "source": [
    "predictions.shape"
   ]
  },
  {
   "cell_type": "code",
   "execution_count": 12,
   "metadata": {},
   "outputs": [
    {
     "name": "stdout",
     "output_type": "stream",
     "text": [
      "11\n"
     ]
    }
   ],
   "source": [
    "print max_num_vowels"
   ]
  },
  {
   "cell_type": "code",
   "execution_count": 31,
   "metadata": {},
   "outputs": [
    {
     "name": "stdout",
     "output_type": "stream",
     "text": [
      "READING CONTENT...\n",
      "CONTENT READ SUCCESSFULY\n",
      "CREATING DICTIONARY...\n",
      "DICTIONARY CREATION SUCCESSFUL!\n"
     ]
    }
   ],
   "source": [
    "dictionary, max_word, max_num_vowels, content, vowels, accetuated_vowels = create_dict()\n",
    "feature_dictionary = create_feature_dictionary(content)\n",
    "def generate_input_from_word(word, max_word, dictionary):\n",
    "    x = np.zeros((max_word, len(dictionary)))\n",
    "    j = 0\n",
    "    for c in list(word):\n",
    "        index = 0\n",
    "        for d in dictionary:\n",
    "            if c == d:\n",
    "                x[j, index] = 1\n",
    "                break\n",
    "            index += 1\n",
    "        j += 1\n",
    "    return x\n",
    "\n",
    "# model = load_model()\n",
    "# prediction = predict(model, generate_input_from_word('hidrija'))\n",
    "# print decode_position(prediction[0])"
   ]
  },
  {
   "cell_type": "code",
   "execution_count": 190,
   "metadata": {
    "collapsed": true
   },
   "outputs": [],
   "source": [
    "%run ../../../prepare_data.py\n",
    "# generate_X_and_y(dictionary, max_word, max_num_vowels, content, vowels, accetuated_vowels, feature_dictionary)"
   ]
  }
 ],
 "metadata": {
  "kernelspec": {
   "display_name": "Python 3",
   "language": "python",
   "name": "python3"
  },
  "language_info": {
   "codemirror_mode": {
    "name": "ipython",
    "version": 3
   },
   "file_extension": ".py",
   "mimetype": "text/x-python",
   "name": "python",
   "nbconvert_exporter": "python",
   "pygments_lexer": "ipython3",
   "version": "3.5.2"
  }
 },
 "nbformat": 4,
 "nbformat_minor": 1
}
