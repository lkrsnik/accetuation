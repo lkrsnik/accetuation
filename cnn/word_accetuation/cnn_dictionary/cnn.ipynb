{
 "cells": [
  {
   "cell_type": "code",
   "execution_count": 1,
   "metadata": {},
   "outputs": [
    {
     "name": "stderr",
     "output_type": "stream",
     "text": [
      "Using Theano backend.\n"
     ]
    }
   ],
   "source": [
    "# -*- coding: utf-8 -*-\n",
    "from __future__ import unicode_literals\n",
    "# text in Western (Windows 1252)\n",
    "\n",
    "import pickle\n",
    "import numpy as np\n",
    "# import StringIO\n",
    "import math\n",
    "from keras import optimizers, metrics\n",
    "from keras.models import Model\n",
    "from keras.layers import Dense, Dropout, Input\n",
    "from keras.layers.merge import concatenate\n",
    "from keras import regularizers\n",
    "from keras.layers.convolutional import Conv1D\n",
    "from keras.layers.convolutional import MaxPooling1D\n",
    "from keras.constraints import maxnorm\n",
    "from keras.layers import Flatten\n",
    "from keras.optimizers import SGD\n",
    "from keras.models import load_model\n",
    "# from keras import backend as Input\n",
    "np.random.seed(7)"
   ]
  },
  {
   "cell_type": "code",
   "execution_count": 2,
   "metadata": {
    "collapsed": true
   },
   "outputs": [],
   "source": [
    "# %run ../../../prepare_data.py\n",
    "\n",
    "import sys\n",
    "sys.path.insert(0, '../../../')\n",
    "from prepare_data import *"
   ]
  },
  {
   "cell_type": "code",
   "execution_count": 5,
   "metadata": {},
   "outputs": [
    {
     "name": "stdout",
     "output_type": "stream",
     "text": [
      "READING CONTENT...\n",
      "CONTENT READ SUCCESSFULLY\n",
      "CREATING DICTIONARY...\n",
      "DICTIONARY CREATION SUCCESSFUL!\n",
      "GENERATING X AND y...\n",
      "CREATING OTHER FEATURES...\n",
      "OTHER FEATURES CREATED!\n",
      "SHUFFELING INPUTS...\n",
      "INPUTS SHUFFELED!\n",
      "CREATING OTHER FEATURES...\n",
      "OTHER FEATURES CREATED!\n",
      "SHUFFELING INPUTS...\n",
      "INPUTS SHUFFELED!\n",
      "CREATING OTHER FEATURES...\n",
      "OTHER FEATURES CREATED!\n",
      "SHUFFELING INPUTS...\n",
      "INPUTS SHUFFELED!\n",
      "GENERATION SUCCESSFUL!\n"
     ]
    }
   ],
   "source": [
    "# %run ../../../prepare_data.py\n",
    "# X_train, X_other_features_train, y_train, X_test, X_other_features_test, y_test, X_validate, X_other_features_validate, y_validate = generate_full_matrix_inputs('../../internal_representations/inputs/content_shuffle_vector.h5', '../../internal_representations/inputs/shuffle_vector')\n",
    "# save_inputs('../../internal_representations/inputs/shuffled_letters_train.h5', X_train, y_train, other_features = X_other_features_train)\n",
    "# save_inputs('../../internal_representations/inputs/shuffled_letters_test.h5', X_test, y_test, other_features = X_other_features_test)\n",
    "# save_inputs('../../internal_representations/inputs/shuffled_letters_validate.h5', X_validate, y_validate,  other_features = X_other_features_validate)\n",
    "# X_train, X_other_features_train, y_train = load_inputs('../../internal_representations/inputs/shuffled_letters_train.h5', other_features=True)\n",
    "# X_test, X_other_features_test, y_test = load_inputs('../../internal_representations/inputs/shuffled_letters_test.h5', other_features=True)\n",
    "# X_validate, X_other_features_validate, y_validate = load_inputs('../../internal_representations/inputs/shuffled_letters_validate.h5', other_features=True)\n",
    "\n",
    "data = Data('l')\n",
    "data.generate_data('shuffled_letters_reversed_train',\n",
    "                   'shuffled_letters_reversed_test',\n",
    "                   'shuffled_letters_reversed_validate')"
   ]
  },
  {
   "cell_type": "code",
   "execution_count": 21,
   "metadata": {},
   "outputs": [
    {
     "name": "stdout",
     "output_type": "stream",
     "text": [
      "(430151, 23, 36)\n",
      "(52058, 23, 36)\n",
      "(54222, 23, 36)\n",
      "amejnavejob\n",
      "Ncndi-\n",
      "Ncndi-\n",
      "[3]\n"
     ]
    }
   ],
   "source": [
    "# print (X_train.shape)\n",
    "# print (X_test.shape)\n",
    "# print (X_validate.shape)\n",
    "pos = 7\n",
    "# print (decode_input(X_train[pos], dictionary))\n",
    "# print (decode_X_features(feature_dictionary, [X_other_features_train[pos]]))\n",
    "# print(decode_position(y_train[pos]))\n",
    "# print('------------------------------------')\n",
    "print (data.x_train.shape)\n",
    "print (data.x_test.shape)\n",
    "print (data.x_validate.shape)\n",
    "# pos = 2\n",
    "print (data.decode_x(data.x_train[pos], dictionary))\n",
    "print (data.decode_x_other_features(feature_dictionary, [data.x_other_features_train[pos]]))\n",
    "print(data.decode_y(data.y_train[pos]))"
   ]
  },
  {
   "cell_type": "code",
   "execution_count": 22,
   "metadata": {
    "collapsed": true
   },
   "outputs": [],
   "source": [
    "num_examples = len(data.x_train) # training set size\n",
    "nn_output_dim = 11\n",
    "nn_hdim = 516\n",
    "batch_size = 16\n",
    "actual_epoch = 1\n",
    "num_fake_epoch = 20\n",
    "\n",
    "\n",
    "\n",
    "\n",
    "conv_input_shape=(23, 36)\n",
    "othr_input = (140, )\n",
    "\n",
    "conv_input = Input(shape=conv_input_shape, name='conv_input')\n",
    "x_conv = Conv1D(69, (3), padding='same', activation='relu')(conv_input)\n",
    "x_conv = Conv1D(43, (3), padding='same', activation='relu')(x_conv)\n",
    "x_conv = MaxPooling1D(pool_size=2)(x_conv)\n",
    "x_conv = Flatten()(x_conv)\n",
    "# x_conv = Dense(516, activation='relu', kernel_constraint=maxnorm(3))(x_conv)\n",
    "\n",
    "othr_input = Input(shape=othr_input, name='othr_input')\n",
    "# x_othr = Dense(256, input_dim=167, activation='relu')(othr_input)\n",
    "# x_othr = Dropout(0.3)(x_othr)\n",
    "# x_othr = Dense(512, activation='relu')(othr_input)\n",
    "# x_othr = Dropout(0.3)(x_othr)\n",
    "# x_othr = Dense(256, activation='relu')(othr_input)\n",
    "\n",
    "x = concatenate([x_conv, othr_input])\n",
    "# x = Dense(1024, input_dim=(516 + 256), activation='relu')(x)\n",
    "x = Dense(256, activation='relu')(x)\n",
    "x = Dropout(0.3)(x)\n",
    "x = Dense(512, activation='relu')(x)\n",
    "x = Dropout(0.3)(x)\n",
    "x = Dense(256, activation='relu')(x)\n",
    "x = Dropout(0.2)(x)\n",
    "x = Dense(nn_output_dim, activation='sigmoid')(x)\n",
    "\n",
    "\n",
    "\n",
    "\n",
    "model = Model(inputs=[conv_input, othr_input], outputs=x)\n",
    "opt = optimizers.Adam(lr=1E-4, beta_1=0.9, beta_2=0.999, epsilon=1e-08)\n",
    "model.compile(loss='binary_crossentropy', optimizer=opt, metrics=[actual_accuracy,])\n",
    "# model.compile(loss='mean_squared_error', optimizer='adam', metrics=['accuracy'])"
   ]
  },
  {
   "cell_type": "code",
   "execution_count": 23,
   "metadata": {
    "scrolled": false
   },
   "outputs": [
    {
     "name": "stdout",
     "output_type": "stream",
     "text": [
      "Epoch 1/20\n",
      "1345/1344 [==============================] - 22s - loss: 0.1924 - actual_accuracy: 0.3825 - val_loss: 0.1373 - val_actual_accuracy: 0.6089\n",
      "Epoch 2/20\n",
      "1345/1344 [==============================] - 24s - loss: 0.1378 - actual_accuracy: 0.5630 - val_loss: 0.1155 - val_actual_accuracy: 0.6564\n",
      "Epoch 3/20\n",
      "1345/1344 [==============================] - 27s - loss: 0.1237 - actual_accuracy: 0.6237 - val_loss: 0.1074 - val_actual_accuracy: 0.6948\n",
      "Epoch 4/20\n",
      "1345/1344 [==============================] - 27s - loss: 0.1152 - actual_accuracy: 0.6665 - val_loss: 0.0980 - val_actual_accuracy: 0.7442\n",
      "Epoch 5/20\n",
      "1345/1344 [==============================] - 28s - loss: 0.1095 - actual_accuracy: 0.6880 - val_loss: 0.0989 - val_actual_accuracy: 0.7427\n",
      "Epoch 6/20\n",
      "1345/1344 [==============================] - 28s - loss: 0.1053 - actual_accuracy: 0.7029 - val_loss: 0.0902 - val_actual_accuracy: 0.7623\n",
      "Epoch 7/20\n",
      "1345/1344 [==============================] - 27s - loss: 0.1009 - actual_accuracy: 0.7139 - val_loss: 0.0867 - val_actual_accuracy: 0.7826\n",
      "Epoch 8/20\n",
      "1345/1344 [==============================] - 28s - loss: 0.0980 - actual_accuracy: 0.7313 - val_loss: 0.0898 - val_actual_accuracy: 0.7738\n",
      "Epoch 9/20\n",
      "1345/1344 [==============================] - 28s - loss: 0.0936 - actual_accuracy: 0.7397 - val_loss: 0.0861 - val_actual_accuracy: 0.7784\n",
      "Epoch 10/20\n",
      "1345/1344 [==============================] - 29s - loss: 0.0929 - actual_accuracy: 0.7427 - val_loss: 0.0812 - val_actual_accuracy: 0.7914\n",
      "Epoch 11/20\n",
      "1345/1344 [==============================] - 28s - loss: 0.0891 - actual_accuracy: 0.7552 - val_loss: 0.0795 - val_actual_accuracy: 0.7972\n",
      "Epoch 12/20\n",
      "1345/1344 [==============================] - 29s - loss: 0.0860 - actual_accuracy: 0.7651 - val_loss: 0.0800 - val_actual_accuracy: 0.8033\n",
      "Epoch 13/20\n",
      "1345/1344 [==============================] - 28s - loss: 0.0835 - actual_accuracy: 0.7777 - val_loss: 0.0745 - val_actual_accuracy: 0.8163\n",
      "Epoch 14/20\n",
      "1345/1344 [==============================] - 30s - loss: 0.0831 - actual_accuracy: 0.7737 - val_loss: 0.0756 - val_actual_accuracy: 0.8129\n",
      "Epoch 15/20\n",
      "1345/1344 [==============================] - 29s - loss: 0.0782 - actual_accuracy: 0.7898 - val_loss: 0.0759 - val_actual_accuracy: 0.8087\n",
      "Epoch 16/20\n",
      "1345/1344 [==============================] - 29s - loss: 0.0779 - actual_accuracy: 0.7899 - val_loss: 0.0682 - val_actual_accuracy: 0.8294\n",
      "Epoch 17/20\n",
      "1345/1344 [==============================] - 29s - loss: 0.0749 - actual_accuracy: 0.7997 - val_loss: 0.0706 - val_actual_accuracy: 0.8206\n",
      "Epoch 18/20\n",
      "1345/1344 [==============================] - 29s - loss: 0.0735 - actual_accuracy: 0.8018 - val_loss: 0.0706 - val_actual_accuracy: 0.8248\n",
      "Epoch 19/20\n",
      "1345/1344 [==============================] - 29s - loss: 0.0714 - actual_accuracy: 0.8083 - val_loss: 0.0697 - val_actual_accuracy: 0.8321\n",
      "Epoch 20/20\n",
      "1345/1344 [==============================] - 29s - loss: 0.0707 - actual_accuracy: 0.8121 - val_loss: 0.0672 - val_actual_accuracy: 0.8305\n"
     ]
    }
   ],
   "source": [
    "history = model.fit_generator(data.generator('train', batch_size), \n",
    "                              data.x_train.shape[0]/(batch_size * num_fake_epoch), \n",
    "                              epochs=actual_epoch*num_fake_epoch, \n",
    "                              validation_data=data.generator('test', batch_size), \n",
    "                              validation_steps=data.x_test.shape[0]/(batch_size * num_fake_epoch))"
   ]
  },
  {
   "cell_type": "code",
   "execution_count": 27,
   "metadata": {
    "collapsed": true
   },
   "outputs": [],
   "source": [
    "name = '1_epoch'\n",
    "model.save(name + '.h5')\n",
    "output = open(name + '_history.pkl', 'wb')\n",
    "pickle.dump(history.history, output)\n",
    "output.close()"
   ]
  },
  {
   "cell_type": "code",
   "execution_count": 9,
   "metadata": {
    "collapsed": true
   },
   "outputs": [],
   "source": [
    "content = data._read_content('../../../data/SlovarIJS_BESEDE_utf8.lex')\n",
    "dictionary, max_word, max_num_vowels, vowels, accented_vowels = data._create_dict(content)\n",
    "feature_dictionary = data._create_feature_dictionary()"
   ]
  }
 ],
 "metadata": {
  "kernelspec": {
   "display_name": "Python 3",
   "language": "python",
   "name": "python3"
  },
  "language_info": {
   "codemirror_mode": {
    "name": "ipython",
    "version": 3
   },
   "file_extension": ".py",
   "mimetype": "text/x-python",
   "name": "python",
   "nbconvert_exporter": "python",
   "pygments_lexer": "ipython3",
   "version": "3.5.2"
  }
 },
 "nbformat": 4,
 "nbformat_minor": 1
}
