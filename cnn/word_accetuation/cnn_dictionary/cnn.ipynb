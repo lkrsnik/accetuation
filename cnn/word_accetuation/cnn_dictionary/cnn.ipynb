{
 "cells": [
  {
   "cell_type": "code",
   "execution_count": 1,
   "metadata": {},
   "outputs": [
    {
     "name": "stderr",
     "output_type": "stream",
     "text": [
      "Using Theano backend.\n"
     ]
    }
   ],
   "source": [
    "# -*- coding: utf-8 -*-\n",
    "from __future__ import unicode_literals\n",
    "# text in Western (Windows 1252)\n",
    "\n",
    "import pickle\n",
    "import numpy as np\n",
    "# import StringIO\n",
    "import math\n",
    "from keras import optimizers, metrics\n",
    "from keras.models import Model\n",
    "from keras.layers import Dense, Dropout, Input\n",
    "from keras.layers.merge import concatenate\n",
    "from keras import regularizers\n",
    "from keras.layers.convolutional import Conv1D\n",
    "from keras.layers.convolutional import MaxPooling1D\n",
    "from keras.constraints import maxnorm\n",
    "from keras.layers import Flatten\n",
    "from keras.optimizers import SGD\n",
    "from keras.models import load_model\n",
    "# from keras import backend as Input\n",
    "np.random.seed(7)"
   ]
  },
  {
   "cell_type": "code",
   "execution_count": 2,
   "metadata": {
    "collapsed": true
   },
   "outputs": [],
   "source": [
    "# %run ../../../prepare_data.py\n",
    "\n",
    "import sys\n",
    "sys.path.insert(0, '../../../')\n",
    "from prepare_data import *"
   ]
  },
  {
   "cell_type": "code",
   "execution_count": 3,
   "metadata": {},
   "outputs": [
    {
     "name": "stdout",
     "output_type": "stream",
     "text": [
      "READING CONTENT...\n",
      "CONTENT READ SUCCESSFULLY\n",
      "CREATING DICTIONARY...\n",
      "DICTIONARY CREATION SUCCESSFUL!\n",
      "GENERATING X AND y...\n",
      "SHUFFELING INPUTS...\n",
      "INPUTS SHUFFELED!\n",
      "SHUFFELING INPUTS...\n",
      "INPUTS SHUFFELED!\n",
      "SHUFFELING INPUTS...\n",
      "INPUTS SHUFFELED!\n",
      "GENERATION SUCCESSFUL!\n"
     ]
    }
   ],
   "source": [
    "# %run ../../../prepare_data.py\n",
    "# X_train, X_other_features_train, y_train, X_test, X_other_features_test, y_test, X_validate, X_other_features_validate, y_validate = generate_full_matrix_inputs('../../internal_representations/inputs/content_shuffle_vector.h5', '../../internal_representations/inputs/shuffle_vector')\n",
    "# save_inputs('../../internal_representations/inputs/shuffled_letters_train.h5', X_train, y_train, other_features = X_other_features_train)\n",
    "# save_inputs('../../internal_representations/inputs/shuffled_letters_test.h5', X_test, y_test, other_features = X_other_features_test)\n",
    "# save_inputs('../../internal_representations/inputs/shuffled_letters_validate.h5', X_validate, y_validate,  other_features = X_other_features_validate)\n",
    "# X_train, X_other_features_train, y_train = load_inputs('../../internal_representations/inputs/shuffled_letters_train.h5', other_features=True)\n",
    "# X_test, X_other_features_test, y_test = load_inputs('../../internal_representations/inputs/shuffled_letters_test.h5', other_features=True)\n",
    "# X_validate, X_other_features_validate, y_validate = load_inputs('../../internal_representations/inputs/shuffled_letters_validate.h5', other_features=True)\n",
    "\n",
    "data = Data('l', number_of_syllables=True)\n",
    "data.generate_data('letters_word_accetuation_num_train',\n",
    "                   'letters_word_accetuation_num_test',\n",
    "                   'letters_word_accetuation_num_validate')"
   ]
  },
  {
   "cell_type": "code",
   "execution_count": 4,
   "metadata": {
    "collapsed": true
   },
   "outputs": [],
   "source": [
    "gen2 = data.generator('train', 16)\n",
    "# test1 = next(gen1)\n",
    "test2 = next(gen2)"
   ]
  },
  {
   "cell_type": "code",
   "execution_count": 7,
   "metadata": {},
   "outputs": [
    {
     "name": "stdout",
     "output_type": "stream",
     "text": [
      "10\n",
      "(16, 23, 36)\n",
      "(16, 140)\n"
     ]
    }
   ],
   "source": [
    "pos = 0\n",
    "print(len(feature_dictionary))\n",
    "print(np.array(test2[0][0]).shape)\n",
    "print(np.array(test2[0][1]).shape)\n",
    "# for el in test2[0][0]:\n",
    "# #     print(el)\n",
    "#     print (data.decode_x(el, dictionary))\n",
    "#     print(data.decode_x_other_features(feature_dictionary, [el]))\n",
    "\n",
    "# for el in test2[1]:\n",
    "#     print(el)"
   ]
  },
  {
   "cell_type": "code",
   "execution_count": 12,
   "metadata": {},
   "outputs": [
    {
     "name": "stdout",
     "output_type": "stream",
     "text": [
      "(430151, 23, 36)\n",
      "(52058, 23, 36)\n",
      "(54222, 23, 36)\n",
      "ašjenlautkajan\n",
      "Agsnpn-\n",
      "Agsnpn-\n",
      "[1 1 0 0 0 1 0 0 1 0 0 1 1 0 0 0 0 0 1 0 0 0 0 0 0 0 0 0 0 0 0 0 0 0 0 0 0\n",
      " 0 0 0 0 0 0 0 0 0 0 0 0 0 0 0 0 0 0 0 0 0 0 0 0 0 0 0 0 0 0 0 0 0 0 0 0 0\n",
      " 0 0 0 0 0 0 0 0 0 0 0 0 0 0 0 0 0 0 0 0 0 0 0 0 0 0 0 0 0 0 0 0 0 0 0 0 0\n",
      " 0 0 0 0 0 0 0 0 0 0 0 0 0 0 0 0 0 0 0 0 0 0 0 0 0 0 0 0 0 6]\n",
      "[2, 5]\n"
     ]
    }
   ],
   "source": [
    "# print (X_train.shape)\n",
    "# print (X_test.shape)\n",
    "# print (X_validate.shape)\n",
    "pos = 0\n",
    "# print (decode_input(X_train[pos], dictionary))\n",
    "# print (decode_X_features(feature_dictionary, [X_other_features_train[pos]]))\n",
    "# print(decode_position(y_train[pos]))\n",
    "# print('------------------------------------')\n",
    "print (data.x_train.shape)\n",
    "print (data.x_test.shape)\n",
    "print (data.x_validate.shape)\n",
    "# pos = 2\n",
    "print (data.decode_x(data.x_train[pos], dictionary))\n",
    "print (data.decode_x_other_features(feature_dictionary, [data.x_other_features_train[pos]]))\n",
    "print(data.x_other_features_train[pos])\n",
    "print(data.decode_y(data.y_train[pos]))"
   ]
  },
  {
   "cell_type": "code",
   "execution_count": 4,
   "metadata": {
    "collapsed": true
   },
   "outputs": [],
   "source": [
    "num_examples = len(data.x_train) # training set size\n",
    "nn_output_dim = 10\n",
    "nn_hdim = 516\n",
    "batch_size = 16\n",
    "actual_epoch = 60\n",
    "num_fake_epoch = 20\n",
    "\n",
    "\n",
    "\n",
    "\n",
    "conv_input_shape=(23, 36)\n",
    "othr_input = (141, )\n",
    "\n",
    "conv_input = Input(shape=conv_input_shape, name='conv_input')\n",
    "x_conv = Conv1D(133, (3), padding='same', activation='relu')(conv_input)\n",
    "x_conv = Conv1D(46, (3), padding='same', activation='relu')(x_conv)\n",
    "x_conv = MaxPooling1D(pool_size=2)(x_conv)\n",
    "x_conv = Flatten()(x_conv)\n",
    "# x_conv = Dense(516, activation='relu', kernel_constraint=maxnorm(3))(x_conv)\n",
    "\n",
    "othr_input = Input(shape=othr_input, name='othr_input')\n",
    "# x_othr = Dense(256, input_dim=167, activation='relu')(othr_input)\n",
    "# x_othr = Dropout(0.3)(x_othr)\n",
    "# x_othr = Dense(512, activation='relu')(othr_input)\n",
    "# x_othr = Dropout(0.3)(x_othr)\n",
    "# x_othr = Dense(256, activation='relu')(othr_input)\n",
    "\n",
    "x = concatenate([x_conv, othr_input])\n",
    "# x = Dense(1024, input_dim=(516 + 256), activation='relu')(x)\n",
    "x = Dense(256, activation='relu')(x)\n",
    "x = Dropout(0.3)(x)\n",
    "x = Dense(256, activation='relu')(x)\n",
    "x = Dropout(0.3)(x)\n",
    "x = Dense(256, activation='relu')(x)\n",
    "x = Dropout(0.2)(x)\n",
    "x = Dense(nn_output_dim, activation='sigmoid')(x)\n",
    "\n",
    "\n",
    "\n",
    "\n",
    "model = Model(inputs=[conv_input, othr_input], outputs=x)\n",
    "opt = optimizers.Adam(lr=1E-4, beta_1=0.9, beta_2=0.999, epsilon=1e-08)\n",
    "model.compile(loss='binary_crossentropy', optimizer=opt, metrics=[actual_accuracy,])\n",
    "# model.compile(loss='mean_squared_error', optimizer='adam', metrics=['accuracy'])"
   ]
  },
  {
   "cell_type": "code",
   "execution_count": null,
   "metadata": {
    "scrolled": false
   },
   "outputs": [
    {
     "name": "stdout",
     "output_type": "stream",
     "text": [
      "Epoch 1/1200\n",
      "18s - loss: 0.0715 - actual_accuracy: 0.8251 - val_loss: 0.0742 - val_actual_accuracy: 0.8255\n",
      "Epoch 2/1200\n",
      "15s - loss: 0.0678 - actual_accuracy: 0.8355 - val_loss: 0.0693 - val_actual_accuracy: 0.8439\n",
      "Epoch 3/1200\n",
      "16s - loss: 0.0670 - actual_accuracy: 0.8373 - val_loss: 0.0739 - val_actual_accuracy: 0.8420\n",
      "Epoch 4/1200\n",
      "18s - loss: 0.0674 - actual_accuracy: 0.8375 - val_loss: 0.0680 - val_actual_accuracy: 0.8478\n",
      "Epoch 5/1200\n",
      "19s - loss: 0.0638 - actual_accuracy: 0.8490 - val_loss: 0.0714 - val_actual_accuracy: 0.8374\n",
      "Epoch 6/1200\n",
      "19s - loss: 0.0626 - actual_accuracy: 0.8493 - val_loss: 0.0687 - val_actual_accuracy: 0.8470\n",
      "Epoch 7/1200\n",
      "21s - loss: 0.0601 - actual_accuracy: 0.8521 - val_loss: 0.0671 - val_actual_accuracy: 0.8581\n",
      "Epoch 8/1200\n",
      "20s - loss: 0.0609 - actual_accuracy: 0.8530 - val_loss: 0.0661 - val_actual_accuracy: 0.8593\n",
      "Epoch 9/1200\n",
      "20s - loss: 0.0566 - actual_accuracy: 0.8643 - val_loss: 0.0723 - val_actual_accuracy: 0.8416\n",
      "Epoch 10/1200\n",
      "22s - loss: 0.0579 - actual_accuracy: 0.8612 - val_loss: 0.0717 - val_actual_accuracy: 0.8424\n",
      "Epoch 11/1200\n",
      "21s - loss: 0.0545 - actual_accuracy: 0.8676 - val_loss: 0.0638 - val_actual_accuracy: 0.8731\n",
      "Epoch 12/1200\n",
      "21s - loss: 0.0537 - actual_accuracy: 0.8711 - val_loss: 0.0642 - val_actual_accuracy: 0.8715\n",
      "Epoch 13/1200\n",
      "21s - loss: 0.0504 - actual_accuracy: 0.8806 - val_loss: 0.0661 - val_actual_accuracy: 0.8758\n",
      "Epoch 14/1200\n",
      "22s - loss: 0.0514 - actual_accuracy: 0.8760 - val_loss: 0.0683 - val_actual_accuracy: 0.8623\n",
      "Epoch 15/1200\n",
      "21s - loss: 0.0491 - actual_accuracy: 0.8825 - val_loss: 0.0696 - val_actual_accuracy: 0.8650\n",
      "Epoch 16/1200\n",
      "17s - loss: 0.0477 - actual_accuracy: 0.8861 - val_loss: 0.0652 - val_actual_accuracy: 0.8708\n",
      "Epoch 17/1200\n",
      "19s - loss: 0.0466 - actual_accuracy: 0.8881 - val_loss: 0.0604 - val_actual_accuracy: 0.8811\n",
      "Epoch 18/1200\n",
      "28s - loss: 0.0452 - actual_accuracy: 0.8929 - val_loss: 0.0677 - val_actual_accuracy: 0.8635\n",
      "Epoch 19/1200\n",
      "24s - loss: 0.0440 - actual_accuracy: 0.8960 - val_loss: 0.0679 - val_actual_accuracy: 0.8658\n",
      "Epoch 20/1200\n",
      "24s - loss: 0.0448 - actual_accuracy: 0.8954 - val_loss: 0.0697 - val_actual_accuracy: 0.8716\n",
      "Epoch 21/1200\n",
      "23s - loss: 0.0417 - actual_accuracy: 0.9015 - val_loss: 0.0696 - val_actual_accuracy: 0.8708\n",
      "Epoch 22/1200\n",
      "23s - loss: 0.0397 - actual_accuracy: 0.9054 - val_loss: 0.0659 - val_actual_accuracy: 0.8777\n",
      "Epoch 23/1200\n",
      "22s - loss: 0.0398 - actual_accuracy: 0.9072 - val_loss: 0.0693 - val_actual_accuracy: 0.8635\n",
      "Epoch 24/1200\n",
      "27s - loss: 0.0400 - actual_accuracy: 0.9062 - val_loss: 0.0683 - val_actual_accuracy: 0.8762\n",
      "Epoch 25/1200\n",
      "25s - loss: 0.0385 - actual_accuracy: 0.9089 - val_loss: 0.0674 - val_actual_accuracy: 0.8781\n",
      "Epoch 26/1200\n",
      "26s - loss: 0.0383 - actual_accuracy: 0.9087 - val_loss: 0.0622 - val_actual_accuracy: 0.8854\n",
      "Epoch 27/1200\n",
      "23s - loss: 0.0360 - actual_accuracy: 0.9169 - val_loss: 0.0645 - val_actual_accuracy: 0.8788\n",
      "Epoch 28/1200\n",
      "22s - loss: 0.0376 - actual_accuracy: 0.9115 - val_loss: 0.0645 - val_actual_accuracy: 0.8785\n",
      "Epoch 29/1200\n",
      "22s - loss: 0.0350 - actual_accuracy: 0.9184 - val_loss: 0.0733 - val_actual_accuracy: 0.8708\n",
      "Epoch 30/1200\n",
      "26s - loss: 0.0362 - actual_accuracy: 0.9151 - val_loss: 0.0713 - val_actual_accuracy: 0.8785\n",
      "Epoch 31/1200\n",
      "23s - loss: 0.0347 - actual_accuracy: 0.9175 - val_loss: 0.0712 - val_actual_accuracy: 0.8834\n",
      "Epoch 32/1200\n",
      "27s - loss: 0.0335 - actual_accuracy: 0.9218 - val_loss: 0.0642 - val_actual_accuracy: 0.8896\n",
      "Epoch 33/1200\n",
      "24s - loss: 0.0319 - actual_accuracy: 0.9264 - val_loss: 0.0698 - val_actual_accuracy: 0.8865\n",
      "Epoch 34/1200\n",
      "24s - loss: 0.0338 - actual_accuracy: 0.9205 - val_loss: 0.0690 - val_actual_accuracy: 0.8708\n",
      "Epoch 35/1200\n"
     ]
    }
   ],
   "source": [
    "history = model.fit_generator(data.generator('train', batch_size), \n",
    "                              data.x_train.shape[0]/(batch_size * num_fake_epoch), \n",
    "                              epochs=actual_epoch*num_fake_epoch, \n",
    "                              validation_data=data.generator('test', batch_size), \n",
    "                              validation_steps=data.x_test.shape[0]/(batch_size * num_fake_epoch),\n",
    "                              verbose=2,\n",
    "                              workers=4)"
   ]
  },
  {
   "cell_type": "code",
   "execution_count": 16,
   "metadata": {
    "collapsed": true
   },
   "outputs": [],
   "source": [
    "name = '60_epoch'\n",
    "model.save(name + '.h5')\n",
    "output = open(name + '_history.pkl', 'wb')\n",
    "pickle.dump(history.history, output)\n",
    "output.close()"
   ]
  },
  {
   "cell_type": "code",
   "execution_count": 7,
   "metadata": {
    "collapsed": true
   },
   "outputs": [],
   "source": [
    "content = data._read_content('../../../data/SlovarIJS_BESEDE_utf8.lex')\n",
    "dictionary, max_word, max_num_vowels, vowels, accented_vowels = data._create_dict(content)\n",
    "feature_dictionary = data._create_feature_dictionary()"
   ]
  }
 ],
 "metadata": {
  "kernelspec": {
   "display_name": "Python 3",
   "language": "python",
   "name": "python3"
  },
  "language_info": {
   "codemirror_mode": {
    "name": "ipython",
    "version": 3
   },
   "file_extension": ".py",
   "mimetype": "text/x-python",
   "name": "python",
   "nbconvert_exporter": "python",
   "pygments_lexer": "ipython3",
   "version": "3.5.2"
  }
 },
 "nbformat": 4,
 "nbformat_minor": 1
}
