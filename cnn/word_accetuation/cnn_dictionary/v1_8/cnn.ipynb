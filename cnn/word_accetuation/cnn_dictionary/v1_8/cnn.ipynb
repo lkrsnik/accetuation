{
 "cells": [
  {
   "cell_type": "code",
   "execution_count": 1,
   "metadata": {},
   "outputs": [
    {
     "name": "stderr",
     "output_type": "stream",
     "text": [
      "Using Theano backend.\n"
     ]
    }
   ],
   "source": [
    "# -*- coding: utf-8 -*-\n",
    "from __future__ import unicode_literals\n",
    "# text in Western (Windows 1252)\n",
    "\n",
    "import pickle\n",
    "import numpy as np\n",
    "# import StringIO\n",
    "import math\n",
    "from keras.models import Model\n",
    "from keras.layers import Dense, Dropout, Input\n",
    "from keras.layers.merge import concatenate\n",
    "from keras import regularizers\n",
    "from keras.layers.convolutional import Conv1D\n",
    "from keras.layers.convolutional import MaxPooling1D\n",
    "from keras.constraints import maxnorm\n",
    "from keras.layers import Flatten\n",
    "from keras.optimizers import SGD\n",
    "from keras.models import load_model\n",
    "# from keras import backend as Input\n",
    "np.random.seed(7)"
   ]
  },
  {
   "cell_type": "code",
   "execution_count": 2,
   "metadata": {
    "collapsed": true
   },
   "outputs": [],
   "source": [
    "# %run ../../../prepare_data.py\n",
    "\n",
    "import sys\n",
    "sys.path.insert(0, '../../../')\n",
    "from prepare_data import *"
   ]
  },
  {
   "cell_type": "code",
   "execution_count": 3,
   "metadata": {
    "collapsed": true
   },
   "outputs": [],
   "source": [
    "# X_train, X_other_features_train, y_train, X_validate, X_other_features_validate, y_validate = generate_full_matrix_inputs()\n",
    "# save_inputs('../../internal_representations/inputs/shuffeled_matrix_train_inputs_other_features_output_11.h5', X_train, y_train, other_features = X_other_features_train)\n",
    "# save_inputs('../../internal_representations/inputs/shuffeled_matrix_validate_inputs_other_features_output_11.h5', X_validate, y_validate,  other_features = X_other_features_validate)\n",
    "X_train, X_other_features_train, y_train = load_inputs('../../internal_representations/inputs/shuffeled_matrix_train_inputs_other_features_output_11.h5', other_features=True)\n",
    "X_validate, X_other_features_validate, y_validate = load_inputs('../../internal_representations/inputs/shuffeled_matrix_validate_inputs_other_features_output_11.h5', other_features=True)"
   ]
  },
  {
   "cell_type": "code",
   "execution_count": 24,
   "metadata": {},
   "outputs": [
    {
     "name": "stdout",
     "output_type": "stream",
     "text": [
      "navleèeta\n",
      "Vmip3d--n\n",
      "None\n"
     ]
    }
   ],
   "source": [
    "# X_other_features = create_X_features(content)\n",
    "# print (X_other_features[178200])\n",
    "decode_position = 30\n",
    "print (decode_input(X_train[decode_position], dictionary))\n",
    "# print (X_other_features_train[0])\n",
    "print (decode_X_features(feature_dictionary, [X_other_features_train[decode_position]]))\n",
    "# print (len(X_other_features_train[0]))"
   ]
  },
  {
   "cell_type": "code",
   "execution_count": 4,
   "metadata": {
    "collapsed": true
   },
   "outputs": [],
   "source": [
    "num_examples = len(X_train) # training set size\n",
    "# nn_input_dim = max_word * len(dictionary) # input layer dimensionality\n",
    "# nn_output_dim = max_num_vowels * max_num_vowels # output layer dimensionality\n",
    "nn_output_dim = 11\n",
    "nn_hdim = 516\n",
    "\n",
    "batch_size = 16\n",
    "actual_epoch = 5\n",
    "num_fake_epoch = 20\n",
    "\n",
    "# Gradient descent parameters (I picked these by hand)\n",
    "# epsilon = 1 # learning rate for gradient descent\n",
    "# reg_lambda = 1 # regularization strength"
   ]
  },
  {
   "cell_type": "code",
   "execution_count": 5,
   "metadata": {
    "collapsed": true
   },
   "outputs": [],
   "source": [
    "# word_processor = Sequential()\n",
    "# word_processor.add(Conv1D(43, (3), input_shape=(23, 43), padding='same', activation='relu'))\n",
    "# word_processor.add(Conv1D(43, (2), padding='same', activation='relu'))\n",
    "# word_processor.add(Conv1D(43, (2), padding='same', activation='relu'))\n",
    "# word_processor.add(MaxPooling1D(pool_size=2))\n",
    "# word_processor.add(Flatten())\n",
    "# word_processor.add(Dense(516, activation='relu', kernel_constraint=maxnorm(3)))\n",
    "\n",
    "# metadata_processor = Sequential()\n",
    "# metadata_processor.add(Dense(256, input_dim=167, activation='relu'))\n",
    "\n",
    "# model = Sequential()\n",
    "# model.add(Merge([word_processor, metadata_processor], mode='concat'))  # Merge is your sensor fusion buddy\n",
    "# model.add(Dense(1024, input_dim=(516 + 256), activation='relu'))\n",
    "# model.add(Dropout(0.3))\n",
    "# model.add(Dense(1024, activation='relu'))\n",
    "# model.add(Dropout(0.2))\n",
    "# model.add(Dense(nn_output_dim, activation='sigmoid'))\n",
    "\n",
    "\n",
    "# -------------------------------------------------------\n",
    "\n",
    "conv_input_shape=(23, 43)\n",
    "othr_input = (167, )\n",
    "\n",
    "conv_input = Input(shape=conv_input_shape, name='conv_input')\n",
    "x_conv = Conv1D(43, (3), padding='same', activation='relu')(conv_input)\n",
    "x_conv = Conv1D(43, (3), padding='same', activation='relu')(x_conv)\n",
    "x_conv = MaxPooling1D(pool_size=2)(x_conv)\n",
    "x_conv = Flatten()(x_conv)\n",
    "# x_conv = Dense(516, activation='relu', kernel_constraint=maxnorm(3))(x_conv)\n",
    "\n",
    "othr_input = Input(shape=othr_input, name='othr_input')\n",
    "# x_othr = Dense(256, input_dim=167, activation='relu')(othr_input)\n",
    "# x_othr = Dropout(0.3)(x_othr)\n",
    "# x_othr = Dense(256, activation='relu')(othr_input)\n",
    "\n",
    "x = concatenate([x_conv, othr_input])\n",
    "# x = Dense(1024, input_dim=(516 + 256), activation='relu')(x)\n",
    "x = Dense(512, activation='relu')(x)\n",
    "x = Dropout(0.3)(x)\n",
    "x = Dense(512, activation='relu')(x)\n",
    "x = Dropout(0.2)(x)\n",
    "x = Dense(nn_output_dim, activation='sigmoid')(x)\n",
    "\n",
    "# model = Model(inputs=[conv_input, othr_input], output=x)"
   ]
  },
  {
   "cell_type": "code",
   "execution_count": 6,
   "metadata": {
    "collapsed": true
   },
   "outputs": [],
   "source": [
    "model = Model(inputs=[conv_input, othr_input], outputs=x)\n",
    "\n",
    "# epochs = 5\n",
    "# lrate = 0.1\n",
    "# decay = lrate/epochs\n",
    "# sgd = SGD(lr=lrate, momentum=0.9, decay=decay, nesterov=False)\n",
    "# model.compile(loss='mean_squared_error', optimizer='adam', metrics=['accuracy'])\n",
    "\n",
    "# Compile model\n",
    "model.compile(loss='mean_squared_error', optimizer='adam', metrics=['accuracy'])"
   ]
  },
  {
   "cell_type": "code",
   "execution_count": 7,
   "metadata": {
    "scrolled": false
   },
   "outputs": [
    {
     "name": "stdout",
     "output_type": "stream",
     "text": [
      "Epoch 1/100\n",
      "1336/1335 [==============================] - 60s - loss: 0.0406 - acc: 0.6399 - val_loss: 0.0314 - val_acc: 0.7172\n",
      "Epoch 2/100\n",
      "1336/1335 [==============================] - 91s - loss: 0.0260 - acc: 0.7697 - val_loss: 0.0270 - val_acc: 0.7736\n",
      "Epoch 3/100\n",
      "1336/1335 [==============================] - 90s - loss: 0.0210 - acc: 0.8081 - val_loss: 0.0238 - val_acc: 0.7877\n",
      "Epoch 4/100\n",
      "1336/1335 [==============================] - 86s - loss: 0.0183 - acc: 0.8298 - val_loss: 0.0225 - val_acc: 0.7963\n",
      "Epoch 5/100\n",
      "1336/1335 [==============================] - 85s - loss: 0.0166 - acc: 0.8429 - val_loss: 0.0217 - val_acc: 0.7972\n",
      "Epoch 6/100\n",
      "1336/1335 [==============================] - 82s - loss: 0.0153 - acc: 0.8488 - val_loss: 0.0212 - val_acc: 0.7854\n",
      "Epoch 7/100\n",
      "1336/1335 [==============================] - 81s - loss: 0.0142 - acc: 0.8552 - val_loss: 0.0206 - val_acc: 0.8145\n",
      "Epoch 8/100\n",
      "1336/1335 [==============================] - 102s - loss: 0.0134 - acc: 0.8609 - val_loss: 0.0207 - val_acc: 0.8205\n",
      "Epoch 9/100\n",
      "1336/1335 [==============================] - 89s - loss: 0.0126 - acc: 0.8643 - val_loss: 0.0210 - val_acc: 0.7974\n",
      "Epoch 10/100\n",
      "1336/1335 [==============================] - 90s - loss: 0.0115 - acc: 0.8723 - val_loss: 0.0202 - val_acc: 0.8183\n",
      "Epoch 11/100\n",
      "1336/1335 [==============================] - 93s - loss: 0.0111 - acc: 0.8749 - val_loss: 0.0196 - val_acc: 0.7983\n",
      "Epoch 12/100\n",
      "1336/1335 [==============================] - 91s - loss: 0.0106 - acc: 0.8817 - val_loss: 0.0206 - val_acc: 0.7847\n",
      "Epoch 13/100\n",
      "1336/1335 [==============================] - 94s - loss: 0.0102 - acc: 0.8843 - val_loss: 0.0214 - val_acc: 0.7995\n",
      "Epoch 14/100\n",
      "1336/1335 [==============================] - 99s - loss: 0.0096 - acc: 0.8856 - val_loss: 0.0200 - val_acc: 0.8046\n",
      "Epoch 15/100\n",
      "1336/1335 [==============================] - 96s - loss: 0.0093 - acc: 0.8892 - val_loss: 0.0207 - val_acc: 0.8004\n",
      "Epoch 16/100\n",
      "1336/1335 [==============================] - 89s - loss: 0.0095 - acc: 0.8877 - val_loss: 0.0199 - val_acc: 0.8055\n",
      "Epoch 17/100\n",
      "1336/1335 [==============================] - 92s - loss: 0.0091 - acc: 0.8910 - val_loss: 0.0194 - val_acc: 0.8025\n",
      "Epoch 18/100\n",
      "1336/1335 [==============================] - 88s - loss: 0.0085 - acc: 0.8937 - val_loss: 0.0193 - val_acc: 0.8049\n",
      "Epoch 19/100\n",
      "1336/1335 [==============================] - 88s - loss: 0.0081 - acc: 0.8944 - val_loss: 0.0195 - val_acc: 0.8273\n",
      "Epoch 20/100\n",
      "1336/1335 [==============================] - 83s - loss: 0.0081 - acc: 0.8951 - val_loss: 0.0186 - val_acc: 0.8079\n",
      "Epoch 21/100\n",
      "1336/1335 [==============================] - 94s - loss: 0.0080 - acc: 0.8969 - val_loss: 0.0195 - val_acc: 0.8237\n",
      "Epoch 22/100\n",
      "1336/1335 [==============================] - 89s - loss: 0.0077 - acc: 0.8963 - val_loss: 0.0198 - val_acc: 0.8347\n",
      "Epoch 23/100\n",
      "1336/1335 [==============================] - 96s - loss: 0.0074 - acc: 0.9020 - val_loss: 0.0189 - val_acc: 0.8220\n",
      "Epoch 24/100\n",
      "1336/1335 [==============================] - 95s - loss: 0.0072 - acc: 0.9042 - val_loss: 0.0205 - val_acc: 0.8010\n",
      "Epoch 25/100\n",
      "1336/1335 [==============================] - 85s - loss: 0.0073 - acc: 0.9001 - val_loss: 0.0190 - val_acc: 0.8395\n",
      "Epoch 26/100\n",
      "1336/1335 [==============================] - 98s - loss: 0.0072 - acc: 0.9035 - val_loss: 0.0200 - val_acc: 0.8106\n",
      "Epoch 27/100\n",
      "1336/1335 [==============================] - 77s - loss: 0.0071 - acc: 0.9001 - val_loss: 0.0190 - val_acc: 0.8139\n",
      "Epoch 28/100\n",
      "1336/1335 [==============================] - 76s - loss: 0.0069 - acc: 0.8998 - val_loss: 0.0185 - val_acc: 0.8342\n",
      "Epoch 29/100\n",
      "1336/1335 [==============================] - 81s - loss: 0.0063 - acc: 0.9061 - val_loss: 0.0189 - val_acc: 0.8097\n",
      "Epoch 30/100\n",
      "1336/1335 [==============================] - 83s - loss: 0.0067 - acc: 0.9045 - val_loss: 0.0199 - val_acc: 0.8071\n",
      "Epoch 31/100\n",
      "1336/1335 [==============================] - 84s - loss: 0.0063 - acc: 0.9079 - val_loss: 0.0211 - val_acc: 0.7989\n",
      "Epoch 32/100\n",
      "1336/1335 [==============================] - 95s - loss: 0.0061 - acc: 0.9094 - val_loss: 0.0197 - val_acc: 0.8188\n",
      "Epoch 33/100\n",
      "1336/1335 [==============================] - 85s - loss: 0.0062 - acc: 0.9131 - val_loss: 0.0195 - val_acc: 0.8089\n",
      "Epoch 34/100\n",
      "1336/1335 [==============================] - 80s - loss: 0.0059 - acc: 0.9084 - val_loss: 0.0184 - val_acc: 0.8506\n",
      "Epoch 35/100\n",
      "1336/1335 [==============================] - 85s - loss: 0.0059 - acc: 0.9111 - val_loss: 0.0180 - val_acc: 0.8446\n",
      "Epoch 36/100\n",
      "1336/1335 [==============================] - 89s - loss: 0.0063 - acc: 0.9091 - val_loss: 0.0199 - val_acc: 0.8114\n",
      "Epoch 37/100\n",
      "1336/1335 [==============================] - 94s - loss: 0.0060 - acc: 0.9115 - val_loss: 0.0182 - val_acc: 0.8104\n",
      "Epoch 38/100\n",
      "1336/1335 [==============================] - 88s - loss: 0.0056 - acc: 0.9132 - val_loss: 0.0189 - val_acc: 0.8266\n",
      "Epoch 39/100\n",
      "1336/1335 [==============================] - 104s - loss: 0.0054 - acc: 0.9150 - val_loss: 0.0193 - val_acc: 0.8150\n",
      "Epoch 40/100\n",
      "1336/1335 [==============================] - 100s - loss: 0.0057 - acc: 0.9096 - val_loss: 0.0205 - val_acc: 0.8126\n",
      "Epoch 41/100\n",
      "1336/1335 [==============================] - 96s - loss: 0.0056 - acc: 0.9099 - val_loss: 0.0187 - val_acc: 0.8219\n",
      "Epoch 42/100\n",
      "1336/1335 [==============================] - 94s - loss: 0.0053 - acc: 0.9153 - val_loss: 0.0200 - val_acc: 0.8026\n",
      "Epoch 43/100\n",
      "1336/1335 [==============================] - 102s - loss: 0.0056 - acc: 0.9135 - val_loss: 0.0186 - val_acc: 0.8493\n",
      "Epoch 44/100\n",
      "1336/1335 [==============================] - 91s - loss: 0.0053 - acc: 0.9172 - val_loss: 0.0203 - val_acc: 0.8213\n",
      "Epoch 45/100\n",
      "1336/1335 [==============================] - 101s - loss: 0.0055 - acc: 0.9135 - val_loss: 0.0196 - val_acc: 0.8173\n",
      "Epoch 46/100\n",
      "1336/1335 [==============================] - 100s - loss: 0.0052 - acc: 0.9193 - val_loss: 0.0195 - val_acc: 0.8196\n",
      "Epoch 47/100\n",
      "1336/1335 [==============================] - 104s - loss: 0.0052 - acc: 0.9129 - val_loss: 0.0203 - val_acc: 0.8056\n",
      "Epoch 48/100\n",
      "1336/1335 [==============================] - 107s - loss: 0.0054 - acc: 0.9130 - val_loss: 0.0206 - val_acc: 0.8361\n",
      "Epoch 49/100\n",
      "1336/1335 [==============================] - 104s - loss: 0.0048 - acc: 0.9179 - val_loss: 0.0187 - val_acc: 0.8202\n",
      "Epoch 50/100\n",
      "1336/1335 [==============================] - 105s - loss: 0.0051 - acc: 0.9187 - val_loss: 0.0193 - val_acc: 0.8366\n",
      "Epoch 51/100\n",
      "1336/1335 [==============================] - 110s - loss: 0.0050 - acc: 0.9189 - val_loss: 0.0196 - val_acc: 0.8234\n",
      "Epoch 52/100\n",
      "1336/1335 [==============================] - 115s - loss: 0.0051 - acc: 0.9175 - val_loss: 0.0190 - val_acc: 0.8402\n",
      "Epoch 53/100\n",
      "1336/1335 [==============================] - 113s - loss: 0.0047 - acc: 0.9234 - val_loss: 0.0184 - val_acc: 0.8284\n",
      "Epoch 54/100\n",
      "1336/1335 [==============================] - 109s - loss: 0.0047 - acc: 0.9237 - val_loss: 0.0191 - val_acc: 0.8429\n",
      "Epoch 55/100\n",
      "1336/1335 [==============================] - 119s - loss: 0.0049 - acc: 0.9187 - val_loss: 0.0189 - val_acc: 0.8457\n",
      "Epoch 56/100\n",
      "1336/1335 [==============================] - 117s - loss: 0.0054 - acc: 0.9149 - val_loss: 0.0199 - val_acc: 0.8177\n",
      "Epoch 57/100\n",
      "1336/1335 [==============================] - 120s - loss: 0.0051 - acc: 0.9208 - val_loss: 0.0185 - val_acc: 0.8198\n",
      "Epoch 58/100\n",
      "1336/1335 [==============================] - 111s - loss: 0.0047 - acc: 0.9244 - val_loss: 0.0192 - val_acc: 0.8144924\n",
      "Epoch 59/100\n",
      "1336/1335 [==============================] - 112s - loss: 0.0047 - acc: 0.9208 - val_loss: 0.0185 - val_acc: 0.8260\n",
      "Epoch 60/100\n",
      "1336/1335 [==============================] - 118s - loss: 0.0048 - acc: 0.9213 - val_loss: 0.0204 - val_acc: 0.8448\n",
      "Epoch 61/100\n",
      "1336/1335 [==============================] - 119s - loss: 0.0047 - acc: 0.9220 - val_loss: 0.0186 - val_acc: 0.8295\n",
      "Epoch 62/100\n",
      "1336/1335 [==============================] - 108s - loss: 0.0043 - acc: 0.9241 - val_loss: 0.0206 - val_acc: 0.7979\n",
      "Epoch 63/100\n",
      "1336/1335 [==============================] - 115s - loss: 0.0048 - acc: 0.9260 - val_loss: 0.0187 - val_acc: 0.8592\n",
      "Epoch 64/100\n"
     ]
    },
    {
     "name": "stdout",
     "output_type": "stream",
     "text": [
      "1336/1335 [==============================] - 109s - loss: 0.0045 - acc: 0.9246 - val_loss: 0.0198 - val_acc: 0.8240\n",
      "Epoch 65/100\n",
      "1336/1335 [==============================] - 105s - loss: 0.0047 - acc: 0.9209 - val_loss: 0.0198 - val_acc: 0.8317\n",
      "Epoch 66/100\n",
      "1336/1335 [==============================] - 102s - loss: 0.0045 - acc: 0.9234 - val_loss: 0.0197 - val_acc: 0.8188\n",
      "Epoch 67/100\n",
      "1336/1335 [==============================] - 110s - loss: 0.0046 - acc: 0.9237 - val_loss: 0.0189 - val_acc: 0.8260\n",
      "Epoch 68/100\n",
      "1336/1335 [==============================] - 105s - loss: 0.0045 - acc: 0.9207 - val_loss: 0.0186 - val_acc: 0.8438\n",
      "Epoch 69/100\n",
      "1336/1335 [==============================] - 107s - loss: 0.0044 - acc: 0.9252 - val_loss: 0.0195 - val_acc: 0.8448\n",
      "Epoch 70/100\n",
      "1336/1335 [==============================] - 106s - loss: 0.0045 - acc: 0.9242 - val_loss: 0.0188 - val_acc: 0.8341\n",
      "Epoch 71/100\n",
      "1336/1335 [==============================] - 106s - loss: 0.0041 - acc: 0.9254 - val_loss: 0.0194 - val_acc: 0.8557\n",
      "Epoch 72/100\n",
      "1336/1335 [==============================] - 108s - loss: 0.0042 - acc: 0.9262 - val_loss: 0.0192 - val_acc: 0.8330\n",
      "Epoch 73/100\n",
      "1336/1335 [==============================] - 108s - loss: 0.0043 - acc: 0.9284 - val_loss: 0.0195 - val_acc: 0.8580\n",
      "Epoch 74/100\n",
      "1336/1335 [==============================] - 109s - loss: 0.0042 - acc: 0.9281 - val_loss: 0.0190 - val_acc: 0.8440\n",
      "Epoch 75/100\n",
      "1336/1335 [==============================] - 108s - loss: 0.0040 - acc: 0.9304 - val_loss: 0.0190 - val_acc: 0.8563\n",
      "Epoch 76/100\n",
      "1336/1335 [==============================] - 108s - loss: 0.0048 - acc: 0.9265 - val_loss: 0.0199 - val_acc: 0.8307\n",
      "Epoch 77/100\n",
      "1336/1335 [==============================] - 108s - loss: 0.0046 - acc: 0.9259 - val_loss: 0.0185 - val_acc: 0.8193\n",
      "Epoch 78/100\n",
      "1336/1335 [==============================] - 116s - loss: 0.0041 - acc: 0.9303 - val_loss: 0.0190 - val_acc: 0.8419\n",
      "Epoch 79/100\n",
      "1336/1335 [==============================] - 112s - loss: 0.0044 - acc: 0.9294 - val_loss: 0.0195 - val_acc: 0.8293\n",
      "Epoch 80/100\n",
      "1336/1335 [==============================] - 108s - loss: 0.0046 - acc: 0.9264 - val_loss: 0.0188 - val_acc: 0.8474\n",
      "Epoch 81/100\n",
      "1336/1335 [==============================] - 118s - loss: 0.0043 - acc: 0.9268 - val_loss: 0.0183 - val_acc: 0.8449\n",
      "Epoch 82/100\n",
      "1336/1335 [==============================] - 104s - loss: 0.0041 - acc: 0.9280 - val_loss: 0.0195 - val_acc: 0.8613\n",
      "Epoch 83/100\n",
      "1336/1335 [==============================] - 108s - loss: 0.0042 - acc: 0.9323 - val_loss: 0.0188 - val_acc: 0.8193\n",
      "Epoch 84/100\n",
      "1336/1335 [==============================] - 116s - loss: 0.0041 - acc: 0.9279 - val_loss: 0.0195 - val_acc: 0.8224\n",
      "Epoch 85/100\n",
      "1336/1335 [==============================] - 108s - loss: 0.0042 - acc: 0.9287 - val_loss: 0.0200 - val_acc: 0.8313\n",
      "Epoch 86/100\n",
      "1336/1335 [==============================] - 108s - loss: 0.0043 - acc: 0.9251 - val_loss: 0.0187 - val_acc: 0.8347\n",
      "Epoch 87/100\n",
      "1336/1335 [==============================] - 107s - loss: 0.0044 - acc: 0.9244 - val_loss: 0.0186 - val_acc: 0.8178\n",
      "Epoch 88/100\n",
      "1336/1335 [==============================] - 107s - loss: 0.0043 - acc: 0.9271 - val_loss: 0.0200 - val_acc: 0.8348\n",
      "Epoch 89/100\n",
      "1336/1335 [==============================] - 104s - loss: 0.0042 - acc: 0.9248 - val_loss: 0.0184 - val_acc: 0.8310\n",
      "Epoch 90/100\n",
      "1336/1335 [==============================] - 108s - loss: 0.0039 - acc: 0.9293 - val_loss: 0.0193 - val_acc: 0.8306\n",
      "Epoch 91/100\n",
      "1336/1335 [==============================] - 108s - loss: 0.0039 - acc: 0.9292 - val_loss: 0.0191 - val_acc: 0.8411\n",
      "Epoch 92/100\n",
      "1336/1335 [==============================] - 108s - loss: 0.0041 - acc: 0.9281 - val_loss: 0.0183 - val_acc: 0.8639\n",
      "Epoch 93/100\n",
      "1336/1335 [==============================] - 109s - loss: 0.0043 - acc: 0.9299 - val_loss: 0.0194 - val_acc: 0.8331\n",
      "Epoch 94/100\n",
      "1336/1335 [==============================] - 111s - loss: 0.0043 - acc: 0.9277 - val_loss: 0.0192 - val_acc: 0.8278\n",
      "Epoch 95/100\n",
      "1336/1335 [==============================] - 111s - loss: 0.0042 - acc: 0.9306 - val_loss: 0.0202 - val_acc: 0.8378\n",
      "Epoch 96/100\n",
      "1336/1335 [==============================] - 109s - loss: 0.0045 - acc: 0.9286 - val_loss: 0.0188 - val_acc: 0.8251\n",
      "Epoch 97/100\n",
      "1336/1335 [==============================] - 101s - loss: 0.0043 - acc: 0.9280 - val_loss: 0.0184 - val_acc: 0.8477\n",
      "Epoch 98/100\n",
      "1336/1335 [==============================] - 101s - loss: 0.0041 - acc: 0.9289 - val_loss: 0.0181 - val_acc: 0.8432\n",
      "Epoch 99/100\n",
      "1336/1335 [==============================] - 117s - loss: 0.0042 - acc: 0.9305 - val_loss: 0.0196 - val_acc: 0.8276\n",
      "Epoch 100/100\n",
      "1336/1335 [==============================] - 110s - loss: 0.0044 - acc: 0.9247 - val_loss: 0.0185 - val_acc: 0.8386\n"
     ]
    }
   ],
   "source": [
    "history = model.fit_generator(generate_fake_epoch(X_train, X_other_features_train, y_train, batch_size), X_train.shape[0]/(batch_size * num_fake_epoch), epochs=actual_epoch*num_fake_epoch, validation_data=([X_validate, X_other_features_validate], y_validate))\n",
    "\n",
    "# model.fit([X_train, X_other_features_train], y_train, validation_data=([X_validate, X_other_features_validate], y_validate), epochs=1, batch_size=16)"
   ]
  },
  {
   "cell_type": "code",
   "execution_count": 8,
   "metadata": {
    "collapsed": true
   },
   "outputs": [],
   "source": [
    "name = '5_epoch'\n",
    "model.save(name + '.h5')\n",
    "output = open(name + '_history.pkl', 'wb')\n",
    "pickle.dump(history.history, output)\n",
    "output.close()"
   ]
  },
  {
   "cell_type": "code",
   "execution_count": 10,
   "metadata": {},
   "outputs": [
    {
     "name": "stderr",
     "output_type": "stream",
     "text": [
      "/home/lukakrsnik/miniconda3/lib/python3.5/site-packages/matplotlib/font_manager.py:280: UserWarning: Matplotlib is building the font cache using fc-list. This may take a moment.\n",
      "  'Matplotlib is building the font cache using fc-list. '\n"
     ]
    },
    {
     "data": {
      "image/png": "[encoded data removed]",
      "text/plain": [
       "<matplotlib.figure.Figure at 0x7fe278146a90>"
      ]
     },
     "metadata": {},
     "output_type": "display_data"
    },
    {
     "data": {
      "image/png": "[encoded data removed]",
      "text/plain": [
       "<matplotlib.figure.Figure at 0x7fe26aebc7f0>"
      ]
     },
     "metadata": {},
     "output_type": "display_data"
    }
   ],
   "source": [
    "import matplotlib.pyplot as plt\n",
    "plt.plot(history.history['acc'])\n",
    "plt.plot(history.history['val_acc'])\n",
    "plt.title('model accuracy')\n",
    "plt.ylabel('accuracy')\n",
    "plt.xlabel('epoch')\n",
    "plt.legend(['train', 'test'], loc='upper left')\n",
    "plt.show()\n",
    "# summarize history for loss\n",
    "plt.plot(history.history['loss'])\n",
    "plt.plot(history.history['val_loss'])\n",
    "plt.title('model loss')\n",
    "plt.ylabel('loss')\n",
    "plt.xlabel('epoch')\n",
    "plt.legend(['train', 'test'], loc='upper left')\n",
    "plt.show()"
   ]
  },
  {
   "cell_type": "code",
   "execution_count": 25,
   "metadata": {
    "collapsed": true
   },
   "outputs": [],
   "source": [
    "model = load_model('test.h5')"
   ]
  },
  {
   "cell_type": "code",
   "execution_count": 6,
   "metadata": {},
   "outputs": [
    {
     "ename": "NameError",
     "evalue": "name 'h5f' is not defined",
     "output_type": "error",
     "traceback": [
      "\u001b[1;31m---------------------------------------------------------------------------\u001b[0m",
      "\u001b[1;31mNameError\u001b[0m                                 Traceback (most recent call last)",
      "\u001b[1;32m<ipython-input-6-e361f7023d53>\u001b[0m in \u001b[0;36m<module>\u001b[1;34m()\u001b[0m\n\u001b[1;32m----> 1\u001b[1;33m \u001b[0mh5f\u001b[0m\u001b[1;33m.\u001b[0m\u001b[0mclose\u001b[0m\u001b[1;33m(\u001b[0m\u001b[1;33m)\u001b[0m\u001b[1;33m\u001b[0m\u001b[0m\n\u001b[0m",
      "\u001b[1;31mNameError\u001b[0m: name 'h5f' is not defined"
     ]
    }
   ],
   "source": [
    "h5f.close()"
   ]
  },
  {
   "cell_type": "code",
   "execution_count": 12,
   "metadata": {},
   "outputs": [
    {
     "name": "stdout",
     "output_type": "stream",
     "text": [
      "107232/107287 [============================>.] - ETA: 0s\n",
      "acc: 96.52%\n"
     ]
    }
   ],
   "source": [
    "# evaluate the model\n",
    "scores = model.evaluate(X[429145:], y[429145:])\n",
    "print(\"\\n%s: %.2f%%\" % (model.metrics_names[1], scores[1]*100))"
   ]
  },
  {
   "cell_type": "code",
   "execution_count": 118,
   "metadata": {},
   "outputs": [
    {
     "name": "stdout",
     "output_type": "stream",
     "text": [
      "[2, 0]\n",
      "2\n"
     ]
    }
   ],
   "source": [
    "# calculate predictions\n",
    "# test = generate_input_from_word('test', max_word, dictionary)\n",
    "# print test.shape\n",
    "# print test.T.shape\n",
    "predictions = model.predict(np.array([generate_input_from_word('biotski', max_word, dictionary)]))\n",
    "# round predictions\n",
    "\n",
    "print decode_position(predictions[0], max_num_vowels)\n",
    "\n",
    "b_pred = 0\n",
    "ind = 0\n",
    "i = 0\n",
    "for el in predictions[0]:\n",
    "    if b_pred < el:\n",
    "        b_pred = el\n",
    "        ind = i\n",
    "    i += 1\n",
    "    \n",
    "print(ind)\n",
    "# rounded = [round(x[0]) for x in predictions]\n",
    "# print(rounded)"
   ]
  },
  {
   "cell_type": "code",
   "execution_count": null,
   "metadata": {
    "collapsed": true
   },
   "outputs": [],
   "source": [
    "predictions = model.predict(X[429145:])"
   ]
  },
  {
   "cell_type": "code",
   "execution_count": 21,
   "metadata": {},
   "outputs": [
    {
     "data": {
      "text/plain": [
       "[1, 0]"
      ]
     },
     "execution_count": 21,
     "metadata": {},
     "output_type": "execute_result"
    }
   ],
   "source": [
    "decode_position(predictions[0], max_num_vowels)"
   ]
  },
  {
   "cell_type": "code",
   "execution_count": 23,
   "metadata": {},
   "outputs": [
    {
     "name": "stdout",
     "output_type": "stream",
     "text": [
      "READING CONTENT...\n",
      "CONTENT READ SUCCESSFULY\n",
      "CREATING DICTIONARY...\n",
      "DICTIONARY CREATION SUCCESSFUL!\n",
      "107287\n",
      "96.5186835311\n"
     ]
    }
   ],
   "source": [
    "def test_accuracy(predictions, y):\n",
    "    dictionary, max_word, max_num_vowels, content, vowels, accetuated_vowels = create_dict()\n",
    "    num_of_pred = len(predictions)\n",
    "    num_of_correct_pred = 0\n",
    "    for i in range(predictions.shape[0]):\n",
    "        if decode_position(predictions[i], max_num_vowels) == decode_position(y[i], max_num_vowels):\n",
    "            num_of_correct_pred += 1\n",
    "\n",
    "    return (num_of_correct_pred/float(num_of_pred)) * 100\n",
    "\n",
    "\n",
    "print(test_accuracy(predictions, y[429145:]))"
   ]
  },
  {
   "cell_type": "code",
   "execution_count": 17,
   "metadata": {},
   "outputs": [
    {
     "data": {
      "text/plain": [
       "(107287, 121)"
      ]
     },
     "execution_count": 17,
     "metadata": {},
     "output_type": "execute_result"
    }
   ],
   "source": [
    "predictions.shape"
   ]
  },
  {
   "cell_type": "code",
   "execution_count": 12,
   "metadata": {},
   "outputs": [
    {
     "name": "stdout",
     "output_type": "stream",
     "text": [
      "11\n"
     ]
    }
   ],
   "source": [
    "print max_num_vowels"
   ]
  },
  {
   "cell_type": "code",
   "execution_count": 6,
   "metadata": {},
   "outputs": [
    {
     "name": "stdout",
     "output_type": "stream",
     "text": [
      "READING CONTENT...\n",
      "CONTENT READ SUCCESSFULY\n",
      "CREATING DICTIONARY...\n",
      "DICTIONARY CREATION SUCCESSFUL!\n"
     ]
    }
   ],
   "source": [
    "dictionary, max_word, max_num_vowels, content, vowels, accetuated_vowels = create_dict()\n",
    "feature_dictionary = create_feature_dictionary(content)\n",
    "def generate_input_from_word(word, max_word, dictionary):\n",
    "    x = np.zeros((max_word, len(dictionary)))\n",
    "    j = 0\n",
    "    for c in list(word):\n",
    "        index = 0\n",
    "        for d in dictionary:\n",
    "            if c == d:\n",
    "                x[j, index] = 1\n",
    "                break\n",
    "            index += 1\n",
    "        j += 1\n",
    "    return x\n",
    "\n",
    "# model = load_model()\n",
    "# prediction = predict(model, generate_input_from_word('hidrija'))\n",
    "# print decode_position(prediction[0])"
   ]
  },
  {
   "cell_type": "code",
   "execution_count": 16,
   "metadata": {
    "collapsed": true
   },
   "outputs": [],
   "source": [
    "%run ../../../prepare_data.py\n",
    "# generate_X_and_y(dictionary, max_word, max_num_vowels, content, vowels, accetuated_vowels, feature_dictionary)"
   ]
  }
 ],
 "metadata": {
  "kernelspec": {
   "display_name": "Python 3",
   "language": "python",
   "name": "python3"
  },
  "language_info": {
   "codemirror_mode": {
    "name": "ipython",
    "version": 3
   },
   "file_extension": ".py",
   "mimetype": "text/x-python",
   "name": "python",
   "nbconvert_exporter": "python",
   "pygments_lexer": "ipython3",
   "version": "3.5.2"
  }
 },
 "nbformat": 4,
 "nbformat_minor": 1
}
