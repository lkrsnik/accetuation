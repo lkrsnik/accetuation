{
 "cells": [
  {
   "cell_type": "code",
   "execution_count": 1,
   "metadata": {},
   "outputs": [
    {
     "name": "stderr",
     "output_type": "stream",
     "text": [
      "Using Theano backend.\n"
     ]
    }
   ],
   "source": [
    "# -*- coding: utf-8 -*-\n",
    "from __future__ import unicode_literals\n",
    "# text in Western (Windows 1252)\n",
    "\n",
    "import pickle\n",
    "import numpy as np\n",
    "# import StringIO\n",
    "import math\n",
    "from keras import optimizers, metrics\n",
    "from keras.models import Model\n",
    "from keras.layers import Dense, Dropout, Input\n",
    "from keras.layers.merge import concatenate\n",
    "from keras import regularizers\n",
    "from keras.layers.convolutional import Conv1D\n",
    "from keras.layers.convolutional import MaxPooling1D\n",
    "from keras.constraints import maxnorm\n",
    "from keras.layers import Flatten\n",
    "from keras.optimizers import SGD\n",
    "from keras.models import load_model\n",
    "# from keras import backend as Input\n",
    "np.random.seed(7)"
   ]
  },
  {
   "cell_type": "code",
   "execution_count": 2,
   "metadata": {
    "collapsed": true
   },
   "outputs": [],
   "source": [
    "# %run ../../../prepare_data.py\n",
    "\n",
    "import sys\n",
    "sys.path.insert(0, '../../../')\n",
    "from prepare_data import *"
   ]
  },
  {
   "cell_type": "code",
   "execution_count": 3,
   "metadata": {},
   "outputs": [
    {
     "name": "stdout",
     "output_type": "stream",
     "text": [
      "LOADING DATA...\n",
      "LOAD SUCCESSFUL!\n"
     ]
    }
   ],
   "source": [
    "# %run ../../../prepare_data.py\n",
    "# X_train, X_other_features_train, y_train, X_test, X_other_features_test, y_test, X_validate, X_other_features_validate, y_validate = generate_full_matrix_inputs('../../internal_representations/inputs/content_shuffle_vector.h5', '../../internal_representations/inputs/shuffle_vector')\n",
    "# save_inputs('../../internal_representations/inputs/shuffled_letters_train.h5', X_train, y_train, other_features = X_other_features_train)\n",
    "# save_inputs('../../internal_representations/inputs/shuffled_letters_test.h5', X_test, y_test, other_features = X_other_features_test)\n",
    "# save_inputs('../../internal_representations/inputs/shuffled_letters_validate.h5', X_validate, y_validate,  other_features = X_other_features_validate)\n",
    "# X_train, X_other_features_train, y_train = load_inputs('../../internal_representations/inputs/shuffled_letters_train.h5', other_features=True)\n",
    "# X_test, X_other_features_test, y_test = load_inputs('../../internal_representations/inputs/shuffled_letters_test.h5', other_features=True)\n",
    "# X_validate, X_other_features_validate, y_validate = load_inputs('../../internal_representations/inputs/shuffled_letters_validate.h5', other_features=True)\n",
    "\n",
    "data = Data('l', accent_classification=True)\n",
    "data.generate_data('TEST_train',\n",
    "                   'TEST_test',\n",
    "                   'TEST_validate', force_override=False)"
   ]
  },
  {
   "cell_type": "code",
   "execution_count": 123,
   "metadata": {
    "collapsed": true
   },
   "outputs": [],
   "source": [
    "gen2 = data.generator('train', 16)\n",
    "# test1 = next(gen1)\n",
    "# test2 = next(gen2)"
   ]
  },
  {
   "cell_type": "code",
   "execution_count": 102,
   "metadata": {
    "collapsed": true
   },
   "outputs": [],
   "source": [
    "test2 = next(gen2)"
   ]
  },
  {
   "cell_type": "code",
   "execution_count": 129,
   "metadata": {},
   "outputs": [
    {
     "name": "stdout",
     "output_type": "stream",
     "text": [
      "BBB\n",
      "10\n",
      "(16, 23, 36)\n",
      "(16, 150)\n",
      "2\n",
      "2\n",
      "invitagen\n",
      "iremirp\n",
      "iksneko\n",
      "jnavolimop\n",
      "mišjentsačilevjan\n",
      "mišjentsačilevjan\n",
      "hišjenbordopjan\n",
      "hišjenbordopjan\n",
      "enitesjavd\n",
      "amonobarab\n",
      "enejlugo\n",
      "amtsonlanoiseforp\n",
      "anavokilboen\n",
      "anavokilboen\n",
      "ebžalot\n",
      "invejark\n"
     ]
    }
   ],
   "source": [
    "test2 = next(gen2)\n",
    "pos = 0\n",
    "print(len(feature_dictionary))\n",
    "print(np.array(test2[0][0]).shape)\n",
    "print(np.array(test2[0][1]).shape)\n",
    "print(len(test2[0]))\n",
    "print(len(test2))\n",
    "for el in test2[0][0]:\n",
    "#     print(el)\n",
    "    print (data.decode_x(el, dictionary))\n",
    "#     print(data.decode_x_other_features(feature_dictionary, [el]))\n",
    "\n",
    "# for el in test2[1]:\n",
    "#     print(el)"
   ]
  },
  {
   "cell_type": "code",
   "execution_count": 6,
   "metadata": {},
   "outputs": [
    {
     "data": {
      "text/plain": [
       "592886"
      ]
     },
     "execution_count": 6,
     "metadata": {},
     "output_type": "execute_result"
    }
   ],
   "source": [
    "def count_vowels(content, accented_vowels):\n",
    "    num_all_vowels = 0\n",
    "    for el in content:\n",
    "        for m in list(el[3]):\n",
    "            if m in accented_vowels:\n",
    "                num_all_vowels += 1\n",
    "    return num_all_vowels\n",
    "\n",
    "count_vowels(content, accented_vowels)"
   ]
  },
  {
   "cell_type": "code",
   "execution_count": 10,
   "metadata": {},
   "outputs": [
    {
     "name": "stdout",
     "output_type": "stream",
     "text": [
      "(430151, 23, 36)\n",
      "(52058, 23, 36)\n",
      "(54222, 23, 36)\n",
      "ašjenlautkajan\n",
      "Agsnpn-\n",
      "Agsnpn-\n",
      "[2, 5]\n"
     ]
    },
    {
     "data": {
      "text/plain": [
       "array([ 0.,  0.,  1.,  0.,  0.,  2.,  0.,  0.,  0.,  0.])"
      ]
     },
     "execution_count": 10,
     "metadata": {},
     "output_type": "execute_result"
    }
   ],
   "source": [
    "# print (X_train.shape)\n",
    "# print (X_test.shape)\n",
    "# print (X_validate.shape)\n",
    "pos = 0\n",
    "# print (decode_input(X_train[pos], dictionary))\n",
    "# print (decode_X_features(feature_dictionary, [X_other_features_train[pos]]))\n",
    "# print(decode_position(y_train[pos]))\n",
    "# print('------------------------------------')\n",
    "print (data.x_train.shape)\n",
    "print (data.x_test.shape)\n",
    "print (data.x_validate.shape)\n",
    "# pos = 2\n",
    "print (data.decode_x(data.x_train[pos], dictionary))\n",
    "print (data.decode_x_other_features(feature_dictionary, [data.x_other_features_train[pos]]))\n",
    "print(data.decode_y(data.y_train[pos]))\n",
    "data.y_train[pos]"
   ]
  },
  {
   "cell_type": "code",
   "execution_count": 4,
   "metadata": {
    "collapsed": true
   },
   "outputs": [],
   "source": [
    "# num_examples = count_vowels(content, accented_vowels) # training set size\n",
    "num_examples = 592886\n",
    "nn_output_dim = 13\n",
    "nn_hdim = 516\n",
    "batch_size = 16\n",
    "actual_epoch = 1\n",
    "num_fake_epoch = 20\n",
    "\n",
    "\n",
    "# num_examples = len(data.x_train) # training set size\n",
    "# nn_output_dim = 11\n",
    "# nn_hdim = 516\n",
    "# batch_size = 16\n",
    "# actual_epoch = 1\n",
    "# num_fake_epoch = 20\n",
    "\n",
    "\n",
    "\n",
    "conv_input_shape=(23, 36)\n",
    "othr_input = (150, )\n",
    "\n",
    "conv_input = Input(shape=conv_input_shape, name='conv_input')\n",
    "x_conv = Conv1D(69, (3), padding='same', activation='relu')(conv_input)\n",
    "x_conv = Conv1D(43, (3), padding='same', activation='relu')(x_conv)\n",
    "x_conv = MaxPooling1D(pool_size=2)(x_conv)\n",
    "x_conv = Flatten()(x_conv)\n",
    "# x_conv = Dense(516, activation='relu', kernel_constraint=maxnorm(3))(x_conv)\n",
    "\n",
    "othr_input = Input(shape=othr_input, name='othr_input')\n",
    "# x_othr = Dense(256, input_dim=167, activation='relu')(othr_input)\n",
    "# x_othr = Dropout(0.3)(x_othr)\n",
    "# x_othr = Dense(512, activation='relu')(othr_input)\n",
    "# x_othr = Dropout(0.3)(x_othr)\n",
    "# x_othr = Dense(256, activation='relu')(othr_input)\n",
    "\n",
    "x = concatenate([x_conv, othr_input])\n",
    "# x = Dense(1024, input_dim=(516 + 256), activation='relu')(x)\n",
    "x = Dense(256, activation='relu')(x)\n",
    "x = Dropout(0.3)(x)\n",
    "x = Dense(512, activation='relu')(x)\n",
    "x = Dropout(0.3)(x)\n",
    "x = Dense(256, activation='relu')(x)\n",
    "x = Dropout(0.2)(x)\n",
    "x = Dense(nn_output_dim, activation='sigmoid')(x)\n",
    "\n",
    "\n",
    "\n",
    "\n",
    "model = Model(inputs=[conv_input, othr_input], outputs=x)\n",
    "opt = optimizers.Adam(lr=1E-4, beta_1=0.9, beta_2=0.999, epsilon=1e-08)\n",
    "model.compile(loss='binary_crossentropy', optimizer=opt, metrics=[actual_accuracy,])\n",
    "# model.compile(loss='binary_crossentropy', optimizer=opt, metrics=['accuracy'])"
   ]
  },
  {
   "cell_type": "code",
   "execution_count": 5,
   "metadata": {
    "scrolled": false
   },
   "outputs": [
    {
     "name": "stdout",
     "output_type": "stream",
     "text": [
      "Epoch 1/20\n",
      "1853/1852 [==============================] - 30s - loss: 0.2145 - actual_accuracy: 0.0880 - val_loss: 0.1650 - val_actual_accuracy: 0.2504\n",
      "Epoch 2/20\n",
      "1853/1852 [==============================] - 31s - loss: 0.1432 - actual_accuracy: 0.3922 - val_loss: 0.1132 - val_actual_accuracy: 0.5594\n",
      "Epoch 3/20\n",
      "1853/1852 [==============================] - 36s - loss: 0.1051 - actual_accuracy: 0.5976 - val_loss: 0.0803 - val_actual_accuracy: 0.7176\n",
      "Epoch 4/20\n",
      "1853/1852 [==============================] - 38s - loss: 0.0768 - actual_accuracy: 0.7317 - val_loss: 0.0575 - val_actual_accuracy: 0.8178\n",
      "Epoch 5/20\n",
      "1853/1852 [==============================] - 40s - loss: 0.0608 - actual_accuracy: 0.8016 - val_loss: 0.0447 - val_actual_accuracy: 0.8691\n",
      "Epoch 6/20\n",
      "1853/1852 [==============================] - 39s - loss: 0.0505 - actual_accuracy: 0.8397 - val_loss: 0.0399 - val_actual_accuracy: 0.8860\n",
      "Epoch 7/20\n",
      "1853/1852 [==============================] - 41s - loss: 0.0464 - actual_accuracy: 0.8566 - val_loss: 0.0346 - val_actual_accuracy: 0.9035\n",
      "Epoch 8/20\n",
      "1853/1852 [==============================] - 41s - loss: 0.0406 - actual_accuracy: 0.8753 - val_loss: 0.0323 - val_actual_accuracy: 0.9101\n",
      "Epoch 9/20\n",
      "1853/1852 [==============================] - 40s - loss: 0.0369 - actual_accuracy: 0.8832 - val_loss: 0.0310 - val_actual_accuracy: 0.9108\n",
      "Epoch 10/20\n",
      "1853/1852 [==============================] - 40s - loss: 0.0339 - actual_accuracy: 0.8948 - val_loss: 0.0284 - val_actual_accuracy: 0.9246\n",
      "Epoch 11/20\n",
      "1853/1852 [==============================] - 40s - loss: 0.0326 - actual_accuracy: 0.8997 - val_loss: 0.0273 - val_actual_accuracy: 0.9214\n",
      "Epoch 12/20\n",
      "1853/1852 [==============================] - 41s - loss: 0.0296 - actual_accuracy: 0.9070 - val_loss: 0.0269 - val_actual_accuracy: 0.9278\n",
      "Epoch 13/20\n",
      "1853/1852 [==============================] - 40s - loss: 0.0278 - actual_accuracy: 0.9129 - val_loss: 0.0251 - val_actual_accuracy: 0.9344\n",
      "Epoch 14/20\n",
      "1853/1852 [==============================] - 42s - loss: 0.0268 - actual_accuracy: 0.9189 - val_loss: 0.0251 - val_actual_accuracy: 0.9323\n",
      "Epoch 15/20\n",
      "1853/1852 [==============================] - 41s - loss: 0.0246 - actual_accuracy: 0.9226 - val_loss: 0.0237 - val_actual_accuracy: 0.9356\n",
      "Epoch 16/20\n",
      "1853/1852 [==============================] - 41s - loss: 0.0241 - actual_accuracy: 0.9249 - val_loss: 0.0230 - val_actual_accuracy: 0.9391\n",
      "Epoch 17/20\n",
      "1853/1852 [==============================] - 42s - loss: 0.0233 - actual_accuracy: 0.9291 - val_loss: 0.0252 - val_actual_accuracy: 0.9320\n",
      "Epoch 18/20\n",
      "1853/1852 [==============================] - 41s - loss: 0.0213 - actual_accuracy: 0.9347 - val_loss: 0.0227 - val_actual_accuracy: 0.9444\n",
      "Epoch 19/20\n",
      "1853/1852 [==============================] - 43s - loss: 0.0203 - actual_accuracy: 0.9374 - val_loss: 0.0216 - val_actual_accuracy: 0.9423\n",
      "Epoch 20/20\n",
      "1853/1852 [==============================] - 42s - loss: 0.0201 - actual_accuracy: 0.9379 - val_loss: 0.0207 - val_actual_accuracy: 0.9440\n"
     ]
    }
   ],
   "source": [
    "history = model.fit_generator(data.generator('train', batch_size), \n",
    "                              num_examples/(batch_size * num_fake_epoch), \n",
    "                              epochs=actual_epoch*num_fake_epoch, \n",
    "                              validation_data=data.generator('test', batch_size), \n",
    "                              validation_steps=num_examples/(batch_size * num_fake_epoch))"
   ]
  },
  {
   "cell_type": "code",
   "execution_count": 6,
   "metadata": {
    "collapsed": true
   },
   "outputs": [],
   "source": [
    "name = '1_epoch'\n",
    "model.save(name + '.h5')\n",
    "output = open(name + '_history.pkl', 'wb')\n",
    "pickle.dump(history.history, output)\n",
    "output.close()"
   ]
  },
  {
   "cell_type": "code",
   "execution_count": 9,
   "metadata": {
    "collapsed": true
   },
   "outputs": [],
   "source": [
    "content = data._read_content('../../../data/SlovarIJS_BESEDE_utf8.lex')\n",
    "dictionary, max_word, max_num_vowels, vowels, accented_vowels = data._create_dict(content)\n",
    "feature_dictionary = data._create_feature_dictionary()"
   ]
  }
 ],
 "metadata": {
  "kernelspec": {
   "display_name": "Python 3",
   "language": "python",
   "name": "python3"
  },
  "language_info": {
   "codemirror_mode": {
    "name": "ipython",
    "version": 3
   },
   "file_extension": ".py",
   "mimetype": "text/x-python",
   "name": "python",
   "nbconvert_exporter": "python",
   "pygments_lexer": "ipython3",
   "version": "3.5.2"
  }
 },
 "nbformat": 4,
 "nbformat_minor": 1
}
